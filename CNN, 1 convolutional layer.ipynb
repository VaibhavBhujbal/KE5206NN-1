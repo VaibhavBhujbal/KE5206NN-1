{
 "cells": [
  {
   "cell_type": "code",
   "execution_count": 1,
   "metadata": {},
   "outputs": [
    {
     "name": "stderr",
     "output_type": "stream",
     "text": [
      "Using TensorFlow backend.\n"
     ]
    }
   ],
   "source": [
    "import numpy as np \n",
    "import pandas as pd \n",
    "from keras.utils import to_categorical\n",
    "import numpy as np\n",
    "import pandas as pd\n",
    "# not using, from sklearn.model_selection import train_test_split\n",
    "\n",
    "from keras.models import Sequential\n",
    "from keras.layers.core import Dense, Dropout, Activation, Flatten\n",
    "from keras.layers.convolutional import Conv2D\n",
    "from keras.layers.pooling import MaxPooling2D\n",
    "#from keras.utils import np_utils\n",
    "from keras.optimizers import SGD\n",
    "\n",
    "data_train = pd.read_csv(\"C:/Users/User/Documents/CI 1/CA 1/fashion-mnist_train.csv\")\n",
    "data_test = pd.read_csv(\"C:/Users/User/Documents/CI 1/CA 1/fashion-mnist_test.csv\")\n",
    "\n"
   ]
  },
  {
   "cell_type": "code",
   "execution_count": 2,
   "metadata": {},
   "outputs": [],
   "source": [
    "#matrix size\n",
    "img_rows, img_cols = 28, 28\n",
    "input_shape = (img_rows, img_cols, 1)\n",
    "\n",
    "\n",
    "X_train = np.array(data_train.iloc[:, 1:])\n",
    "#set the target variable y into categorical so the value has no relationship\n",
    "y_train = to_categorical(np.array(data_train.iloc[:, 0]))\n",
    "\n",
    "#not in use\n",
    "#X_train, X_val, y_train, y_val = train_test_split(X, y, test_size=0.2, random_state=13)\n",
    "\n",
    "#Test data\n",
    "X_test = np.array(data_test.iloc[:, 1:])\n",
    "y_test = to_categorical(np.array(data_test.iloc[:, 0]))\n",
    "\n",
    "#reshape to convert all rows into an array/ matrix\n",
    "X_train = X_train.reshape(X_train.shape[0], img_rows, img_cols, 1)\n",
    "X_test = X_test.reshape(X_test.shape[0], img_rows, img_cols, 1)\n",
    "#X_val = X_val.reshape(X_val.shape[0], img_rows, img_cols, 1)\n",
    "\n",
    "X_train = X_train.astype('float32')\n",
    "X_test = X_test.astype('float32')\n",
    "#X_val = X_val.astype('float32')\n",
    "X_train /= 255\n",
    "X_test /= 255\n",
    "#X_val /= 255"
   ]
  },
  {
   "cell_type": "code",
   "execution_count": 3,
   "metadata": {},
   "outputs": [],
   "source": [
    "# -- Initializing the values for the convolution neural network\n",
    "\n",
    "batch_size = 64\n",
    "# number of convolutional filters to use\n",
    "nb_filters = 32\n",
    "# size of pooling area for max pooling\n",
    "nb_pool = 2\n",
    "# convolution kernel size\n",
    "nb_conv = 3\n",
    "\n",
    "# Vanilla SGD\n",
    "sgd = SGD(lr=0.1, decay=1e-6, momentum=0.9, nesterov=True)"
   ]
  },
  {
   "cell_type": "code",
   "execution_count": 4,
   "metadata": {},
   "outputs": [
    {
     "name": "stdout",
     "output_type": "stream",
     "text": [
      "_________________________________________________________________\n",
      "Layer (type)                 Output Shape              Param #   \n",
      "=================================================================\n",
      "conv2d_1 (Conv2D)            (None, 26, 26, 32)        320       \n",
      "_________________________________________________________________\n",
      "activation_1 (Activation)    (None, 26, 26, 32)        0         \n",
      "_________________________________________________________________\n",
      "flatten_1 (Flatten)          (None, 21632)             0         \n",
      "_________________________________________________________________\n",
      "dense_1 (Dense)              (None, 128)               2769024   \n",
      "_________________________________________________________________\n",
      "activation_2 (Activation)    (None, 128)               0         \n",
      "_________________________________________________________________\n",
      "dense_2 (Dense)              (None, 10)                1290      \n",
      "_________________________________________________________________\n",
      "activation_3 (Activation)    (None, 10)                0         \n",
      "=================================================================\n",
      "Total params: 2,770,634\n",
      "Trainable params: 2,770,634\n",
      "Non-trainable params: 0\n",
      "_________________________________________________________________\n"
     ]
    }
   ],
   "source": [
    "model = Sequential()\n",
    "\n",
    "model.add(Conv2D(nb_filters, (nb_conv, nb_conv), padding='valid', \n",
    "                 input_shape=input_shape))\n",
    "model.add(Activation('relu'))\n",
    "\n",
    "model.add(Flatten())\n",
    "model.add(Dense(128))\n",
    "model.add(Activation('relu'))\n",
    "model.add(Dense(10))\n",
    "model.add(Activation('softmax'))\n",
    "model.summary()"
   ]
  },
  {
   "cell_type": "code",
   "execution_count": 5,
   "metadata": {},
   "outputs": [],
   "source": [
    "model.compile(loss='categorical_crossentropy',\n",
    "              optimizer='sgd',\n",
    "              metrics=['accuracy'])"
   ]
  },
  {
   "cell_type": "code",
   "execution_count": null,
   "metadata": {},
   "outputs": [
    {
     "name": "stdout",
     "output_type": "stream",
     "text": [
      "Train on 60000 samples, validate on 10000 samples\n",
      "Epoch 1/50\n",
      "60000/60000 [==============================] - 53s 879us/step - loss: 0.4518 - acc: 0.8396 - val_loss: 0.4269 - val_acc: 0.8554\n",
      "Epoch 2/50\n",
      "60000/60000 [==============================] - 56s 930us/step - loss: 0.4247 - acc: 0.8486 - val_loss: 0.4088 - val_acc: 0.8549\n",
      "Epoch 3/50\n",
      "60000/60000 [==============================] - 62s 1ms/step - loss: 0.4045 - acc: 0.8555 - val_loss: 0.3982 - val_acc: 0.8575\n",
      "Epoch 4/50\n",
      "60000/60000 [==============================] - 66s 1ms/step - loss: 0.3876 - acc: 0.8616 - val_loss: 0.4012 - val_acc: 0.8559\n",
      "Epoch 5/50\n",
      "60000/60000 [==============================] - 65s 1ms/step - loss: 0.3734 - acc: 0.8670 - val_loss: 0.4521 - val_acc: 0.8284\n",
      "Epoch 6/50\n",
      "60000/60000 [==============================] - 65s 1ms/step - loss: 0.3602 - acc: 0.8707 - val_loss: 0.4332 - val_acc: 0.8374\n",
      "Epoch 7/50\n",
      "60000/60000 [==============================] - 64s 1ms/step - loss: 0.3500 - acc: 0.8741 - val_loss: 0.3648 - val_acc: 0.8675\n",
      "Epoch 8/50\n",
      "60000/60000 [==============================] - 64s 1ms/step - loss: 0.3394 - acc: 0.8769 - val_loss: 0.3593 - val_acc: 0.8692\n",
      "Epoch 9/50\n",
      "60000/60000 [==============================] - 62s 1ms/step - loss: 0.3295 - acc: 0.8814 - val_loss: 0.3426 - val_acc: 0.8791\n",
      "Epoch 10/50\n",
      "60000/60000 [==============================] - 65s 1ms/step - loss: 0.3218 - acc: 0.8847 - val_loss: 0.3573 - val_acc: 0.8705\n",
      "Epoch 11/50\n",
      "60000/60000 [==============================] - 63s 1ms/step - loss: 0.3139 - acc: 0.8873 - val_loss: 0.3397 - val_acc: 0.8790\n",
      "Epoch 12/50\n",
      "60000/60000 [==============================] - 62s 1ms/step - loss: 0.3068 - acc: 0.8879 - val_loss: 0.3502 - val_acc: 0.8736\n",
      "Epoch 13/50\n",
      "60000/60000 [==============================] - 63s 1ms/step - loss: 0.2989 - acc: 0.8926 - val_loss: 0.3172 - val_acc: 0.8852\n",
      "Epoch 14/50\n",
      "60000/60000 [==============================] - 63s 1ms/step - loss: 0.2917 - acc: 0.8944 - val_loss: 0.3140 - val_acc: 0.8871\n",
      "Epoch 15/50\n",
      "60000/60000 [==============================] - 63s 1ms/step - loss: 0.2851 - acc: 0.8967 - val_loss: 0.3043 - val_acc: 0.8910\n",
      "Epoch 16/50\n",
      "60000/60000 [==============================] - 66s 1ms/step - loss: 0.2789 - acc: 0.8990 - val_loss: 0.3243 - val_acc: 0.8838\n",
      "Epoch 17/50\n",
      "60000/60000 [==============================] - 67s 1ms/step - loss: 0.2736 - acc: 0.8996 - val_loss: 0.3132 - val_acc: 0.8869\n",
      "Epoch 18/50\n",
      "60000/60000 [==============================] - 66s 1ms/step - loss: 0.2666 - acc: 0.9033 - val_loss: 0.2969 - val_acc: 0.8920\n",
      "Epoch 19/50\n",
      "60000/60000 [==============================] - 61s 1ms/step - loss: 0.2620 - acc: 0.9050 - val_loss: 0.2910 - val_acc: 0.8945\n",
      "Epoch 20/50\n",
      "60000/60000 [==============================] - 60s 1ms/step - loss: 0.2557 - acc: 0.9066 - val_loss: 0.2948 - val_acc: 0.8904\n",
      "Epoch 21/50\n",
      "60000/60000 [==============================] - 61s 1ms/step - loss: 0.2518 - acc: 0.9067 - val_loss: 0.3147 - val_acc: 0.8852\n",
      "Epoch 22/50\n",
      "60000/60000 [==============================] - 61s 1ms/step - loss: 0.2462 - acc: 0.9107 - val_loss: 0.2854 - val_acc: 0.8945\n",
      "Epoch 23/50\n",
      "60000/60000 [==============================] - 64s 1ms/step - loss: 0.2410 - acc: 0.9122 - val_loss: 0.2912 - val_acc: 0.8916\n",
      "Epoch 24/50\n",
      "60000/60000 [==============================] - 63s 1ms/step - loss: 0.2363 - acc: 0.9141 - val_loss: 0.2957 - val_acc: 0.8904\n",
      "Epoch 25/50\n",
      "60000/60000 [==============================] - 63s 1ms/step - loss: 0.2318 - acc: 0.9162 - val_loss: 0.2835 - val_acc: 0.8990\n",
      "Epoch 26/50\n",
      "60000/60000 [==============================] - 63s 1ms/step - loss: 0.2280 - acc: 0.9179 - val_loss: 0.2803 - val_acc: 0.8972\n",
      "Epoch 27/50\n",
      "60000/60000 [==============================] - 64s 1ms/step - loss: 0.2234 - acc: 0.9196 - val_loss: 0.2749 - val_acc: 0.8992\n",
      "Epoch 28/50\n",
      "60000/60000 [==============================] - 64s 1ms/step - loss: 0.2185 - acc: 0.9211 - val_loss: 0.2906 - val_acc: 0.8922\n",
      "Epoch 29/50\n",
      "60000/60000 [==============================] - 64s 1ms/step - loss: 0.2150 - acc: 0.9225 - val_loss: 0.2681 - val_acc: 0.9024\n",
      "Epoch 30/50\n",
      "60000/60000 [==============================] - 63s 1ms/step - loss: 0.2102 - acc: 0.9250 - val_loss: 0.3116 - val_acc: 0.8845\n",
      "Epoch 31/50\n",
      "60000/60000 [==============================] - 64s 1ms/step - loss: 0.2070 - acc: 0.9253 - val_loss: 0.2997 - val_acc: 0.8884\n",
      "Epoch 32/50\n",
      "60000/60000 [==============================] - 64s 1ms/step - loss: 0.2024 - acc: 0.9270 - val_loss: 0.2619 - val_acc: 0.9059\n",
      "Epoch 33/50\n",
      "60000/60000 [==============================] - 64s 1ms/step - loss: 0.1976 - acc: 0.9294 - val_loss: 0.2634 - val_acc: 0.9027\n",
      "Epoch 34/50\n",
      "60000/60000 [==============================] - 64s 1ms/step - loss: 0.1951 - acc: 0.9295 - val_loss: 0.2593 - val_acc: 0.9071\n",
      "Epoch 35/50\n",
      "60000/60000 [==============================] - 64s 1ms/step - loss: 0.1913 - acc: 0.9318 - val_loss: 0.2502 - val_acc: 0.9084\n",
      "Epoch 36/50\n",
      "60000/60000 [==============================] - 64s 1ms/step - loss: 0.1881 - acc: 0.9326 - val_loss: 0.2716 - val_acc: 0.9003\n",
      "Epoch 37/50\n",
      "60000/60000 [==============================] - 64s 1ms/step - loss: 0.1846 - acc: 0.9339 - val_loss: 0.2482 - val_acc: 0.9122\n",
      "Epoch 38/50\n",
      "60000/60000 [==============================] - 64s 1ms/step - loss: 0.1808 - acc: 0.9354 - val_loss: 0.2632 - val_acc: 0.9067\n",
      "Epoch 39/50\n",
      "60000/60000 [==============================] - 64s 1ms/step - loss: 0.1766 - acc: 0.9386 - val_loss: 0.2484 - val_acc: 0.9122\n",
      "Epoch 40/50\n",
      "60000/60000 [==============================] - 64s 1ms/step - loss: 0.1736 - acc: 0.9380 - val_loss: 0.2568 - val_acc: 0.9081\n",
      "Epoch 41/50\n",
      "60000/60000 [==============================] - 64s 1ms/step - loss: 0.1704 - acc: 0.9400 - val_loss: 0.2573 - val_acc: 0.9084\n",
      "Epoch 42/50\n",
      "60000/60000 [==============================] - 63s 1ms/step - loss: 0.1674 - acc: 0.9405 - val_loss: 0.2567 - val_acc: 0.9058\n",
      "Epoch 43/50\n",
      "60000/60000 [==============================] - 63s 1ms/step - loss: 0.1642 - acc: 0.9420 - val_loss: 0.2506 - val_acc: 0.9104\n",
      "Epoch 44/50\n",
      "60000/60000 [==============================] - 63s 1ms/step - loss: 0.1602 - acc: 0.9430 - val_loss: 0.2694 - val_acc: 0.9044\n",
      "Epoch 45/50\n",
      " 5952/60000 [=>............................] - ETA: 54s - loss: 0.1468 - acc: 0.9484"
     ]
    }
   ],
   "source": [
    "hist = model.fit(X_train, y_train, batch_size=batch_size, \n",
    "          epochs=50,verbose=1,\n",
    "          validation_data=(X_test, y_test))"
   ]
  },
  {
   "cell_type": "code",
   "execution_count": 8,
   "metadata": {
    "collapsed": true
   },
   "outputs": [],
   "source": [
    "import matplotlib.pyplot as plt\n",
    "%matplotlib inline"
   ]
  },
  {
   "cell_type": "code",
   "execution_count": 9,
   "metadata": {},
   "outputs": [
    {
     "data": {
      "text/plain": [
       "<matplotlib.legend.Legend at 0x2d2bf4c6748>"
      ]
     },
     "execution_count": 9,
     "metadata": {},
     "output_type": "execute_result"
    },
    {
     "data": {
      "image/png": "[encoded data removed]",
      "text/plain": [
       "<matplotlib.figure.Figure at 0x2d2bf277b70>"
      ]
     },
     "metadata": {},
     "output_type": "display_data"
    },
    {
     "data": {
      "image/png": "[encoded data removed]",
      "text/plain": [
       "<matplotlib.figure.Figure at 0x2d2bf46bc18>"
      ]
     },
     "metadata": {},
     "output_type": "display_data"
    }
   ],
   "source": [
    "plt.figure()\n",
    "plt.xlabel('Epochs')\n",
    "plt.ylabel('Loss')\n",
    "plt.plot(hist.history['loss'])\n",
    "plt.plot(hist.history['val_loss'])\n",
    "plt.legend(['Training', 'Validation'])\n",
    "\n",
    "plt.figure()\n",
    "plt.xlabel('Epochs')\n",
    "plt.ylabel('Accuracy')\n",
    "plt.plot(hist.history['acc'])\n",
    "plt.plot(hist.history['val_acc'])\n",
    "plt.legend(['Training', 'Validation'], loc='lower right')"
   ]
  },
  {
   "cell_type": "code",
   "execution_count": 11,
   "metadata": {},
   "outputs": [
    {
     "name": "stdout",
     "output_type": "stream",
     "text": [
      "Available Metrics in Model: ['loss', 'acc']\n",
      "Test Loss: 0.490181623507\n",
      "Test Accuracy: 0.8276\n"
     ]
    }
   ],
   "source": [
    "#evaluation\n",
    "\n",
    "print('Available Metrics in Model: {}'.format(model.metrics_names))\n",
    "\n",
    "\n",
    "# Evaluating the model on the test data\n",
    "loss, accuracy = model.evaluate(X_test, y_test, verbose=0)\n",
    "print('Test Loss:', loss)\n",
    "print('Test Accuracy:', accuracy)"
   ]
  },
  {
   "cell_type": "code",
   "execution_count": null,
   "metadata": {
    "collapsed": true
   },
   "outputs": [],
   "source": []
  },
  {
   "cell_type": "code",
   "execution_count": null,
   "metadata": {
    "collapsed": true
   },
   "outputs": [],
   "source": []
  }
 ],
 "metadata": {
  "kernelspec": {
   "display_name": "Python 3",
   "language": "python",
   "name": "python3"
  },
  "language_info": {
   "codemirror_mode": {
    "name": "ipython",
    "version": 3
   },
   "file_extension": ".py",
   "mimetype": "text/x-python",
   "name": "python",
   "nbconvert_exporter": "python",
   "pygments_lexer": "ipython3",
   "version": "3.6.3"
  }
 },
 "nbformat": 4,
 "nbformat_minor": 2
}

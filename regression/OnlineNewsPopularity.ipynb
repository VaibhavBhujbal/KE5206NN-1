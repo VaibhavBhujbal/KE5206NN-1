{
 "cells": [
  {
   "cell_type": "code",
   "execution_count": 2,
   "metadata": {},
   "outputs": [
    {
     "name": "stderr",
     "output_type": "stream",
     "text": [
      "WARNING (theano.configdefaults): g++ not available, if using conda: `conda install m2w64-toolchain`\n",
      "G:\\anaconda\\lib\\site-packages\\theano\\configdefaults.py:560: UserWarning: DeprecationWarning: there is no c++ compiler.This is deprecated and with Theano 0.11 a c++ compiler will be mandatory\n",
      "  warnings.warn(\"DeprecationWarning: there is no c++ compiler.\"\n",
      "WARNING (theano.configdefaults): g++ not detected ! Theano will be unable to execute optimized C-implementations (for both CPU and GPU) and will default to Python implementations. Performance will be severely degraded. To remove this warning, set Theano flags cxx to an empty string.\n",
      "WARNING (theano.tensor.blas): Using NumPy C-API based implementation for BLAS functions.\n"
     ]
    }
   ],
   "source": [
    "import pandas as pd\n",
    "from sklearn import preprocessing\n",
    "from neupy import environment\n",
    "from sklearn.model_selection import train_test_split\n",
    "from neupy import environment"
   ]
  },
  {
   "cell_type": "markdown",
   "metadata": {},
   "source": [
    "#### Select the top 10K training records"
   ]
  },
  {
   "cell_type": "code",
   "execution_count": 15,
   "metadata": {},
   "outputs": [],
   "source": [
    "train_df = pd.read_csv(\"data/train_70.0.csv\")\n",
    "#train_df = train_df.head(10000)\n",
    "target_training = train_df.loc[:,\"shares\"]"
   ]
  },
  {
   "cell_type": "markdown",
   "metadata": {},
   "source": [
    "#### Data discovery - relation between no of shares and the day of the week"
   ]
  },
  {
   "cell_type": "code",
   "execution_count": 16,
   "metadata": {},
   "outputs": [
    {
     "name": "stdout",
     "output_type": "stream",
     "text": [
      "(27750, 62)\n",
      "[16965029, 16083831, 16835516, 15912807, 13505688, 7176474, 7130078]\n"
     ]
    }
   ],
   "source": [
    "day_of_week_columns = [\" weekday_is_monday\", \" weekday_is_tuesday\", \" weekday_is_wednesday\",\" weekday_is_thursday\",\" weekday_is_friday\",\" weekday_is_saturday\", \" weekday_is_sunday\"]\n",
    "share_by_weekday = [0]*len(day_of_week_columns)\n",
    "print(train_df.shape)\n",
    "for idx, row in train_df.iterrows():\n",
    "    for day_no, day_of_week_column in enumerate(day_of_week_columns):\n",
    "        if row[day_of_week_column] == 1:\n",
    "            share_by_weekday[day_no] += row[\"shares\"]\n",
    "            \n",
    "print(share_by_weekday)"
   ]
  },
  {
   "cell_type": "code",
   "execution_count": 19,
   "metadata": {},
   "outputs": [
    {
     "data": {
      "text/plain": [
       "Text(0.5,1,'Distribution of shares by day of week')"
      ]
     },
     "execution_count": 19,
     "metadata": {},
     "output_type": "execute_result"
    },
    {
     "data": {
      "image/png": "[encoded data removed]",
      "text/plain": [
       "<matplotlib.figure.Figure at 0x1794df6afd0>"
      ]
     },
     "metadata": {},
     "output_type": "display_data"
    }
   ],
   "source": [
    "import matplotlib.pyplot as plt\n",
    "%matplotlib inline\n",
    "weekday_names = [day_of_week_column.replace(\" weekday_is_\", \"\") for day_of_week_column in day_of_week_columns]\n",
    "plt.bar(weekday_names, share_by_weekday)\n",
    "plt.title(\"Distribution of shares by day of week\")"
   ]
  },
  {
   "cell_type": "code",
   "execution_count": 20,
   "metadata": {},
   "outputs": [
    {
     "name": "stdout",
     "output_type": "stream",
     "text": [
      "[5592887, 14892053, 12889454, 6144253, 16071719, 13340303]\n"
     ]
    },
    {
     "data": {
      "text/plain": [
       "Text(0.5,1,'Distribution of shares by channel')"
      ]
     },
     "execution_count": 20,
     "metadata": {},
     "output_type": "execute_result"
    },
    {
     "data": {
      "image/png": "[encoded data removed]",
      "text/plain": [
       "<matplotlib.figure.Figure at 0x1794f3f43c8>"
      ]
     },
     "metadata": {},
     "output_type": "display_data"
    }
   ],
   "source": [
    "data_channel_columns = [\" data_channel_is_lifestyle\", \" data_channel_is_entertainment\", \" data_channel_is_bus\", \" data_channel_is_socmed\", \" data_channel_is_tech\", \" data_channel_is_world\"]\n",
    "share_by_channel = [0]*len(data_channel_columns)\n",
    "\n",
    "for idx, row in train_df.iterrows():\n",
    "    for day_no, data_channel_column in enumerate(data_channel_columns):\n",
    "        if row[data_channel_column] == 1:\n",
    "            share_by_channel[day_no] += row[\"shares\"]\n",
    "            \n",
    "print(share_by_channel)\n",
    "\n",
    "channel_names = [data_channel_column.replace(\" data_channel_is_\", \"\") for data_channel_column in data_channel_columns]\n",
    "plt.bar(channel_names, share_by_channel)\n",
    "plt.title(\"Distribution of shares by channel\")"
   ]
  },
  {
   "cell_type": "code",
   "execution_count": 18,
   "metadata": {},
   "outputs": [
    {
     "name": "stderr",
     "output_type": "stream",
     "text": [
      "G:\\anaconda\\lib\\site-packages\\ipykernel_launcher.py:3: FutureWarning: reshape is deprecated and will raise in a subsequent release. Please use .values.reshape(...) instead\n",
      "  This is separate from the ipykernel package so we can avoid doing imports until\n",
      "G:\\anaconda\\lib\\site-packages\\sklearn\\utils\\validation.py:475: DataConversionWarning: Data with input dtype int64 was converted to float64 by MinMaxScaler.\n",
      "  warnings.warn(msg, DataConversionWarning)\n"
     ]
    }
   ],
   "source": [
    "data_scaler = preprocessing.MinMaxScaler()\n",
    "train_data_tranformed = data_scaler.fit_transform(train_df)\n",
    "target_training_transformed = data_scaler.fit_transform(target_training.reshape(-1, 1))"
   ]
  },
  {
   "cell_type": "code",
   "execution_count": 19,
   "metadata": {},
   "outputs": [
    {
     "data": {
      "text/plain": [
       "array([[1.58565194e-01, 8.40940526e-01, 3.88888889e-01, ...,\n",
       "        8.00000000e-01, 8.00000000e-01, 5.72034792e-03],\n",
       "       [9.15293999e-01, 7.60719225e-02, 5.55555556e-01, ...,\n",
       "        8.00000000e-01, 2.00000000e-01, 2.25438369e-03],\n",
       "       [3.04795298e-01, 6.80497925e-01, 6.66666667e-01, ...,\n",
       "        4.54545454e-01, 3.18181818e-01, 1.46173274e-03],\n",
       "       ...,\n",
       "       [5.32502586e-01, 4.24619640e-01, 3.33333333e-01, ...,\n",
       "        1.00000000e+00, 1.00000000e+00, 2.70646598e-03],\n",
       "       [5.71223167e-01, 3.80359613e-01, 5.55555556e-01, ...,\n",
       "        1.00000000e+00, 0.00000000e+00, 6.02776388e-04],\n",
       "       [2.99422344e-01, 6.87413555e-01, 3.88888889e-01, ...,\n",
       "        2.00000000e-01, 4.00000000e-01, 1.65160730e-03]])"
      ]
     },
     "execution_count": 19,
     "metadata": {},
     "output_type": "execute_result"
    }
   ],
   "source": [
    "train_data_tranformed"
   ]
  },
  {
   "cell_type": "code",
   "execution_count": 22,
   "metadata": {},
   "outputs": [
    {
     "name": "stderr",
     "output_type": "stream",
     "text": [
      "G:\\anaconda\\lib\\site-packages\\sklearn\\model_selection\\_split.py:2026: FutureWarning: From version 0.21, test_size will always complement train_size unless both are specified.\n",
      "  FutureWarning)\n"
     ]
    }
   ],
   "source": [
    "x_train, x_test, y_train, y_test = train_test_split(\n",
    "    train_data_tranformed, target_training, train_size=0.85\n",
    ")"
   ]
  },
  {
   "cell_type": "code",
   "execution_count": 23,
   "metadata": {},
   "outputs": [
    {
     "name": "stdout",
     "output_type": "stream",
     "text": [
      "(8500, 29)\n",
      "(8500,)\n"
     ]
    }
   ],
   "source": [
    "print(x_train.shape)\n",
    "print(y_train.shape)"
   ]
  },
  {
   "cell_type": "code",
   "execution_count": 24,
   "metadata": {},
   "outputs": [
    {
     "name": "stdout",
     "output_type": "stream",
     "text": [
      "\n",
      "Main information\n",
      "\n",
      "[ALGORITHM] ConjugateGradient\n",
      "\n",
      "[OPTION] verbose = True\n",
      "[OPTION] epoch_end_signal = None\n",
      "[OPTION] show_epoch = 25\n",
      "[OPTION] shuffle_data = False\n",
      "[OPTION] step = 0.1\n",
      "[OPTION] train_end_signal = None\n",
      "[OPTION] error = mse\n",
      "[OPTION] addons = ['LinearSearch']\n",
      "[OPTION] update_function = fletcher_reeves\n",
      "[OPTION] maxiter = 10\n",
      "[OPTION] search_method = golden\n",
      "[OPTION] tol = 0.1\n",
      "\n",
      "[THEANO] Initializing Theano variables and functions.\n",
      "[THEANO] Initialization finished successfully. It took 0.75 seconds\n"
     ]
    }
   ],
   "source": [
    "environment.reproducible()\n",
    "from neupy import algorithms, layers\n",
    "\n",
    "cgnet = algorithms.ConjugateGradient(\n",
    "    connection=[\n",
    "        layers.Input(29),\n",
    "        layers.Sigmoid(50),\n",
    "        layers.Sigmoid(1),\n",
    "    ],\n",
    "    search_method='golden',\n",
    "    show_epoch=25,\n",
    "    verbose=True,\n",
    "    addons=[algorithms.LinearSearch],\n",
    ")"
   ]
  },
  {
   "cell_type": "code",
   "execution_count": null,
   "metadata": {},
   "outputs": [
    {
     "name": "stdout",
     "output_type": "stream",
     "text": [
      "\n",
      "Start training\n",
      "\n",
      "[TRAINING DATA] shapes: (8500, 29)\n",
      "[TEST DATA] shapes: (1500, 29)\n",
      "[TRAINING] Total epochs: 50\n",
      "\n",
      "---------------------------------------------------------\n",
      "|    Epoch    |  Train err  |  Valid err  |    Time     |\n",
      "---------------------------------------------------------\n",
      "|           1 |  1.4053e+08 |  1.0735e+08 |       03:38 |\n"
     ]
    }
   ],
   "source": [
    "cgnet.train(x_train, y_train, x_test, y_test, epochs=50)\n",
    "from neupy import plots\n",
    "plots.error_plot(cgnet)"
   ]
  },
  {
   "cell_type": "code",
   "execution_count": null,
   "metadata": {
    "collapsed": true
   },
   "outputs": [],
   "source": [
    "from neupy.estimators import rmsle\n",
    "\n",
    "y_predict = cgnet.predict(x_test).round(1)\n",
    "error = rmsle(target_scaler.inverse_transform(y_test),\n",
    "              target_scaler.inverse_transform(y_predict))\n",
    "print(error)"
   ]
  }
 ],
 "metadata": {
  "kernelspec": {
   "display_name": "Python 3",
   "language": "python",
   "name": "python3"
  },
  "language_info": {
   "codemirror_mode": {
    "name": "ipython",
    "version": 3
   },
   "file_extension": ".py",
   "mimetype": "text/x-python",
   "name": "python",
   "nbconvert_exporter": "python",
   "pygments_lexer": "ipython3",
   "version": "3.6.3"
  }
 },
 "nbformat": 4,
 "nbformat_minor": 2
}

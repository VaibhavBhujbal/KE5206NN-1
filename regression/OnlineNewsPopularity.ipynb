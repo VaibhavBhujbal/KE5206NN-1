{
 "cells": [
  {
   "cell_type": "code",
   "execution_count": 58,
   "metadata": {},
   "outputs": [],
   "source": [
    "import pandas as pd\n",
    "from sklearn import preprocessing\n",
    "from neupy import environment\n",
    "from sklearn.model_selection import train_test_split\n",
    "from sklearn.decomposition import PCA\n",
    "from neupy import environment\n",
    "from neupy import algorithms, layers\n",
    "import numpy as np\n",
    "import seaborn as sns\n",
    "import matplotlib.pyplot as plt\n",
    "import math\n",
    "\n",
    "%matplotlib inline"
   ]
  },
  {
   "cell_type": "markdown",
   "metadata": {},
   "source": [
    "#### Select original the training records for discovery"
   ]
  },
  {
   "cell_type": "code",
   "execution_count": 59,
   "metadata": {},
   "outputs": [],
   "source": [
    "train_df = pd.read_csv(\"original_data/train_70.0.csv\")\n",
    "target_training = train_df.loc[:,\" shares\"]"
   ]
  },
  {
   "cell_type": "markdown",
   "metadata": {},
   "source": [
    "#### Data discovery - relation between no of shares and the day of the week"
   ]
  },
  {
   "cell_type": "code",
   "execution_count": 60,
   "metadata": {},
   "outputs": [
    {
     "name": "stdout",
     "output_type": "stream",
     "text": [
      "(27750, 62)\n",
      "[16965029, 16083831, 16835516, 15912807, 13505688, 7176474, 7130078]\n"
     ]
    }
   ],
   "source": [
    "day_of_week_columns = [\" weekday_is_monday\", \" weekday_is_tuesday\", \" weekday_is_wednesday\",\" weekday_is_thursday\",\" weekday_is_friday\",\" weekday_is_saturday\", \" weekday_is_sunday\"]\n",
    "share_by_weekday = [0]*len(day_of_week_columns)\n",
    "print(train_df.shape)\n",
    "for idx, row in train_df.iterrows():\n",
    "    for day_no, day_of_week_column in enumerate(day_of_week_columns):\n",
    "        if row[day_of_week_column] == 1:\n",
    "            share_by_weekday[day_no] += row[\" shares\"]\n",
    "            \n",
    "print(share_by_weekday)"
   ]
  },
  {
   "cell_type": "code",
   "execution_count": 61,
   "metadata": {},
   "outputs": [
    {
     "data": {
      "text/plain": [
       "Text(0.5,1,'Distribution of shares by day of week')"
      ]
     },
     "execution_count": 61,
     "metadata": {},
     "output_type": "execute_result"
    },
    {
     "data": {
      "image/png": "[encoded data removed]",
      "text/plain": [
       "<Figure size 432x288 with 1 Axes>"
      ]
     },
     "metadata": {},
     "output_type": "display_data"
    }
   ],
   "source": [
    "weekday_names = [day_of_week_column.replace(\" weekday_is_\", \"\") for day_of_week_column in day_of_week_columns]\n",
    "plt.bar(weekday_names, share_by_weekday)\n",
    "plt.title(\"Distribution of shares by day of week\")"
   ]
  },
  {
   "cell_type": "code",
   "execution_count": 62,
   "metadata": {},
   "outputs": [
    {
     "name": "stdout",
     "output_type": "stream",
     "text": [
      "[5592887, 14892053, 12889454, 6144253, 16071719, 13340303]\n"
     ]
    },
    {
     "data": {
      "text/plain": [
       "Text(0.5,1,'Distribution of shares by channel')"
      ]
     },
     "execution_count": 62,
     "metadata": {},
     "output_type": "execute_result"
    },
    {
     "data": {
      "image/png": "[encoded data removed]",
      "text/plain": [
       "<Figure size 432x288 with 1 Axes>"
      ]
     },
     "metadata": {},
     "output_type": "display_data"
    }
   ],
   "source": [
    "data_channel_columns = [\" data_channel_is_lifestyle\", \" data_channel_is_entertainment\", \" data_channel_is_bus\", \" data_channel_is_socmed\", \" data_channel_is_tech\", \" data_channel_is_world\"]\n",
    "share_by_channel = [0]*len(data_channel_columns)\n",
    "\n",
    "for idx, row in train_df.iterrows():\n",
    "    for day_no, data_channel_column in enumerate(data_channel_columns):\n",
    "        if row[data_channel_column] == 1:\n",
    "            share_by_channel[day_no] += row[\" shares\"]\n",
    "            \n",
    "print(share_by_channel)\n",
    "\n",
    "channel_names = [data_channel_column.replace(\" data_channel_is_\", \"\") for data_channel_column in data_channel_columns]\n",
    "plt.bar(channel_names, share_by_channel)\n",
    "plt.title(\"Distribution of shares by channel\")"
   ]
  },
  {
   "cell_type": "markdown",
   "metadata": {},
   "source": [
    "## Train a Multi-Layer Feedforward Neural Network using Scikit-Learn"
   ]
  },
  {
   "cell_type": "markdown",
   "metadata": {},
   "source": [
    "### Load the data after removing some columns (refer to report for exact steps carried out)"
   ]
  },
  {
   "cell_type": "code",
   "execution_count": 85,
   "metadata": {},
   "outputs": [
    {
     "name": "stdout",
     "output_type": "stream",
     "text": [
      "Training shapes\n",
      "(27750, 27)\n",
      "(27750,)\n",
      "Testing shapes\n",
      "(11894, 27)\n",
      "(11894,)\n"
     ]
    }
   ],
   "source": [
    "training_df = pd.read_csv(\"data_with_fields_removed/train_70.0_updated.csv\")\n",
    "training_X = training_df.loc[:, training_df.columns != \" shares\"]\n",
    "training_Y = training_df.loc[:, \" shares\"]\n",
    "\n",
    "test_df = pd.read_csv(\"data_with_fields_removed/test_30.0_updated.csv\")\n",
    "testing_X = test_df.loc[:, test_df.columns != \" shares\"]\n",
    "testing_Y = test_df.loc[:, \" shares\"]\n",
    "\n",
    "print(\"Training shapes\")\n",
    "print(training_X.shape)\n",
    "print(training_Y.shape)\n",
    "\n",
    "print(\"Testing shapes\")\n",
    "print(testing_X.shape)\n",
    "print(testing_Y.shape)"
   ]
  },
  {
   "cell_type": "markdown",
   "metadata": {},
   "source": [
    "### Transform the data"
   ]
  },
  {
   "cell_type": "code",
   "execution_count": 86,
   "metadata": {},
   "outputs": [
    {
     "name": "stderr",
     "output_type": "stream",
     "text": [
      "/Users/pierlim/anaconda/envs/tensorflow/lib/python3.6/site-packages/ipykernel/__main__.py:7: FutureWarning: reshape is deprecated and will raise in a subsequent release. Please use .values.reshape(...) instead\n",
      "/Users/pierlim/anaconda/envs/tensorflow/lib/python3.6/site-packages/sklearn/utils/validation.py:475: DataConversionWarning: Data with input dtype int64 was converted to float64 by MinMaxScaler.\n",
      "  warnings.warn(msg, DataConversionWarning)\n",
      "/Users/pierlim/anaconda/envs/tensorflow/lib/python3.6/site-packages/pandas/core/indexing.py:537: SettingWithCopyWarning: \n",
      "A value is trying to be set on a copy of a slice from a DataFrame.\n",
      "Try using .loc[row_indexer,col_indexer] = value instead\n",
      "\n",
      "See the caveats in the documentation: http://pandas.pydata.org/pandas-docs/stable/indexing.html#indexing-view-versus-copy\n",
      "  self.obj[item] = s\n",
      "/Users/pierlim/anaconda/envs/tensorflow/lib/python3.6/site-packages/ipykernel/__main__.py:10: FutureWarning: reshape is deprecated and will raise in a subsequent release. Please use .values.reshape(...) instead\n",
      "/Users/pierlim/anaconda/envs/tensorflow/lib/python3.6/site-packages/ipykernel/__main__.py:13: FutureWarning: reshape is deprecated and will raise in a subsequent release. Please use .values.reshape(...) instead\n"
     ]
    }
   ],
   "source": [
    "x_data_scaler = preprocessing.MinMaxScaler()\n",
    "y_data_scaler = preprocessing.MinMaxScaler()\n",
    "\n",
    "columns_to_scale = [\" n_tokens_title\", \" n_tokens_content\", \" num_hrefs\", \" num_self_hrefs\", \" num_imgs\", \" num_videos\", \" average_token_length\", \" num_keywords\", \" kw_avg_min\",\" kw_avg_max\", \" kw_avg_avg\",\" self_reference_avg_sharess\"]\n",
    "\n",
    "x_data_scaler.fit(training_X.loc[:, columns_to_scale])\n",
    "y_data_scaler.fit(training_Y.reshape(-1, 1))\n",
    "\n",
    "training_X.loc[:, columns_to_scale] = x_data_scaler.transform(training_X.loc[:, columns_to_scale])\n",
    "training_Y = y_data_scaler.transform(training_Y.reshape(-1, 1))\n",
    "\n",
    "testing_X.loc[:, columns_to_scale] = x_data_scaler.transform(testing_X.loc[:, columns_to_scale])\n",
    "testing_Y = y_data_scaler.transform(testing_Y.reshape(-1, 1))"
   ]
  },
  {
   "cell_type": "code",
   "execution_count": 65,
   "metadata": {},
   "outputs": [
    {
     "name": "stdout",
     "output_type": "stream",
     "text": [
      "[[ 0.00550262]\n",
      " [ 0.00217121]\n",
      " [ 0.00140933]\n",
      " ..., \n",
      " [ 0.00159183]\n",
      " [ 0.00217121]\n",
      " [ 0.00119931]]\n",
      "[[ 0.00419902]\n",
      " [ 0.00188152]\n",
      " [ 0.0256359 ]\n",
      " ..., \n",
      " [ 0.00173668]\n",
      " [ 0.00077781]\n",
      " [ 0.00275058]]\n"
     ]
    }
   ],
   "source": [
    "print(training_Y)\n",
    "print(testing_Y)"
   ]
  },
  {
   "cell_type": "code",
   "execution_count": 66,
   "metadata": {},
   "outputs": [
    {
     "name": "stdout",
     "output_type": "stream",
     "text": [
      "    n_tokens_title   n_tokens_content   n_unique_tokens  \\\n",
      "0         0.333333           0.103549          0.497970   \n",
      "1         0.476190           0.086708          0.503268   \n",
      "2         0.571429           0.068615          0.582485   \n",
      "3         0.380952           0.017537          0.821138   \n",
      "4         0.428571           0.033125          0.608696   \n",
      "\n",
      "    n_non_stop_unique_tokens   num_hrefs   num_self_hrefs   num_imgs  \\\n",
      "0                   0.689655    0.029605         0.000000   0.000000   \n",
      "1                   0.675603    0.016447         0.034483   0.070312   \n",
      "2                   0.777778    0.029605         0.000000   0.007812   \n",
      "3                   0.892857    0.013158         0.025862   0.000000   \n",
      "4                   0.773050    0.016447         0.025862   0.007812   \n",
      "\n",
      "    num_videos   average_token_length   num_keywords  \\\n",
      "0     0.010989               0.580320       0.555556   \n",
      "1     0.000000               0.586442       0.666667   \n",
      "2     0.000000               0.580405       0.888889   \n",
      "3     0.010989               0.630654       0.333333   \n",
      "4     0.000000               0.591467       0.666667   \n",
      "\n",
      "               ...                 global_subjectivity  \\\n",
      "0              ...                            0.535472   \n",
      "1              ...                            0.436591   \n",
      "2              ...                            0.466727   \n",
      "3              ...                            0.381818   \n",
      "4              ...                            0.490476   \n",
      "\n",
      "    global_sentiment_polarity   global_rate_positive_words  \\\n",
      "0                    0.101292                     0.033602   \n",
      "1                    0.168410                     0.059390   \n",
      "2                    0.196818                     0.028398   \n",
      "3                    0.142424                     0.031746   \n",
      "4                    0.196429                     0.033613   \n",
      "\n",
      "    global_rate_negative_words   rate_positive_words   rate_negative_words  \\\n",
      "0                     0.014785              0.694444              0.305556   \n",
      "1                     0.014446              0.804348              0.195652   \n",
      "2                     0.008114              0.777778              0.222222   \n",
      "3                     0.007937              0.800000              0.200000   \n",
      "4                     0.012605              0.727273              0.272727   \n",
      "\n",
      "    avg_positive_polarity   avg_negative_polarity   abs_title_subjectivity  \\\n",
      "0                0.424521               -0.249621                 0.400000   \n",
      "1                0.360163               -0.235185                 0.400000   \n",
      "2                0.440747               -0.312500                 0.227273   \n",
      "3                0.500000               -0.433333                 0.150000   \n",
      "4                0.462500               -0.316667                 0.433333   \n",
      "\n",
      "    abs_title_sentiment_polarity  \n",
      "0                       0.800000  \n",
      "1                       0.200000  \n",
      "2                       0.318182  \n",
      "3                       0.350000  \n",
      "4                       0.000000  \n",
      "\n",
      "[5 rows x 27 columns]\n",
      "    n_tokens_title   n_tokens_content   n_unique_tokens  \\\n",
      "0         0.476190           0.141267          0.422018   \n",
      "1         0.333333           0.070007          0.569697   \n",
      "2         0.333333           0.032289          0.646018   \n",
      "3         0.476190           0.023800          0.722892   \n",
      "4         0.428571           0.039805          0.652632   \n",
      "\n",
      "    n_non_stop_unique_tokens   num_hrefs   num_self_hrefs   num_imgs  \\\n",
      "0                   0.545031    0.032895         0.051724   0.257812   \n",
      "1                   0.737542    0.029605         0.000000   0.007812   \n",
      "2                   0.748428    0.039474         0.025862   0.031250   \n",
      "3                   0.867925    0.029605         0.043103   0.000000   \n",
      "4                   0.800000    0.016447         0.017241   0.000000   \n",
      "\n",
      "    num_videos   average_token_length   num_keywords  \\\n",
      "0     0.010989               0.579014       0.333333   \n",
      "1     0.010989               0.569113       1.000000   \n",
      "2     0.010989               0.613732       0.555556   \n",
      "3     0.010989               0.618136       0.555556   \n",
      "4     0.000000               0.622642       0.777778   \n",
      "\n",
      "               ...                 global_subjectivity  \\\n",
      "0              ...                            0.471175   \n",
      "1              ...                            0.477791   \n",
      "2              ...                            0.522234   \n",
      "3              ...                            0.405128   \n",
      "4              ...                            0.418036   \n",
      "\n",
      "    global_sentiment_polarity   global_rate_positive_words  \\\n",
      "0                    0.159889                     0.041379   \n",
      "1                    0.123520                     0.033797   \n",
      "2                   -0.163235                     0.017241   \n",
      "3                   -0.006410                     0.011696   \n",
      "4                    0.060089                     0.034965   \n",
      "\n",
      "    global_rate_negative_words   rate_positive_words   rate_negative_words  \\\n",
      "0                     0.008867              0.823529              0.176471   \n",
      "1                     0.019881              0.629630              0.370370   \n",
      "2                     0.043103              0.285714              0.714286   \n",
      "3                     0.029240              0.285714              0.714286   \n",
      "4                     0.024476              0.588235              0.411765   \n",
      "\n",
      "    avg_positive_polarity   avg_negative_polarity   abs_title_subjectivity  \\\n",
      "0                0.333534               -0.160714                      0.5   \n",
      "1                0.419786               -0.157500                      0.5   \n",
      "2                0.468750               -0.427500                      0.5   \n",
      "3                0.500000               -0.216667                      0.1   \n",
      "4                0.303429               -0.251786                      0.3   \n",
      "\n",
      "    abs_title_sentiment_polarity  \n",
      "0                           0.00  \n",
      "1                           0.00  \n",
      "2                           0.00  \n",
      "3                           0.25  \n",
      "4                           0.10  \n",
      "\n",
      "[5 rows x 27 columns]\n"
     ]
    }
   ],
   "source": [
    "print(training_X.head())\n",
    "print(testing_X.head())"
   ]
  },
  {
   "cell_type": "code",
   "execution_count": 67,
   "metadata": {},
   "outputs": [
    {
     "name": "stdout",
     "output_type": "stream",
     "text": [
      "(27750, 27)\n",
      "(11894, 27)\n"
     ]
    }
   ],
   "source": [
    "print(training_X.shape)\n",
    "print(testing_X.shape)"
   ]
  },
  {
   "cell_type": "code",
   "execution_count": 87,
   "metadata": {},
   "outputs": [
    {
     "name": "stderr",
     "output_type": "stream",
     "text": [
      "/Users/pierlim/anaconda/envs/tensorflow/lib/python3.6/site-packages/sklearn/neural_network/multilayer_perceptron.py:1306: DataConversionWarning: A column-vector y was passed when a 1d array was expected. Please change the shape of y to (n_samples, ), for example using ravel().\n",
      "  y = column_or_1d(y, warn=True)\n"
     ]
    },
    {
     "name": "stdout",
     "output_type": "stream",
     "text": [
      "RMSE = 0.019255087518990487\n",
      "MAE = 0.004542241004335267\n",
      "MAE (no. of shares) = 3136.9586471520643\n"
     ]
    }
   ],
   "source": [
    "mlp = MLPRegressor(hidden_layer_sizes=(10, 10, 10), max_iter=2000)\n",
    "mlp.fit(training_X, training_Y)\n",
    "y_predicted = mlp.predict(testing_X)\n",
    "print(\"RMSE = \" + str(estimators.rmse(y_predicted, testing_Y.ravel())))\n",
    "print(\"MAE = \" + str(estimators.mae(y_predicted, testing_Y.ravel())))\n",
    "actual_mae = y_data_scaler.inverse_transform(estimators.mae(y_predicted, testing_Y.ravel()))\n",
    "print(\"MAE (no. of shares) = \" + str(actual_mae.squeeze()))"
   ]
  },
  {
   "cell_type": "markdown",
   "metadata": {},
   "source": [
    "### Randomized Search to Find the Best Hyper-Parameters"
   ]
  },
  {
   "cell_type": "code",
   "execution_count": null,
   "metadata": {},
   "outputs": [
    {
     "name": "stdout",
     "output_type": "stream",
     "text": [
      "Fitting 3 folds for each of 10 candidates, totalling 30 fits\n",
      "[CV] activation=tanh, alpha=0.439596651564, beta_1=0.702355889746, beta_2=0.761501735499, hidden_layer_sizes=(100, 10, 10), learning_rate=adaptive, learning_rate_init=0.0413659394308, solver=sgd \n",
      "[CV]  activation=tanh, alpha=0.439596651564, beta_1=0.702355889746, beta_2=0.761501735499, hidden_layer_sizes=(100, 10, 10), learning_rate=adaptive, learning_rate_init=0.0413659394308, solver=sgd -   3.6s\n",
      "[CV] activation=tanh, alpha=0.439596651564, beta_1=0.702355889746, beta_2=0.761501735499, hidden_layer_sizes=(100, 10, 10), learning_rate=adaptive, learning_rate_init=0.0413659394308, solver=sgd \n"
     ]
    },
    {
     "name": "stderr",
     "output_type": "stream",
     "text": [
      "[Parallel(n_jobs=1)]: Done   1 out of   1 | elapsed:    3.6s remaining:    0.0s\n"
     ]
    },
    {
     "name": "stdout",
     "output_type": "stream",
     "text": [
      "[CV]  activation=tanh, alpha=0.439596651564, beta_1=0.702355889746, beta_2=0.761501735499, hidden_layer_sizes=(100, 10, 10), learning_rate=adaptive, learning_rate_init=0.0413659394308, solver=sgd -   4.0s\n",
      "[CV] activation=tanh, alpha=0.439596651564, beta_1=0.702355889746, beta_2=0.761501735499, hidden_layer_sizes=(100, 10, 10), learning_rate=adaptive, learning_rate_init=0.0413659394308, solver=sgd \n",
      "[CV]  activation=tanh, alpha=0.439596651564, beta_1=0.702355889746, beta_2=0.761501735499, hidden_layer_sizes=(100, 10, 10), learning_rate=adaptive, learning_rate_init=0.0413659394308, solver=sgd -   4.2s\n",
      "[CV] activation=relu, alpha=0.730898177519, beta_1=0.263873467258, beta_2=0.18250462865, hidden_layer_sizes=(1000, 100, 100), learning_rate=adaptive, learning_rate_init=0.00604622723206, solver=sgd \n"
     ]
    }
   ],
   "source": [
    "\n",
    "# Randomized search uses 3-fold cross validation by default\n",
    "rs = RandomizedSearchCV(mlp, param_distributions={\n",
    "    'learning_rate': [\"constant\", \"invscaling\", \"adaptive\"],\n",
    "    'hidden_layer_sizes': [(100, 10, 10), (100, 50, 25), (1000, 100, 100)],\n",
    "    'learning_rate_init': stats.uniform(0.001, 0.05),\n",
    "    'solver': [\"sgd\", \"adam\", \"lbfgs\"],\n",
    "    'activation': [\"relu\", \"tanh\"],\n",
    "    'alpha': stats.uniform(0.0001, 1),\n",
    "    'beta_1': stats.uniform(0, 1.0),\n",
    "    'beta_2': stats.uniform(0, 1.0)}, verbose=2, scoring=\"neg_mean_absolute_error\")\n",
    "\n",
    "rs.fit(training_X, training_Y.ravel())\n",
    "bs = rs.best_estimator_\n",
    "\n",
    "y_predicted = bs.predict(testing_X)\n",
    "print(\"RMSE = \" + str(estimators.rmse(y_predicted, testing_Y.ravel())))\n",
    "print(\"MAE = \" + str(estimators.mae(y_predicted, testing_Y.ravel())))\n",
    "actual_mae = y_data_scaler.inverse_transform(estimators.mae(y_predicted, testing_Y))\n",
    "print(\"MAE (no. of shares) = \" + str(actual_mae.squeeze()))\n",
    "\n",
    "# plot the loss curve\n",
    "import matplotlib.pyplot as plt\n",
    "\n",
    "df = pd.DataFrame(bs.loss_curve_)\n",
    "df.columns = ['loss']\n",
    "ax = df.plot()\n",
    "ax.set_xlabel('epochs')\n",
    "ax.set_ylabel('loss')\n",
    "plt.show()\n"
   ]
  },
  {
   "cell_type": "markdown",
   "metadata": {},
   "source": [
    "### Save the Best Model from the Randomized Search"
   ]
  },
  {
   "cell_type": "code",
   "execution_count": null,
   "metadata": {},
   "outputs": [],
   "source": [
    "# Save the best MLP model\n",
    "import _pickle\n",
    "with open('/home/pier/Machine_Learning/KE5206NN/regression/regression_models/best_model.pkl', 'wb') as fid:\n",
    "    _pickle.dump(bs, fid)"
   ]
  },
  {
   "cell_type": "markdown",
   "metadata": {},
   "source": [
    "## GRNN using Neupy"
   ]
  },
  {
   "cell_type": "markdown",
   "metadata": {},
   "source": [
    "### NeuPy imports"
   ]
  },
  {
   "cell_type": "code",
   "execution_count": 14,
   "metadata": {
    "collapsed": true
   },
   "outputs": [],
   "source": [
    "from neupy import algorithms, layers, estimators\n",
    "\n",
    "environment.reproducible()"
   ]
  },
  {
   "cell_type": "markdown",
   "metadata": {},
   "source": [
    "### Grid-Search Get the MAE for different values of STD"
   ]
  },
  {
   "cell_type": "code",
   "execution_count": 17,
   "metadata": {},
   "outputs": [
    {
     "name": "stdout",
     "output_type": "stream",
     "text": [
      "\n",
      "Main information\n",
      "\n",
      "[ALGORITHM] GRNN\n",
      "\n",
      "[OPTION] verbose = True\n",
      "[OPTION] epoch_end_signal = None\n",
      "[OPTION] show_epoch = 1\n",
      "[OPTION] shuffle_data = False\n",
      "[OPTION] step = 0.1\n",
      "[OPTION] train_end_signal = None\n",
      "[OPTION] std = 0.1\n",
      "\n",
      "\n",
      "Main information\n",
      "\n",
      "[ALGORITHM] GRNN\n",
      "\n",
      "[OPTION] verbose = True\n",
      "[OPTION] epoch_end_signal = None\n",
      "[OPTION] show_epoch = 1\n",
      "[OPTION] shuffle_data = False\n",
      "[OPTION] step = 0.1\n",
      "[OPTION] train_end_signal = None\n",
      "[OPTION] std = 0.2\n",
      "\n",
      "\n",
      "Main information\n",
      "\n",
      "[ALGORITHM] GRNN\n",
      "\n",
      "[OPTION] verbose = True\n",
      "[OPTION] epoch_end_signal = None\n",
      "[OPTION] show_epoch = 1\n",
      "[OPTION] shuffle_data = False\n",
      "[OPTION] step = 0.1\n",
      "[OPTION] train_end_signal = None\n",
      "[OPTION] std = 0.30000000000000004\n",
      "\n",
      "\n",
      "Main information\n",
      "\n",
      "[ALGORITHM] GRNN\n",
      "\n",
      "[OPTION] verbose = True\n",
      "[OPTION] epoch_end_signal = None\n",
      "[OPTION] show_epoch = 1\n",
      "[OPTION] shuffle_data = False\n",
      "[OPTION] step = 0.1\n",
      "[OPTION] train_end_signal = None\n",
      "[OPTION] std = 0.4\n",
      "\n",
      "\n",
      "Main information\n",
      "\n",
      "[ALGORITHM] GRNN\n",
      "\n",
      "[OPTION] verbose = True\n",
      "[OPTION] epoch_end_signal = None\n",
      "[OPTION] show_epoch = 1\n",
      "[OPTION] shuffle_data = False\n",
      "[OPTION] step = 0.1\n",
      "[OPTION] train_end_signal = None\n",
      "[OPTION] std = 0.5\n",
      "\n"
     ]
    }
   ],
   "source": [
    "std_values = [0.1 + 0.1 * x for x in range(5)]\n",
    "mae_training = []\n",
    "mae_testing = []\n",
    "for std_value in std_values:\n",
    "    nw = algorithms.GRNN(std=std_value, verbose=True)\n",
    "    nw.train(training_X, training_Y)\n",
    "    testing_Y_predicted = nw.predict(testing_X)\n",
    "    mae_testing.append(estimators.mae(testing_Y_predicted, testing_Y))\n"
   ]
  },
  {
   "cell_type": "markdown",
   "metadata": {},
   "source": [
    "#### Generate the validation curves"
   ]
  },
  {
   "cell_type": "code",
   "execution_count": 20,
   "metadata": {
    "scrolled": true
   },
   "outputs": [
    {
     "data": {
      "image/png": "[encoded data removed]",
      "text/plain": [
       "<matplotlib.figure.Figure at 0x1f4512e6f60>"
      ]
     },
     "metadata": {},
     "output_type": "display_data"
    }
   ],
   "source": [
    "generate_rmse_curves_testing_training_data(std_values, mae_testing, mae_training, \"MAE with standard deviation\", \"Standard deviation\")"
   ]
  },
  {
   "cell_type": "markdown",
   "metadata": {},
   "source": [
    "#### Check the MAE for the best candidate Standard deviation"
   ]
  },
  {
   "cell_type": "code",
   "execution_count": 15,
   "metadata": {},
   "outputs": [
    {
     "name": "stdout",
     "output_type": "stream",
     "text": [
      "0.004392001101080488\n"
     ]
    }
   ],
   "source": [
    "nw = algorithms.GRNN(std=0.2, verbose=False)\n",
    "nw.train(training_X, training_Y)\n",
    "y_predicted = nw.predict(testing_X)\n",
    "print(estimators.mae(y_predicted, testing_Y))"
   ]
  },
  {
   "cell_type": "markdown",
   "metadata": {},
   "source": [
    "### Invert the target values using [this](https://stackoverflow.com/questions/41551165/invert-minmaxscaler-from-scikit-learn)"
   ]
  },
  {
   "cell_type": "code",
   "execution_count": 12,
   "metadata": {
    "collapsed": true
   },
   "outputs": [],
   "source": [
    "y_predicted_upscaled = y_data_scaler.inverse_transform(y_predicted)\n",
    "testing_Y_upscaled = y_data_scaler.inverse_transform(testing_Y)"
   ]
  },
  {
   "cell_type": "markdown",
   "metadata": {},
   "source": [
    "### Check the predicted values"
   ]
  },
  {
   "cell_type": "code",
   "execution_count": 12,
   "metadata": {},
   "outputs": [
    {
     "name": "stdout",
     "output_type": "stream",
     "text": [
      "#0. Diff=[1290.89548681]\n",
      "#1. Diff=[944.15984776]\n",
      "#2. Diff=[16071.0015258]\n",
      "#3. Diff=[514.39948712]\n",
      "#4. Diff=[15838.6004488]\n",
      "#5. Diff=[1154.60599213]\n",
      "#6. Diff=[3647.21293788]\n",
      "#7. Diff=[295.10553786]\n",
      "#8. Diff=[383.55702558]\n",
      "#9. Diff=[2279.62215478]\n",
      "#10. Diff=[3493.67788242]\n",
      "#11. Diff=[3999.95134365]\n",
      "#12. Diff=[16309.93409339]\n",
      "#13. Diff=[4580.0040625]\n",
      "#14. Diff=[1371.68037944]\n",
      "#15. Diff=[1740.82161519]\n",
      "#16. Diff=[4229.96199357]\n",
      "#17. Diff=[560.27674053]\n",
      "#18. Diff=[1978.80975366]\n",
      "#19. Diff=[838.72333133]\n",
      "#20. Diff=[133309.33855459]\n",
      "#21. Diff=[2008.25303324]\n",
      "#22. Diff=[2688.78363661]\n",
      "#23. Diff=[1516.74625832]\n",
      "#24. Diff=[3699.99755283]\n",
      "#25. Diff=[2187.78783993]\n",
      "#26. Diff=[1379.57390628]\n",
      "#27. Diff=[230.60273462]\n",
      "#28. Diff=[1214.53274272]\n",
      "#29. Diff=[817.56162325]\n",
      "#30. Diff=[2238.60482879]\n",
      "#31. Diff=[1835.76871171]\n",
      "#32. Diff=[349.61808355]\n",
      "#33. Diff=[1641.44742993]\n",
      "#34. Diff=[101.90641847]\n",
      "#35. Diff=[73.87574518]\n",
      "#36. Diff=[1751.02214333]\n",
      "#37. Diff=[403.23643598]\n",
      "#38. Diff=[3454.66326129]\n",
      "#39. Diff=[3042.61492063]\n",
      "#40. Diff=[2585.46411676]\n",
      "#41. Diff=[10340.85508343]\n",
      "#42. Diff=[61.22114423]\n",
      "#43. Diff=[2297.9449735]\n",
      "#44. Diff=[446.19284608]\n",
      "#45. Diff=[201.76247094]\n",
      "#46. Diff=[2708.20310472]\n",
      "#47. Diff=[9736.15000358]\n",
      "#48. Diff=[1245.43234562]\n",
      "#49. Diff=[516.02905491]\n",
      "#50. Diff=[1015.23075179]\n",
      "#51. Diff=[33764.34332508]\n",
      "#52. Diff=[11451.84929369]\n",
      "#53. Diff=[1201.74757234]\n",
      "#54. Diff=[317.21488329]\n",
      "#55. Diff=[1875.86989411]\n",
      "#56. Diff=[7241.91397904]\n",
      "#57. Diff=[1045.79297916]\n",
      "#58. Diff=[679.966206]\n",
      "#59. Diff=[9811.39466512]\n",
      "#60. Diff=[1358.32153647]\n",
      "#61. Diff=[1220.74910807]\n",
      "#62. Diff=[616.63376414]\n",
      "#63. Diff=[5146.81698055]\n",
      "#64. Diff=[1114.13359638]\n",
      "#65. Diff=[3651.80715475]\n",
      "#66. Diff=[10588.20771159]\n",
      "#67. Diff=[20648.30275958]\n",
      "#68. Diff=[1821.12337982]\n",
      "#69. Diff=[1287.12725026]\n",
      "#70. Diff=[2788.43637455]\n",
      "#71. Diff=[1381.36847112]\n",
      "#72. Diff=[3189.12366216]\n",
      "#73. Diff=[3161.31002864]\n",
      "#74. Diff=[1014.66863903]\n",
      "#75. Diff=[391.63188171]\n",
      "#76. Diff=[1510.67667129]\n",
      "#77. Diff=[770.93707639]\n",
      "#78. Diff=[426.83836288]\n",
      "#79. Diff=[3170.7167028]\n",
      "#80. Diff=[3396.0533101]\n",
      "#81. Diff=[312.47671699]\n",
      "#82. Diff=[1035.85462695]\n",
      "#83. Diff=[3303.8888227]\n",
      "#84. Diff=[613.62442984]\n",
      "#85. Diff=[692.28484051]\n",
      "#86. Diff=[1982.55292106]\n",
      "#87. Diff=[1226.71623373]\n",
      "#88. Diff=[529.81274713]\n",
      "#89. Diff=[321.50051657]\n",
      "#90. Diff=[1932.51235716]\n",
      "#91. Diff=[774.08266384]\n",
      "#92. Diff=[6697.28808957]\n",
      "#93. Diff=[2841.29235079]\n",
      "#94. Diff=[438.01721224]\n",
      "#95. Diff=[1177.12060042]\n",
      "#96. Diff=[131.13275636]\n",
      "#97. Diff=[227.53869481]\n",
      "#98. Diff=[8420.75516146]\n",
      "#99. Diff=[495.30161529]\n"
     ]
    }
   ],
   "source": [
    "slice = 100\n",
    "for itr in range(slice):\n",
    "    print(\"#{0}. Diff={1}\".format(itr, abs(y_predicted_upscaled[itr] - testing_Y_upscaled[itr])))"
   ]
  },
  {
   "cell_type": "markdown",
   "metadata": {},
   "source": [
    "### Save the Best GRNN Model"
   ]
  },
  {
   "cell_type": "code",
   "execution_count": null,
   "metadata": {},
   "outputs": [],
   "source": [
    "# Save the best GRNN model\n",
    "import _pickle\n",
    "with open('./regression_models/grnn_best.pkl', 'wb') as fid:\n",
    "    _pickle.dump(nw, fid)"
   ]
  },
  {
   "cell_type": "markdown",
   "metadata": {},
   "source": [
    "### SOM using [Neupy](http://neupy.com/apidocs/neupy.algorithms.competitive.sofm.html)"
   ]
  },
  {
   "cell_type": "code",
   "execution_count": 27,
   "metadata": {
    "collapsed": true
   },
   "outputs": [],
   "source": [
    "num_epochs = 20\n",
    "num_clusters = [3, 4, 5]\n",
    "pca_components = 2"
   ]
  },
  {
   "cell_type": "markdown",
   "metadata": {},
   "source": [
    "#### Perform PCA on the input data to get 2 components to visualize the data"
   ]
  },
  {
   "cell_type": "code",
   "execution_count": 28,
   "metadata": {
    "collapsed": true
   },
   "outputs": [],
   "source": [
    "pca = PCA(n_components=pca_components)\n",
    "pca_X = pca.fit_transform(training_X)\n",
    "num_features = pca_components"
   ]
  },
  {
   "cell_type": "code",
   "execution_count": 29,
   "metadata": {},
   "outputs": [
    {
     "name": "stdout",
     "output_type": "stream",
     "text": [
      "[32.91615358  0.11551647]\n",
      "[0.98364524 0.00345202]\n"
     ]
    }
   ],
   "source": [
    "print(pca.explained_variance_)\n",
    "print(pca.explained_variance_ratio_)"
   ]
  },
  {
   "cell_type": "code",
   "execution_count": 21,
   "metadata": {},
   "outputs": [
    {
     "name": "stdout",
     "output_type": "stream",
     "text": [
      "Number of clusters: 3\n",
      "\n",
      "Main information\n",
      "\n",
      "[ALGORITHM] SOFM\n",
      "\n",
      "[OPTION] verbose = True\n",
      "[OPTION] epoch_end_signal = None\n",
      "[OPTION] show_epoch = 1\n",
      "[OPTION] shuffle_data = False\n",
      "[OPTION] step = 0.1\n",
      "[OPTION] train_end_signal = None\n",
      "[OPTION] n_inputs = 2\n",
      "[OPTION] distance = euclid\n",
      "[OPTION] features_grid = None\n",
      "[OPTION] grid_type = rect\n",
      "[OPTION] learning_radius = 0\n",
      "[OPTION] n_outputs = 3\n",
      "[OPTION] reduce_radius_after = 100\n",
      "[OPTION] reduce_std_after = 100\n",
      "[OPTION] reduce_step_after = 100\n",
      "[OPTION] std = 1\n",
      "[OPTION] weight = Normal(mean=0, std=0.01)\n",
      "\n",
      "\n",
      "Start training\n",
      "\n",
      "[TRAINING DATA] shapes: (27750, 2)\n",
      "[TRAINING] Total epochs: 20\n",
      "\n",
      "---------------------------------------------------------\n",
      "|    Epoch    |  Train err  |  Valid err  |    Time     |\n",
      "---------------------------------------------------------\n",
      "|           1 |     0.10523 |           - |       6 sec |\n",
      "|           2 |      0.1212 |           - |       6 sec |\n",
      "|           3 |      0.1123 |           - |       6 sec |\n",
      "|           4 |      0.1109 |           - |       6 sec |\n",
      "|           5 |     0.10965 |           - |       6 sec |\n",
      "|           6 |     0.10852 |           - |       6 sec |\n",
      "|           7 |     0.10751 |           - |       6 sec |\n",
      "|           8 |      0.1066 |           - |       6 sec |\n",
      "|           9 |     0.10578 |           - |       6 sec |\n",
      "|          10 |     0.10504 |           - |       6 sec |\n",
      "|          11 |     0.10436 |           - |       6 sec |\n",
      "|          12 |     0.10376 |           - |       6 sec |\n",
      "|          13 |     0.10321 |           - |       6 sec |\n",
      "|          14 |     0.10271 |           - |       6 sec |\n",
      "|          15 |     0.10225 |           - |       6 sec |\n",
      "|          16 |     0.10184 |           - |       6 sec |\n",
      "|          17 |     0.10146 |           - |       6 sec |\n",
      "|          18 |     0.10112 |           - |       6 sec |\n",
      "|          19 |     0.10081 |           - |       6 sec |\n",
      "|          20 |     0.10052 |           - |       6 sec |\n",
      "---------------------------------------------------------\n",
      "\n",
      "Number of clusters: 4\n",
      "\n",
      "Main information\n",
      "\n",
      "[ALGORITHM] SOFM\n",
      "\n",
      "[OPTION] verbose = True\n",
      "[OPTION] epoch_end_signal = None\n",
      "[OPTION] show_epoch = 1\n",
      "[OPTION] shuffle_data = False\n",
      "[OPTION] step = 0.1\n",
      "[OPTION] train_end_signal = None\n",
      "[OPTION] n_inputs = 2\n",
      "[OPTION] distance = euclid\n",
      "[OPTION] features_grid = None\n",
      "[OPTION] grid_type = rect\n",
      "[OPTION] learning_radius = 0\n",
      "[OPTION] n_outputs = 4\n",
      "[OPTION] reduce_radius_after = 100\n",
      "[OPTION] reduce_std_after = 100\n",
      "[OPTION] reduce_step_after = 100\n",
      "[OPTION] std = 1\n",
      "[OPTION] weight = Normal(mean=0, std=0.01)\n",
      "\n",
      "\n",
      "Start training\n",
      "\n",
      "[TRAINING DATA] shapes: (27750, 2)\n",
      "[TRAINING] Total epochs: 20\n",
      "\n",
      "---------------------------------------------------------\n",
      "|    Epoch    |  Train err  |  Valid err  |    Time     |\n",
      "---------------------------------------------------------\n",
      "|           1 |     0.08601 |           - |       6 sec |\n",
      "|           2 |      0.1007 |           - |       5 sec |\n",
      "|           3 |     0.09915 |           - |       5 sec |\n",
      "|           4 |    0.097718 |           - |       6 sec |\n",
      "|           5 |    0.096478 |           - |       5 sec |\n",
      "|           6 |    0.095365 |           - |       6 sec |\n",
      "|           7 |    0.094366 |           - |       5 sec |\n",
      "|           8 |    0.093474 |           - |       5 sec |\n",
      "|           9 |    0.092664 |           - |       6 sec |\n",
      "|          10 |    0.091935 |           - |       5 sec |\n",
      "|          11 |    0.091276 |           - |       5 sec |\n",
      "|          12 |    0.090681 |           - |       5 sec |\n",
      "|          13 |    0.090142 |           - |       5 sec |\n",
      "|          14 |    0.089635 |           - |       5 sec |\n",
      "|          15 |    0.089193 |           - |       5 sec |\n",
      "|          16 |     0.08879 |           - |       6 sec |\n",
      "|          17 |    0.088425 |           - |       5 sec |\n",
      "|          18 |    0.088092 |           - |       5 sec |\n",
      "|          19 |    0.087788 |           - |       6 sec |\n",
      "|          20 |    0.087507 |           - |       6 sec |\n",
      "---------------------------------------------------------\n",
      "\n",
      "Number of clusters: 5\n",
      "\n",
      "Main information\n",
      "\n",
      "[ALGORITHM] SOFM\n",
      "\n",
      "[OPTION] verbose = True\n",
      "[OPTION] epoch_end_signal = None\n",
      "[OPTION] show_epoch = 1\n",
      "[OPTION] shuffle_data = False\n",
      "[OPTION] step = 0.1\n",
      "[OPTION] train_end_signal = None\n",
      "[OPTION] n_inputs = 2\n",
      "[OPTION] distance = euclid\n",
      "[OPTION] features_grid = None\n",
      "[OPTION] grid_type = rect\n",
      "[OPTION] learning_radius = 0\n",
      "[OPTION] n_outputs = 5\n",
      "[OPTION] reduce_radius_after = 100\n",
      "[OPTION] reduce_std_after = 100\n",
      "[OPTION] reduce_step_after = 100\n",
      "[OPTION] std = 1\n",
      "[OPTION] weight = Normal(mean=0, std=0.01)\n",
      "\n",
      "\n",
      "Start training\n",
      "\n",
      "[TRAINING DATA] shapes: (27750, 2)\n",
      "[TRAINING] Total epochs: 20\n",
      "\n",
      "---------------------------------------------------------\n",
      "|    Epoch    |  Train err  |  Valid err  |    Time     |\n",
      "---------------------------------------------------------\n",
      "|           1 |    0.075162 |           - |       5 sec |\n",
      "|           2 |    0.083563 |           - |       5 sec |\n",
      "|           3 |    0.081732 |           - |       5 sec |\n",
      "|           4 |    0.080355 |           - |       5 sec |\n",
      "|           5 |     0.07911 |           - |       5 sec |\n",
      "|           6 |    0.077997 |           - |       5 sec |\n",
      "|           7 |    0.077003 |           - |       5 sec |\n",
      "|           8 |    0.076114 |           - |       5 sec |\n",
      "|           9 |    0.075312 |           - |       5 sec |\n",
      "|          10 |    0.074586 |           - |       5 sec |\n",
      "|          11 |    0.073947 |           - |       5 sec |\n",
      "|          12 |    0.073358 |           - |       5 sec |\n",
      "|          13 |    0.072824 |           - |       5 sec |\n",
      "|          14 |     0.07234 |           - |       6 sec |\n",
      "|          15 |      0.0719 |           - |       6 sec |\n",
      "|          16 |    0.071511 |           - |       6 sec |\n",
      "|          17 |    0.071148 |           - |       5 sec |\n",
      "|          18 |     0.07081 |           - |       6 sec |\n",
      "|          19 |    0.070512 |           - |       6 sec |\n",
      "|          20 |     0.07023 |           - |       6 sec |\n",
      "---------------------------------------------------------\n",
      "\n"
     ]
    }
   ],
   "source": [
    "# n_inputs is the number of features\n",
    "sofms = []\n",
    "\n",
    "for num_cluster in num_clusters:\n",
    "    print(\"Number of clusters: \" + str(num_cluster))\n",
    "    sofm = algorithms.SOFM(n_inputs=pca_components, n_outputs=num_cluster, step=0.1, learning_radius=0, verbose=True, grid_type='rect')\n",
    "    sofm.train(pca_X, epochs=num_epochs)\n",
    "    sofms.append(sofm)\n"
   ]
  },
  {
   "cell_type": "markdown",
   "metadata": {},
   "source": [
    "#### Print the SOM cluster centres after the training for different number of clusters"
   ]
  },
  {
   "cell_type": "code",
   "execution_count": 46,
   "metadata": {},
   "outputs": [
    {
     "name": "stdout",
     "output_type": "stream",
     "text": [
      "(3, 2)\n",
      "[[ 8.12664691e+02  1.42819204e-01]\n",
      " [ 4.50046453e-02 -1.30210508e-01]\n",
      " [-3.79858335e-02  8.62940532e-01]]\n",
      "(4, 2)\n",
      "[[-3.79858335e-02  8.62940532e-01]\n",
      " [ 8.12669177e+02 -2.99833290e-03]\n",
      " [-8.79275607e-01 -1.99037674e-01]\n",
      " [ 4.76469373e-02 -1.30117279e-01]]\n",
      "(5, 2)\n",
      "[[ 1.71086752e-01 -1.22087794e-01]\n",
      " [-1.12752500e-01 -1.37055909e-01]\n",
      " [-8.79817139e-01 -1.99173286e-01]\n",
      " [-3.79858335e-02  8.62940532e-01]\n",
      " [ 8.12668559e+02 -3.47401128e-03]]\n"
     ]
    }
   ],
   "source": [
    "for sofm in sofms:\n",
    "    print(sofm.weight.T.shape)\n",
    "    print(sofm.weight.T)"
   ]
  },
  {
   "cell_type": "code",
   "execution_count": 55,
   "metadata": {
    "collapsed": true
   },
   "outputs": [],
   "source": [
    "def get_values_from_column(values, column_index):\n",
    "    return [value[column_index] for value in values]"
   ]
  },
  {
   "cell_type": "markdown",
   "metadata": {},
   "source": [
    "#### Plot the cluster centres for different number of clusters"
   ]
  },
  {
   "cell_type": "code",
   "execution_count": 62,
   "metadata": {},
   "outputs": [
    {
     "name": "stdout",
     "output_type": "stream",
     "text": [
      "3\n",
      "4\n",
      "5\n"
     ]
    },
    {
     "data": {
      "image/png": "[encoded data removed]",
      "text/plain": [
       "<matplotlib.figure.Figure at 0x1abcf6ac588>"
      ]
     },
     "metadata": {},
     "output_type": "display_data"
    }
   ],
   "source": [
    "plt.rcParams['figure.figsize'] = (20, 20)\n",
    "fig, ax = plt.subplots()\n",
    "\n",
    "print(len(get_values_from_column(sofms[0].weight.T, 0)))\n",
    "print(len(get_values_from_column(sofms[1].weight.T, 0)))\n",
    "print(len(get_values_from_column(sofms[2].weight.T, 0)))\n",
    "\n",
    "\n",
    "ax.scatter(get_values_from_column(sofms[0].weight.T, 0), get_values_from_column(sofms[0].weight.T, 1), marker='^', label = \"3 Clusters\")\n",
    "ax.scatter(get_values_from_column(sofms[1].weight.T, 0), get_values_from_column(sofms[1].weight.T, 1), marker='s', label = \"4 Clusters\")\n",
    "ax.scatter(get_values_from_column(sofms[2].weight.T, 0), get_values_from_column(sofms[2].weight.T, 1), marker='*', label = \"5 Clusters\")\n",
    "\n",
    "plt.xlabel(\"Principal component 1\")\n",
    "plt.ylabel(\"Principal component 2\")\n",
    "ax.legend()\n",
    "ax.grid(True)"
   ]
  },
  {
   "cell_type": "markdown",
   "metadata": {},
   "source": [
    "#### Get the predictions for the training set and then get the average of the number of shares for the clusters"
   ]
  },
  {
   "cell_type": "code",
   "execution_count": 25,
   "metadata": {},
   "outputs": [
    {
     "name": "stdout",
     "output_type": "stream",
     "text": [
      "[0.         0.         0.         0.         0.00481474 0.\n",
      " 0.         0.00712548 0.         0.         0.         0.\n",
      " 0.         0.         0.         0.         0.         0.\n",
      " 0.         0.         0.         0.         0.         0.\n",
      " 0.         0.00427217 0.         0.         0.         0.        ]\n"
     ]
    }
   ],
   "source": [
    "trainingX_predictions = sofm.predict(training_X)\n",
    "cluster_sums = np.zeros(num_clusters)\n",
    "cluster_counts = np.zeros(num_clusters)\n",
    "for idx, prediction in enumerate(trainingX_predictions):\n",
    "    predicted_label = np.argmax(prediction)\n",
    "    cluster_sums[predicted_label] += training_Y[idx]\n",
    "    cluster_counts[predicted_label] += 1\n",
    "\n",
    "#print(cluster_counts)\n",
    "cluster_averages = cluster_sums/(1+cluster_counts)\n",
    "print(cluster_averages)"
   ]
  },
  {
   "cell_type": "markdown",
   "metadata": {},
   "source": [
    "#### Get the predictions for the test data"
   ]
  },
  {
   "cell_type": "code",
   "execution_count": 28,
   "metadata": {},
   "outputs": [
    {
     "name": "stdout",
     "output_type": "stream",
     "text": [
      "MAE: [0.00470036]\n"
     ]
    }
   ],
   "source": [
    "testing_X_predictions = sofm.predict(testing_X)\n",
    "abs_error = 0\n",
    "predicted_values = []\n",
    "\n",
    "for idx, prediction in enumerate(testing_X_predictions):\n",
    "    predicted_label = np.argmax(prediction)\n",
    "    predicted_shares = cluster_averages[predicted_label]\n",
    "    predicted_values.append(predicted_shares)\n",
    "    actual_shares = testing_Y[idx]\n",
    "    abs_error += abs(predicted_shares-actual_shares)\n",
    "\n",
    "mae = abs_error/len(testing_X)\n",
    "print(\"MAE: \" + str(mae))"
   ]
  },
  {
   "cell_type": "code",
   "execution_count": 45,
   "metadata": {},
   "outputs": [
    {
     "name": "stdout",
     "output_type": "stream",
     "text": [
      "(11894, 1)\n",
      "(11894, 1)\n",
      "#0. Diff=[1168.23154819]\n",
      "#1. Diff=[2768.23154819]\n",
      "#2. Diff=[13631.76845181]\n",
      "#3. Diff=[2568.23154819]\n",
      "#4. Diff=[2668.23154819]\n",
      "#5. Diff=[1168.23154819]\n",
      "#6. Diff=[3267.23154819]\n",
      "#7. Diff=[1068.23154819]\n",
      "#8. Diff=[3068.23154819]\n",
      "#9. Diff=[3701.23154819]\n",
      "#10. Diff=[631.76845181]\n",
      "#11. Diff=[2368.23154819]\n",
      "#12. Diff=[13731.76845181]\n",
      "#13. Diff=[13731.76845181]\n",
      "#14. Diff=[3184.23154819]\n",
      "#15. Diff=[2568.23154819]\n",
      "#16. Diff=[3331.76845181]\n",
      "#17. Diff=[2868.23154819]\n",
      "#18. Diff=[3455.23154819]\n",
      "#19. Diff=[3304.23154819]\n",
      "#20. Diff=[3086.23154819]\n",
      "#21. Diff=[68.23154819]\n",
      "#22. Diff=[2168.23154819]\n",
      "#23. Diff=[468.23154819]\n",
      "#24. Diff=[4916.85674041]\n",
      "#25. Diff=[3888.23154819]\n",
      "#26. Diff=[3543.23154819]\n",
      "#27. Diff=[2868.23154819]\n",
      "#28. Diff=[668.23154819]\n",
      "#29. Diff=[3356.23154819]\n"
     ]
    }
   ],
   "source": [
    "print_abs_difference_of_predictions(data_scaler, testing_Y, np.array(predicted_values).reshape(-1, 1), 30)"
   ]
  },
  {
   "cell_type": "code",
   "execution_count": 19,
   "metadata": {
    "collapsed": true
   },
   "outputs": [],
   "source": [
    "def generate_rmse_curves_testing_training_data(hyperparameter_values, validation_rmse, training_rmse, title_text, x_label_text):\n",
    "    plt.figure()\n",
    "    plt.xlabel(x_label_text)\n",
    "    plt.ylabel(\"MAE\")\n",
    "    plt.plot(hyperparameter_values, validation_rmse)\n",
    "    plt.legend(['Test data'])\n",
    "    "
   ]
  },
  {
   "cell_type": "code",
   "execution_count": null,
   "metadata": {
    "collapsed": true
   },
   "outputs": [],
   "source": []
  }
 ],
 "metadata": {
  "kernelspec": {
   "display_name": "Python [default]",
   "language": "python",
   "name": "python3"
  },
  "language_info": {
   "codemirror_mode": {
    "name": "ipython",
    "version": 3
   },
   "file_extension": ".py",
   "mimetype": "text/x-python",
   "name": "python",
   "nbconvert_exporter": "python",
   "pygments_lexer": "ipython3",
   "version": "3.6.1"
  }
 },
 "nbformat": 4,
 "nbformat_minor": 2
}

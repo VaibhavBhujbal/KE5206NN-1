{
 "cells": [
  {
   "cell_type": "code",
   "execution_count": 1,
   "metadata": {},
   "outputs": [],
   "source": [
    "import pandas as pd\n",
    "from sklearn import preprocessing\n",
    "from neupy import environment\n",
    "from sklearn.model_selection import train_test_split\n",
    "from neupy import environment\n",
    "import numpy as np\n",
    "import seaborn as sns\n",
    "import matplotlib.pyplot as plt\n",
    "import math\n",
    "\n",
    "%matplotlib inline"
   ]
  },
  {
   "cell_type": "markdown",
   "metadata": {},
   "source": [
    "#### Select original the training records for discovery"
   ]
  },
  {
   "cell_type": "code",
   "execution_count": 2,
   "metadata": {
    "collapsed": true
   },
   "outputs": [
    {
     "ename": "FileNotFoundError",
     "evalue": "File b'data/train_70.0.csv' does not exist",
     "traceback": [
      "\u001b[0;31m---------------------------------------------------------------------------\u001b[0m",
      "\u001b[0;31mFileNotFoundError\u001b[0m                         Traceback (most recent call last)",
      "\u001b[0;32m<ipython-input-2-82e5b5a4350c>\u001b[0m in \u001b[0;36m<module>\u001b[0;34m()\u001b[0m\n\u001b[0;32m----> 1\u001b[0;31m \u001b[0mtrain_df\u001b[0m \u001b[0;34m=\u001b[0m \u001b[0mpd\u001b[0m\u001b[0;34m.\u001b[0m\u001b[0mread_csv\u001b[0m\u001b[0;34m(\u001b[0m\u001b[0;34m\"data/train_70.0.csv\"\u001b[0m\u001b[0;34m)\u001b[0m\u001b[0;34m\u001b[0m\u001b[0m\n\u001b[0m\u001b[1;32m      2\u001b[0m \u001b[0mtarget_training\u001b[0m \u001b[0;34m=\u001b[0m \u001b[0mtrain_df\u001b[0m\u001b[0;34m.\u001b[0m\u001b[0mloc\u001b[0m\u001b[0;34m[\u001b[0m\u001b[0;34m:\u001b[0m\u001b[0;34m,\u001b[0m\u001b[0;34m\"shares\"\u001b[0m\u001b[0;34m]\u001b[0m\u001b[0;34m\u001b[0m\u001b[0m\n",
      "\u001b[0;32m~/anaconda3/envs/tensorflow/lib/python3.5/site-packages/pandas/io/parsers.py\u001b[0m in \u001b[0;36mparser_f\u001b[0;34m(filepath_or_buffer, sep, delimiter, header, names, index_col, usecols, squeeze, prefix, mangle_dupe_cols, dtype, engine, converters, true_values, false_values, skipinitialspace, skiprows, nrows, na_values, keep_default_na, na_filter, verbose, skip_blank_lines, parse_dates, infer_datetime_format, keep_date_col, date_parser, dayfirst, iterator, chunksize, compression, thousands, decimal, lineterminator, quotechar, quoting, escapechar, comment, encoding, dialect, tupleize_cols, error_bad_lines, warn_bad_lines, skipfooter, skip_footer, doublequote, delim_whitespace, as_recarray, compact_ints, use_unsigned, low_memory, buffer_lines, memory_map, float_precision)\u001b[0m\n\u001b[1;32m    707\u001b[0m                     skip_blank_lines=skip_blank_lines)\n\u001b[1;32m    708\u001b[0m \u001b[0;34m\u001b[0m\u001b[0m\n\u001b[0;32m--> 709\u001b[0;31m         \u001b[0;32mreturn\u001b[0m \u001b[0m_read\u001b[0m\u001b[0;34m(\u001b[0m\u001b[0mfilepath_or_buffer\u001b[0m\u001b[0;34m,\u001b[0m \u001b[0mkwds\u001b[0m\u001b[0;34m)\u001b[0m\u001b[0;34m\u001b[0m\u001b[0m\n\u001b[0m\u001b[1;32m    710\u001b[0m \u001b[0;34m\u001b[0m\u001b[0m\n\u001b[1;32m    711\u001b[0m     \u001b[0mparser_f\u001b[0m\u001b[0;34m.\u001b[0m\u001b[0m__name__\u001b[0m \u001b[0;34m=\u001b[0m \u001b[0mname\u001b[0m\u001b[0;34m\u001b[0m\u001b[0m\n",
      "\u001b[0;32m~/anaconda3/envs/tensorflow/lib/python3.5/site-packages/pandas/io/parsers.py\u001b[0m in \u001b[0;36m_read\u001b[0;34m(filepath_or_buffer, kwds)\u001b[0m\n\u001b[1;32m    447\u001b[0m \u001b[0;34m\u001b[0m\u001b[0m\n\u001b[1;32m    448\u001b[0m     \u001b[0;31m# Create the parser.\u001b[0m\u001b[0;34m\u001b[0m\u001b[0;34m\u001b[0m\u001b[0m\n\u001b[0;32m--> 449\u001b[0;31m     \u001b[0mparser\u001b[0m \u001b[0;34m=\u001b[0m \u001b[0mTextFileReader\u001b[0m\u001b[0;34m(\u001b[0m\u001b[0mfilepath_or_buffer\u001b[0m\u001b[0;34m,\u001b[0m \u001b[0;34m**\u001b[0m\u001b[0mkwds\u001b[0m\u001b[0;34m)\u001b[0m\u001b[0;34m\u001b[0m\u001b[0m\n\u001b[0m\u001b[1;32m    450\u001b[0m \u001b[0;34m\u001b[0m\u001b[0m\n\u001b[1;32m    451\u001b[0m     \u001b[0;32mif\u001b[0m \u001b[0mchunksize\u001b[0m \u001b[0;32mor\u001b[0m \u001b[0miterator\u001b[0m\u001b[0;34m:\u001b[0m\u001b[0;34m\u001b[0m\u001b[0m\n",
      "\u001b[0;32m~/anaconda3/envs/tensorflow/lib/python3.5/site-packages/pandas/io/parsers.py\u001b[0m in \u001b[0;36m__init__\u001b[0;34m(self, f, engine, **kwds)\u001b[0m\n\u001b[1;32m    816\u001b[0m             \u001b[0mself\u001b[0m\u001b[0;34m.\u001b[0m\u001b[0moptions\u001b[0m\u001b[0;34m[\u001b[0m\u001b[0;34m'has_index_names'\u001b[0m\u001b[0;34m]\u001b[0m \u001b[0;34m=\u001b[0m \u001b[0mkwds\u001b[0m\u001b[0;34m[\u001b[0m\u001b[0;34m'has_index_names'\u001b[0m\u001b[0;34m]\u001b[0m\u001b[0;34m\u001b[0m\u001b[0m\n\u001b[1;32m    817\u001b[0m \u001b[0;34m\u001b[0m\u001b[0m\n\u001b[0;32m--> 818\u001b[0;31m         \u001b[0mself\u001b[0m\u001b[0;34m.\u001b[0m\u001b[0m_make_engine\u001b[0m\u001b[0;34m(\u001b[0m\u001b[0mself\u001b[0m\u001b[0;34m.\u001b[0m\u001b[0mengine\u001b[0m\u001b[0;34m)\u001b[0m\u001b[0;34m\u001b[0m\u001b[0m\n\u001b[0m\u001b[1;32m    819\u001b[0m \u001b[0;34m\u001b[0m\u001b[0m\n\u001b[1;32m    820\u001b[0m     \u001b[0;32mdef\u001b[0m \u001b[0mclose\u001b[0m\u001b[0;34m(\u001b[0m\u001b[0mself\u001b[0m\u001b[0;34m)\u001b[0m\u001b[0;34m:\u001b[0m\u001b[0;34m\u001b[0m\u001b[0m\n",
      "\u001b[0;32m~/anaconda3/envs/tensorflow/lib/python3.5/site-packages/pandas/io/parsers.py\u001b[0m in \u001b[0;36m_make_engine\u001b[0;34m(self, engine)\u001b[0m\n\u001b[1;32m   1047\u001b[0m     \u001b[0;32mdef\u001b[0m \u001b[0m_make_engine\u001b[0m\u001b[0;34m(\u001b[0m\u001b[0mself\u001b[0m\u001b[0;34m,\u001b[0m \u001b[0mengine\u001b[0m\u001b[0;34m=\u001b[0m\u001b[0;34m'c'\u001b[0m\u001b[0;34m)\u001b[0m\u001b[0;34m:\u001b[0m\u001b[0;34m\u001b[0m\u001b[0m\n\u001b[1;32m   1048\u001b[0m         \u001b[0;32mif\u001b[0m \u001b[0mengine\u001b[0m \u001b[0;34m==\u001b[0m \u001b[0;34m'c'\u001b[0m\u001b[0;34m:\u001b[0m\u001b[0;34m\u001b[0m\u001b[0m\n\u001b[0;32m-> 1049\u001b[0;31m             \u001b[0mself\u001b[0m\u001b[0;34m.\u001b[0m\u001b[0m_engine\u001b[0m \u001b[0;34m=\u001b[0m \u001b[0mCParserWrapper\u001b[0m\u001b[0;34m(\u001b[0m\u001b[0mself\u001b[0m\u001b[0;34m.\u001b[0m\u001b[0mf\u001b[0m\u001b[0;34m,\u001b[0m \u001b[0;34m**\u001b[0m\u001b[0mself\u001b[0m\u001b[0;34m.\u001b[0m\u001b[0moptions\u001b[0m\u001b[0;34m)\u001b[0m\u001b[0;34m\u001b[0m\u001b[0m\n\u001b[0m\u001b[1;32m   1050\u001b[0m         \u001b[0;32melse\u001b[0m\u001b[0;34m:\u001b[0m\u001b[0;34m\u001b[0m\u001b[0m\n\u001b[1;32m   1051\u001b[0m             \u001b[0;32mif\u001b[0m \u001b[0mengine\u001b[0m \u001b[0;34m==\u001b[0m \u001b[0;34m'python'\u001b[0m\u001b[0;34m:\u001b[0m\u001b[0;34m\u001b[0m\u001b[0m\n",
      "\u001b[0;32m~/anaconda3/envs/tensorflow/lib/python3.5/site-packages/pandas/io/parsers.py\u001b[0m in \u001b[0;36m__init__\u001b[0;34m(self, src, **kwds)\u001b[0m\n\u001b[1;32m   1693\u001b[0m         \u001b[0mkwds\u001b[0m\u001b[0;34m[\u001b[0m\u001b[0;34m'allow_leading_cols'\u001b[0m\u001b[0;34m]\u001b[0m \u001b[0;34m=\u001b[0m \u001b[0mself\u001b[0m\u001b[0;34m.\u001b[0m\u001b[0mindex_col\u001b[0m \u001b[0;32mis\u001b[0m \u001b[0;32mnot\u001b[0m \u001b[0;32mFalse\u001b[0m\u001b[0;34m\u001b[0m\u001b[0m\n\u001b[1;32m   1694\u001b[0m \u001b[0;34m\u001b[0m\u001b[0m\n\u001b[0;32m-> 1695\u001b[0;31m         \u001b[0mself\u001b[0m\u001b[0;34m.\u001b[0m\u001b[0m_reader\u001b[0m \u001b[0;34m=\u001b[0m \u001b[0mparsers\u001b[0m\u001b[0;34m.\u001b[0m\u001b[0mTextReader\u001b[0m\u001b[0;34m(\u001b[0m\u001b[0msrc\u001b[0m\u001b[0;34m,\u001b[0m \u001b[0;34m**\u001b[0m\u001b[0mkwds\u001b[0m\u001b[0;34m)\u001b[0m\u001b[0;34m\u001b[0m\u001b[0m\n\u001b[0m\u001b[1;32m   1696\u001b[0m \u001b[0;34m\u001b[0m\u001b[0m\n\u001b[1;32m   1697\u001b[0m         \u001b[0;31m# XXX\u001b[0m\u001b[0;34m\u001b[0m\u001b[0;34m\u001b[0m\u001b[0m\n",
      "\u001b[0;32mpandas/_libs/parsers.pyx\u001b[0m in \u001b[0;36mpandas._libs.parsers.TextReader.__cinit__\u001b[0;34m()\u001b[0m\n",
      "\u001b[0;32mpandas/_libs/parsers.pyx\u001b[0m in \u001b[0;36mpandas._libs.parsers.TextReader._setup_parser_source\u001b[0;34m()\u001b[0m\n",
      "\u001b[0;31mFileNotFoundError\u001b[0m: File b'data/train_70.0.csv' does not exist"
     ],
     "output_type": "error"
    }
   ],
   "source": [
    "train_df = pd.read_csv(\"data/train_70.0.csv\")\n",
    "target_training = train_df.loc[:,\"shares\"]"
   ]
  },
  {
   "cell_type": "markdown",
   "metadata": {},
   "source": [
    "#### Data discovery - relation between no of shares and the day of the week"
   ]
  },
  {
   "cell_type": "code",
   "execution_count": 3,
   "metadata": {},
   "outputs": [
    {
     "name": "stdout",
     "output_type": "stream",
     "text": [
      "(27750, 62)\n",
      "[16965029, 16083831, 16835516, 15912807, 13505688, 7176474, 7130078]\n"
     ]
    }
   ],
   "source": [
    "day_of_week_columns = [\" weekday_is_monday\", \" weekday_is_tuesday\", \" weekday_is_wednesday\",\" weekday_is_thursday\",\" weekday_is_friday\",\" weekday_is_saturday\", \" weekday_is_sunday\"]\n",
    "share_by_weekday = [0]*len(day_of_week_columns)\n",
    "print(train_df.shape)\n",
    "for idx, row in train_df.iterrows():\n",
    "    for day_no, day_of_week_column in enumerate(day_of_week_columns):\n",
    "        if row[day_of_week_column] == 1:\n",
    "            share_by_weekday[day_no] += row[\"shares\"]\n",
    "            \n",
    "print(share_by_weekday)"
   ]
  },
  {
   "cell_type": "code",
   "execution_count": 4,
   "metadata": {},
   "outputs": [
    {
     "data": {
      "text/plain": [
       "Text(0.5,1,'Distribution of shares by day of week')"
      ]
     },
     "execution_count": 4,
     "metadata": {},
     "output_type": "execute_result"
    },
    {
     "data": {
      "image/png": "[encoded data removed]",
      "text/plain": [
       "<matplotlib.figure.Figure at 0x232e42eb748>"
      ]
     },
     "metadata": {},
     "output_type": "display_data"
    }
   ],
   "source": [
    "\n",
    "\n",
    "weekday_names = [day_of_week_column.replace(\" weekday_is_\", \"\") for day_of_week_column in day_of_week_columns]\n",
    "plt.bar(weekday_names, share_by_weekday)\n",
    "plt.title(\"Distribution of shares by day of week\")"
   ]
  },
  {
   "cell_type": "code",
   "execution_count": 5,
   "metadata": {},
   "outputs": [
    {
     "name": "stdout",
     "output_type": "stream",
     "text": [
      "[5592887, 14892053, 12889454, 6144253, 16071719, 13340303]\n"
     ]
    },
    {
     "data": {
      "text/plain": [
       "Text(0.5,1,'Distribution of shares by channel')"
      ]
     },
     "execution_count": 5,
     "metadata": {},
     "output_type": "execute_result"
    },
    {
     "data": {
      "image/png": "[encoded data removed]",
      "text/plain": [
       "<matplotlib.figure.Figure at 0x232e4805cf8>"
      ]
     },
     "metadata": {},
     "output_type": "display_data"
    }
   ],
   "source": [
    "data_channel_columns = [\" data_channel_is_lifestyle\", \" data_channel_is_entertainment\", \" data_channel_is_bus\", \" data_channel_is_socmed\", \" data_channel_is_tech\", \" data_channel_is_world\"]\n",
    "share_by_channel = [0]*len(data_channel_columns)\n",
    "\n",
    "for idx, row in train_df.iterrows():\n",
    "    for day_no, data_channel_column in enumerate(data_channel_columns):\n",
    "        if row[data_channel_column] == 1:\n",
    "            share_by_channel[day_no] += row[\"shares\"]\n",
    "            \n",
    "print(share_by_channel)\n",
    "\n",
    "channel_names = [data_channel_column.replace(\" data_channel_is_\", \"\") for data_channel_column in data_channel_columns]\n",
    "plt.bar(channel_names, share_by_channel)\n",
    "plt.title(\"Distribution of shares by channel\")"
   ]
  },
  {
   "cell_type": "markdown",
   "metadata": {},
   "source": [
    "### Train a NN model using neupy"
   ]
  },
  {
   "cell_type": "markdown",
   "metadata": {},
   "source": [
    "### Approach and code taken from [here](http://neupy.com/apidocs/neupy.algorithms.rbfn.grnn.html) "
   ]
  },
  {
   "cell_type": "code",
   "execution_count": 3,
   "metadata": {},
   "outputs": [
    {
     "name": "stdout",
     "output_type": "stream",
     "text": [
      "Training shapes\n",
      "(27750, 27)\n",
      "(27750,)\n",
      "Testing shapes\n",
      "(11894, 27)\n",
      "(11894,)\n"
     ]
    }
   ],
   "source": [
    "training_df = pd.read_csv(\"data/train_70.0_updated.csv\")\n",
    "training_X = training_df.loc[:, training_df.columns != \" shares\"]\n",
    "training_Y = training_df.loc[:, \" shares\"]\n",
    "\n",
    "test_df = pd.read_csv(\"data/test_30_updated.csv\")\n",
    "testing_X = test_df.loc[:, test_df.columns != \" shares\"]\n",
    "testing_Y = test_df.loc[:, \" shares\"]\n",
    "\n",
    "print(\"Training shapes\")\n",
    "print(training_X.shape)\n",
    "print(training_Y.shape)\n",
    "\n",
    "print(\"Testing shapes\")\n",
    "print(testing_X.shape)\n",
    "print(testing_Y.shape)"
   ]
  },
  {
   "cell_type": "code",
   "execution_count": 4,
   "metadata": {},
   "outputs": [
    {
     "name": "stderr",
     "output_type": "stream",
     "text": [
      "G:\\anaconda\\lib\\site-packages\\pandas\\core\\indexing.py:517: SettingWithCopyWarning: \n",
      "A value is trying to be set on a copy of a slice from a DataFrame.\n",
      "Try using .loc[row_indexer,col_indexer] = value instead\n",
      "\n",
      "See the caveats in the documentation: http://pandas.pydata.org/pandas-docs/stable/indexing.html#indexing-view-versus-copy\n",
      "  self.obj[item] = s\n",
      "G:\\anaconda\\lib\\site-packages\\ipykernel_launcher.py:5: FutureWarning: reshape is deprecated and will raise in a subsequent release. Please use .values.reshape(...) instead\n",
      "  \"\"\"\n",
      "G:\\anaconda\\lib\\site-packages\\sklearn\\utils\\validation.py:475: DataConversionWarning: Data with input dtype int64 was converted to float64 by MinMaxScaler.\n",
      "  warnings.warn(msg, DataConversionWarning)\n",
      "G:\\anaconda\\lib\\site-packages\\ipykernel_launcher.py:8: FutureWarning: reshape is deprecated and will raise in a subsequent release. Please use .values.reshape(...) instead\n",
      "  \n"
     ]
    }
   ],
   "source": [
    "data_scaler = preprocessing.MinMaxScaler()\n",
    "\n",
    "columns_to_scale = [\" n_tokens_title\", \" n_tokens_content\", \" num_hrefs\", \" num_self_hrefs\", \" num_imgs\", \" num_videos\", \" average_token_length\", \" num_keywords\", \" kw_avg_min\",\" kw_avg_max\", \" kw_avg_avg\",\" self_reference_avg_sharess\"]\n",
    "training_X.loc[:, columns_to_scale] = data_scaler.fit_transform(training_X.loc[:, columns_to_scale])\n",
    "training_Y = data_scaler.fit_transform(training_Y.reshape(-1, 1))\n",
    "\n",
    "testing_X.loc[:, columns_to_scale] = data_scaler.fit_transform(testing_X.loc[:, columns_to_scale])\n",
    "testing_Y = data_scaler.fit_transform(testing_Y.reshape(-1, 1))"
   ]
  },
  {
   "cell_type": "code",
   "execution_count": 5,
   "metadata": {},
   "outputs": [
    {
     "name": "stdout",
     "output_type": "stream",
     "text": [
      "(27750, 27)\n",
      "(11894, 27)\n"
     ]
    }
   ],
   "source": [
    "print(training_X.shape)\n",
    "print(testing_X.shape)"
   ]
  },
  {
   "cell_type": "markdown",
   "metadata": {},
   "source": [
    "### GRNN"
   ]
  },
  {
   "cell_type": "markdown",
   "metadata": {},
   "source": [
    "### NeuPy imports"
   ]
  },
  {
   "cell_type": "code",
   "execution_count": 6,
   "metadata": {
    "collapsed": true
   },
   "outputs": [],
   "source": [
    "from neupy import algorithms, layers, estimators\n",
    "\n",
    "environment.reproducible()"
   ]
  },
  {
   "cell_type": "code",
   "execution_count": 11,
   "metadata": {},
   "outputs": [
    {
     "name": "stdout",
     "output_type": "stream",
     "text": [
      "0.01553372665011385\n"
     ]
    }
   ],
   "source": [
    "nw = algorithms.GRNN(std=0.3, verbose=False)\n",
    "nw.train(training_X, training_Y)\n",
    "y_predicted = nw.predict(testing_X)\n",
    "print(estimators.rmse(y_predicted, testing_Y))"
   ]
  },
  {
   "cell_type": "markdown",
   "metadata": {},
   "source": [
    "#### Get the RMSE for different values of STD"
   ]
  },
  {
   "cell_type": "code",
   "execution_count": 8,
   "metadata": {},
   "outputs": [
    {
     "name": "stdout",
     "output_type": "stream",
     "text": [
      "\n",
      "Main information\n",
      "\n",
      "[ALGORITHM] GRNN\n",
      "\n",
      "[OPTION] verbose = True\n",
      "[OPTION] epoch_end_signal = None\n",
      "[OPTION] show_epoch = 1\n",
      "[OPTION] shuffle_data = False\n",
      "[OPTION] step = 0.1\n",
      "[OPTION] train_end_signal = None\n",
      "[OPTION] std = 0.06\n",
      "\n",
      "\n",
      "Main information\n",
      "\n",
      "[ALGORITHM] GRNN\n",
      "\n",
      "[OPTION] verbose = True\n",
      "[OPTION] epoch_end_signal = None\n",
      "[OPTION] show_epoch = 1\n",
      "[OPTION] shuffle_data = False\n",
      "[OPTION] step = 0.1\n",
      "[OPTION] train_end_signal = None\n",
      "[OPTION] std = 0.08\n",
      "\n",
      "\n",
      "Main information\n",
      "\n",
      "[ALGORITHM] GRNN\n",
      "\n",
      "[OPTION] verbose = True\n",
      "[OPTION] epoch_end_signal = None\n",
      "[OPTION] show_epoch = 1\n",
      "[OPTION] shuffle_data = False\n",
      "[OPTION] step = 0.1\n",
      "[OPTION] train_end_signal = None\n",
      "[OPTION] std = 0.1\n",
      "\n",
      "\n",
      "Main information\n",
      "\n",
      "[ALGORITHM] GRNN\n",
      "\n",
      "[OPTION] verbose = True\n",
      "[OPTION] epoch_end_signal = None\n",
      "[OPTION] show_epoch = 1\n",
      "[OPTION] shuffle_data = False\n",
      "[OPTION] step = 0.1\n",
      "[OPTION] train_end_signal = None\n",
      "[OPTION] std = 0.12\n",
      "\n",
      "\n",
      "Main information\n",
      "\n",
      "[ALGORITHM] GRNN\n",
      "\n",
      "[OPTION] verbose = True\n",
      "[OPTION] epoch_end_signal = None\n",
      "[OPTION] show_epoch = 1\n",
      "[OPTION] shuffle_data = False\n",
      "[OPTION] step = 0.1\n",
      "[OPTION] train_end_signal = None\n",
      "[OPTION] std = 0.14\n",
      "\n"
     ]
    }
   ],
   "source": [
    "std_values = [0.06 + 0.02 * x for x in range(5)]\n",
    "rmse_training = []\n",
    "rmse_testing = []\n",
    "for std_value in std_values:\n",
    "    nw = algorithms.GRNN(std=std_value, verbose=True)\n",
    "    nw.train(training_X, training_Y)\n",
    "    testing_Y_predicted = nw.predict(testing_X)\n",
    "    rmse_testing.append(estimators.rmse(testing_Y_predicted, testing_Y))\n"
   ]
  },
  {
   "cell_type": "markdown",
   "metadata": {},
   "source": [
    "#### Generate the validation curves"
   ]
  },
  {
   "cell_type": "code",
   "execution_count": 10,
   "metadata": {
    "scrolled": true
   },
   "outputs": [
    {
     "data": {
      "image/png": "[encoded data removed]",
      "text/plain": [
       "<matplotlib.figure.Figure at 0x1f505a73128>"
      ]
     },
     "metadata": {},
     "output_type": "display_data"
    }
   ],
   "source": [
    "generate_rmse_curves_testing_training_data(std_values, rmse_testing, rmse_training, \"RMSE with standard deviation\", \"Standard deviation\")"
   ]
  },
  {
   "cell_type": "markdown",
   "metadata": {},
   "source": [
    "### Invert the target values using [this](https://stackoverflow.com/questions/41551165/invert-minmaxscaler-from-scikit-learn)"
   ]
  },
  {
   "cell_type": "code",
   "execution_count": 12,
   "metadata": {
    "collapsed": true
   },
   "outputs": [],
   "source": [
    "y_predicted_upscaled = data_scaler.inverse_transform(y_predicted)\n",
    "testing_Y_upscaled = data_scaler.inverse_transform(testing_Y)"
   ]
  },
  {
   "cell_type": "markdown",
   "metadata": {},
   "source": [
    "### Check the predicted values"
   ]
  },
  {
   "cell_type": "code",
   "execution_count": 12,
   "metadata": {},
   "outputs": [
    {
     "name": "stdout",
     "output_type": "stream",
     "text": [
      "#0. Diff=[1290.89548681]\n",
      "#1. Diff=[944.15984776]\n",
      "#2. Diff=[16071.0015258]\n",
      "#3. Diff=[514.39948712]\n",
      "#4. Diff=[15838.6004488]\n",
      "#5. Diff=[1154.60599213]\n",
      "#6. Diff=[3647.21293788]\n",
      "#7. Diff=[295.10553786]\n",
      "#8. Diff=[383.55702558]\n",
      "#9. Diff=[2279.62215478]\n",
      "#10. Diff=[3493.67788242]\n",
      "#11. Diff=[3999.95134365]\n",
      "#12. Diff=[16309.93409339]\n",
      "#13. Diff=[4580.0040625]\n",
      "#14. Diff=[1371.68037944]\n",
      "#15. Diff=[1740.82161519]\n",
      "#16. Diff=[4229.96199357]\n",
      "#17. Diff=[560.27674053]\n",
      "#18. Diff=[1978.80975366]\n",
      "#19. Diff=[838.72333133]\n",
      "#20. Diff=[133309.33855459]\n",
      "#21. Diff=[2008.25303324]\n",
      "#22. Diff=[2688.78363661]\n",
      "#23. Diff=[1516.74625832]\n",
      "#24. Diff=[3699.99755283]\n",
      "#25. Diff=[2187.78783993]\n",
      "#26. Diff=[1379.57390628]\n",
      "#27. Diff=[230.60273462]\n",
      "#28. Diff=[1214.53274272]\n",
      "#29. Diff=[817.56162325]\n",
      "#30. Diff=[2238.60482879]\n",
      "#31. Diff=[1835.76871171]\n",
      "#32. Diff=[349.61808355]\n",
      "#33. Diff=[1641.44742993]\n",
      "#34. Diff=[101.90641847]\n",
      "#35. Diff=[73.87574518]\n",
      "#36. Diff=[1751.02214333]\n",
      "#37. Diff=[403.23643598]\n",
      "#38. Diff=[3454.66326129]\n",
      "#39. Diff=[3042.61492063]\n",
      "#40. Diff=[2585.46411676]\n",
      "#41. Diff=[10340.85508343]\n",
      "#42. Diff=[61.22114423]\n",
      "#43. Diff=[2297.9449735]\n",
      "#44. Diff=[446.19284608]\n",
      "#45. Diff=[201.76247094]\n",
      "#46. Diff=[2708.20310472]\n",
      "#47. Diff=[9736.15000358]\n",
      "#48. Diff=[1245.43234562]\n",
      "#49. Diff=[516.02905491]\n",
      "#50. Diff=[1015.23075179]\n",
      "#51. Diff=[33764.34332508]\n",
      "#52. Diff=[11451.84929369]\n",
      "#53. Diff=[1201.74757234]\n",
      "#54. Diff=[317.21488329]\n",
      "#55. Diff=[1875.86989411]\n",
      "#56. Diff=[7241.91397904]\n",
      "#57. Diff=[1045.79297916]\n",
      "#58. Diff=[679.966206]\n",
      "#59. Diff=[9811.39466512]\n",
      "#60. Diff=[1358.32153647]\n",
      "#61. Diff=[1220.74910807]\n",
      "#62. Diff=[616.63376414]\n",
      "#63. Diff=[5146.81698055]\n",
      "#64. Diff=[1114.13359638]\n",
      "#65. Diff=[3651.80715475]\n",
      "#66. Diff=[10588.20771159]\n",
      "#67. Diff=[20648.30275958]\n",
      "#68. Diff=[1821.12337982]\n",
      "#69. Diff=[1287.12725026]\n",
      "#70. Diff=[2788.43637455]\n",
      "#71. Diff=[1381.36847112]\n",
      "#72. Diff=[3189.12366216]\n",
      "#73. Diff=[3161.31002864]\n",
      "#74. Diff=[1014.66863903]\n",
      "#75. Diff=[391.63188171]\n",
      "#76. Diff=[1510.67667129]\n",
      "#77. Diff=[770.93707639]\n",
      "#78. Diff=[426.83836288]\n",
      "#79. Diff=[3170.7167028]\n",
      "#80. Diff=[3396.0533101]\n",
      "#81. Diff=[312.47671699]\n",
      "#82. Diff=[1035.85462695]\n",
      "#83. Diff=[3303.8888227]\n",
      "#84. Diff=[613.62442984]\n",
      "#85. Diff=[692.28484051]\n",
      "#86. Diff=[1982.55292106]\n",
      "#87. Diff=[1226.71623373]\n",
      "#88. Diff=[529.81274713]\n",
      "#89. Diff=[321.50051657]\n",
      "#90. Diff=[1932.51235716]\n",
      "#91. Diff=[774.08266384]\n",
      "#92. Diff=[6697.28808957]\n",
      "#93. Diff=[2841.29235079]\n",
      "#94. Diff=[438.01721224]\n",
      "#95. Diff=[1177.12060042]\n",
      "#96. Diff=[131.13275636]\n",
      "#97. Diff=[227.53869481]\n",
      "#98. Diff=[8420.75516146]\n",
      "#99. Diff=[495.30161529]\n"
     ]
    }
   ],
   "source": [
    "slice = 100\n",
    "for itr in range(slice):\n",
    "    print(\"#{0}. Diff={1}\".format(itr, abs(y_predicted_upscaled[itr] - testing_Y_upscaled[itr])))"
   ]
  },
  {
   "cell_type": "markdown",
   "metadata": {},
   "source": [
    "### MLFF BP with conjugate gradient"
   ]
  },
  {
   "cell_type": "code",
   "execution_count": 13,
   "metadata": {},
   "outputs": [
    {
     "name": "stdout",
     "output_type": "stream",
     "text": [
      "\n",
      "Main information\n",
      "\n",
      "[ALGORITHM] ConjugateGradient\n",
      "\n",
      "[OPTION] verbose = True\n",
      "[OPTION] epoch_end_signal = None\n",
      "[OPTION] show_epoch = 1\n",
      "[OPTION] shuffle_data = False\n",
      "[OPTION] step = 0.1\n",
      "[OPTION] train_end_signal = None\n",
      "[OPTION] error = mse\n",
      "[OPTION] addons = ['LinearSearch']\n",
      "[OPTION] update_function = fletcher_reeves\n",
      "[OPTION] maxiter = 10\n",
      "[OPTION] search_method = golden\n",
      "[OPTION] tol = 0.1\n",
      "\n",
      "[THEANO] Initializing Theano variables and functions.\n",
      "[THEANO] Initialization finished successfully. It took 0.49 seconds\n"
     ]
    }
   ],
   "source": [
    "environment.reproducible()\n",
    "from neupy import algorithms, layers\n",
    "\n",
    "cgnet = algorithms.ConjugateGradient(\n",
    "    connection=[\n",
    "        layers.Input(training_X.shape[1]),\n",
    "        layers.Sigmoid(50),\n",
    "        layers.Sigmoid(1),\n",
    "    ],\n",
    "    search_method='golden',\n",
    "    show_epoch=1,\n",
    "    verbose=True,\n",
    "    addons=[algorithms.LinearSearch],\n",
    ")"
   ]
  },
  {
   "cell_type": "markdown",
   "metadata": {},
   "source": [
    "#### Note: table below shows MSE - need to take sqrt to get the RMSE"
   ]
  },
  {
   "cell_type": "code",
   "execution_count": 14,
   "metadata": {},
   "outputs": [
    {
     "name": "stdout",
     "output_type": "stream",
     "text": [
      "\n",
      "Start training\n",
      "\n",
      "[TRAINING DATA] shapes: (27750, 27)\n",
      "[TEST DATA] shapes: (11894, 27)\n",
      "[TRAINING] Total epochs: 5\n",
      "\n",
      "---------------------------------------------------------\n",
      "|    Epoch    |  Train err  |  Valid err  |    Time     |\n",
      "---------------------------------------------------------\n",
      "|           1 |  0.00025035 |  0.00024234 |       05:44 |\n",
      "|           2 |  0.00025015 |  0.00024287 |       07:35 |\n",
      "|           3 |  0.00024959 |  0.00024329 |       07:54 |\n",
      "|           4 |  0.00024895 |  0.00024192 |       06:54 |\n",
      "|           5 |  0.00024893 |  0.00024173 |       07:12 |\n",
      "---------------------------------------------------------\n",
      "\n"
     ]
    },
    {
     "data": {
      "image/png": "[encoded data removed]",
      "text/plain": [
       "<matplotlib.figure.Figure at 0x29044e79b70>"
      ]
     },
     "metadata": {},
     "output_type": "display_data"
    },
    {
     "data": {
      "text/plain": [
       "<matplotlib.axes._subplots.AxesSubplot at 0x29045e71908>"
      ]
     },
     "execution_count": 14,
     "metadata": {},
     "output_type": "execute_result"
    }
   ],
   "source": [
    "cgnet.train(training_X, training_Y, testing_X, testing_Y, epochs=5)\n",
    "from neupy import plots\n",
    "plots.error_plot(cgnet)"
   ]
  },
  {
   "cell_type": "code",
   "execution_count": 22,
   "metadata": {},
   "outputs": [
    {
     "name": "stdout",
     "output_type": "stream",
     "text": [
      "1.2182599245073296\n"
     ]
    }
   ],
   "source": [
    "from neupy.estimators import rmsle\n",
    "\n",
    "y_predict = cgnet.predict(testing_X).round(3)\n",
    "\n",
    "# Root mean square logarithmic error\n",
    "error = rmsle(data_scaler.inverse_transform(testing_Y), data_scaler.inverse_transform(y_predict))\n",
    "print(error)"
   ]
  },
  {
   "cell_type": "code",
   "execution_count": 38,
   "metadata": {
    "collapsed": true
   },
   "outputs": [],
   "source": [
    "def print_abs_difference_of_predictions(data_scaler, actual_values, predicted_values, slice = 100):\n",
    "    print(actual_values.shape)\n",
    "    print(predicted_values.shape)\n",
    "    actual_values_upscaled = data_scaler.inverse_transform(actual_values)\n",
    "    predicted_values_upscaled = data_scaler.inverse_transform(predicted_values)\n",
    "\n",
    "    for itr in range(slice):\n",
    "        print(\"#{0}. Diff={1}\".format(itr, abs(predicted_values_upscaled[itr] - actual_values_upscaled[itr])))"
   ]
  },
  {
   "cell_type": "markdown",
   "metadata": {},
   "source": [
    "### SOM using [Neupy](http://neupy.com/apidocs/neupy.algorithms.competitive.sofm.html)"
   ]
  },
  {
   "cell_type": "code",
   "execution_count": 41,
   "metadata": {
    "collapsed": true
   },
   "outputs": [],
   "source": [
    "num_epochs = 100\n",
    "num_clusters = 4\n",
    "num_features = training_X.shape[1]"
   ]
  },
  {
   "cell_type": "code",
   "execution_count": 42,
   "metadata": {},
   "outputs": [
    {
     "name": "stdout",
     "output_type": "stream",
     "text": [
      "\n",
      "Main information\n",
      "\n",
      "[ALGORITHM] SOFM\n",
      "\n",
      "[OPTION] verbose = True\n",
      "[OPTION] epoch_end_signal = None\n",
      "[OPTION] show_epoch = 1\n",
      "[OPTION] shuffle_data = False\n",
      "[OPTION] step = 0.1\n",
      "[OPTION] train_end_signal = None\n",
      "[OPTION] n_inputs = 27\n",
      "[OPTION] distance = euclid\n",
      "[OPTION] features_grid = None\n",
      "[OPTION] grid_type = rect\n",
      "[OPTION] learning_radius = 0\n",
      "[OPTION] n_outputs = 30\n",
      "[OPTION] reduce_radius_after = 100\n",
      "[OPTION] reduce_std_after = 100\n",
      "[OPTION] reduce_step_after = 100\n",
      "[OPTION] std = 1\n",
      "[OPTION] weight = Normal(mean=0, std=0.01)\n",
      "\n",
      "\n",
      "Start training\n",
      "\n",
      "[TRAINING DATA] shapes: (27750, 27)\n",
      "[TRAINING] Total epochs: 100\n",
      "\n",
      "---------------------------------------------------------\n",
      "|    Epoch    |  Train err  |  Valid err  |    Time     |\n",
      "---------------------------------------------------------\n",
      "|           1 |    0.084656 |           - |       6 sec |\n",
      "|           2 |    0.084348 |           - |       6 sec |\n",
      "|           3 |    0.084173 |           - |       6 sec |\n",
      "|           4 |    0.084016 |           - |       6 sec |\n",
      "|           5 |    0.083874 |           - |       6 sec |\n",
      "|           6 |    0.083745 |           - |       6 sec |\n",
      "|           7 |    0.083629 |           - |       7 sec |\n",
      "|           8 |    0.083524 |           - |       7 sec |\n",
      "|           9 |    0.083428 |           - |       6 sec |\n",
      "|          10 |     0.08334 |           - |       6 sec |\n",
      "|          11 |    0.083261 |           - |       6 sec |\n",
      "|          12 |    0.083188 |           - |       6 sec |\n",
      "|          13 |    0.083121 |           - |       6 sec |\n",
      "|          14 |     0.08306 |           - |       6 sec |\n",
      "|          15 |    0.083004 |           - |       6 sec |\n",
      "|          16 |    0.082952 |           - |       6 sec |\n",
      "|          17 |    0.082904 |           - |       6 sec |\n",
      "|          18 |     0.08286 |           - |       6 sec |\n",
      "|          19 |    0.082819 |           - |       6 sec |\n",
      "|          20 |    0.082781 |           - |       6 sec |\n",
      "|          21 |    0.082746 |           - |       6 sec |\n",
      "|          22 |    0.082713 |           - |       6 sec |\n",
      "|          23 |    0.082682 |           - |       6 sec |\n",
      "|          24 |    0.082653 |           - |       6 sec |\n",
      "|          25 |    0.082626 |           - |       6 sec |\n",
      "|          26 |    0.082601 |           - |       6 sec |\n",
      "|          27 |    0.082577 |           - |       6 sec |\n",
      "|          28 |    0.082555 |           - |       6 sec |\n",
      "|          29 |    0.082534 |           - |       7 sec |\n",
      "|          30 |    0.082514 |           - |       6 sec |\n",
      "|          31 |    0.082495 |           - |       6 sec |\n",
      "|          32 |    0.082477 |           - |       7 sec |\n",
      "|          33 |    0.082459 |           - |       6 sec |\n",
      "|          34 |    0.082443 |           - |       7 sec |\n",
      "|          35 |    0.082428 |           - |       9 sec |\n",
      "|          36 |    0.082413 |           - |       8 sec |\n",
      "|          37 |    0.082398 |           - |       6 sec |\n",
      "|          38 |    0.082385 |           - |       6 sec |\n",
      "|          39 |    0.082372 |           - |       7 sec |\n",
      "|          40 |    0.082359 |           - |       6 sec |\n",
      "|          41 |    0.082347 |           - |       6 sec |\n",
      "|          42 |    0.082335 |           - |       6 sec |\n",
      "|          43 |    0.082324 |           - |       6 sec |\n",
      "|          44 |    0.082313 |           - |       6 sec |\n",
      "|          45 |    0.082303 |           - |       6 sec |\n",
      "|          46 |    0.082292 |           - |       6 sec |\n",
      "|          47 |    0.082282 |           - |       6 sec |\n",
      "|          48 |    0.082273 |           - |       6 sec |\n",
      "|          49 |    0.082264 |           - |       6 sec |\n",
      "|          50 |    0.082255 |           - |       6 sec |\n",
      "|          51 |    0.082246 |           - |       6 sec |\n",
      "|          52 |    0.082237 |           - |       6 sec |\n",
      "|          53 |    0.082229 |           - |       6 sec |\n",
      "|          54 |    0.082221 |           - |       6 sec |\n",
      "|          55 |    0.082213 |           - |       6 sec |\n",
      "|          56 |    0.082205 |           - |       6 sec |\n",
      "|          57 |    0.082197 |           - |       6 sec |\n",
      "|          58 |     0.08219 |           - |       6 sec |\n",
      "|          59 |    0.082183 |           - |       6 sec |\n",
      "|          60 |    0.082176 |           - |       6 sec |\n",
      "|          61 |    0.082169 |           - |       6 sec |\n",
      "|          62 |    0.082162 |           - |       6 sec |\n",
      "|          63 |    0.082155 |           - |       6 sec |\n",
      "|          64 |    0.082149 |           - |       6 sec |\n",
      "|          65 |    0.082142 |           - |       6 sec |\n",
      "|          66 |    0.082136 |           - |       6 sec |\n",
      "|          67 |     0.08213 |           - |       6 sec |\n",
      "|          68 |    0.082124 |           - |       6 sec |\n",
      "|          69 |    0.082118 |           - |       6 sec |\n",
      "|          70 |    0.082112 |           - |       7 sec |\n",
      "|          71 |    0.082106 |           - |       6 sec |\n",
      "|          72 |      0.0821 |           - |       6 sec |\n",
      "|          73 |    0.082095 |           - |       6 sec |\n",
      "|          74 |    0.082089 |           - |       6 sec |\n",
      "|          75 |    0.082084 |           - |       6 sec |\n",
      "|          76 |    0.082078 |           - |       6 sec |\n",
      "|          77 |    0.082073 |           - |       6 sec |\n",
      "|          78 |    0.082068 |           - |       6 sec |\n",
      "|          79 |    0.082063 |           - |       6 sec |\n",
      "|          80 |    0.082058 |           - |       6 sec |\n",
      "|          81 |    0.082053 |           - |       6 sec |\n",
      "|          82 |    0.082048 |           - |       6 sec |\n",
      "|          83 |    0.082043 |           - |       6 sec |\n",
      "|          84 |    0.082038 |           - |       6 sec |\n",
      "|          85 |    0.082034 |           - |       7 sec |\n",
      "|          86 |    0.082029 |           - |       6 sec |\n",
      "|          87 |    0.082024 |           - |       6 sec |\n",
      "|          88 |     0.08202 |           - |       6 sec |\n",
      "|          89 |    0.082015 |           - |       6 sec |\n",
      "|          90 |    0.082011 |           - |       6 sec |\n",
      "|          91 |    0.082006 |           - |       6 sec |\n",
      "|          92 |    0.082002 |           - |       6 sec |\n",
      "|          93 |    0.081998 |           - |       6 sec |\n",
      "|          94 |    0.081994 |           - |       6 sec |\n",
      "|          95 |    0.081989 |           - |       6 sec |\n",
      "|          96 |    0.081985 |           - |       6 sec |\n",
      "|          97 |    0.081981 |           - |       6 sec |\n",
      "|          98 |    0.081977 |           - |       6 sec |\n",
      "|          99 |    0.081973 |           - |       6 sec |\n",
      "|         100 |    0.081969 |           - |       6 sec |\n",
      "---------------------------------------------------------\n",
      "\n",
      "(27, 30)\n"
     ]
    }
   ],
   "source": [
    "# n_inputs is the number of features\n",
    "\n",
    "sofm = algorithms.SOFM(n_inputs=num_features, n_outputs=num_clusters, step=0.1, learning_radius=0, verbose=True, grid_type='rect')\n",
    "sofm.train(training_X, epochs=num_epochs)\n",
    "print(sofm.weight.shape)"
   ]
  },
  {
   "cell_type": "markdown",
   "metadata": {},
   "source": [
    "#### Get the predictions for the training set and then get the average of the number of shares for the clusters"
   ]
  },
  {
   "cell_type": "code",
   "execution_count": 43,
   "metadata": {},
   "outputs": [
    {
     "name": "stdout",
     "output_type": "stream",
     "text": [
      "[0.         0.00427217 0.         0.         0.         0.00481474\n",
      " 0.         0.         0.         0.         0.         0.\n",
      " 0.         0.         0.         0.         0.         0.\n",
      " 0.         0.00712548 0.         0.         0.         0.\n",
      " 0.         0.         0.         0.         0.         0.        ]\n"
     ]
    }
   ],
   "source": [
    "trainingX_predictions = sofm.predict(training_X)\n",
    "cluster_sums = np.zeros(num_clusters)\n",
    "cluster_counts = np.zeros(num_clusters)\n",
    "for idx, prediction in enumerate(trainingX_predictions):\n",
    "    predicted_label = np.argmax(prediction)\n",
    "    cluster_sums[predicted_label] += training_Y[idx]\n",
    "    cluster_counts[predicted_label] += 1\n",
    "\n",
    "#print(cluster_counts)\n",
    "cluster_averages = cluster_sums/(1+cluster_counts)\n",
    "print(cluster_averages)"
   ]
  },
  {
   "cell_type": "markdown",
   "metadata": {},
   "source": [
    "#### Get the predictions for the test data"
   ]
  },
  {
   "cell_type": "code",
   "execution_count": 44,
   "metadata": {},
   "outputs": [
    {
     "name": "stdout",
     "output_type": "stream",
     "text": [
      "RMSE: 0.015585620463338872\n"
     ]
    }
   ],
   "source": [
    "testing_X_predictions = sofm.predict(testing_X)\n",
    "square_error = 0\n",
    "predicted_values = []\n",
    "\n",
    "for idx, prediction in enumerate(testing_X_predictions):\n",
    "    predicted_label = np.argmax(prediction)\n",
    "    predicted_shares = cluster_averages[predicted_label]\n",
    "    predicted_values.append(predicted_shares)\n",
    "    actual_shares = testing_Y[idx]\n",
    "    square_error += (predicted_shares-actual_shares)**2\n",
    "\n",
    "rmse = math.sqrt(square_error/len(testing_X))\n",
    "print(\"RMSE: \" + str(rmse))"
   ]
  },
  {
   "cell_type": "code",
   "execution_count": 45,
   "metadata": {},
   "outputs": [
    {
     "name": "stdout",
     "output_type": "stream",
     "text": [
      "(11894, 1)\n",
      "(11894, 1)\n",
      "#0. Diff=[1168.23154819]\n",
      "#1. Diff=[2768.23154819]\n",
      "#2. Diff=[13631.76845181]\n",
      "#3. Diff=[2568.23154819]\n",
      "#4. Diff=[2668.23154819]\n",
      "#5. Diff=[1168.23154819]\n",
      "#6. Diff=[3267.23154819]\n",
      "#7. Diff=[1068.23154819]\n",
      "#8. Diff=[3068.23154819]\n",
      "#9. Diff=[3701.23154819]\n",
      "#10. Diff=[631.76845181]\n",
      "#11. Diff=[2368.23154819]\n",
      "#12. Diff=[13731.76845181]\n",
      "#13. Diff=[13731.76845181]\n",
      "#14. Diff=[3184.23154819]\n",
      "#15. Diff=[2568.23154819]\n",
      "#16. Diff=[3331.76845181]\n",
      "#17. Diff=[2868.23154819]\n",
      "#18. Diff=[3455.23154819]\n",
      "#19. Diff=[3304.23154819]\n",
      "#20. Diff=[3086.23154819]\n",
      "#21. Diff=[68.23154819]\n",
      "#22. Diff=[2168.23154819]\n",
      "#23. Diff=[468.23154819]\n",
      "#24. Diff=[4916.85674041]\n",
      "#25. Diff=[3888.23154819]\n",
      "#26. Diff=[3543.23154819]\n",
      "#27. Diff=[2868.23154819]\n",
      "#28. Diff=[668.23154819]\n",
      "#29. Diff=[3356.23154819]\n"
     ]
    }
   ],
   "source": [
    "print_abs_difference_of_predictions(data_scaler, testing_Y, np.array(predicted_values).reshape(-1, 1), 30)"
   ]
  },
  {
   "cell_type": "code",
   "execution_count": 9,
   "metadata": {
    "collapsed": true
   },
   "outputs": [],
   "source": [
    "def generate_rmse_curves_testing_training_data(hyperparameter_values, validation_rmse, training_rmse, title_text, x_label_text):\n",
    "    plt.figure()\n",
    "    plt.xlabel(x_label_text)\n",
    "    plt.ylabel(\"RMSE\")\n",
    "    plt.plot(hyperparameter_values, validation_rmse)\n",
    "    plt.legend(['Test data'])\n",
    "    "
   ]
  },
  {
   "cell_type": "code",
   "execution_count": null,
   "metadata": {
    "collapsed": true
   },
   "outputs": [],
   "source": []
  }
 ],
 "metadata": {
  "kernelspec": {
   "display_name": "Python 3",
   "language": "python",
   "name": "python3"
  },
  "language_info": {
   "codemirror_mode": {
    "name": "ipython",
    "version": 3
   },
   "file_extension": ".py",
   "mimetype": "text/x-python",
   "name": "python",
   "nbconvert_exporter": "python",
   "pygments_lexer": "ipython3",
   "version": "3.5.4"
  }
 },
 "nbformat": 4,
 "nbformat_minor": 2
}

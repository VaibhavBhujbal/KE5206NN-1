{
 "cells": [
  {
   "cell_type": "code",
   "execution_count": 21,
   "metadata": {
    "collapsed": true
   },
   "outputs": [],
   "source": [
    "import pandas as pd\n",
    "from sklearn import preprocessing\n",
    "from neupy import environment\n",
    "from sklearn.model_selection import train_test_split\n",
    "from neupy import environment"
   ]
  },
  {
   "cell_type": "markdown",
   "metadata": {},
   "source": [
    "#### Select the top 10K training records"
   ]
  },
  {
   "cell_type": "code",
   "execution_count": 16,
   "metadata": {},
   "outputs": [],
   "source": [
    "train_df = pd.read_csv(\"data/training_fields_removed_updated.csv\")\n",
    "train_df = train_df.head(10000)\n",
    "target_training = train_df.loc[:,\"shares\"]"
   ]
  },
  {
   "cell_type": "code",
   "execution_count": 18,
   "metadata": {},
   "outputs": [
    {
     "name": "stderr",
     "output_type": "stream",
     "text": [
      "G:\\anaconda\\lib\\site-packages\\ipykernel_launcher.py:3: FutureWarning: reshape is deprecated and will raise in a subsequent release. Please use .values.reshape(...) instead\n",
      "  This is separate from the ipykernel package so we can avoid doing imports until\n",
      "G:\\anaconda\\lib\\site-packages\\sklearn\\utils\\validation.py:475: DataConversionWarning: Data with input dtype int64 was converted to float64 by MinMaxScaler.\n",
      "  warnings.warn(msg, DataConversionWarning)\n"
     ]
    }
   ],
   "source": [
    "data_scaler = preprocessing.MinMaxScaler()\n",
    "train_data_tranformed = data_scaler.fit_transform(train_df)\n",
    "target_training_transformed = data_scaler.fit_transform(target_training.reshape(-1, 1))"
   ]
  },
  {
   "cell_type": "code",
   "execution_count": 19,
   "metadata": {},
   "outputs": [
    {
     "data": {
      "text/plain": [
       "array([[1.58565194e-01, 8.40940526e-01, 3.88888889e-01, ...,\n",
       "        8.00000000e-01, 8.00000000e-01, 5.72034792e-03],\n",
       "       [9.15293999e-01, 7.60719225e-02, 5.55555556e-01, ...,\n",
       "        8.00000000e-01, 2.00000000e-01, 2.25438369e-03],\n",
       "       [3.04795298e-01, 6.80497925e-01, 6.66666667e-01, ...,\n",
       "        4.54545454e-01, 3.18181818e-01, 1.46173274e-03],\n",
       "       ...,\n",
       "       [5.32502586e-01, 4.24619640e-01, 3.33333333e-01, ...,\n",
       "        1.00000000e+00, 1.00000000e+00, 2.70646598e-03],\n",
       "       [5.71223167e-01, 3.80359613e-01, 5.55555556e-01, ...,\n",
       "        1.00000000e+00, 0.00000000e+00, 6.02776388e-04],\n",
       "       [2.99422344e-01, 6.87413555e-01, 3.88888889e-01, ...,\n",
       "        2.00000000e-01, 4.00000000e-01, 1.65160730e-03]])"
      ]
     },
     "execution_count": 19,
     "metadata": {},
     "output_type": "execute_result"
    }
   ],
   "source": [
    "train_data_tranformed"
   ]
  },
  {
   "cell_type": "code",
   "execution_count": 22,
   "metadata": {},
   "outputs": [
    {
     "name": "stderr",
     "output_type": "stream",
     "text": [
      "G:\\anaconda\\lib\\site-packages\\sklearn\\model_selection\\_split.py:2026: FutureWarning: From version 0.21, test_size will always complement train_size unless both are specified.\n",
      "  FutureWarning)\n"
     ]
    }
   ],
   "source": [
    "x_train, x_test, y_train, y_test = train_test_split(\n",
    "    train_data_tranformed, target_training, train_size=0.85\n",
    ")"
   ]
  },
  {
   "cell_type": "code",
   "execution_count": 23,
   "metadata": {},
   "outputs": [
    {
     "name": "stdout",
     "output_type": "stream",
     "text": [
      "(8500, 29)\n",
      "(8500,)\n"
     ]
    }
   ],
   "source": [
    "print(x_train.shape)\n",
    "print(y_train.shape)"
   ]
  },
  {
   "cell_type": "code",
   "execution_count": 24,
   "metadata": {},
   "outputs": [
    {
     "name": "stdout",
     "output_type": "stream",
     "text": [
      "\n",
      "Main information\n",
      "\n",
      "[ALGORITHM] ConjugateGradient\n",
      "\n",
      "[OPTION] verbose = True\n",
      "[OPTION] epoch_end_signal = None\n",
      "[OPTION] show_epoch = 25\n",
      "[OPTION] shuffle_data = False\n",
      "[OPTION] step = 0.1\n",
      "[OPTION] train_end_signal = None\n",
      "[OPTION] error = mse\n",
      "[OPTION] addons = ['LinearSearch']\n",
      "[OPTION] update_function = fletcher_reeves\n",
      "[OPTION] maxiter = 10\n",
      "[OPTION] search_method = golden\n",
      "[OPTION] tol = 0.1\n",
      "\n",
      "[THEANO] Initializing Theano variables and functions.\n",
      "[THEANO] Initialization finished successfully. It took 0.75 seconds\n"
     ]
    }
   ],
   "source": [
    "environment.reproducible()\n",
    "from neupy import algorithms, layers\n",
    "\n",
    "cgnet = algorithms.ConjugateGradient(\n",
    "    connection=[\n",
    "        layers.Input(29),\n",
    "        layers.Sigmoid(50),\n",
    "        layers.Sigmoid(1),\n",
    "    ],\n",
    "    search_method='golden',\n",
    "    show_epoch=25,\n",
    "    verbose=True,\n",
    "    addons=[algorithms.LinearSearch],\n",
    ")"
   ]
  },
  {
   "cell_type": "code",
   "execution_count": null,
   "metadata": {},
   "outputs": [
    {
     "name": "stdout",
     "output_type": "stream",
     "text": [
      "\n",
      "Start training\n",
      "\n",
      "[TRAINING DATA] shapes: (8500, 29)\n",
      "[TEST DATA] shapes: (1500, 29)\n",
      "[TRAINING] Total epochs: 50\n",
      "\n",
      "---------------------------------------------------------\n",
      "|    Epoch    |  Train err  |  Valid err  |    Time     |\n",
      "---------------------------------------------------------\n",
      "|           1 |  1.4053e+08 |  1.0735e+08 |       03:38 |\n"
     ]
    }
   ],
   "source": [
    "cgnet.train(x_train, y_train, x_test, y_test, epochs=50)\n",
    "from neupy import plots\n",
    "plots.error_plot(cgnet)"
   ]
  },
  {
   "cell_type": "code",
   "execution_count": null,
   "metadata": {
    "collapsed": true
   },
   "outputs": [],
   "source": [
    "from neupy.estimators import rmsle\n",
    "\n",
    "y_predict = cgnet.predict(x_test).round(1)\n",
    "error = rmsle(target_scaler.inverse_transform(y_test),\n",
    "              target_scaler.inverse_transform(y_predict))\n",
    "print(error)"
   ]
  }
 ],
 "metadata": {
  "kernelspec": {
   "display_name": "Python 3",
   "language": "python",
   "name": "python3"
  },
  "language_info": {
   "codemirror_mode": {
    "name": "ipython",
    "version": 3
   },
   "file_extension": ".py",
   "mimetype": "text/x-python",
   "name": "python",
   "nbconvert_exporter": "python",
   "pygments_lexer": "ipython3",
   "version": "3.6.3"
  }
 },
 "nbformat": 4,
 "nbformat_minor": 2
}

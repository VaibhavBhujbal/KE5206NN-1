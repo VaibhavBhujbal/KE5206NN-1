{
 "cells": [
  {
   "cell_type": "code",
   "execution_count": 2,
   "metadata": {},
   "outputs": [
    {
     "name": "stderr",
     "output_type": "stream",
     "text": [
      "WARNING (theano.configdefaults): g++ not available, if using conda: `conda install m2w64-toolchain`\n",
      "G:\\anaconda\\lib\\site-packages\\theano\\configdefaults.py:560: UserWarning: DeprecationWarning: there is no c++ compiler.This is deprecated and with Theano 0.11 a c++ compiler will be mandatory\n",
      "  warnings.warn(\"DeprecationWarning: there is no c++ compiler.\"\n",
      "WARNING (theano.configdefaults): g++ not detected ! Theano will be unable to execute optimized C-implementations (for both CPU and GPU) and will default to Python implementations. Performance will be severely degraded. To remove this warning, set Theano flags cxx to an empty string.\n",
      "WARNING (theano.tensor.blas): Using NumPy C-API based implementation for BLAS functions.\n"
     ]
    }
   ],
   "source": [
    "import pandas as pd\n",
    "from sklearn import preprocessing\n",
    "from neupy import environment\n",
    "from sklearn.model_selection import train_test_split\n",
    "from neupy import environment"
   ]
  },
  {
   "cell_type": "markdown",
   "metadata": {},
   "source": [
    "#### Select original the training records for discovery"
   ]
  },
  {
   "cell_type": "code",
   "execution_count": 3,
   "metadata": {
    "collapsed": true
   },
   "outputs": [],
   "source": [
    "train_df = pd.read_csv(\"data/train_70.0.csv\")\n",
    "target_training = train_df.loc[:,\"shares\"]"
   ]
  },
  {
   "cell_type": "markdown",
   "metadata": {},
   "source": [
    "#### Data discovery - relation between no of shares and the day of the week"
   ]
  },
  {
   "cell_type": "code",
   "execution_count": 3,
   "metadata": {},
   "outputs": [
    {
     "name": "stdout",
     "output_type": "stream",
     "text": [
      "(27750, 62)\n",
      "[16965029, 16083831, 16835516, 15912807, 13505688, 7176474, 7130078]\n"
     ]
    }
   ],
   "source": [
    "day_of_week_columns = [\" weekday_is_monday\", \" weekday_is_tuesday\", \" weekday_is_wednesday\",\" weekday_is_thursday\",\" weekday_is_friday\",\" weekday_is_saturday\", \" weekday_is_sunday\"]\n",
    "share_by_weekday = [0]*len(day_of_week_columns)\n",
    "print(train_df.shape)\n",
    "for idx, row in train_df.iterrows():\n",
    "    for day_no, day_of_week_column in enumerate(day_of_week_columns):\n",
    "        if row[day_of_week_column] == 1:\n",
    "            share_by_weekday[day_no] += row[\"shares\"]\n",
    "            \n",
    "print(share_by_weekday)"
   ]
  },
  {
   "cell_type": "code",
   "execution_count": 4,
   "metadata": {},
   "outputs": [
    {
     "data": {
      "text/plain": [
       "Text(0.5,1,'Distribution of shares by day of week')"
      ]
     },
     "execution_count": 4,
     "metadata": {},
     "output_type": "execute_result"
    },
    {
     "data": {
      "image/png": "[encoded data removed]",
      "text/plain": [
       "<matplotlib.figure.Figure at 0x290473c3240>"
      ]
     },
     "metadata": {},
     "output_type": "display_data"
    }
   ],
   "source": [
    "import matplotlib.pyplot as plt\n",
    "%matplotlib inline\n",
    "weekday_names = [day_of_week_column.replace(\" weekday_is_\", \"\") for day_of_week_column in day_of_week_columns]\n",
    "plt.bar(weekday_names, share_by_weekday)\n",
    "plt.title(\"Distribution of shares by day of week\")"
   ]
  },
  {
   "cell_type": "code",
   "execution_count": 5,
   "metadata": {},
   "outputs": [
    {
     "name": "stdout",
     "output_type": "stream",
     "text": [
      "[5592887, 14892053, 12889454, 6144253, 16071719, 13340303]\n"
     ]
    },
    {
     "data": {
      "text/plain": [
       "Text(0.5,1,'Distribution of shares by channel')"
      ]
     },
     "execution_count": 5,
     "metadata": {},
     "output_type": "execute_result"
    },
    {
     "data": {
      "image/png": "[encoded data removed]",
      "text/plain": [
       "<matplotlib.figure.Figure at 0x290496d7ba8>"
      ]
     },
     "metadata": {},
     "output_type": "display_data"
    }
   ],
   "source": [
    "data_channel_columns = [\" data_channel_is_lifestyle\", \" data_channel_is_entertainment\", \" data_channel_is_bus\", \" data_channel_is_socmed\", \" data_channel_is_tech\", \" data_channel_is_world\"]\n",
    "share_by_channel = [0]*len(data_channel_columns)\n",
    "\n",
    "for idx, row in train_df.iterrows():\n",
    "    for day_no, data_channel_column in enumerate(data_channel_columns):\n",
    "        if row[data_channel_column] == 1:\n",
    "            share_by_channel[day_no] += row[\"shares\"]\n",
    "            \n",
    "print(share_by_channel)\n",
    "\n",
    "channel_names = [data_channel_column.replace(\" data_channel_is_\", \"\") for data_channel_column in data_channel_columns]\n",
    "plt.bar(channel_names, share_by_channel)\n",
    "plt.title(\"Distribution of shares by channel\")"
   ]
  },
  {
   "cell_type": "markdown",
   "metadata": {},
   "source": [
    "### Train a NN model using neupy"
   ]
  },
  {
   "cell_type": "markdown",
   "metadata": {},
   "source": [
    "### Approach and code taken from [here](http://neupy.com/apidocs/neupy.algorithms.rbfn.grnn.html) "
   ]
  },
  {
   "cell_type": "code",
   "execution_count": 4,
   "metadata": {},
   "outputs": [
    {
     "name": "stdout",
     "output_type": "stream",
     "text": [
      "Training shapes\n",
      "(27750, 27)\n",
      "(27750,)\n",
      "Testing shapes\n",
      "(11894, 27)\n",
      "(11894,)\n"
     ]
    }
   ],
   "source": [
    "training_df = pd.read_csv(\"data/train_70.0_updated.csv\")\n",
    "training_X = training_df.loc[:, training_df.columns != \" shares\"]\n",
    "training_Y = training_df.loc[:, \" shares\"]\n",
    "\n",
    "test_df = pd.read_csv(\"data/test_30_updated.csv\")\n",
    "testing_X = test_df.loc[:, test_df.columns != \" shares\"]\n",
    "testing_Y = test_df.loc[:, \" shares\"]\n",
    "\n",
    "print(\"Training shapes\")\n",
    "print(training_X.shape)\n",
    "print(training_Y.shape)\n",
    "\n",
    "print(\"Testing shapes\")\n",
    "print(testing_X.shape)\n",
    "print(testing_Y.shape)"
   ]
  },
  {
   "cell_type": "code",
   "execution_count": 5,
   "metadata": {},
   "outputs": [
    {
     "name": "stderr",
     "output_type": "stream",
     "text": [
      "G:\\anaconda\\lib\\site-packages\\pandas\\core\\indexing.py:517: SettingWithCopyWarning: \n",
      "A value is trying to be set on a copy of a slice from a DataFrame.\n",
      "Try using .loc[row_indexer,col_indexer] = value instead\n",
      "\n",
      "See the caveats in the documentation: http://pandas.pydata.org/pandas-docs/stable/indexing.html#indexing-view-versus-copy\n",
      "  self.obj[item] = s\n",
      "G:\\anaconda\\lib\\site-packages\\ipykernel_launcher.py:5: FutureWarning: reshape is deprecated and will raise in a subsequent release. Please use .values.reshape(...) instead\n",
      "  \"\"\"\n",
      "G:\\anaconda\\lib\\site-packages\\sklearn\\utils\\validation.py:475: DataConversionWarning: Data with input dtype int64 was converted to float64 by MinMaxScaler.\n",
      "  warnings.warn(msg, DataConversionWarning)\n",
      "G:\\anaconda\\lib\\site-packages\\ipykernel_launcher.py:8: FutureWarning: reshape is deprecated and will raise in a subsequent release. Please use .values.reshape(...) instead\n",
      "  \n"
     ]
    }
   ],
   "source": [
    "data_scaler = preprocessing.MinMaxScaler()\n",
    "\n",
    "columns_to_scale = [\" n_tokens_title\", \" n_tokens_content\", \" num_hrefs\", \" num_self_hrefs\", \" num_imgs\", \" num_videos\", \" average_token_length\", \" num_keywords\", \" kw_avg_min\",\" kw_avg_max\", \" kw_avg_avg\",\" self_reference_avg_sharess\"]\n",
    "training_X.loc[:, columns_to_scale] = data_scaler.fit_transform(training_X.loc[:, columns_to_scale])\n",
    "training_Y = data_scaler.fit_transform(training_Y.reshape(-1, 1))\n",
    "\n",
    "testing_X.loc[:, columns_to_scale] = data_scaler.fit_transform(testing_X.loc[:, columns_to_scale])\n",
    "testing_Y = data_scaler.fit_transform(testing_Y.reshape(-1, 1))"
   ]
  },
  {
   "cell_type": "code",
   "execution_count": 6,
   "metadata": {},
   "outputs": [
    {
     "name": "stdout",
     "output_type": "stream",
     "text": [
      "(27750, 27)\n",
      "(11894, 27)\n"
     ]
    }
   ],
   "source": [
    "print(training_X.shape)\n",
    "print(testing_X.shape)"
   ]
  },
  {
   "cell_type": "markdown",
   "metadata": {},
   "source": [
    "### GRNN"
   ]
  },
  {
   "cell_type": "markdown",
   "metadata": {},
   "source": [
    "### NeuPy imports"
   ]
  },
  {
   "cell_type": "code",
   "execution_count": 7,
   "metadata": {
    "collapsed": true
   },
   "outputs": [],
   "source": [
    "from neupy import algorithms, layers, estimators\n",
    "\n",
    "environment.reproducible()"
   ]
  },
  {
   "cell_type": "code",
   "execution_count": 10,
   "metadata": {},
   "outputs": [
    {
     "name": "stdout",
     "output_type": "stream",
     "text": [
      "0.016665491935225648\n"
     ]
    }
   ],
   "source": [
    "nw = algorithms.GRNN(std=0.1, verbose=False)\n",
    "nw.train(training_X, training_Y)\n",
    "y_predicted = nw.predict(testing_X)\n",
    "print(estimators.rmse(y_predicted, testing_Y))"
   ]
  },
  {
   "cell_type": "markdown",
   "metadata": {},
   "source": [
    "### Invert the target values using [this](https://stackoverflow.com/questions/41551165/invert-minmaxscaler-from-scikit-learn)"
   ]
  },
  {
   "cell_type": "code",
   "execution_count": 11,
   "metadata": {
    "collapsed": true
   },
   "outputs": [],
   "source": [
    "y_predicted_upscaled = data_scaler.inverse_transform(y_predicted)\n",
    "testing_Y_upscaled = data_scaler.inverse_transform(testing_Y)"
   ]
  },
  {
   "cell_type": "markdown",
   "metadata": {},
   "source": [
    "### Check the predicted values"
   ]
  },
  {
   "cell_type": "code",
   "execution_count": 12,
   "metadata": {},
   "outputs": [
    {
     "name": "stdout",
     "output_type": "stream",
     "text": [
      "#0. Diff=[1290.89548681]\n",
      "#1. Diff=[944.15984776]\n",
      "#2. Diff=[16071.0015258]\n",
      "#3. Diff=[514.39948712]\n",
      "#4. Diff=[15838.6004488]\n",
      "#5. Diff=[1154.60599213]\n",
      "#6. Diff=[3647.21293788]\n",
      "#7. Diff=[295.10553786]\n",
      "#8. Diff=[383.55702558]\n",
      "#9. Diff=[2279.62215478]\n",
      "#10. Diff=[3493.67788242]\n",
      "#11. Diff=[3999.95134365]\n",
      "#12. Diff=[16309.93409339]\n",
      "#13. Diff=[4580.0040625]\n",
      "#14. Diff=[1371.68037944]\n",
      "#15. Diff=[1740.82161519]\n",
      "#16. Diff=[4229.96199357]\n",
      "#17. Diff=[560.27674053]\n",
      "#18. Diff=[1978.80975366]\n",
      "#19. Diff=[838.72333133]\n",
      "#20. Diff=[133309.33855459]\n",
      "#21. Diff=[2008.25303324]\n",
      "#22. Diff=[2688.78363661]\n",
      "#23. Diff=[1516.74625832]\n",
      "#24. Diff=[3699.99755283]\n",
      "#25. Diff=[2187.78783993]\n",
      "#26. Diff=[1379.57390628]\n",
      "#27. Diff=[230.60273462]\n",
      "#28. Diff=[1214.53274272]\n",
      "#29. Diff=[817.56162325]\n",
      "#30. Diff=[2238.60482879]\n",
      "#31. Diff=[1835.76871171]\n",
      "#32. Diff=[349.61808355]\n",
      "#33. Diff=[1641.44742993]\n",
      "#34. Diff=[101.90641847]\n",
      "#35. Diff=[73.87574518]\n",
      "#36. Diff=[1751.02214333]\n",
      "#37. Diff=[403.23643598]\n",
      "#38. Diff=[3454.66326129]\n",
      "#39. Diff=[3042.61492063]\n",
      "#40. Diff=[2585.46411676]\n",
      "#41. Diff=[10340.85508343]\n",
      "#42. Diff=[61.22114423]\n",
      "#43. Diff=[2297.9449735]\n",
      "#44. Diff=[446.19284608]\n",
      "#45. Diff=[201.76247094]\n",
      "#46. Diff=[2708.20310472]\n",
      "#47. Diff=[9736.15000358]\n",
      "#48. Diff=[1245.43234562]\n",
      "#49. Diff=[516.02905491]\n",
      "#50. Diff=[1015.23075179]\n",
      "#51. Diff=[33764.34332508]\n",
      "#52. Diff=[11451.84929369]\n",
      "#53. Diff=[1201.74757234]\n",
      "#54. Diff=[317.21488329]\n",
      "#55. Diff=[1875.86989411]\n",
      "#56. Diff=[7241.91397904]\n",
      "#57. Diff=[1045.79297916]\n",
      "#58. Diff=[679.966206]\n",
      "#59. Diff=[9811.39466512]\n",
      "#60. Diff=[1358.32153647]\n",
      "#61. Diff=[1220.74910807]\n",
      "#62. Diff=[616.63376414]\n",
      "#63. Diff=[5146.81698055]\n",
      "#64. Diff=[1114.13359638]\n",
      "#65. Diff=[3651.80715475]\n",
      "#66. Diff=[10588.20771159]\n",
      "#67. Diff=[20648.30275958]\n",
      "#68. Diff=[1821.12337982]\n",
      "#69. Diff=[1287.12725026]\n",
      "#70. Diff=[2788.43637455]\n",
      "#71. Diff=[1381.36847112]\n",
      "#72. Diff=[3189.12366216]\n",
      "#73. Diff=[3161.31002864]\n",
      "#74. Diff=[1014.66863903]\n",
      "#75. Diff=[391.63188171]\n",
      "#76. Diff=[1510.67667129]\n",
      "#77. Diff=[770.93707639]\n",
      "#78. Diff=[426.83836288]\n",
      "#79. Diff=[3170.7167028]\n",
      "#80. Diff=[3396.0533101]\n",
      "#81. Diff=[312.47671699]\n",
      "#82. Diff=[1035.85462695]\n",
      "#83. Diff=[3303.8888227]\n",
      "#84. Diff=[613.62442984]\n",
      "#85. Diff=[692.28484051]\n",
      "#86. Diff=[1982.55292106]\n",
      "#87. Diff=[1226.71623373]\n",
      "#88. Diff=[529.81274713]\n",
      "#89. Diff=[321.50051657]\n",
      "#90. Diff=[1932.51235716]\n",
      "#91. Diff=[774.08266384]\n",
      "#92. Diff=[6697.28808957]\n",
      "#93. Diff=[2841.29235079]\n",
      "#94. Diff=[438.01721224]\n",
      "#95. Diff=[1177.12060042]\n",
      "#96. Diff=[131.13275636]\n",
      "#97. Diff=[227.53869481]\n",
      "#98. Diff=[8420.75516146]\n",
      "#99. Diff=[495.30161529]\n"
     ]
    }
   ],
   "source": [
    "slice = 100\n",
    "for itr in range(slice):\n",
    "    print(\"#{0}. Diff={1}\".format(itr, abs(y_predicted_upscaled[itr] - testing_Y_upscaled[itr])))"
   ]
  },
  {
   "cell_type": "markdown",
   "metadata": {},
   "source": [
    "### MLFF BP with conjugate gradient"
   ]
  },
  {
   "cell_type": "code",
   "execution_count": 13,
   "metadata": {},
   "outputs": [
    {
     "name": "stdout",
     "output_type": "stream",
     "text": [
      "\n",
      "Main information\n",
      "\n",
      "[ALGORITHM] ConjugateGradient\n",
      "\n",
      "[OPTION] verbose = True\n",
      "[OPTION] epoch_end_signal = None\n",
      "[OPTION] show_epoch = 1\n",
      "[OPTION] shuffle_data = False\n",
      "[OPTION] step = 0.1\n",
      "[OPTION] train_end_signal = None\n",
      "[OPTION] error = mse\n",
      "[OPTION] addons = ['LinearSearch']\n",
      "[OPTION] update_function = fletcher_reeves\n",
      "[OPTION] maxiter = 10\n",
      "[OPTION] search_method = golden\n",
      "[OPTION] tol = 0.1\n",
      "\n",
      "[THEANO] Initializing Theano variables and functions.\n",
      "[THEANO] Initialization finished successfully. It took 0.49 seconds\n"
     ]
    }
   ],
   "source": [
    "environment.reproducible()\n",
    "from neupy import algorithms, layers\n",
    "\n",
    "cgnet = algorithms.ConjugateGradient(\n",
    "    connection=[\n",
    "        layers.Input(training_X.shape[1]),\n",
    "        layers.Sigmoid(50),\n",
    "        layers.Sigmoid(1),\n",
    "    ],\n",
    "    search_method='golden',\n",
    "    show_epoch=1,\n",
    "    verbose=True,\n",
    "    addons=[algorithms.LinearSearch],\n",
    ")"
   ]
  },
  {
   "cell_type": "markdown",
   "metadata": {},
   "source": [
    "#### Note: table below shows MSE - need to take sqrt to get the RMSE"
   ]
  },
  {
   "cell_type": "code",
   "execution_count": 14,
   "metadata": {},
   "outputs": [
    {
     "name": "stdout",
     "output_type": "stream",
     "text": [
      "\n",
      "Start training\n",
      "\n",
      "[TRAINING DATA] shapes: (27750, 27)\n",
      "[TEST DATA] shapes: (11894, 27)\n",
      "[TRAINING] Total epochs: 5\n",
      "\n",
      "---------------------------------------------------------\n",
      "|    Epoch    |  Train err  |  Valid err  |    Time     |\n",
      "---------------------------------------------------------\n",
      "|           1 |  0.00025035 |  0.00024234 |       05:44 |\n",
      "|           2 |  0.00025015 |  0.00024287 |       07:35 |\n",
      "|           3 |  0.00024959 |  0.00024329 |       07:54 |\n",
      "|           4 |  0.00024895 |  0.00024192 |       06:54 |\n",
      "|           5 |  0.00024893 |  0.00024173 |       07:12 |\n",
      "---------------------------------------------------------\n",
      "\n"
     ]
    },
    {
     "data": {
      "image/png": "[encoded data removed]",
      "text/plain": [
       "<matplotlib.figure.Figure at 0x29044e79b70>"
      ]
     },
     "metadata": {},
     "output_type": "display_data"
    },
    {
     "data": {
      "text/plain": [
       "<matplotlib.axes._subplots.AxesSubplot at 0x29045e71908>"
      ]
     },
     "execution_count": 14,
     "metadata": {},
     "output_type": "execute_result"
    }
   ],
   "source": [
    "cgnet.train(training_X, training_Y, testing_X, testing_Y, epochs=5)\n",
    "from neupy import plots\n",
    "plots.error_plot(cgnet)"
   ]
  },
  {
   "cell_type": "code",
   "execution_count": 22,
   "metadata": {},
   "outputs": [
    {
     "name": "stdout",
     "output_type": "stream",
     "text": [
      "1.2182599245073296\n"
     ]
    }
   ],
   "source": [
    "from neupy.estimators import rmsle\n",
    "\n",
    "y_predict = cgnet.predict(testing_X).round(3)\n",
    "\n",
    "# Root mean square logarithmic error\n",
    "error = rmsle(data_scaler.inverse_transform(testing_Y), data_scaler.inverse_transform(y_predict))\n",
    "print(error)"
   ]
  },
  {
   "cell_type": "code",
   "execution_count": 23,
   "metadata": {},
   "outputs": [
    {
     "name": "stdout",
     "output_type": "stream",
     "text": [
      "#0. Diff=[481.168]\n",
      "#1. Diff=[2081.168]\n",
      "#2. Diff=[14318.832]\n",
      "#3. Diff=[1881.168]\n",
      "#4. Diff=[1137.876]\n",
      "#5. Diff=[481.168]\n",
      "#6. Diff=[2580.168]\n",
      "#7. Diff=[1224.46]\n",
      "#8. Diff=[2381.168]\n",
      "#9. Diff=[3014.168]\n",
      "#10. Diff=[1318.832]\n",
      "#11. Diff=[3367.752]\n",
      "#12. Diff=[14418.832]\n",
      "#13. Diff=[11045.664]\n",
      "#14. Diff=[1653.876]\n",
      "#15. Diff=[2724.46]\n",
      "#16. Diff=[2332.248]\n",
      "#17. Diff=[2181.168]\n",
      "#18. Diff=[2768.168]\n",
      "#19. Diff=[3460.46]\n",
      "#20. Diff=[4085.752]\n",
      "#21. Diff=[618.832]\n",
      "#22. Diff=[1481.168]\n",
      "#23. Diff=[1467.752]\n",
      "#24. Diff=[3967.752]\n",
      "#25. Diff=[4044.46]\n",
      "#26. Diff=[2856.168]\n",
      "#27. Diff=[1337.876]\n",
      "#28. Diff=[18.832]\n",
      "#29. Diff=[2669.168]\n",
      "#30. Diff=[3576.46]\n",
      "#31. Diff=[3504.46]\n",
      "#32. Diff=[2524.46]\n",
      "#33. Diff=[24.46]\n",
      "#34. Diff=[2181.168]\n",
      "#35. Diff=[2181.168]\n",
      "#36. Diff=[3259.46]\n",
      "#37. Diff=[5254.336]\n",
      "#38. Diff=[3655.46]\n",
      "#39. Diff=[2162.124]\n",
      "#40. Diff=[1638.876]\n",
      "#41. Diff=[3667.752]\n",
      "#42. Diff=[3024.46]\n",
      "#43. Diff=[2653.168]\n",
      "#44. Diff=[2967.752]\n",
      "#45. Diff=[1967.752]\n",
      "#46. Diff=[2232.248]\n",
      "#47. Diff=[9775.54]\n",
      "#48. Diff=[2593.168]\n",
      "#49. Diff=[281.168]\n",
      "#50. Diff=[2391.168]\n",
      "#51. Diff=[488.956]\n",
      "#52. Diff=[2924.46]\n",
      "#53. Diff=[481.168]\n",
      "#54. Diff=[1337.876]\n",
      "#55. Diff=[2181.168]\n",
      "#56. Diff=[5654.336]\n",
      "#57. Diff=[1337.876]\n",
      "#58. Diff=[1781.168]\n",
      "#59. Diff=[12532.248]\n",
      "#60. Diff=[762.124]\n",
      "#61. Diff=[2565.168]\n",
      "#62. Diff=[2465.168]\n",
      "#63. Diff=[24832.248]\n",
      "#64. Diff=[5254.336]\n",
      "#65. Diff=[1818.832]\n",
      "#66. Diff=[1667.752]\n",
      "#67. Diff=[18375.54]\n",
      "#68. Diff=[3261.46]\n",
      "#69. Diff=[1132.248]\n",
      "#70. Diff=[318.832]\n",
      "#71. Diff=[2468.168]\n",
      "#72. Diff=[1118.832]\n",
      "#73. Diff=[2662.168]\n",
      "#74. Diff=[681.168]\n",
      "#75. Diff=[924.46]\n",
      "#76. Diff=[2281.168]\n",
      "#77. Diff=[2911.044]\n",
      "#78. Diff=[2011.044]\n",
      "#79. Diff=[2924.46]\n",
      "#80. Diff=[5791.336]\n",
      "#81. Diff=[1424.46]\n",
      "#82. Diff=[4711.044]\n",
      "#83. Diff=[2655.168]\n",
      "#84. Diff=[2707.168]\n",
      "#85. Diff=[2081.168]\n",
      "#86. Diff=[4453.752]\n",
      "#87. Diff=[2580.168]\n",
      "#88. Diff=[1680.876]\n",
      "#89. Diff=[1481.168]\n",
      "#90. Diff=[2014.876]\n",
      "#91. Diff=[2767.752]\n",
      "#92. Diff=[1981.168]\n",
      "#93. Diff=[4311.044]\n",
      "#94. Diff=[1337.876]\n",
      "#95. Diff=[2463.168]\n",
      "#96. Diff=[2081.168]\n",
      "#97. Diff=[1381.168]\n",
      "#98. Diff=[3667.752]\n",
      "#99. Diff=[2583.168]\n"
     ]
    }
   ],
   "source": [
    "y_predicted_upscaled = data_scaler.inverse_transform(testing_Y)\n",
    "y_predicted_upscaled = data_scaler.inverse_transform(y_predict)\n",
    "\n",
    "slice = 100\n",
    "for itr in range(slice):\n",
    "    print(\"#{0}. Diff={1}\".format(itr, abs(y_predicted_upscaled[itr] - testing_Y_upscaled[itr])))"
   ]
  },
  {
   "cell_type": "markdown",
   "metadata": {},
   "source": [
    "### SOM using [Neupy](http://neupy.com/apidocs/neupy.algorithms.competitive.sofm.html)"
   ]
  },
  {
   "cell_type": "code",
   "execution_count": 10,
   "metadata": {},
   "outputs": [
    {
     "name": "stdout",
     "output_type": "stream",
     "text": [
      "\n",
      "Main information\n",
      "\n",
      "[ALGORITHM] SOFM\n",
      "\n",
      "[OPTION] verbose = True\n",
      "[OPTION] epoch_end_signal = None\n",
      "[OPTION] show_epoch = 1\n",
      "[OPTION] shuffle_data = False\n",
      "[OPTION] step = 0.1\n",
      "[OPTION] train_end_signal = None\n",
      "[OPTION] n_inputs = 27\n",
      "[OPTION] distance = euclid\n",
      "[OPTION] features_grid = None\n",
      "[OPTION] grid_type = rect\n",
      "[OPTION] learning_radius = 0\n",
      "[OPTION] n_outputs = 5\n",
      "[OPTION] reduce_radius_after = 100\n",
      "[OPTION] reduce_std_after = 100\n",
      "[OPTION] reduce_step_after = 100\n",
      "[OPTION] std = 1\n",
      "[OPTION] weight = Normal(mean=0, std=0.01)\n",
      "\n",
      "\n",
      "Start training\n",
      "\n",
      "[TRAINING DATA] shapes: (27750, 27)\n",
      "[TRAINING] Total epochs: 20\n",
      "\n",
      "---------------------------------------------------------\n",
      "|    Epoch    |  Train err  |  Valid err  |    Time     |\n",
      "---------------------------------------------------------\n",
      "|           1 |    0.084664 |           - |       6 sec |\n",
      "|           2 |    0.084348 |           - |       6 sec |\n",
      "|           3 |    0.084173 |           - |       6 sec |\n",
      "|           4 |    0.084016 |           - |       6 sec |\n",
      "|           5 |    0.083874 |           - |       6 sec |\n",
      "|           6 |    0.083745 |           - |       6 sec |\n",
      "|           7 |    0.083629 |           - |       6 sec |\n",
      "|           8 |    0.083524 |           - |       6 sec |\n",
      "|           9 |    0.083428 |           - |       6 sec |\n",
      "|          10 |     0.08334 |           - |       6 sec |\n",
      "|          11 |    0.083261 |           - |       6 sec |\n",
      "|          12 |    0.083188 |           - |       6 sec |\n",
      "|          13 |    0.083121 |           - |       6 sec |\n",
      "|          14 |     0.08306 |           - |       6 sec |\n",
      "|          15 |    0.083004 |           - |       6 sec |\n",
      "|          16 |    0.082952 |           - |       6 sec |\n",
      "|          17 |    0.082904 |           - |       6 sec |\n",
      "|          18 |     0.08286 |           - |       6 sec |\n",
      "|          19 |    0.082819 |           - |       6 sec |\n",
      "|          20 |    0.082781 |           - |       6 sec |\n",
      "---------------------------------------------------------\n",
      "\n"
     ]
    }
   ],
   "source": [
    "# n_inputs is the number of features\n",
    "\n",
    "sofm = algorithms.SOFM(n_inputs=27, n_outputs=5, step=0.1, learning_radius=0, verbose=True, grid_type='hexagon')\n",
    "sofm.train(training_X, epochs=20)\n",
    "p = sofm.predict(testing_X)"
   ]
  },
  {
   "cell_type": "code",
   "execution_count": 11,
   "metadata": {},
   "outputs": [
    {
     "data": {
      "text/plain": [
       "array([[1, 0, 0, 0, 0],\n",
       "       [1, 0, 0, 0, 0],\n",
       "       [1, 0, 0, 0, 0],\n",
       "       ...,\n",
       "       [1, 0, 0, 0, 0],\n",
       "       [1, 0, 0, 0, 0],\n",
       "       [1, 0, 0, 0, 0]], dtype=int64)"
      ]
     },
     "execution_count": 11,
     "metadata": {},
     "output_type": "execute_result"
    }
   ],
   "source": [
    "p"
   ]
  },
  {
   "cell_type": "code",
   "execution_count": null,
   "metadata": {
    "collapsed": true
   },
   "outputs": [],
   "source": []
  }
 ],
 "metadata": {
  "kernelspec": {
   "display_name": "Python 3",
   "language": "python",
   "name": "python3"
  },
  "language_info": {
   "codemirror_mode": {
    "name": "ipython",
    "version": 3
   },
   "file_extension": ".py",
   "mimetype": "text/x-python",
   "name": "python",
   "nbconvert_exporter": "python",
   "pygments_lexer": "ipython3",
   "version": "3.6.3"
  }
 },
 "nbformat": 4,
 "nbformat_minor": 2
}

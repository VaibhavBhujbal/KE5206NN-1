{
 "cells": [
  {
   "cell_type": "heading",
   "metadata": {
    "collapsed": true
   },
   "level": 1,
   "source": [
    "Simple Ensemble For Regression Model"
   ]
  },
  {
   "cell_type": "heading",
   "metadata": {},
   "level": 2,
   "source": [
    "Load Individual Models\n"
   ]
  },
  {
   "cell_type": "code",
   "execution_count": null,
   "metadata": {},
   "outputs": [
    {
     "name": "stdout",
     "output_type": "stream",
     "text": [
      "Training shapes\n(27750, 27)\n(27750,)\nTesting shapes\n(11894, 27)\n(11894,)\n"
     ]
    },
    {
     "name": "stderr",
     "output_type": "stream",
     "text": [
      "/Users/pierlim/anaconda/envs/tensorflow/lib/python3.6/site-packages/ipykernel/__main__.py:44: FutureWarning: reshape is deprecated and will raise in a subsequent release. Please use .values.reshape(...) instead\n/Users/pierlim/anaconda/envs/tensorflow/lib/python3.6/site-packages/sklearn/utils/validation.py:475: DataConversionWarning: Data with input dtype int64 was converted to float64 by MinMaxScaler.\n  warnings.warn(msg, DataConversionWarning)\n/Users/pierlim/anaconda/envs/tensorflow/lib/python3.6/site-packages/pandas/core/indexing.py:537: SettingWithCopyWarning: \nA value is trying to be set on a copy of a slice from a DataFrame.\nTry using .loc[row_indexer,col_indexer] = value instead\n\nSee the caveats in the documentation: http://pandas.pydata.org/pandas-docs/stable/indexing.html#indexing-view-versus-copy\n  self.obj[item] = s\n"
     ]
    },
    {
     "name": "stderr",
     "output_type": "stream",
     "text": [
      "/Users/pierlim/anaconda/envs/tensorflow/lib/python3.6/site-packages/ipykernel/__main__.py:47: FutureWarning: reshape is deprecated and will raise in a subsequent release. Please use .values.reshape(...) instead\n"
     ]
    },
    {
     "name": "stderr",
     "output_type": "stream",
     "text": [
      "/Users/pierlim/anaconda/envs/tensorflow/lib/python3.6/site-packages/ipykernel/__main__.py:50: FutureWarning: reshape is deprecated and will raise in a subsequent release. Please use .values.reshape(...) instead\n"
     ]
    }
   ],
   "source": [
    "import pandas as pd\n",
    "from sklearn import preprocessing\n",
    "from neupy import environment\n",
    "from sklearn.model_selection import train_test_split\n",
    "from neupy import environment\n",
    "from operator import itemgetter\n",
    "import numpy as np\n",
    "from neupy import algorithms, layers, estimators\n",
    "from sklearn import datasets, grid_search\n",
    "from sklearn.model_selection import GridSearchCV\n",
    "\n",
    "\n",
    "def scorer(actual, predicted):\n",
    "    return estimators.rmse(predicted, actual)\n",
    "\n",
    "# training_df = pd.read_csv(\n",
    "#     \"/home/pier/Machine_Learning/KE5206NN/regression/data_with_fields_removed/train_70.0_fields_removed.csv\")\n",
    "training_df = pd.read_csv(\n",
    "    \"/Users/pierlim/PycharmProjects/KE5206NN/regression/data_with_fields_removed/train_70.0_updated.csv\")\n",
    "training_X = training_df.loc[:, training_df.columns != \" shares\"]\n",
    "training_Y = training_df.loc[:, \" shares\"]\n",
    "\n",
    "# test_df = pd.read_csv(\n",
    "#     \"/home/pier/Machine_Learning/KE5206NN/regression/data_with_fields_removed/test_30.0_fields_removed.csv\")\n",
    "test_df = pd.read_csv(\n",
    "    \"/Users/pierlim/PycharmProjects/KE5206NN/regression/data_with_fields_removed/test_30.0_updated.csv\")\n",
    "testing_X = test_df.loc[:, test_df.columns != \" shares\"]\n",
    "testing_Y = test_df.loc[:, \" shares\"]\n",
    "\n",
    "print(\"Training shapes\")\n",
    "print(training_X.shape)\n",
    "print(training_Y.shape)\n",
    "\n",
    "print(\"Testing shapes\")\n",
    "print(testing_X.shape)\n",
    "print(testing_Y.shape)\n",
    "\n",
    "x_data_scaler = preprocessing.MinMaxScaler()\n",
    "y_data_scaler = preprocessing.MinMaxScaler()\n",
    "\n",
    "columns_to_scale = [\" n_tokens_title\", \" n_tokens_content\", \" num_hrefs\", \" num_self_hrefs\", \" num_imgs\", \" num_videos\", \" average_token_length\", \" num_keywords\", \" kw_avg_min\",\" kw_avg_max\", \" kw_avg_avg\",\" self_reference_avg_sharess\"]\n",
    "\n",
    "x_data_scaler.fit(training_X.loc[:, columns_to_scale])\n",
    "y_data_scaler.fit(training_Y.reshape(-1, 1))\n",
    "\n",
    "training_X.loc[:, columns_to_scale] = x_data_scaler.transform(training_X.loc[:, columns_to_scale])\n",
    "training_Y = y_data_scaler.transform(training_Y.reshape(-1, 1))\n",
    "\n",
    "testing_X.loc[:, columns_to_scale] = x_data_scaler.transform(testing_X.loc[:, columns_to_scale])\n",
    "testing_Y = y_data_scaler.transform(testing_Y.reshape(-1, 1))\n"
   ]
  },
  {
   "cell_type": "code",
   "execution_count": 8,
   "metadata": {},
   "outputs": [],
   "source": [
    "from sklearn.neural_network import MLPRegressor\n",
    "from scipy import stats\n",
    "from sklearn.grid_search import RandomizedSearchCV\n",
    "from neupy import estimators\n",
    "import _pickle\n",
    "\n",
    "with open('/Users/pierlim/PycharmProjects/KE5206NN/regression/regression_models/multi_layer_perceptron.pkl', 'rb') as fid:\n",
    "    mlp = _pickle.load(fid)\n",
    "\n",
    "with open('/Users/pierlim/PycharmProjects/KE5206NN/regression/regression_models/grnn.pkl', 'rb') as fid:\n",
    "    grnn = _pickle.load(fid)\n",
    "\n",
    "\n"
   ]
  },
  {
   "cell_type": "heading",
   "metadata": {},
   "level": 1,
   "source": []
  },
  {
   "cell_type": "code",
   "execution_count": 9,
   "metadata": {},
   "outputs": [
    {
     "name": "stdout",
     "output_type": "stream",
     "text": [
      "MLP RMSE = 0.018917390394580104\n"
     ]
    },
    {
     "name": "stdout",
     "output_type": "stream",
     "text": [
      "MLP MAE = 0.004566708750875336\nMLP MAE (no. of shares) = 3153.851154895581\n"
     ]
    },
    {
     "name": "stdout",
     "output_type": "stream",
     "text": [
      "GRNN RMSE = 0.01886015925064978\nGRNN MAE = 0.0043920011010804665\nGRNN MAE (no. of shares) = 3033.233168184853\n"
     ]
    }
   ],
   "source": [
    "\n",
    "y_mlp_predicted = mlp.predict(testing_X)\n",
    "print(\"MLP RMSE = \" + str(estimators.rmse(y_mlp_predicted, testing_Y.ravel())))\n",
    "mlp_mae = estimators.mae(y_mlp_predicted, testing_Y.ravel())\n",
    "print(\"MLP MAE = \" + str(estimators.mae(y_mlp_predicted, testing_Y.ravel())))\n",
    "actual_mae = y_data_scaler.inverse_transform(estimators.mae(y_mlp_predicted, testing_Y))\n",
    "print(\"MLP MAE (no. of shares) = \" + str(actual_mae.squeeze()))\n",
    "\n",
    "y_grnn_predicted = grnn.predict(testing_X)\n",
    "y_grnn_predicted = y_grnn_predicted.ravel().transpose()\n",
    "grnn_mae = estimators.mae(y_grnn_predicted, testing_Y.ravel())\n",
    "print(\"GRNN RMSE = \" + str(estimators.rmse(y_grnn_predicted, testing_Y.ravel())))\n",
    "print(\"GRNN MAE = \" + str(estimators.mae(y_grnn_predicted, testing_Y.ravel())))\n",
    "actual_mae = y_data_scaler.inverse_transform(estimators.mae(y_grnn_predicted, testing_Y))\n",
    "print(\"GRNN MAE (no. of shares) = \" + str(actual_mae.squeeze()))\n",
    "print(y_grnn_predicted.shape)\n",
    "print(y_mlp_predicted.shape)\n"
   ]
  },
  {
   "cell_type": "code",
   "execution_count": null,
   "metadata": {},
   "outputs": [
    {
     "name": "stdout",
     "output_type": "stream",
     "text": [
      "(11894, 1)\n"
     ]
    }
   ],
   "source": [
    "\n",
    "models = [mlp, grnn]\n",
    "y_ensemble_predicted = np.zeros(shape=(testing_X.shape[0], 1))\n",
    "print(y_ensemble_predicted.shape)\n",
    "denom = 0\n",
    "\n",
    "y_grnn_predicted_new = (1.0 / (1 + grnn_mae)) * y_grnn_predicted\n",
    "y_mlp_predicted_new = (1.0 / (1+ mlp_mae)) * y_mlp_predicted\n",
    "y_ensemble_predicted = np.add(y_grnn_predicted_new, y_mlp_predicted_new)\n",
    "ensemble_mae = estimators.mae(y_ensemble_predicted, testing_Y.ravel())\n",
    "# for model in models:\n",
    "#     y_predicted = model.predict(testing_X)\n",
    "#     mae = estimators.mae(y_predicted, testing_Y.ravel())\n",
    "#     denom = denom + (1.0 / (1+mae))\n",
    "#     y_ensemble_predicted = np.add(y_ensemble_predicted, ((1.0 / (1+mae)) * y_predicted))\n",
    "\n",
    "print(y_ensemble_predicted.shape)\n",
    "print(y_ensemble_predicted[1:10])"
   ]
  },
  {
   "cell_type": "code",
   "execution_count": 28,
   "metadata": {},
   "outputs": [
    {
     "name": "stdout",
     "output_type": "stream",
     "text": [
      "(11894, 1)\n(11894, 11894)\n[[ 0.00802153  0.00735006  0.0094047  ...,  0.0075052   0.00753555\n   0.00806373]\n [ 0.00876636  0.00809489  0.01014954 ...,  0.00825004  0.00828039\n   0.00880856]\n [ 0.00787019  0.00719872  0.00925337 ...,  0.00735387  0.00738422\n   0.00791239]\n ..., \n [ 0.0085919   0.00792043  0.00997508 ...,  0.00807558  0.00810593\n   0.0086341 ]\n [ 0.00783712  0.00716565  0.00922029 ...,  0.00732079  0.00735114\n   0.00787932]\n [ 0.00833848  0.00766701  0.00972166 ...,  0.00782216  0.00785251\n   0.00838068]]\n"
     ]
    }
   ],
   "source": [
    "print(y_predicted.shape)\n",
    "print(y_ensemble_predicted.shape)\n",
    "print(y_ensemble_predicted[1:10])"
   ]
  },
  {
   "cell_type": "code",
   "execution_count": 16,
   "metadata": {
    "collapsed": false
   },
   "outputs": [
    {
     "name": "stdout",
     "output_type": "stream",
     "text": [
      "1.9910812554957453\n"
     ]
    },
    {
     "name": "stdout",
     "output_type": "stream",
     "text": [
      "Ensemble MAE = 0.003911903164116273\nEnsemble MAE (no. of shares) = 2701.774032602711\n"
     ]
    }
   ],
   "source": [
    "denom = (1.0 / (1+grnn_mae)) + (1.0 / (1+mlp_mae))\n",
    "print(denom)\n",
    "ensemble_mae = estimators.mae(y_ensemble_predicted, testing_Y.ravel())\n",
    "ensemble_mae = ensemble_mae / denom\n",
    "print(\"Ensemble MAE = \" + str(ensemble_mae))\n",
    "actual_mae = y_data_scaler.inverse_transform(ensemble_mae)\n",
    "print(\"Ensemble MAE (no. of shares) = \" + str(actual_mae.squeeze()))"
   ]
  },
  {
   "cell_type": "code",
   "execution_count": null,
   "metadata": {},
   "outputs": [],
   "source": []
  }
 ],
 "metadata": {
  "kernelspec": {
   "display_name": "Python 2",
   "language": "python",
   "name": "python2"
  },
  "language_info": {
   "codemirror_mode": {
    "name": "ipython",
    "version": 2
   },
   "file_extension": ".py",
   "mimetype": "text/x-python",
   "name": "python",
   "nbconvert_exporter": "python",
   "pygments_lexer": "ipython2",
   "version": "2.7.6"
  }
 },
 "nbformat": 4,
 "nbformat_minor": 0
}

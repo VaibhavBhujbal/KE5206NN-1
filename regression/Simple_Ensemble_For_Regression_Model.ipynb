{
 "cells": [
  {
   "cell_type": "heading",
   "metadata": {
    "collapsed": true
   },
   "level": 1,
   "source": [
    "Simple Ensemble For Regression Model"
   ]
  },
  {
   "cell_type": "heading",
   "metadata": {},
   "level": 2,
   "source": [
    "Load Individual Models\n"
   ]
  },
  {
   "cell_type": "code",
   "execution_count": null,
   "metadata": {},
   "outputs": [],
   "source": [
    "import pandas as pd\n",
    "from sklearn import preprocessing\n",
    "from neupy import environment\n",
    "from sklearn.model_selection import train_test_split\n",
    "from neupy import environment\n",
    "from operator import itemgetter\n",
    "import numpy as np\n",
    "from neupy import algorithms, layers, estimators\n",
    "from sklearn import datasets, grid_search\n",
    "from sklearn.model_selection import GridSearchCV\n",
    "\n",
    "\n",
    "def scorer(actual, predicted):\n",
    "    return estimators.rmse(predicted, actual)\n",
    "\n",
    "# training_df = pd.read_csv(\n",
    "#     \"/home/pier/Machine_Learning/KE5206NN/regression/data_with_fields_removed/train_70.0_fields_removed.csv\")\n",
    "training_df = pd.read_csv(\n",
    "    \"/home/pier/Machine_Learning/KE5206NN/regression/data_with_fields_removed/train_70.0_updated.csv\")\n",
    "training_X = training_df.loc[:, training_df.columns != \" shares\"]\n",
    "training_Y = training_df.loc[:, \" shares\"]\n",
    "\n",
    "# test_df = pd.read_csv(\n",
    "#     \"/home/pier/Machine_Learning/KE5206NN/regression/data_with_fields_removed/test_30.0_fields_removed.csv\")\n",
    "test_df = pd.read_csv(\n",
    "    \"/home/pier/Machine_Learning/KE5206NN/regression/data_with_fields_removed/test_30.0_updated.csv\")\n",
    "testing_X = test_df.loc[:, test_df.columns != \" shares\"]\n",
    "testing_Y = test_df.loc[:, \" shares\"]\n",
    "\n",
    "print(\"Training shapes\")\n",
    "print(training_X.shape)\n",
    "print(training_Y.shape)\n",
    "\n",
    "print(\"Testing shapes\")\n",
    "print(testing_X.shape)\n",
    "print(testing_Y.shape)\n",
    "\n",
    "x_data_scaler = preprocessing.MinMaxScaler()\n",
    "y_data_scaler = preprocessing.MinMaxScaler()\n",
    "\n",
    "columns_to_scale = [\" n_tokens_title\", \" n_tokens_content\", \" num_hrefs\", \" num_self_hrefs\", \" num_imgs\", \" num_videos\", \" average_token_length\", \" num_keywords\", \" kw_avg_min\",\" kw_avg_max\", \" kw_avg_avg\",\" self_reference_avg_sharess\"]\n",
    "\n",
    "x_data_scaler.fit(training_X.loc[:, columns_to_scale])\n",
    "y_data_scaler.fit(training_Y.reshape(-1, 1))\n",
    "\n",
    "training_X.loc[:, columns_to_scale] = x_data_scaler.transform(training_X.loc[:, columns_to_scale])\n",
    "training_Y = y_data_scaler.transform(training_Y.reshape(-1, 1))\n",
    "\n",
    "testing_X.loc[:, columns_to_scale] = x_data_scaler.transform(testing_X.loc[:, columns_to_scale])\n",
    "testing_Y = y_data_scaler.transform(testing_Y.reshape(-1, 1))\n"
   ]
  },
  {
   "cell_type": "code",
   "execution_count": 8,
   "metadata": {},
   "outputs": [],
   "source": [
    "from sklearn.neural_network import MLPRegressor\n",
    "from scipy import stats\n",
    "from sklearn.grid_search import RandomizedSearchCV\n",
    "from neupy import estimators\n",
    "import _pickle\n",
    "\n",
    "with open('/home/pier/Machine_Learning/KE5206NN/regression/regression_models/multi_layer_perceptron.pkl', 'rb') as fid:\n",
    "    mlp = _pickle.load(fid)\n",
    "\n",
    "with open('/home/pier/Machine_Learning/KE5206NN/regression/regression_models/grnn.pkl', 'rb') as fid:\n",
    "    grnn = _pickle.load(fid)\n",
    "\n",
    "\n"
   ]
  },
  {
   "cell_type": "heading",
   "metadata": {},
   "level": 1,
   "source": []
  },
  {
   "cell_type": "code",
   "execution_count": 9,
   "metadata": {},
   "outputs": [
    {
     "name": "stdout",
     "output_type": "stream",
     "text": [
      "MLP RMSE = 0.0189173903945801\nMLP MAE = 0.004566708750875336\nMLP MAE (no. of shares) = 3153.851154895581\n"
     ]
    },
    {
     "name": "stdout",
     "output_type": "stream",
     "text": [
      "GRNN RMSE = 0.01886015925064978\nGRNN MAE = 0.0043920011010804665\nGRNN MAE (no. of shares) = 3033.233168184853\n"
     ]
    }
   ],
   "source": [
    "y_mlp_predicted = mlp.predict(testing_X)\n",
    "print(\"MLP RMSE = \" + str(estimators.rmse(y_mlp_predicted, testing_Y.ravel())))\n",
    "print(\"MLP MAE = \" + str(estimators.mae(y_mlp_predicted, testing_Y.ravel())))\n",
    "actual_mae = y_data_scaler.inverse_transform(estimators.mae(y_mlp_predicted, testing_Y))\n",
    "print(\"MLP MAE (no. of shares) = \" + str(actual_mae.squeeze()))\n",
    "\n",
    "y_grnn_predicted = grnn.predict(testing_X)\n",
    "print(\"GRNN RMSE = \" + str(estimators.rmse(y_grnn_predicted, testing_Y.ravel())))\n",
    "print(\"GRNN MAE = \" + str(estimators.mae(y_grnn_predicted, testing_Y.ravel())))\n",
    "actual_mae = y_data_scaler.inverse_transform(estimators.mae(y_grnn_predicted, testing_Y))\n",
    "print(\"GRNN MAE (no. of shares) = \" + str(actual_mae.squeeze()))"
   ]
  },
  {
   "cell_type": "code",
   "execution_count": 15,
   "metadata": {},
   "outputs": [],
   "source": [
    "models = [mlp, grnn]\n",
    "y_ensemble_predicted = np.zeros(testing_X.shape[0])\n",
    "\n",
    "for model in models:\n",
    "    y_predicted = model.predict(testing_X)\n",
    "    mae = estimators.mae(y_predicted, testing_Y.ravel())\n",
    "    y_ensemble_predicted = y_ensemble_predicted + ((1.0 / (1+mae)) * y_predicted)\n",
    "    "
   ]
  },
  {
   "cell_type": "heading",
   "metadata": {},
   "level": 2,
   "source": [
    "Ensemble MAE - need to discuss!!!"
   ]
  },
  {
   "cell_type": "code",
   "execution_count": 16,
   "metadata": {},
   "outputs": [],
   "source": [
    "ensemble_mae = estimators.mae(y_ensemble_predicted, testing_Y.ravel())\n",
    "print(\"Ensemble MAE = \" + str(estimators.mae(y_ensemble_predicted, testing_Y.ravel())))\n",
    "actual_mae = y_data_scaler.inverse_transform(estimators.mae(y_ensemble_predicted, testing_Y))\n",
    "print(\"Ensemble MAE (no. of shares) = \" + str(actual_mae.squeeze()))"
   ]
  },
  {
   "cell_type": "code",
   "execution_count": null,
   "metadata": {},
   "outputs": [],
   "source": []
  }
 ],
 "metadata": {
  "kernelspec": {
   "display_name": "Python 2",
   "language": "python",
   "name": "python2"
  },
  "language_info": {
   "codemirror_mode": {
    "name": "ipython",
    "version": 2
   },
   "file_extension": ".py",
   "mimetype": "text/x-python",
   "name": "python",
   "nbconvert_exporter": "python",
   "pygments_lexer": "ipython2",
   "version": "2.7.6"
  }
 },
 "nbformat": 4,
 "nbformat_minor": 0
}

{
 "cells": [
  {
   "cell_type": "code",
   "execution_count": 1,
   "metadata": {},
   "outputs": [
    {
     "data": {
      "text/plain": [
       "(101766, 48)"
      ]
     },
     "execution_count": 1,
     "metadata": {},
     "output_type": "execute_result"
    }
   ],
   "source": [
    "%matplotlib notebook\n",
    "import numpy as np\n",
    "import pandas as pd\n",
    "import matplotlib.pyplot as plt\n",
    "import seaborn as sns\n",
    "from sklearn.metrics import accuracy_score, precision_score, recall_score, \\\n",
    "f1_score, confusion_matrix, classification_report\n",
    "from sklearn.preprocessing import MinMaxScaler\n",
    "from sklearn.model_selection import train_test_split\n",
    "from sklearn.svm import LinearSVC\n",
    "from tqdm import tqdm\n",
    "\n",
    "# df = pd.read_csv(\"\", dtype='category').iloc[:500,2:]\n",
    "df = pd.read_csv(\"C:/Users/User/Documents/CI 1/CA 2/diabetic_data.csv\", dtype='category').iloc[:,2:]\n",
    "df.shape"
   ]
  },
  {
   "cell_type": "code",
   "execution_count": 2,
   "metadata": {},
   "outputs": [],
   "source": [
    "#setting the values for the diagnosis\n",
    "    \n",
    "def diag_num_update(x):    \n",
    "    #circulatory= 1\n",
    "    if 390 <= x and x <= 459 or x==785:\n",
    "        return \"1\"\n",
    "    \n",
    "    #digestive= 2\n",
    "    elif 520 <= x and x <= 579 or x==787:\n",
    "        return \"2\"\n",
    "        \n",
    "    #genitourinary=3\n",
    "    elif 580<= x and x <= 629 or x== 788:\n",
    "        return \"3\"\n",
    "    \n",
    "    #diabetes=4\n",
    "    elif 250.00<=x and x < 251:\n",
    "        return \"4\"\n",
    "    \n",
    "    #injury=5\n",
    "    elif 800<= x and x <=999:\n",
    "        return \"5\"\n",
    "    \n",
    "    #musculoskeletal=6\n",
    "    elif 710<= x and x <= 739:\n",
    "        return \"6\"\n",
    "    \n",
    "    #neoplasms=7\n",
    "    elif 140<= x and x<=239:\n",
    "        return \"7\"\n",
    "    \n",
    "    #respiratory=8\n",
    "    elif 460<= x and x<=519:\n",
    "        return \"8\"\n",
    "    \n",
    "    #to cater for 0\n",
    "    elif x==0:\n",
    "        return \"0\"\n",
    "    \n",
    "    #for all others=9\n",
    "    else:\n",
    "        return \"9\""
   ]
  },
  {
   "cell_type": "code",
   "execution_count": 4,
   "metadata": {},
   "outputs": [],
   "source": [
    "# convert the column to numeric\n",
    "\n",
    "df['diag_1']= df['diag_1'].apply(pd.to_numeric,errors='coerce')"
   ]
  },
  {
   "cell_type": "code",
   "execution_count": 5,
   "metadata": {},
   "outputs": [],
   "source": [
    "df['diag_1']= df['diag_1'].apply(diag_num_update)"
   ]
  },
  {
   "cell_type": "code",
   "execution_count": 6,
   "metadata": {},
   "outputs": [
    {
     "data": {
      "text/plain": [
       "0     4\n",
       "1     9\n",
       "2     9\n",
       "3     9\n",
       "4     7\n",
       "5     1\n",
       "6     1\n",
       "7     1\n",
       "8     1\n",
       "9     1\n",
       "10    4\n",
       "11    7\n",
       "12    1\n",
       "13    1\n",
       "14    8\n",
       "15    5\n",
       "16    1\n",
       "17    9\n",
       "18    1\n",
       "19    6\n",
       "Name: diag_1, dtype: object"
      ]
     },
     "execution_count": 6,
     "metadata": {},
     "output_type": "execute_result"
    }
   ],
   "source": [
    "df['diag_1'].head(20)"
   ]
  },
  {
   "cell_type": "code",
   "execution_count": 9,
   "metadata": {
    "collapsed": true
   },
   "outputs": [],
   "source": [
    "#do for diag_2\n",
    "\n",
    "df['diag_2']= df['diag_2'].apply(pd.to_numeric,errors='coerce')"
   ]
  },
  {
   "cell_type": "code",
   "execution_count": 13,
   "metadata": {},
   "outputs": [
    {
     "ename": "TypeError",
     "evalue": "'<=' not supported between instances of 'int' and 'str'",
     "output_type": "error",
     "traceback": [
      "\u001b[1;31m---------------------------------------------------------------------------\u001b[0m",
      "\u001b[1;31mTypeError\u001b[0m                                 Traceback (most recent call last)",
      "\u001b[1;32m<ipython-input-13-4eca8d6eb4a1>\u001b[0m in \u001b[0;36m<module>\u001b[1;34m()\u001b[0m\n\u001b[1;32m----> 1\u001b[1;33m \u001b[0mdf\u001b[0m\u001b[1;33m[\u001b[0m\u001b[1;34m'diag_2'\u001b[0m\u001b[1;33m]\u001b[0m\u001b[1;33m=\u001b[0m \u001b[0mdf\u001b[0m\u001b[1;33m[\u001b[0m\u001b[1;34m'diag_2'\u001b[0m\u001b[1;33m]\u001b[0m\u001b[1;33m.\u001b[0m\u001b[0mapply\u001b[0m\u001b[1;33m(\u001b[0m\u001b[0mdiag_num_update\u001b[0m\u001b[1;33m)\u001b[0m\u001b[1;33m\u001b[0m\u001b[0m\n\u001b[0m\u001b[0;32m      2\u001b[0m \u001b[0mdf\u001b[0m\u001b[1;33m[\u001b[0m\u001b[1;34m'diag_2'\u001b[0m\u001b[1;33m]\u001b[0m\u001b[1;33m=\u001b[0m \u001b[0mdf\u001b[0m\u001b[1;33m[\u001b[0m\u001b[1;34m'diag_2'\u001b[0m\u001b[1;33m]\u001b[0m\u001b[1;33m.\u001b[0m\u001b[0mapply\u001b[0m\u001b[1;33m(\u001b[0m\u001b[0mpd\u001b[0m\u001b[1;33m.\u001b[0m\u001b[0mto_numeric\u001b[0m\u001b[1;33m,\u001b[0m\u001b[0merrors\u001b[0m\u001b[1;33m=\u001b[0m\u001b[1;34m'coerce'\u001b[0m\u001b[1;33m)\u001b[0m\u001b[1;33m\u001b[0m\u001b[0m\n",
      "\u001b[1;32mC:\\ProgramData\\Anaconda3\\lib\\site-packages\\pandas\\core\\series.py\u001b[0m in \u001b[0;36mapply\u001b[1;34m(self, func, convert_dtype, args, **kwds)\u001b[0m\n\u001b[0;32m   2353\u001b[0m             \u001b[1;32melse\u001b[0m\u001b[1;33m:\u001b[0m\u001b[1;33m\u001b[0m\u001b[0m\n\u001b[0;32m   2354\u001b[0m                 \u001b[0mvalues\u001b[0m \u001b[1;33m=\u001b[0m \u001b[0mself\u001b[0m\u001b[1;33m.\u001b[0m\u001b[0masobject\u001b[0m\u001b[1;33m\u001b[0m\u001b[0m\n\u001b[1;32m-> 2355\u001b[1;33m                 \u001b[0mmapped\u001b[0m \u001b[1;33m=\u001b[0m \u001b[0mlib\u001b[0m\u001b[1;33m.\u001b[0m\u001b[0mmap_infer\u001b[0m\u001b[1;33m(\u001b[0m\u001b[0mvalues\u001b[0m\u001b[1;33m,\u001b[0m \u001b[0mf\u001b[0m\u001b[1;33m,\u001b[0m \u001b[0mconvert\u001b[0m\u001b[1;33m=\u001b[0m\u001b[0mconvert_dtype\u001b[0m\u001b[1;33m)\u001b[0m\u001b[1;33m\u001b[0m\u001b[0m\n\u001b[0m\u001b[0;32m   2356\u001b[0m \u001b[1;33m\u001b[0m\u001b[0m\n\u001b[0;32m   2357\u001b[0m         \u001b[1;32mif\u001b[0m \u001b[0mlen\u001b[0m\u001b[1;33m(\u001b[0m\u001b[0mmapped\u001b[0m\u001b[1;33m)\u001b[0m \u001b[1;32mand\u001b[0m \u001b[0misinstance\u001b[0m\u001b[1;33m(\u001b[0m\u001b[0mmapped\u001b[0m\u001b[1;33m[\u001b[0m\u001b[1;36m0\u001b[0m\u001b[1;33m]\u001b[0m\u001b[1;33m,\u001b[0m \u001b[0mSeries\u001b[0m\u001b[1;33m)\u001b[0m\u001b[1;33m:\u001b[0m\u001b[1;33m\u001b[0m\u001b[0m\n",
      "\u001b[1;32mpandas/_libs/src\\inference.pyx\u001b[0m in \u001b[0;36mpandas._libs.lib.map_infer\u001b[1;34m()\u001b[0m\n",
      "\u001b[1;32m<ipython-input-2-80ce19d7a6a8>\u001b[0m in \u001b[0;36mdiag_num_update\u001b[1;34m(x)\u001b[0m\n\u001b[0;32m      3\u001b[0m \u001b[1;32mdef\u001b[0m \u001b[0mdiag_num_update\u001b[0m\u001b[1;33m(\u001b[0m\u001b[0mx\u001b[0m\u001b[1;33m)\u001b[0m\u001b[1;33m:\u001b[0m\u001b[1;33m\u001b[0m\u001b[0m\n\u001b[0;32m      4\u001b[0m     \u001b[1;31m#circulatory= 1\u001b[0m\u001b[1;33m\u001b[0m\u001b[1;33m\u001b[0m\u001b[0m\n\u001b[1;32m----> 5\u001b[1;33m     \u001b[1;32mif\u001b[0m \u001b[1;36m390\u001b[0m \u001b[1;33m<=\u001b[0m \u001b[0mx\u001b[0m \u001b[1;32mand\u001b[0m \u001b[0mx\u001b[0m \u001b[1;33m<=\u001b[0m \u001b[1;36m459\u001b[0m \u001b[1;32mor\u001b[0m \u001b[0mx\u001b[0m\u001b[1;33m==\u001b[0m\u001b[1;36m785\u001b[0m\u001b[1;33m:\u001b[0m\u001b[1;33m\u001b[0m\u001b[0m\n\u001b[0m\u001b[0;32m      6\u001b[0m         \u001b[1;32mreturn\u001b[0m \u001b[1;34m\"1\"\u001b[0m\u001b[1;33m\u001b[0m\u001b[0m\n\u001b[0;32m      7\u001b[0m \u001b[1;33m\u001b[0m\u001b[0m\n",
      "\u001b[1;31mTypeError\u001b[0m: '<=' not supported between instances of 'int' and 'str'"
     ]
    }
   ],
   "source": [
    "df['diag_2']= df['diag_2'].apply(diag_num_update)"
   ]
  },
  {
   "cell_type": "code",
   "execution_count": 12,
   "metadata": {},
   "outputs": [
    {
     "data": {
      "text/plain": [
       "dtype('O')"
      ]
     },
     "execution_count": 12,
     "metadata": {},
     "output_type": "execute_result"
    }
   ],
   "source": [
    "df['diag_2'].dtypes"
   ]
  },
  {
   "cell_type": "code",
   "execution_count": 14,
   "metadata": {
    "collapsed": true
   },
   "outputs": [],
   "source": [
    "df['diag_2']= df['diag_2'].apply(pd.to_numeric,errors='coerce')"
   ]
  },
  {
   "cell_type": "code",
   "execution_count": 7,
   "metadata": {
    "collapsed": true
   },
   "outputs": [],
   "source": [
    "#do for diag_3\n",
    "\n",
    "df['diag_3']= df['diag_3'].apply(pd.to_numeric,errors='coerce')\n",
    "df['diag_3']= df['diag_3'].apply(diag_num_update)"
   ]
  },
  {
   "cell_type": "code",
   "execution_count": 15,
   "metadata": {},
   "outputs": [
    {
     "data": {
      "text/plain": [
       "dtype('int64')"
      ]
     },
     "execution_count": 15,
     "metadata": {},
     "output_type": "execute_result"
    }
   ],
   "source": [
    "df['diag_2'].dtypes"
   ]
  },
  {
   "cell_type": "code",
   "execution_count": 8,
   "metadata": {},
   "outputs": [
    {
     "data": {
      "text/plain": [
       "0    0\n",
       "1    4\n",
       "2    4\n",
       "3    4\n",
       "Name: diag_2, dtype: object"
      ]
     },
     "execution_count": 8,
     "metadata": {},
     "output_type": "execute_result"
    }
   ],
   "source": [
    "df['diag_2'].head(4)"
   ]
  },
  {
   "cell_type": "code",
   "execution_count": 9,
   "metadata": {},
   "outputs": [
    {
     "name": "stdout",
     "output_type": "stream",
     "text": [
      "race [Caucasian, AfricanAmerican, ?, Other, Asian, Hispanic]\n",
      "Categories (6, object): [Caucasian, AfricanAmerican, ?, Other, Asian, Hispanic]\n",
      "**************************************************\n",
      "gender [Female, Male, Unknown/Invalid]\n",
      "Categories (3, object): [Female, Male, Unknown/Invalid]\n",
      "**************************************************\n",
      "age [[0-10), [10-20), [20-30), [30-40), [40-50), [50-60), [60-70), [70-80), [80-90), [90-100)]\n",
      "Categories (10, object): [[0-10), [10-20), [20-30), [30-40), ..., [60-70), [70-80), [80-90), [90-100)]\n",
      "**************************************************\n",
      "weight [?, [75-100), [50-75), [0-25), [100-125), [25-50), [125-150), [175-200), [150-175), >200]\n",
      "Categories (10, object): [?, [75-100), [50-75), [0-25), ..., [125-150), [175-200), [150-175), >200]\n",
      "**************************************************\n",
      "admission_type_id [6, 1, 2, 3, 4, 5, 8, 7]\n",
      "Categories (8, object): [6, 1, 2, 3, 4, 5, 8, 7]\n",
      "**************************************************\n",
      "discharge_disposition_id [25, 1, 3, 6, 2, ..., 15, 24, 28, 19, 27]\n",
      "Length: 26\n",
      "Categories (26, object): [25, 1, 3, 6, ..., 24, 28, 19, 27]\n",
      "**************************************************\n",
      "admission_source_id [1, 7, 2, 4, 5, ..., 10, 22, 11, 25, 13]\n",
      "Length: 17\n",
      "Categories (17, object): [1, 7, 2, 4, ..., 22, 11, 25, 13]\n",
      "**************************************************\n",
      "time_in_hospital [1, 3, 2, 4, 5, ..., 10, 6, 11, 8, 14]\n",
      "Length: 14\n",
      "Categories (14, object): [1, 3, 2, 4, ..., 6, 11, 8, 14]\n",
      "**************************************************\n",
      "payer_code [?, MC, MD, HM, UN, ..., WC, OT, OG, MP, FR]\n",
      "Length: 18\n",
      "Categories (18, object): [?, MC, MD, HM, ..., OT, OG, MP, FR]\n",
      "**************************************************\n",
      "medical_specialty [Pediatrics-Endocrinology, ?, InternalMedicine, Family/GeneralPractice, Cardiology, ..., Perinatology, Neurophysiology, Endocrinology-Metabolism, DCPTEAM, Resident]\n",
      "Length: 73\n",
      "Categories (73, object): [Pediatrics-Endocrinology, ?, InternalMedicine, Family/GeneralPractice, ..., Neurophysiology, Endocrinology-Metabolism, DCPTEAM, Resident]\n",
      "**************************************************\n",
      "num_lab_procedures [41, 59, 11, 44, 51, ..., 120, 132, 121, 126, 118]\n",
      "Length: 118\n",
      "Categories (118, object): [41, 59, 11, 44, ..., 132, 121, 126, 118]\n",
      "**************************************************\n",
      "num_procedures [0, 5, 1, 6, 2, 3, 4]\n",
      "Categories (7, object): [0, 5, 1, 6, 2, 3, 4]\n",
      "**************************************************\n",
      "num_medications [1, 18, 13, 16, 8, ..., 81, 79, 75, 72, 74]\n",
      "Length: 75\n",
      "Categories (75, object): [1, 18, 13, 16, ..., 79, 75, 72, 74]\n",
      "**************************************************\n",
      "number_outpatient [0, 2, 1, 5, 7, ..., 23, 28, 37, 38, 40]\n",
      "Length: 39\n",
      "Categories (39, object): [0, 2, 1, 5, ..., 28, 37, 38, 40]\n",
      "**************************************************\n",
      "number_emergency [0, 1, 2, 4, 3, ..., 64, 63, 54, 24, 29]\n",
      "Length: 33\n",
      "Categories (33, object): [0, 1, 2, 4, ..., 63, 54, 24, 29]\n",
      "**************************************************\n",
      "number_inpatient [0, 1, 2, 3, 6, ..., 17, 16, 21, 18, 19]\n",
      "Length: 21\n",
      "Categories (21, object): [0, 1, 2, 3, ..., 16, 21, 18, 19]\n",
      "**************************************************\n",
      "diag_1 ['4' '9' '7' '1' '8' '5' '6' '2' '3' '0']\n",
      "**************************************************\n",
      "diag_2 ['0' '4' '7' '1' '8' '9' '5' '6' '3' '2']\n",
      "**************************************************\n",
      "diag_3 ['0' '9' '1' '4' '8' '5' '7' '3' '6' '2']\n",
      "**************************************************\n",
      "number_diagnoses [1, 9, 6, 7, 5, ..., 13, 15, 10, 11, 14]\n",
      "Length: 16\n",
      "Categories (16, object): [1, 9, 6, 7, ..., 15, 10, 11, 14]\n",
      "**************************************************\n",
      "max_glu_serum [None, >300, Norm, >200]\n",
      "Categories (4, object): [None, >300, Norm, >200]\n",
      "**************************************************\n",
      "A1Cresult [0, 2, 3, 1]\n",
      "Categories (4, object): [0, 2, 3, 1]\n",
      "**************************************************\n",
      "metformin [No, Steady, Up, Down]\n",
      "Categories (4, object): [No, Steady, Up, Down]\n",
      "**************************************************\n",
      "repaglinide [No, Up, Steady, Down]\n",
      "Categories (4, object): [No, Up, Steady, Down]\n",
      "**************************************************\n",
      "nateglinide [No, Steady, Down, Up]\n",
      "Categories (4, object): [No, Steady, Down, Up]\n",
      "**************************************************\n",
      "chlorpropamide [No, Steady, Down, Up]\n",
      "Categories (4, object): [No, Steady, Down, Up]\n",
      "**************************************************\n",
      "glimepiride [No, Steady, Down, Up]\n",
      "Categories (4, object): [No, Steady, Down, Up]\n",
      "**************************************************\n",
      "acetohexamide [No, Steady]\n",
      "Categories (2, object): [No, Steady]\n",
      "**************************************************\n",
      "glipizide [No, Steady, Up, Down]\n",
      "Categories (4, object): [No, Steady, Up, Down]\n",
      "**************************************************\n",
      "glyburide [No, Steady, Up, Down]\n",
      "Categories (4, object): [No, Steady, Up, Down]\n",
      "**************************************************\n",
      "tolbutamide [No, Steady]\n",
      "Categories (2, object): [No, Steady]\n",
      "**************************************************\n",
      "pioglitazone [No, Steady, Up, Down]\n",
      "Categories (4, object): [No, Steady, Up, Down]\n",
      "**************************************************\n",
      "rosiglitazone [No, Steady, Up, Down]\n",
      "Categories (4, object): [No, Steady, Up, Down]\n",
      "**************************************************\n",
      "acarbose [No, Steady, Up, Down]\n",
      "Categories (4, object): [No, Steady, Up, Down]\n",
      "**************************************************\n",
      "miglitol [No, Steady, Down, Up]\n",
      "Categories (4, object): [No, Steady, Down, Up]\n",
      "**************************************************\n",
      "troglitazone [No, Steady]\n",
      "Categories (2, object): [No, Steady]\n",
      "**************************************************\n",
      "tolazamide [No, Steady, Up]\n",
      "Categories (3, object): [No, Steady, Up]\n",
      "**************************************************\n",
      "examide [No]\n",
      "Categories (1, object): [No]\n",
      "**************************************************\n",
      "citoglipton [No]\n",
      "Categories (1, object): [No]\n",
      "**************************************************\n",
      "insulin [No, Up, Steady, Down]\n",
      "Categories (4, object): [No, Up, Steady, Down]\n",
      "**************************************************\n",
      "glyburide-metformin [No, Steady, Down, Up]\n",
      "Categories (4, object): [No, Steady, Down, Up]\n",
      "**************************************************\n",
      "glipizide-metformin [No, Steady]\n",
      "Categories (2, object): [No, Steady]\n",
      "**************************************************\n",
      "glimepiride-pioglitazone [No, Steady]\n",
      "Categories (2, object): [No, Steady]\n",
      "**************************************************\n",
      "metformin-rosiglitazone [No, Steady]\n",
      "Categories (2, object): [No, Steady]\n",
      "**************************************************\n",
      "metformin-pioglitazone [No, Steady]\n",
      "Categories (2, object): [No, Steady]\n",
      "**************************************************\n",
      "change [No, Ch]\n",
      "Categories (2, object): [No, Ch]\n",
      "**************************************************\n",
      "diabetesMed [No, Yes]\n",
      "Categories (2, object): [No, Yes]\n",
      "**************************************************\n",
      "readmitted [NO, >30, <30]\n",
      "Categories (3, object): [NO, >30, <30]\n",
      "**************************************************\n"
     ]
    }
   ],
   "source": [
    "def show_unique(dataF):\n",
    "    for c in dataF.columns:\n",
    "        print(c, dataF[c].unique())\n",
    "        print('*'*50)\n",
    "\n",
    "show_unique(df)"
   ]
  },
  {
   "cell_type": "code",
   "execution_count": 156,
   "metadata": {},
   "outputs": [
    {
     "ename": "IndentationError",
     "evalue": "unexpected indent (<ipython-input-156-7e99ac9a359e>, line 3)",
     "output_type": "error",
     "traceback": [
      "\u001b[1;36m  File \u001b[1;32m\"<ipython-input-156-7e99ac9a359e>\"\u001b[1;36m, line \u001b[1;32m3\u001b[0m\n\u001b[1;33m    if x == 'None':\u001b[0m\n\u001b[1;37m    ^\u001b[0m\n\u001b[1;31mIndentationError\u001b[0m\u001b[1;31m:\u001b[0m unexpected indent\n"
     ]
    }
   ],
   "source": [
    "#not using\n",
    "\n",
    "#def diag_ha1cresult_update(x):    \n",
    "    #change value for Ha1CResult,0,1,2,3, for increasing values of \n",
    "    #if x == 'None':\n",
    "        return \"0\"\n",
    "    #elif x == \"Norm\":\n",
    "        return \"1\"\n",
    "    #elif x =='>7':\n",
    "        return \"2\"\n",
    "    #elif x=='>8':\n",
    "        return \"3\"\n",
    "    \n",
    "#df['A1Cresult']= df['A1Cresult'].apply(pd.to_string)\n",
    "#df['A1Cresult']= df['A1Cresult'].apply(diag_ha1cresult_update)"
   ]
  },
  {
   "cell_type": "code",
   "execution_count": 10,
   "metadata": {},
   "outputs": [
    {
     "data": {
      "text/html": [
       "<div>\n",
       "<style>\n",
       "    .dataframe thead tr:only-child th {\n",
       "        text-align: right;\n",
       "    }\n",
       "\n",
       "    .dataframe thead th {\n",
       "        text-align: left;\n",
       "    }\n",
       "\n",
       "    .dataframe tbody tr th {\n",
       "        vertical-align: top;\n",
       "    }\n",
       "</style>\n",
       "<table border=\"1\" class=\"dataframe\">\n",
       "  <thead>\n",
       "    <tr style=\"text-align: right;\">\n",
       "      <th></th>\n",
       "      <th>race</th>\n",
       "      <th>gender</th>\n",
       "      <th>age</th>\n",
       "      <th>admission_type_id</th>\n",
       "      <th>discharge_disposition_id</th>\n",
       "      <th>admission_source_id</th>\n",
       "      <th>time_in_hospital</th>\n",
       "      <th>medical_specialty</th>\n",
       "      <th>num_lab_procedures</th>\n",
       "      <th>num_procedures</th>\n",
       "      <th>...</th>\n",
       "      <th>citoglipton</th>\n",
       "      <th>insulin</th>\n",
       "      <th>glyburide-metformin</th>\n",
       "      <th>glipizide-metformin</th>\n",
       "      <th>glimepiride-pioglitazone</th>\n",
       "      <th>metformin-rosiglitazone</th>\n",
       "      <th>metformin-pioglitazone</th>\n",
       "      <th>change</th>\n",
       "      <th>diabetesMed</th>\n",
       "      <th>readmitted</th>\n",
       "    </tr>\n",
       "  </thead>\n",
       "  <tbody>\n",
       "    <tr>\n",
       "      <th>0</th>\n",
       "      <td>Caucasian</td>\n",
       "      <td>Female</td>\n",
       "      <td>[0-10)</td>\n",
       "      <td>6</td>\n",
       "      <td>25</td>\n",
       "      <td>1</td>\n",
       "      <td>1</td>\n",
       "      <td>Pediatrics-Endocrinology</td>\n",
       "      <td>41</td>\n",
       "      <td>0</td>\n",
       "      <td>...</td>\n",
       "      <td>No</td>\n",
       "      <td>No</td>\n",
       "      <td>No</td>\n",
       "      <td>No</td>\n",
       "      <td>No</td>\n",
       "      <td>No</td>\n",
       "      <td>No</td>\n",
       "      <td>No</td>\n",
       "      <td>No</td>\n",
       "      <td>NO</td>\n",
       "    </tr>\n",
       "    <tr>\n",
       "      <th>1</th>\n",
       "      <td>Caucasian</td>\n",
       "      <td>Female</td>\n",
       "      <td>[10-20)</td>\n",
       "      <td>1</td>\n",
       "      <td>1</td>\n",
       "      <td>7</td>\n",
       "      <td>3</td>\n",
       "      <td>?</td>\n",
       "      <td>59</td>\n",
       "      <td>0</td>\n",
       "      <td>...</td>\n",
       "      <td>No</td>\n",
       "      <td>Up</td>\n",
       "      <td>No</td>\n",
       "      <td>No</td>\n",
       "      <td>No</td>\n",
       "      <td>No</td>\n",
       "      <td>No</td>\n",
       "      <td>Ch</td>\n",
       "      <td>Yes</td>\n",
       "      <td>&gt;30</td>\n",
       "    </tr>\n",
       "  </tbody>\n",
       "</table>\n",
       "<p>2 rows × 46 columns</p>\n",
       "</div>"
      ],
      "text/plain": [
       "        race  gender      age admission_type_id discharge_disposition_id  \\\n",
       "0  Caucasian  Female   [0-10)                 6                       25   \n",
       "1  Caucasian  Female  [10-20)                 1                        1   \n",
       "\n",
       "  admission_source_id time_in_hospital         medical_specialty  \\\n",
       "0                   1                1  Pediatrics-Endocrinology   \n",
       "1                   7                3                         ?   \n",
       "\n",
       "  num_lab_procedures num_procedures    ...     citoglipton insulin  \\\n",
       "0                 41              0    ...              No      No   \n",
       "1                 59              0    ...              No      Up   \n",
       "\n",
       "  glyburide-metformin glipizide-metformin glimepiride-pioglitazone  \\\n",
       "0                  No                  No                       No   \n",
       "1                  No                  No                       No   \n",
       "\n",
       "  metformin-rosiglitazone metformin-pioglitazone change diabetesMed readmitted  \n",
       "0                      No                     No     No          No         NO  \n",
       "1                      No                     No     Ch         Yes        >30  \n",
       "\n",
       "[2 rows x 46 columns]"
      ]
     },
     "execution_count": 10,
     "metadata": {},
     "output_type": "execute_result"
    }
   ],
   "source": [
    "df=df.drop('weight',axis=1)\n",
    "df=df.drop('payer_code',axis=1)\n",
    "df.head(2)"
   ]
  },
  {
   "cell_type": "code",
   "execution_count": 11,
   "metadata": {},
   "outputs": [],
   "source": [
    "#pd.get_dummies(df,columns=['medical_specialty'])\n",
    "\n",
    "# use pd.concat to join the new columns with your original dataframe\n",
    "df = pd.concat([df,pd.get_dummies(df['medical_specialty'])],axis=1)"
   ]
  },
  {
   "cell_type": "code",
   "execution_count": 12,
   "metadata": {},
   "outputs": [
    {
     "data": {
      "text/html": [
       "<div>\n",
       "<style>\n",
       "    .dataframe thead tr:only-child th {\n",
       "        text-align: right;\n",
       "    }\n",
       "\n",
       "    .dataframe thead th {\n",
       "        text-align: left;\n",
       "    }\n",
       "\n",
       "    .dataframe tbody tr th {\n",
       "        vertical-align: top;\n",
       "    }\n",
       "</style>\n",
       "<table border=\"1\" class=\"dataframe\">\n",
       "  <thead>\n",
       "    <tr style=\"text-align: right;\">\n",
       "      <th></th>\n",
       "      <th>race</th>\n",
       "      <th>gender</th>\n",
       "      <th>age</th>\n",
       "      <th>admission_type_id</th>\n",
       "      <th>discharge_disposition_id</th>\n",
       "      <th>admission_source_id</th>\n",
       "      <th>time_in_hospital</th>\n",
       "      <th>medical_specialty</th>\n",
       "      <th>num_lab_procedures</th>\n",
       "      <th>num_procedures</th>\n",
       "      <th>...</th>\n",
       "      <th>Surgery-General</th>\n",
       "      <th>Surgery-Maxillofacial</th>\n",
       "      <th>Surgery-Neuro</th>\n",
       "      <th>Surgery-Pediatric</th>\n",
       "      <th>Surgery-Plastic</th>\n",
       "      <th>Surgery-PlasticwithinHeadandNeck</th>\n",
       "      <th>Surgery-Thoracic</th>\n",
       "      <th>Surgery-Vascular</th>\n",
       "      <th>SurgicalSpecialty</th>\n",
       "      <th>Urology</th>\n",
       "    </tr>\n",
       "  </thead>\n",
       "  <tbody>\n",
       "    <tr>\n",
       "      <th>0</th>\n",
       "      <td>Caucasian</td>\n",
       "      <td>Female</td>\n",
       "      <td>[0-10)</td>\n",
       "      <td>6</td>\n",
       "      <td>25</td>\n",
       "      <td>1</td>\n",
       "      <td>1</td>\n",
       "      <td>Pediatrics-Endocrinology</td>\n",
       "      <td>41</td>\n",
       "      <td>0</td>\n",
       "      <td>...</td>\n",
       "      <td>0</td>\n",
       "      <td>0</td>\n",
       "      <td>0</td>\n",
       "      <td>0</td>\n",
       "      <td>0</td>\n",
       "      <td>0</td>\n",
       "      <td>0</td>\n",
       "      <td>0</td>\n",
       "      <td>0</td>\n",
       "      <td>0</td>\n",
       "    </tr>\n",
       "    <tr>\n",
       "      <th>1</th>\n",
       "      <td>Caucasian</td>\n",
       "      <td>Female</td>\n",
       "      <td>[10-20)</td>\n",
       "      <td>1</td>\n",
       "      <td>1</td>\n",
       "      <td>7</td>\n",
       "      <td>3</td>\n",
       "      <td>?</td>\n",
       "      <td>59</td>\n",
       "      <td>0</td>\n",
       "      <td>...</td>\n",
       "      <td>0</td>\n",
       "      <td>0</td>\n",
       "      <td>0</td>\n",
       "      <td>0</td>\n",
       "      <td>0</td>\n",
       "      <td>0</td>\n",
       "      <td>0</td>\n",
       "      <td>0</td>\n",
       "      <td>0</td>\n",
       "      <td>0</td>\n",
       "    </tr>\n",
       "  </tbody>\n",
       "</table>\n",
       "<p>2 rows × 119 columns</p>\n",
       "</div>"
      ],
      "text/plain": [
       "        race  gender      age admission_type_id discharge_disposition_id  \\\n",
       "0  Caucasian  Female   [0-10)                 6                       25   \n",
       "1  Caucasian  Female  [10-20)                 1                        1   \n",
       "\n",
       "  admission_source_id time_in_hospital         medical_specialty  \\\n",
       "0                   1                1  Pediatrics-Endocrinology   \n",
       "1                   7                3                         ?   \n",
       "\n",
       "  num_lab_procedures num_procedures   ...   Surgery-General  \\\n",
       "0                 41              0   ...                 0   \n",
       "1                 59              0   ...                 0   \n",
       "\n",
       "  Surgery-Maxillofacial Surgery-Neuro Surgery-Pediatric Surgery-Plastic  \\\n",
       "0                     0             0                 0               0   \n",
       "1                     0             0                 0               0   \n",
       "\n",
       "  Surgery-PlasticwithinHeadandNeck Surgery-Thoracic Surgery-Vascular  \\\n",
       "0                                0                0                0   \n",
       "1                                0                0                0   \n",
       "\n",
       "  SurgicalSpecialty Urology  \n",
       "0                 0       0  \n",
       "1                 0       0  \n",
       "\n",
       "[2 rows x 119 columns]"
      ]
     },
     "execution_count": 12,
     "metadata": {},
     "output_type": "execute_result"
    }
   ],
   "source": [
    "df.head(2)"
   ]
  },
  {
   "cell_type": "code",
   "execution_count": 13,
   "metadata": {},
   "outputs": [
    {
     "data": {
      "text/plain": [
       "(50726, 119)"
      ]
     },
     "execution_count": 13,
     "metadata": {},
     "output_type": "execute_result"
    }
   ],
   "source": [
    "# drop missing values\n",
    "df = df.replace('?', np.nan)\n",
    "df = df.replace('Unknown/Invalid', np.nan)\n",
    "df = df.dropna()\n",
    "df.shape"
   ]
  },
  {
   "cell_type": "code",
   "execution_count": 21,
   "metadata": {},
   "outputs": [
    {
     "data": {
      "text/plain": [
       "race                                 category\n",
       "gender                               category\n",
       "age                                  category\n",
       "admission_type_id                    category\n",
       "discharge_disposition_id             category\n",
       "admission_source_id                  category\n",
       "time_in_hospital                     category\n",
       "medical_specialty                    category\n",
       "num_lab_procedures                   category\n",
       "num_procedures                       category\n",
       "num_medications                      category\n",
       "number_outpatient                    category\n",
       "number_emergency                     category\n",
       "number_inpatient                     category\n",
       "diag_1                                 object\n",
       "diag_2                                 object\n",
       "diag_3                                 object\n",
       "number_diagnoses                     category\n",
       "max_glu_serum                        category\n",
       "A1Cresult                            category\n",
       "metformin                            category\n",
       "repaglinide                          category\n",
       "nateglinide                          category\n",
       "chlorpropamide                       category\n",
       "glimepiride                          category\n",
       "acetohexamide                        category\n",
       "glipizide                            category\n",
       "glyburide                            category\n",
       "tolbutamide                          category\n",
       "pioglitazone                         category\n",
       "                                       ...   \n",
       "PhysicalMedicineandRehabilitation       uint8\n",
       "PhysicianNotFound                       uint8\n",
       "Podiatry                                uint8\n",
       "Proctology                              uint8\n",
       "Psychiatry                              uint8\n",
       "Psychiatry-Addictive                    uint8\n",
       "Psychiatry-Child/Adolescent             uint8\n",
       "Psychology                              uint8\n",
       "Pulmonology                             uint8\n",
       "Radiologist                             uint8\n",
       "Radiology                               uint8\n",
       "Resident                                uint8\n",
       "Rheumatology                            uint8\n",
       "Speech                                  uint8\n",
       "SportsMedicine                          uint8\n",
       "Surgeon                                 uint8\n",
       "Surgery-Cardiovascular                  uint8\n",
       "Surgery-Cardiovascular/Thoracic         uint8\n",
       "Surgery-Colon&Rectal                    uint8\n",
       "Surgery-General                         uint8\n",
       "Surgery-Maxillofacial                   uint8\n",
       "Surgery-Neuro                           uint8\n",
       "Surgery-Pediatric                       uint8\n",
       "Surgery-Plastic                         uint8\n",
       "Surgery-PlasticwithinHeadandNeck        uint8\n",
       "Surgery-Thoracic                        uint8\n",
       "Surgery-Vascular                        uint8\n",
       "SurgicalSpecialty                       uint8\n",
       "Urology                                 uint8\n",
       "pioglitazone_cat                         int8\n",
       "Length: 120, dtype: object"
      ]
     },
     "execution_count": 21,
     "metadata": {},
     "output_type": "execute_result"
    }
   ],
   "source": [
    "df.dtypes"
   ]
  },
  {
   "cell_type": "code",
   "execution_count": 23,
   "metadata": {},
   "outputs": [
    {
     "data": {
      "text/plain": [
       "race                                 False\n",
       "gender                               False\n",
       "age                                  False\n",
       "admission_type_id                    False\n",
       "discharge_disposition_id             False\n",
       "admission_source_id                  False\n",
       "time_in_hospital                     False\n",
       "medical_specialty                    False\n",
       "num_lab_procedures                   False\n",
       "num_procedures                       False\n",
       "num_medications                      False\n",
       "number_outpatient                    False\n",
       "number_emergency                     False\n",
       "number_inpatient                     False\n",
       "diag_1                               False\n",
       "diag_2                               False\n",
       "diag_3                               False\n",
       "number_diagnoses                     False\n",
       "max_glu_serum                        False\n",
       "A1Cresult                            False\n",
       "metformin                            False\n",
       "repaglinide                          False\n",
       "nateglinide                          False\n",
       "chlorpropamide                       False\n",
       "glimepiride                          False\n",
       "acetohexamide                         True\n",
       "glipizide                            False\n",
       "glyburide                            False\n",
       "tolbutamide                          False\n",
       "pioglitazone                         False\n",
       "                                     ...  \n",
       "PhysicalMedicineandRehabilitation    False\n",
       "PhysicianNotFound                    False\n",
       "Podiatry                             False\n",
       "Proctology                           False\n",
       "Psychiatry                           False\n",
       "Psychiatry-Addictive                 False\n",
       "Psychiatry-Child/Adolescent          False\n",
       "Psychology                           False\n",
       "Pulmonology                          False\n",
       "Radiologist                          False\n",
       "Radiology                            False\n",
       "Resident                             False\n",
       "Rheumatology                         False\n",
       "Speech                               False\n",
       "SportsMedicine                       False\n",
       "Surgeon                              False\n",
       "Surgery-Cardiovascular               False\n",
       "Surgery-Cardiovascular/Thoracic      False\n",
       "Surgery-Colon&Rectal                 False\n",
       "Surgery-General                      False\n",
       "Surgery-Maxillofacial                False\n",
       "Surgery-Neuro                        False\n",
       "Surgery-Pediatric                    False\n",
       "Surgery-Plastic                      False\n",
       "Surgery-PlasticwithinHeadandNeck     False\n",
       "Surgery-Thoracic                     False\n",
       "Surgery-Vascular                     False\n",
       "SurgicalSpecialty                    False\n",
       "Urology                              False\n",
       "pioglitazone_cat                     False\n",
       "Length: 120, dtype: bool"
      ]
     },
     "execution_count": 23,
     "metadata": {},
     "output_type": "execute_result"
    }
   ],
   "source": [
    "df.nunique()==1"
   ]
  },
  {
   "cell_type": "code",
   "execution_count": 25,
   "metadata": {},
   "outputs": [],
   "source": [
    "df = df.drop(df.columns[df.nunique() == 1], axis=1)\n",
    "#not working? what is this for?"
   ]
  },
  {
   "cell_type": "code",
   "execution_count": 16,
   "metadata": {},
   "outputs": [],
   "source": [
    "to_num = ['time_in_hospital', 'num_lab_procedures', 'num_procedures',\n",
    "         'num_medications', 'number_outpatient', 'number_emergency',\n",
    "         'number_inpatient', 'number_diagnoses']\n",
    "\n",
    "to_cat_codes = list(set(df.columns) - set(to_num))"
   ]
  },
  {
   "cell_type": "code",
   "execution_count": null,
   "metadata": {
    "collapsed": true
   },
   "outputs": [],
   "source": []
  },
  {
   "cell_type": "code",
   "execution_count": 26,
   "metadata": {},
   "outputs": [
    {
     "ename": "AttributeError",
     "evalue": "Can only use .cat accessor with a 'category' dtype",
     "output_type": "error",
     "traceback": [
      "\u001b[1;31m---------------------------------------------------------------------------\u001b[0m",
      "\u001b[1;31mAttributeError\u001b[0m                            Traceback (most recent call last)",
      "\u001b[1;32m<ipython-input-26-eb6263fddd2f>\u001b[0m in \u001b[0;36m<module>\u001b[1;34m()\u001b[0m\n\u001b[0;32m      1\u001b[0m \u001b[0mX_features\u001b[0m \u001b[1;33m=\u001b[0m \u001b[0mlist\u001b[0m\u001b[1;33m(\u001b[0m\u001b[0mto_num\u001b[0m\u001b[1;33m)\u001b[0m\u001b[1;33m\u001b[0m\u001b[0m\n\u001b[0;32m      2\u001b[0m \u001b[1;32mfor\u001b[0m \u001b[0mc\u001b[0m \u001b[1;32min\u001b[0m \u001b[0mto_cat_codes\u001b[0m\u001b[1;33m:\u001b[0m\u001b[1;33m\u001b[0m\u001b[0m\n\u001b[1;32m----> 3\u001b[1;33m     \u001b[0mdf\u001b[0m\u001b[1;33m[\u001b[0m\u001b[0mc\u001b[0m\u001b[1;33m+\u001b[0m\u001b[1;34m'_cat'\u001b[0m\u001b[1;33m]\u001b[0m \u001b[1;33m=\u001b[0m \u001b[0mdf\u001b[0m\u001b[1;33m[\u001b[0m\u001b[0mc\u001b[0m\u001b[1;33m]\u001b[0m\u001b[1;33m.\u001b[0m\u001b[0mcat\u001b[0m\u001b[1;33m.\u001b[0m\u001b[0mcodes\u001b[0m\u001b[1;33m\u001b[0m\u001b[0m\n\u001b[0m\u001b[0;32m      4\u001b[0m     \u001b[0mX_features\u001b[0m \u001b[1;33m+=\u001b[0m \u001b[1;33m[\u001b[0m\u001b[0mc\u001b[0m\u001b[1;33m+\u001b[0m\u001b[1;34m'_cat'\u001b[0m\u001b[1;33m]\u001b[0m\u001b[1;33m\u001b[0m\u001b[0m\n\u001b[0;32m      5\u001b[0m \u001b[1;33m\u001b[0m\u001b[0m\n",
      "\u001b[1;32mC:\\ProgramData\\Anaconda3\\lib\\site-packages\\pandas\\core\\generic.py\u001b[0m in \u001b[0;36m__getattr__\u001b[1;34m(self, name)\u001b[0m\n\u001b[0;32m   3075\u001b[0m         if (name in self._internal_names_set or name in self._metadata or\n\u001b[0;32m   3076\u001b[0m                 name in self._accessors):\n\u001b[1;32m-> 3077\u001b[1;33m             \u001b[1;32mreturn\u001b[0m \u001b[0mobject\u001b[0m\u001b[1;33m.\u001b[0m\u001b[0m__getattribute__\u001b[0m\u001b[1;33m(\u001b[0m\u001b[0mself\u001b[0m\u001b[1;33m,\u001b[0m \u001b[0mname\u001b[0m\u001b[1;33m)\u001b[0m\u001b[1;33m\u001b[0m\u001b[0m\n\u001b[0m\u001b[0;32m   3078\u001b[0m         \u001b[1;32melse\u001b[0m\u001b[1;33m:\u001b[0m\u001b[1;33m\u001b[0m\u001b[0m\n\u001b[0;32m   3079\u001b[0m             \u001b[1;32mif\u001b[0m \u001b[0mname\u001b[0m \u001b[1;32min\u001b[0m \u001b[0mself\u001b[0m\u001b[1;33m.\u001b[0m\u001b[0m_info_axis\u001b[0m\u001b[1;33m:\u001b[0m\u001b[1;33m\u001b[0m\u001b[0m\n",
      "\u001b[1;32mC:\\ProgramData\\Anaconda3\\lib\\site-packages\\pandas\\core\\base.py\u001b[0m in \u001b[0;36m__get__\u001b[1;34m(self, instance, owner)\u001b[0m\n\u001b[0;32m    241\u001b[0m             \u001b[1;31m# this ensures that Series.str.<method> is well defined\u001b[0m\u001b[1;33m\u001b[0m\u001b[1;33m\u001b[0m\u001b[0m\n\u001b[0;32m    242\u001b[0m             \u001b[1;32mreturn\u001b[0m \u001b[0mself\u001b[0m\u001b[1;33m.\u001b[0m\u001b[0maccessor_cls\u001b[0m\u001b[1;33m\u001b[0m\u001b[0m\n\u001b[1;32m--> 243\u001b[1;33m         \u001b[1;32mreturn\u001b[0m \u001b[0mself\u001b[0m\u001b[1;33m.\u001b[0m\u001b[0mconstruct_accessor\u001b[0m\u001b[1;33m(\u001b[0m\u001b[0minstance\u001b[0m\u001b[1;33m)\u001b[0m\u001b[1;33m\u001b[0m\u001b[0m\n\u001b[0m\u001b[0;32m    244\u001b[0m \u001b[1;33m\u001b[0m\u001b[0m\n\u001b[0;32m    245\u001b[0m     \u001b[1;32mdef\u001b[0m \u001b[0m__set__\u001b[0m\u001b[1;33m(\u001b[0m\u001b[0mself\u001b[0m\u001b[1;33m,\u001b[0m \u001b[0minstance\u001b[0m\u001b[1;33m,\u001b[0m \u001b[0mvalue\u001b[0m\u001b[1;33m)\u001b[0m\u001b[1;33m:\u001b[0m\u001b[1;33m\u001b[0m\u001b[0m\n",
      "\u001b[1;32mC:\\ProgramData\\Anaconda3\\lib\\site-packages\\pandas\\core\\series.py\u001b[0m in \u001b[0;36m_make_cat_accessor\u001b[1;34m(self)\u001b[0m\n\u001b[0;32m   2831\u001b[0m     \u001b[1;32mdef\u001b[0m \u001b[0m_make_cat_accessor\u001b[0m\u001b[1;33m(\u001b[0m\u001b[0mself\u001b[0m\u001b[1;33m)\u001b[0m\u001b[1;33m:\u001b[0m\u001b[1;33m\u001b[0m\u001b[0m\n\u001b[0;32m   2832\u001b[0m         \u001b[1;32mif\u001b[0m \u001b[1;32mnot\u001b[0m \u001b[0mis_categorical_dtype\u001b[0m\u001b[1;33m(\u001b[0m\u001b[0mself\u001b[0m\u001b[1;33m.\u001b[0m\u001b[0mdtype\u001b[0m\u001b[1;33m)\u001b[0m\u001b[1;33m:\u001b[0m\u001b[1;33m\u001b[0m\u001b[0m\n\u001b[1;32m-> 2833\u001b[1;33m             raise AttributeError(\"Can only use .cat accessor with a \"\n\u001b[0m\u001b[0;32m   2834\u001b[0m                                  \"'category' dtype\")\n\u001b[0;32m   2835\u001b[0m         \u001b[1;32mreturn\u001b[0m \u001b[0mCategoricalAccessor\u001b[0m\u001b[1;33m(\u001b[0m\u001b[0mself\u001b[0m\u001b[1;33m.\u001b[0m\u001b[0mvalues\u001b[0m\u001b[1;33m,\u001b[0m \u001b[0mself\u001b[0m\u001b[1;33m.\u001b[0m\u001b[0mindex\u001b[0m\u001b[1;33m)\u001b[0m\u001b[1;33m\u001b[0m\u001b[0m\n",
      "\u001b[1;31mAttributeError\u001b[0m: Can only use .cat accessor with a 'category' dtype"
     ]
    }
   ],
   "source": [
    "X_features = list(to_num)\n",
    "for c in to_cat_codes:\n",
    "    df[c+'_cat'] = df[c].cat.codes        \n",
    "    X_features += [c+'_cat']\n",
    "    \n",
    "X_features.remove('readmitted_cat')\n",
    "X_features"
   ]
  },
  {
   "cell_type": "code",
   "execution_count": null,
   "metadata": {
    "collapsed": true
   },
   "outputs": [],
   "source": []
  }
 ],
 "metadata": {
  "kernelspec": {
   "display_name": "Python 3",
   "language": "python",
   "name": "python3"
  },
  "language_info": {
   "codemirror_mode": {
    "name": "ipython",
    "version": 3
   },
   "file_extension": ".py",
   "mimetype": "text/x-python",
   "name": "python",
   "nbconvert_exporter": "python",
   "pygments_lexer": "ipython3",
   "version": "3.6.3"
  }
 },
 "nbformat": 4,
 "nbformat_minor": 2
}

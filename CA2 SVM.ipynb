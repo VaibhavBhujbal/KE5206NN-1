{
 "cells": [
  {
   "cell_type": "code",
   "execution_count": 62,
   "metadata": {},
   "outputs": [
    {
     "data": {
      "text/plain": [
       "(101766, 48)"
      ]
     },
     "execution_count": 62,
     "metadata": {},
     "output_type": "execute_result"
    }
   ],
   "source": [
    "%matplotlib notebook\n",
    "import numpy as np\n",
    "import pandas as pd\n",
    "import matplotlib.pyplot as plt\n",
    "import seaborn as sns\n",
    "from sklearn.metrics import accuracy_score, precision_score, recall_score, \\\n",
    "f1_score, confusion_matrix, classification_report\n",
    "from sklearn.preprocessing import MinMaxScaler\n",
    "from sklearn.model_selection import train_test_split\n",
    "from sklearn.svm import LinearSVC\n",
    "from tqdm import tqdm\n",
    "\n",
    "# df = pd.read_csv(\"\", dtype='category').iloc[:500,2:]\n",
    "df = pd.read_csv(\"C:/Users/User/Documents/CI 1/CA 2/diabetic_data.csv\", dtype='category').iloc[:,2:]\n",
    "df.shape"
   ]
  },
  {
   "cell_type": "code",
   "execution_count": 63,
   "metadata": {},
   "outputs": [],
   "source": [
    "#setting the values for the diagnosis\n",
    "    \n",
    "def diag_num_update(x):    \n",
    "    #circulatory= 1\n",
    "    if 390 <= x and x <= 459 or x==785:\n",
    "        return \"1\"\n",
    "    \n",
    "    #digestive= 2\n",
    "    elif 520 <= x and x <= 579 or x==787:\n",
    "        return \"2\"\n",
    "        \n",
    "    #genitourinary=3\n",
    "    elif 580<= x and x <= 629 or x== 788:\n",
    "        return \"3\"\n",
    "    \n",
    "    #diabetes=4\n",
    "    elif 250.00<=x and x < 251:\n",
    "        return \"4\"\n",
    "    \n",
    "    #injury=5\n",
    "    elif 800<= x and x <=999:\n",
    "        return \"5\"\n",
    "    \n",
    "    #musculoskeletal=6\n",
    "    elif 710<= x and x <= 739:\n",
    "        return \"6\"\n",
    "    \n",
    "    #neoplasms=7\n",
    "    elif 140<= x and x<=239:\n",
    "        return \"7\"\n",
    "    \n",
    "    #respiratory=8\n",
    "    elif 460<= x and x<=519:\n",
    "        return \"8\"\n",
    "    \n",
    "    #to cater for 0\n",
    "    elif x==0:\n",
    "        return \"0\"\n",
    "    \n",
    "    #for all others=9\n",
    "    else:\n",
    "        return \"9\""
   ]
  },
  {
   "cell_type": "code",
   "execution_count": null,
   "metadata": {
    "collapsed": true
   },
   "outputs": [],
   "source": []
  },
  {
   "cell_type": "code",
   "execution_count": null,
   "metadata": {
    "collapsed": true
   },
   "outputs": [],
   "source": []
  },
  {
   "cell_type": "code",
   "execution_count": null,
   "metadata": {
    "collapsed": true
   },
   "outputs": [],
   "source": []
  },
  {
   "cell_type": "code",
   "execution_count": 64,
   "metadata": {},
   "outputs": [],
   "source": [
    "# convert the column to numeric\n",
    "\n",
    "df['diag_1']= df['diag_1'].apply(pd.to_numeric,errors='coerce')"
   ]
  },
  {
   "cell_type": "code",
   "execution_count": 65,
   "metadata": {},
   "outputs": [],
   "source": [
    "df['diag_1']= df['diag_1'].apply(diag_num_update)"
   ]
  },
  {
   "cell_type": "code",
   "execution_count": 66,
   "metadata": {},
   "outputs": [
    {
     "data": {
      "text/plain": [
       "0     4\n",
       "1     9\n",
       "2     9\n",
       "3     9\n",
       "4     7\n",
       "5     1\n",
       "6     1\n",
       "7     1\n",
       "8     1\n",
       "9     1\n",
       "10    4\n",
       "11    7\n",
       "12    1\n",
       "13    1\n",
       "14    8\n",
       "15    5\n",
       "16    1\n",
       "17    9\n",
       "18    1\n",
       "19    6\n",
       "Name: diag_1, dtype: object"
      ]
     },
     "execution_count": 66,
     "metadata": {},
     "output_type": "execute_result"
    }
   ],
   "source": [
    "df['diag_1'].head(20)"
   ]
  },
  {
   "cell_type": "code",
   "execution_count": 67,
   "metadata": {
    "collapsed": true
   },
   "outputs": [],
   "source": [
    "#do for diag_2\n",
    "\n",
    "df['diag_2']= df['diag_2'].apply(pd.to_numeric,errors='coerce')\n",
    "df['diag_2']= df['diag_2'].apply(diag_num_update)"
   ]
  },
  {
   "cell_type": "code",
   "execution_count": 68,
   "metadata": {
    "collapsed": true
   },
   "outputs": [],
   "source": [
    "#do for diag_3\n",
    "\n",
    "df['diag_3']= df['diag_3'].apply(pd.to_numeric,errors='coerce')\n",
    "df['diag_3']= df['diag_3'].apply(diag_num_update)"
   ]
  },
  {
   "cell_type": "code",
   "execution_count": 69,
   "metadata": {},
   "outputs": [
    {
     "data": {
      "text/plain": [
       "0     0\n",
       "1     4\n",
       "2     4\n",
       "3     4\n",
       "4     7\n",
       "5     1\n",
       "6     1\n",
       "7     8\n",
       "8     1\n",
       "9     7\n",
       "10    1\n",
       "11    9\n",
       "12    4\n",
       "13    1\n",
       "14    5\n",
       "15    8\n",
       "16    1\n",
       "17    7\n",
       "18    1\n",
       "19    1\n",
       "Name: diag_2, dtype: object"
      ]
     },
     "execution_count": 69,
     "metadata": {},
     "output_type": "execute_result"
    }
   ],
   "source": [
    "df['diag_2'].head(20)"
   ]
  },
  {
   "cell_type": "code",
   "execution_count": null,
   "metadata": {
    "collapsed": true
   },
   "outputs": [],
   "source": []
  }
 ],
 "metadata": {
  "kernelspec": {
   "display_name": "Python 3",
   "language": "python",
   "name": "python3"
  }
 },
 "nbformat": 4,
 "nbformat_minor": 2
}

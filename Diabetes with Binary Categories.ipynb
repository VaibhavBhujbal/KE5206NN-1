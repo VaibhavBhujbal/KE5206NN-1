{
 "cells": [
  {
   "cell_type": "markdown",
   "metadata": {},
   "source": [
    "## <font color=blue>Diabetes dataset<font>"
   ]
  },
  {
   "cell_type": "code",
   "execution_count": 1,
   "metadata": {},
   "outputs": [],
   "source": [
    "%matplotlib inline\n",
    "import numpy as np\n",
    "import pandas as pd\n",
    "import matplotlib.pyplot as plt\n",
    "import seaborn as sns\n",
    "from sklearn.metrics import accuracy_score, precision_score, recall_score, f1_score, confusion_matrix, classification_report\n",
    "from sklearn.preprocessing import MinMaxScaler\n",
    "from sklearn.preprocessing import StandardScaler\n",
    "from sklearn.model_selection import train_test_split\n",
    "from sklearn.svm import LinearSVC\n",
    "from tqdm import tqdm\n",
    "from sklearn.decomposition import PCA\n",
    "from sklearn.metrics import confusion_matrix"
   ]
  },
  {
   "cell_type": "code",
   "execution_count": 2,
   "metadata": {},
   "outputs": [
    {
     "data": {
      "text/plain": [
       "(101766, 48)"
      ]
     },
     "execution_count": 2,
     "metadata": {},
     "output_type": "execute_result"
    }
   ],
   "source": [
    "# df = pd.read_csv(\"diabetic_data.csv\", dtype='category').iloc[:500,2:]\n",
    "df = pd.read_csv(\"diabetic_data.csv\", dtype='category').iloc[:,2:]\n",
    "df.shape"
   ]
  },
  {
   "cell_type": "code",
   "execution_count": 3,
   "metadata": {},
   "outputs": [
    {
     "data": {
      "text/html": [
       "<div>\n",
       "<style scoped>\n",
       "    .dataframe tbody tr th:only-of-type {\n",
       "        vertical-align: middle;\n",
       "    }\n",
       "\n",
       "    .dataframe tbody tr th {\n",
       "        vertical-align: top;\n",
       "    }\n",
       "\n",
       "    .dataframe thead th {\n",
       "        text-align: right;\n",
       "    }\n",
       "</style>\n",
       "<table border=\"1\" class=\"dataframe\">\n",
       "  <thead>\n",
       "    <tr style=\"text-align: right;\">\n",
       "      <th></th>\n",
       "      <th>race</th>\n",
       "      <th>gender</th>\n",
       "      <th>age</th>\n",
       "      <th>weight</th>\n",
       "      <th>admission_type_id</th>\n",
       "      <th>discharge_disposition_id</th>\n",
       "      <th>admission_source_id</th>\n",
       "      <th>time_in_hospital</th>\n",
       "      <th>payer_code</th>\n",
       "      <th>medical_specialty</th>\n",
       "      <th>...</th>\n",
       "      <th>citoglipton</th>\n",
       "      <th>insulin</th>\n",
       "      <th>glyburide-metformin</th>\n",
       "      <th>glipizide-metformin</th>\n",
       "      <th>glimepiride-pioglitazone</th>\n",
       "      <th>metformin-rosiglitazone</th>\n",
       "      <th>metformin-pioglitazone</th>\n",
       "      <th>change</th>\n",
       "      <th>diabetesMed</th>\n",
       "      <th>readmitted</th>\n",
       "    </tr>\n",
       "  </thead>\n",
       "  <tbody>\n",
       "    <tr>\n",
       "      <th>count</th>\n",
       "      <td>101766</td>\n",
       "      <td>101766</td>\n",
       "      <td>101766</td>\n",
       "      <td>101766</td>\n",
       "      <td>101766</td>\n",
       "      <td>101766</td>\n",
       "      <td>101766</td>\n",
       "      <td>101766</td>\n",
       "      <td>101766</td>\n",
       "      <td>101766</td>\n",
       "      <td>...</td>\n",
       "      <td>101766</td>\n",
       "      <td>101766</td>\n",
       "      <td>101766</td>\n",
       "      <td>101766</td>\n",
       "      <td>101766</td>\n",
       "      <td>101766</td>\n",
       "      <td>101766</td>\n",
       "      <td>101766</td>\n",
       "      <td>101766</td>\n",
       "      <td>101766</td>\n",
       "    </tr>\n",
       "    <tr>\n",
       "      <th>unique</th>\n",
       "      <td>6</td>\n",
       "      <td>3</td>\n",
       "      <td>10</td>\n",
       "      <td>10</td>\n",
       "      <td>8</td>\n",
       "      <td>26</td>\n",
       "      <td>17</td>\n",
       "      <td>14</td>\n",
       "      <td>18</td>\n",
       "      <td>73</td>\n",
       "      <td>...</td>\n",
       "      <td>1</td>\n",
       "      <td>4</td>\n",
       "      <td>4</td>\n",
       "      <td>2</td>\n",
       "      <td>2</td>\n",
       "      <td>2</td>\n",
       "      <td>2</td>\n",
       "      <td>2</td>\n",
       "      <td>2</td>\n",
       "      <td>3</td>\n",
       "    </tr>\n",
       "    <tr>\n",
       "      <th>top</th>\n",
       "      <td>Caucasian</td>\n",
       "      <td>Female</td>\n",
       "      <td>[70-80)</td>\n",
       "      <td>?</td>\n",
       "      <td>1</td>\n",
       "      <td>1</td>\n",
       "      <td>7</td>\n",
       "      <td>3</td>\n",
       "      <td>?</td>\n",
       "      <td>?</td>\n",
       "      <td>...</td>\n",
       "      <td>No</td>\n",
       "      <td>No</td>\n",
       "      <td>No</td>\n",
       "      <td>No</td>\n",
       "      <td>No</td>\n",
       "      <td>No</td>\n",
       "      <td>No</td>\n",
       "      <td>No</td>\n",
       "      <td>Yes</td>\n",
       "      <td>NO</td>\n",
       "    </tr>\n",
       "    <tr>\n",
       "      <th>freq</th>\n",
       "      <td>76099</td>\n",
       "      <td>54708</td>\n",
       "      <td>26068</td>\n",
       "      <td>98569</td>\n",
       "      <td>53990</td>\n",
       "      <td>60234</td>\n",
       "      <td>57494</td>\n",
       "      <td>17756</td>\n",
       "      <td>40256</td>\n",
       "      <td>49949</td>\n",
       "      <td>...</td>\n",
       "      <td>101766</td>\n",
       "      <td>47383</td>\n",
       "      <td>101060</td>\n",
       "      <td>101753</td>\n",
       "      <td>101765</td>\n",
       "      <td>101764</td>\n",
       "      <td>101765</td>\n",
       "      <td>54755</td>\n",
       "      <td>78363</td>\n",
       "      <td>54864</td>\n",
       "    </tr>\n",
       "  </tbody>\n",
       "</table>\n",
       "<p>4 rows × 48 columns</p>\n",
       "</div>"
      ],
      "text/plain": [
       "             race  gender      age  weight admission_type_id  \\\n",
       "count      101766  101766   101766  101766            101766   \n",
       "unique          6       3       10      10                 8   \n",
       "top     Caucasian  Female  [70-80)       ?                 1   \n",
       "freq        76099   54708    26068   98569             53990   \n",
       "\n",
       "       discharge_disposition_id admission_source_id time_in_hospital  \\\n",
       "count                    101766              101766           101766   \n",
       "unique                       26                  17               14   \n",
       "top                           1                   7                3   \n",
       "freq                      60234               57494            17756   \n",
       "\n",
       "       payer_code medical_specialty    ...     citoglipton insulin  \\\n",
       "count      101766            101766    ...          101766  101766   \n",
       "unique         18                73    ...               1       4   \n",
       "top             ?                 ?    ...              No      No   \n",
       "freq        40256             49949    ...          101766   47383   \n",
       "\n",
       "       glyburide-metformin glipizide-metformin glimepiride-pioglitazone  \\\n",
       "count               101766              101766                   101766   \n",
       "unique                   4                   2                        2   \n",
       "top                     No                  No                       No   \n",
       "freq                101060              101753                   101765   \n",
       "\n",
       "       metformin-rosiglitazone metformin-pioglitazone  change diabetesMed  \\\n",
       "count                   101766                 101766  101766      101766   \n",
       "unique                       2                      2       2           2   \n",
       "top                         No                     No      No         Yes   \n",
       "freq                    101764                 101765   54755       78363   \n",
       "\n",
       "       readmitted  \n",
       "count      101766  \n",
       "unique          3  \n",
       "top            NO  \n",
       "freq        54864  \n",
       "\n",
       "[4 rows x 48 columns]"
      ]
     },
     "execution_count": 3,
     "metadata": {},
     "output_type": "execute_result"
    }
   ],
   "source": [
    "df.describe()"
   ]
  },
  {
   "cell_type": "code",
   "execution_count": 4,
   "metadata": {
    "scrolled": true
   },
   "outputs": [
    {
     "name": "stdout",
     "output_type": "stream",
     "text": [
      "race [Caucasian, AfricanAmerican, ?, Other, Asian, Hispanic]\n",
      "Categories (6, object): [Caucasian, AfricanAmerican, ?, Other, Asian, Hispanic]\n",
      "**************************************************\n",
      "gender [Female, Male, Unknown/Invalid]\n",
      "Categories (3, object): [Female, Male, Unknown/Invalid]\n",
      "**************************************************\n",
      "age [[0-10), [10-20), [20-30), [30-40), [40-50), [50-60), [60-70), [70-80), [80-90), [90-100)]\n",
      "Categories (10, object): [[0-10), [10-20), [20-30), [30-40), ..., [60-70), [70-80), [80-90), [90-100)]\n",
      "**************************************************\n",
      "weight [?, [75-100), [50-75), [0-25), [100-125), [25-50), [125-150), [175-200), [150-175), >200]\n",
      "Categories (10, object): [?, [75-100), [50-75), [0-25), ..., [125-150), [175-200), [150-175), >200]\n",
      "**************************************************\n",
      "admission_type_id [6, 1, 2, 3, 4, 5, 8, 7]\n",
      "Categories (8, object): [6, 1, 2, 3, 4, 5, 8, 7]\n",
      "**************************************************\n",
      "discharge_disposition_id [25, 1, 3, 6, 2, ..., 15, 24, 28, 19, 27]\n",
      "Length: 26\n",
      "Categories (26, object): [25, 1, 3, 6, ..., 24, 28, 19, 27]\n",
      "**************************************************\n",
      "admission_source_id [1, 7, 2, 4, 5, ..., 10, 22, 11, 25, 13]\n",
      "Length: 17\n",
      "Categories (17, object): [1, 7, 2, 4, ..., 22, 11, 25, 13]\n",
      "**************************************************\n",
      "time_in_hospital [1, 3, 2, 4, 5, ..., 10, 6, 11, 8, 14]\n",
      "Length: 14\n",
      "Categories (14, object): [1, 3, 2, 4, ..., 6, 11, 8, 14]\n",
      "**************************************************\n",
      "payer_code [?, MC, MD, HM, UN, ..., WC, OT, OG, MP, FR]\n",
      "Length: 18\n",
      "Categories (18, object): [?, MC, MD, HM, ..., OT, OG, MP, FR]\n",
      "**************************************************\n",
      "medical_specialty [Pediatrics-Endocrinology, ?, InternalMedicine, Family/GeneralPractice, Cardiology, ..., Perinatology, Neurophysiology, Endocrinology-Metabolism, DCPTEAM, Resident]\n",
      "Length: 73\n",
      "Categories (73, object): [Pediatrics-Endocrinology, ?, InternalMedicine, Family/GeneralPractice, ..., Neurophysiology, Endocrinology-Metabolism, DCPTEAM, Resident]\n",
      "**************************************************\n",
      "num_lab_procedures [41, 59, 11, 44, 51, ..., 120, 132, 121, 126, 118]\n",
      "Length: 118\n",
      "Categories (118, object): [41, 59, 11, 44, ..., 132, 121, 126, 118]\n",
      "**************************************************\n",
      "num_procedures [0, 5, 1, 6, 2, 3, 4]\n",
      "Categories (7, object): [0, 5, 1, 6, 2, 3, 4]\n",
      "**************************************************\n",
      "num_medications [1, 18, 13, 16, 8, ..., 81, 79, 75, 72, 74]\n",
      "Length: 75\n",
      "Categories (75, object): [1, 18, 13, 16, ..., 79, 75, 72, 74]\n",
      "**************************************************\n",
      "number_outpatient [0, 2, 1, 5, 7, ..., 23, 28, 37, 38, 40]\n",
      "Length: 39\n",
      "Categories (39, object): [0, 2, 1, 5, ..., 28, 37, 38, 40]\n",
      "**************************************************\n",
      "number_emergency [0, 1, 2, 4, 3, ..., 64, 63, 54, 24, 29]\n",
      "Length: 33\n",
      "Categories (33, object): [0, 1, 2, 4, ..., 63, 54, 24, 29]\n",
      "**************************************************\n",
      "number_inpatient [0, 1, 2, 3, 6, ..., 17, 16, 21, 18, 19]\n",
      "Length: 21\n",
      "Categories (21, object): [0, 1, 2, 3, ..., 16, 21, 18, 19]\n",
      "**************************************************\n",
      "diag_1 [250.83, 276, 648, 8, 197, ..., 833, 391, 690, 10, V51]\n",
      "Length: 717\n",
      "Categories (717, object): [250.83, 276, 648, 8, ..., 391, 690, 10, V51]\n",
      "**************************************************\n",
      "diag_2 [?, 250.01, 250, 250.43, 157, ..., 123, 884, V60, 843, 927]\n",
      "Length: 749\n",
      "Categories (749, object): [?, 250.01, 250, 250.43, ..., 884, V60, 843, 927]\n",
      "**************************************************\n",
      "diag_3 [?, 255, V27, 403, 250, ..., 14, 750, 370, 671, 971]\n",
      "Length: 790\n",
      "Categories (790, object): [?, 255, V27, 403, ..., 750, 370, 671, 971]\n",
      "**************************************************\n",
      "number_diagnoses [1, 9, 6, 7, 5, ..., 13, 15, 10, 11, 14]\n",
      "Length: 16\n",
      "Categories (16, object): [1, 9, 6, 7, ..., 15, 10, 11, 14]\n",
      "**************************************************\n",
      "max_glu_serum [None, >300, Norm, >200]\n",
      "Categories (4, object): [None, >300, Norm, >200]\n",
      "**************************************************\n",
      "A1Cresult [None, >7, >8, Norm]\n",
      "Categories (4, object): [None, >7, >8, Norm]\n",
      "**************************************************\n",
      "metformin [No, Steady, Up, Down]\n",
      "Categories (4, object): [No, Steady, Up, Down]\n",
      "**************************************************\n",
      "repaglinide [No, Up, Steady, Down]\n",
      "Categories (4, object): [No, Up, Steady, Down]\n",
      "**************************************************\n",
      "nateglinide [No, Steady, Down, Up]\n",
      "Categories (4, object): [No, Steady, Down, Up]\n",
      "**************************************************\n",
      "chlorpropamide [No, Steady, Down, Up]\n",
      "Categories (4, object): [No, Steady, Down, Up]\n",
      "**************************************************\n",
      "glimepiride [No, Steady, Down, Up]\n",
      "Categories (4, object): [No, Steady, Down, Up]\n",
      "**************************************************\n",
      "acetohexamide [No, Steady]\n",
      "Categories (2, object): [No, Steady]\n",
      "**************************************************\n",
      "glipizide [No, Steady, Up, Down]\n",
      "Categories (4, object): [No, Steady, Up, Down]\n",
      "**************************************************\n",
      "glyburide [No, Steady, Up, Down]\n",
      "Categories (4, object): [No, Steady, Up, Down]\n",
      "**************************************************\n",
      "tolbutamide [No, Steady]\n",
      "Categories (2, object): [No, Steady]\n",
      "**************************************************\n",
      "pioglitazone [No, Steady, Up, Down]\n",
      "Categories (4, object): [No, Steady, Up, Down]\n",
      "**************************************************\n",
      "rosiglitazone [No, Steady, Up, Down]\n",
      "Categories (4, object): [No, Steady, Up, Down]\n",
      "**************************************************\n",
      "acarbose [No, Steady, Up, Down]\n",
      "Categories (4, object): [No, Steady, Up, Down]\n",
      "**************************************************\n",
      "miglitol [No, Steady, Down, Up]\n",
      "Categories (4, object): [No, Steady, Down, Up]\n",
      "**************************************************\n",
      "troglitazone [No, Steady]\n",
      "Categories (2, object): [No, Steady]\n",
      "**************************************************\n",
      "tolazamide [No, Steady, Up]\n",
      "Categories (3, object): [No, Steady, Up]\n",
      "**************************************************\n",
      "examide [No]\n",
      "Categories (1, object): [No]\n",
      "**************************************************\n",
      "citoglipton [No]\n",
      "Categories (1, object): [No]\n",
      "**************************************************\n",
      "insulin [No, Up, Steady, Down]\n",
      "Categories (4, object): [No, Up, Steady, Down]\n",
      "**************************************************\n",
      "glyburide-metformin [No, Steady, Down, Up]\n",
      "Categories (4, object): [No, Steady, Down, Up]\n",
      "**************************************************\n",
      "glipizide-metformin [No, Steady]\n",
      "Categories (2, object): [No, Steady]\n",
      "**************************************************\n",
      "glimepiride-pioglitazone [No, Steady]\n",
      "Categories (2, object): [No, Steady]\n",
      "**************************************************\n",
      "metformin-rosiglitazone [No, Steady]\n",
      "Categories (2, object): [No, Steady]\n",
      "**************************************************\n",
      "metformin-pioglitazone [No, Steady]\n",
      "Categories (2, object): [No, Steady]\n",
      "**************************************************\n",
      "change [No, Ch]\n",
      "Categories (2, object): [No, Ch]\n",
      "**************************************************\n",
      "diabetesMed [No, Yes]\n",
      "Categories (2, object): [No, Yes]\n",
      "**************************************************\n",
      "readmitted [NO, >30, <30]\n",
      "Categories (3, object): [NO, >30, <30]\n",
      "**************************************************\n"
     ]
    }
   ],
   "source": [
    "def show_unique(dataF):\n",
    "    for c in dataF.columns:\n",
    "        print(c, dataF[c].unique())\n",
    "        print('*'*50)\n",
    "\n",
    "show_unique(df)"
   ]
  },
  {
   "cell_type": "markdown",
   "metadata": {},
   "source": [
    "### <font color =blue>1. remove columns with missing data</font>"
   ]
  },
  {
   "cell_type": "code",
   "execution_count": 5,
   "metadata": {
    "scrolled": false
   },
   "outputs": [
    {
     "data": {
      "text/html": [
       "<div>\n",
       "<style scoped>\n",
       "    .dataframe tbody tr th:only-of-type {\n",
       "        vertical-align: middle;\n",
       "    }\n",
       "\n",
       "    .dataframe tbody tr th {\n",
       "        vertical-align: top;\n",
       "    }\n",
       "\n",
       "    .dataframe thead th {\n",
       "        text-align: right;\n",
       "    }\n",
       "</style>\n",
       "<table border=\"1\" class=\"dataframe\">\n",
       "  <thead>\n",
       "    <tr style=\"text-align: right;\">\n",
       "      <th></th>\n",
       "      <th>race</th>\n",
       "      <th>gender</th>\n",
       "      <th>age</th>\n",
       "      <th>admission_type_id</th>\n",
       "      <th>discharge_disposition_id</th>\n",
       "      <th>admission_source_id</th>\n",
       "      <th>time_in_hospital</th>\n",
       "      <th>num_lab_procedures</th>\n",
       "      <th>num_procedures</th>\n",
       "      <th>num_medications</th>\n",
       "      <th>...</th>\n",
       "      <th>citoglipton</th>\n",
       "      <th>insulin</th>\n",
       "      <th>glyburide-metformin</th>\n",
       "      <th>glipizide-metformin</th>\n",
       "      <th>glimepiride-pioglitazone</th>\n",
       "      <th>metformin-rosiglitazone</th>\n",
       "      <th>metformin-pioglitazone</th>\n",
       "      <th>change</th>\n",
       "      <th>diabetesMed</th>\n",
       "      <th>readmitted</th>\n",
       "    </tr>\n",
       "  </thead>\n",
       "  <tbody>\n",
       "    <tr>\n",
       "      <th>0</th>\n",
       "      <td>Caucasian</td>\n",
       "      <td>Female</td>\n",
       "      <td>[0-10)</td>\n",
       "      <td>6</td>\n",
       "      <td>25</td>\n",
       "      <td>1</td>\n",
       "      <td>1</td>\n",
       "      <td>41</td>\n",
       "      <td>0</td>\n",
       "      <td>1</td>\n",
       "      <td>...</td>\n",
       "      <td>No</td>\n",
       "      <td>No</td>\n",
       "      <td>No</td>\n",
       "      <td>No</td>\n",
       "      <td>No</td>\n",
       "      <td>No</td>\n",
       "      <td>No</td>\n",
       "      <td>No</td>\n",
       "      <td>No</td>\n",
       "      <td>NO</td>\n",
       "    </tr>\n",
       "    <tr>\n",
       "      <th>1</th>\n",
       "      <td>Caucasian</td>\n",
       "      <td>Female</td>\n",
       "      <td>[10-20)</td>\n",
       "      <td>1</td>\n",
       "      <td>1</td>\n",
       "      <td>7</td>\n",
       "      <td>3</td>\n",
       "      <td>59</td>\n",
       "      <td>0</td>\n",
       "      <td>18</td>\n",
       "      <td>...</td>\n",
       "      <td>No</td>\n",
       "      <td>Up</td>\n",
       "      <td>No</td>\n",
       "      <td>No</td>\n",
       "      <td>No</td>\n",
       "      <td>No</td>\n",
       "      <td>No</td>\n",
       "      <td>Ch</td>\n",
       "      <td>Yes</td>\n",
       "      <td>&gt;30</td>\n",
       "    </tr>\n",
       "  </tbody>\n",
       "</table>\n",
       "<p>2 rows × 45 columns</p>\n",
       "</div>"
      ],
      "text/plain": [
       "        race  gender      age admission_type_id discharge_disposition_id  \\\n",
       "0  Caucasian  Female   [0-10)                 6                       25   \n",
       "1  Caucasian  Female  [10-20)                 1                        1   \n",
       "\n",
       "  admission_source_id time_in_hospital num_lab_procedures num_procedures  \\\n",
       "0                   1                1                 41              0   \n",
       "1                   7                3                 59              0   \n",
       "\n",
       "  num_medications    ...     citoglipton insulin glyburide-metformin  \\\n",
       "0               1    ...              No      No                  No   \n",
       "1              18    ...              No      Up                  No   \n",
       "\n",
       "  glipizide-metformin glimepiride-pioglitazone metformin-rosiglitazone  \\\n",
       "0                  No                       No                      No   \n",
       "1                  No                       No                      No   \n",
       "\n",
       "  metformin-pioglitazone change diabetesMed readmitted  \n",
       "0                     No     No          No         NO  \n",
       "1                     No     Ch         Yes        >30  \n",
       "\n",
       "[2 rows x 45 columns]"
      ]
     },
     "execution_count": 5,
     "metadata": {},
     "output_type": "execute_result"
    }
   ],
   "source": [
    "#replacing medical speciality with missing\n",
    "df = df.drop(columns=['weight', 'payer_code' , 'medical_specialty'])\n",
    "df.head(2)"
   ]
  },
  {
   "cell_type": "markdown",
   "metadata": {},
   "source": [
    "### <font color=blue> 2. remove incomplete columns and rows </font>"
   ]
  },
  {
   "cell_type": "code",
   "execution_count": 6,
   "metadata": {
    "scrolled": true
   },
   "outputs": [],
   "source": [
    "df = df.drop(columns= df.columns[df.nunique() == 1])"
   ]
  },
  {
   "cell_type": "markdown",
   "metadata": {},
   "source": [
    "### <font color = blue>3. categorical variables</font>"
   ]
  },
  {
   "cell_type": "code",
   "execution_count": 7,
   "metadata": {},
   "outputs": [],
   "source": [
    "df[\"age\"] = np.where(df.age == '[0-10)','[0-30]', np.where(df.age == '[10-20)','[0-30]',\n",
    "                 np.where(df.age == '[20-30)','[0-30]',np.where(df.age == '[30-40)','[30-60]',np.where(df.age == '[40-50)'\n",
    "                 ,'[30-60]',np.where(df.age == '[50-60)','[30-60]','[60-100]'))))))"
   ]
  },
  {
   "cell_type": "code",
   "execution_count": 8,
   "metadata": {},
   "outputs": [],
   "source": [
    "to_num = ['time_in_hospital', 'num_lab_procedures', 'num_procedures',\n",
    "         'num_medications', 'number_outpatient', 'number_emergency',\n",
    "         'number_inpatient', 'number_diagnoses']\n",
    "\n",
    "to_cat_codes = list(set(df.columns) - set(to_num))\n"
   ]
  },
  {
   "cell_type": "code",
   "execution_count": 9,
   "metadata": {},
   "outputs": [],
   "source": [
    "df.age = df['age'].astype('category')"
   ]
  },
  {
   "cell_type": "code",
   "execution_count": 10,
   "metadata": {},
   "outputs": [],
   "source": [
    "X_features = list(to_num)\n",
    "for c in to_cat_codes:\n",
    "    df[c+'_cat'] = df[c].cat.codes\n",
    "    X_features += [c+'_cat']\n",
    "    \n",
    "X_features.remove('readmitted_cat')"
   ]
  },
  {
   "cell_type": "code",
   "execution_count": 11,
   "metadata": {},
   "outputs": [],
   "source": [
    "df[\"readmitted_bin\"] = np.where(df.readmitted == '<30', 1, np.where(df.readmitted == '>30',1,0))  \n",
    "df[[\"readmitted\",\"readmitted_bin\"]].head(10)\n",
    "X_features.append(\"readmitted_bin\")"
   ]
  },
  {
   "cell_type": "code",
   "execution_count": 12,
   "metadata": {},
   "outputs": [],
   "source": [
    "df = df[X_features]\n"
   ]
  },
  {
   "cell_type": "markdown",
   "metadata": {},
   "source": [
    "#### <font color=red>Target Mapping: < 30 = 1, >30 = 1, NO = 0, </font>"
   ]
  },
  {
   "cell_type": "markdown",
   "metadata": {},
   "source": [
    "### <font color=blue>4. split</font>"
   ]
  },
  {
   "cell_type": "code",
   "execution_count": 13,
   "metadata": {},
   "outputs": [],
   "source": [
    "X_train, X_test, y_train, y_test = train_test_split(\n",
    "    df.loc[:, df.columns != 'readmitted_bin'], df['readmitted_bin'] , random_state = 0)"
   ]
  },
  {
   "cell_type": "code",
   "execution_count": 14,
   "metadata": {},
   "outputs": [
    {
     "name": "stdout",
     "output_type": "stream",
     "text": [
      "Index(['time_in_hospital', 'num_lab_procedures', 'num_procedures',\n",
      "       'num_medications', 'number_outpatient', 'number_emergency',\n",
      "       'number_inpatient', 'number_diagnoses', 'discharge_disposition_id_cat',\n",
      "       'miglitol_cat', 'glipizide_cat', 'diag_3_cat',\n",
      "       'glipizide-metformin_cat', 'metformin-pioglitazone_cat',\n",
      "       'repaglinide_cat', 'diag_1_cat', 'admission_type_id_cat',\n",
      "       'acetohexamide_cat', 'glimepiride-pioglitazone_cat', 'tolazamide_cat',\n",
      "       'glimepiride_cat', 'rosiglitazone_cat', 'diag_2_cat', 'nateglinide_cat',\n",
      "       'A1Cresult_cat', 'acarbose_cat', 'pioglitazone_cat', 'gender_cat',\n",
      "       'max_glu_serum_cat', 'tolbutamide_cat', 'metformin_cat', 'race_cat',\n",
      "       'metformin-rosiglitazone_cat', 'insulin_cat', 'troglitazone_cat',\n",
      "       'change_cat', 'age_cat', 'glyburide_cat', 'admission_source_id_cat',\n",
      "       'glyburide-metformin_cat', 'chlorpropamide_cat', 'diabetesMed_cat'],\n",
      "      dtype='object')\n",
      "(76324,)\n"
     ]
    }
   ],
   "source": [
    "print(X_train.columns)\n",
    "print(y_train.shape)"
   ]
  },
  {
   "cell_type": "markdown",
   "metadata": {},
   "source": [
    "### <font color=blue>5. min max scaling</font>"
   ]
  },
  {
   "cell_type": "code",
   "execution_count": 15,
   "metadata": {},
   "outputs": [
    {
     "data": {
      "text/plain": [
       "(76324, 42)"
      ]
     },
     "execution_count": 15,
     "metadata": {},
     "output_type": "execute_result"
    }
   ],
   "source": [
    "scaler = StandardScaler()\n",
    "X_train[to_num] = scaler.fit_transform(X_train[to_num])\n",
    "X_test[to_num] = scaler.transform(X_test[to_num])\n",
    "X_train.shape\n"
   ]
  },
  {
   "cell_type": "markdown",
   "metadata": {},
   "source": [
    "#### after scale"
   ]
  },
  {
   "cell_type": "markdown",
   "metadata": {},
   "source": [
    "## <font color=green> LinearSVM</font>"
   ]
  },
  {
   "cell_type": "code",
   "execution_count": 16,
   "metadata": {},
   "outputs": [],
   "source": [
    "def plot_confusion(clf):\n",
    "    svm_predicted_mc = clf.predict(X_test)\n",
    "    confusion_mc = confusion_matrix(y_test, svm_predicted_mc)\n",
    "    df_cm = pd.DataFrame(confusion_mc, \n",
    "                         index = [i for i in range(0,2)], columns = [i for i in range(0,2)])\n",
    "\n",
    "    plt.figure(figsize=(6,4))\n",
    "    ax_ticks= ['No','Yes']\n",
    "    sns.heatmap(df_cm, annot=True, xticklabels=ax_ticks, yticklabels=ax_ticks, fmt='g')\n",
    "    plt.title('SVM Linear Kernel \\nAccuracy:{0:.3f}'.format(accuracy_score(y_test, \n",
    "                                                                           svm_predicted_mc)))\n",
    "    plt.ylabel('True label')\n",
    "    plt.xlabel('Predicted label')\n",
    "    \n",
    "    print('Micro-averaged precision = {:.2f} (treat instances equally)'\n",
    "      .format(precision_score(y_test, svm_predicted_mc, average = 'micro')))\n",
    "    print('Macro-averaged precision = {:.2f} (treat classes equally)'\n",
    "      .format(precision_score(y_test, svm_predicted_mc, average = 'macro')))\n",
    "    print('Micro-averaged f1 = {:.2f} (treat instances equally)'\n",
    "          .format(f1_score(y_test, svm_predicted_mc, average = 'micro')))\n",
    "    print('Macro-averaged f1 = {:.2f} (treat classes equally)'\n",
    "          .format(f1_score(y_test, svm_predicted_mc, average = 'macro')))\n",
    "    print(classification_report(y_test, svm_predicted_mc))\n",
    "\n"
   ]
  },
  {
   "cell_type": "code",
   "execution_count": 17,
   "metadata": {},
   "outputs": [
    {
     "name": "stdout",
     "output_type": "stream",
     "text": [
      "[LibLinear]"
     ]
    },
    {
     "name": "stderr",
     "output_type": "stream",
     "text": [
      "C:\\Users\\DELL\\Anaconda3\\envs\\tfp3.6\\lib\\site-packages\\sklearn\\svm\\base.py:898: ConvergenceWarning: Liblinear failed to converge, increase the number of iterations.\n",
      "  \"the number of iterations.\", ConvergenceWarning)\n"
     ]
    },
    {
     "name": "stdout",
     "output_type": "stream",
     "text": [
      "training accuracy: 0.55\n",
      "test accuracy: 0.55\n",
      "Wall time: 17.3 s\n"
     ]
    }
   ],
   "source": [
    "%%time\n",
    "clf = LinearSVC(verbose=True).fit(X_train, y_train)\n",
    "\n",
    "print('training accuracy: {:.2f}'.format(clf.score(X_train, y_train)))\n",
    "print('test accuracy: {:.2f}'.format(clf.score(X_test, y_test)))\n"
   ]
  },
  {
   "cell_type": "code",
   "execution_count": 18,
   "metadata": {},
   "outputs": [
    {
     "name": "stdout",
     "output_type": "stream",
     "text": [
      "Micro-averaged precision = 0.55 (treat instances equally)\n",
      "Macro-averaged precision = 0.68 (treat classes equally)\n",
      "Micro-averaged f1 = 0.55 (treat instances equally)\n",
      "Macro-averaged f1 = 0.37 (treat classes equally)\n",
      "             precision    recall  f1-score   support\n",
      "\n",
      "          0       0.54      1.00      0.70     13709\n",
      "          1       0.82      0.02      0.05     11733\n",
      "\n",
      "avg / total       0.67      0.55      0.40     25442\n",
      "\n"
     ]
    },
    {
     "data": {
      "image/png": "[encoded data removed]",
      "text/plain": [
       "<Figure size 432x288 with 2 Axes>"
      ]
     },
     "metadata": {},
     "output_type": "display_data"
    }
   ],
   "source": [
    "plot_confusion(clf)"
   ]
  },
  {
   "cell_type": "markdown",
   "metadata": {},
   "source": [
    "# Taking only Numerical columns and age"
   ]
  },
  {
   "cell_type": "code",
   "execution_count": 22,
   "metadata": {},
   "outputs": [
    {
     "name": "stdout",
     "output_type": "stream",
     "text": [
      "['time_in_hospital', 'age_cat', 'num_procedures', 'number_emergency', 'number_inpatient', 'num_medications', 'num_lab_procedures', 'number_outpatient', 'number_diagnoses']\n",
      "[LibLinear]"
     ]
    },
    {
     "name": "stderr",
     "output_type": "stream",
     "text": [
      "C:\\Users\\DELL\\Anaconda3\\envs\\tfp3.6\\lib\\site-packages\\sklearn\\svm\\base.py:898: ConvergenceWarning: Liblinear failed to converge, increase the number of iterations.\n",
      "  \"the number of iterations.\", ConvergenceWarning)\n"
     ]
    },
    {
     "name": "stdout",
     "output_type": "stream",
     "text": [
      "training accuracy: 0.61\n",
      "test accuracy: 0.62\n",
      "Wall time: 10.6 s\n"
     ]
    }
   ],
   "source": [
    "%%time\n",
    "columnslist = ['age_cat']\n",
    "for c in columnslist:\n",
    "    to_num.append(c)\n",
    "to_num = list(set(to_num))\n",
    "print(to_num)\n",
    "X_train = X_train[to_num]\n",
    "\n",
    "X_test = X_test[to_num]\n",
    "\n",
    "clf = LinearSVC(verbose=True).fit(X_train, y_train)\n",
    "\n",
    "print('training accuracy: {:.2f}'.format(clf.score(X_train, y_train)))\n",
    "print('test accuracy: {:.2f}'.format(clf.score(X_test, y_test)))"
   ]
  },
  {
   "cell_type": "code",
   "execution_count": 23,
   "metadata": {},
   "outputs": [
    {
     "name": "stdout",
     "output_type": "stream",
     "text": [
      "Micro-averaged precision = 0.62 (treat instances equally)\n",
      "Macro-averaged precision = 0.62 (treat classes equally)\n",
      "Micro-averaged f1 = 0.62 (treat instances equally)\n",
      "Macro-averaged f1 = 0.59 (treat classes equally)\n",
      "             precision    recall  f1-score   support\n",
      "\n",
      "          0       0.61      0.82      0.70     13709\n",
      "          1       0.64      0.38      0.47     11733\n",
      "\n",
      "avg / total       0.62      0.62      0.59     25442\n",
      "\n"
     ]
    },
    {
     "data": {
      "image/png": "[encoded data removed]",
      "text/plain": [
       "<Figure size 432x288 with 2 Axes>"
      ]
     },
     "metadata": {},
     "output_type": "display_data"
    }
   ],
   "source": [
    "def plot_confusion(clf):\n",
    "    svm_predicted_mc = clf.predict(X_test)\n",
    "    confusion_mc = confusion_matrix(y_test, svm_predicted_mc)\n",
    "    df_cm = pd.DataFrame(confusion_mc, \n",
    "                         index = [i for i in range(0,2)], columns = [i for i in range(0,2)])\n",
    "\n",
    "    plt.figure(figsize=(6,4))\n",
    "    ax_ticks= ['No','Yes']\n",
    "    sns.heatmap(df_cm, annot=True, xticklabels=ax_ticks, yticklabels=ax_ticks, fmt='g')\n",
    "    plt.title('SVM Linear Kernel \\nAccuracy:{0:.3f}'.format(accuracy_score(y_test, \n",
    "                                                                           svm_predicted_mc)))\n",
    "    plt.ylabel('True label')\n",
    "    plt.xlabel('Predicted label')\n",
    "    \n",
    "    print('Micro-averaged precision = {:.2f} (treat instances equally)'\n",
    "      .format(precision_score(y_test, svm_predicted_mc, average = 'micro')))\n",
    "    print('Macro-averaged precision = {:.2f} (treat classes equally)'\n",
    "      .format(precision_score(y_test, svm_predicted_mc, average = 'macro')))\n",
    "    print('Micro-averaged f1 = {:.2f} (treat instances equally)'\n",
    "          .format(f1_score(y_test, svm_predicted_mc, average = 'micro')))\n",
    "    print('Macro-averaged f1 = {:.2f} (treat classes equally)'\n",
    "          .format(f1_score(y_test, svm_predicted_mc, average = 'macro')))\n",
    "    print(classification_report(y_test, svm_predicted_mc))\n",
    "\n",
    "plot_confusion(clf)"
   ]
  },
  {
   "cell_type": "code",
   "execution_count": null,
   "metadata": {},
   "outputs": [],
   "source": []
  }
 ],
 "metadata": {
  "kernelspec": {
   "display_name": "Python [conda env:tfp3.6]",
   "language": "python",
   "name": "conda-env-tfp3.6-py"
  },
  "language_info": {
   "codemirror_mode": {
    "name": "ipython",
    "version": 3
   },
   "file_extension": ".py",
   "mimetype": "text/x-python",
   "name": "python",
   "nbconvert_exporter": "python",
   "pygments_lexer": "ipython3",
   "version": "3.6.5"
  }
 },
 "nbformat": 4,
 "nbformat_minor": 2
}

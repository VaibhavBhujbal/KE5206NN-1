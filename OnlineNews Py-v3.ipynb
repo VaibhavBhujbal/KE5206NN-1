{
 "cells": [
  {
   "cell_type": "markdown",
   "metadata": {},
   "source": [
    "## Online News"
   ]
  },
  {
   "cell_type": "code",
   "execution_count": 1,
   "metadata": {},
   "outputs": [
    {
     "data": {
      "text/html": [
       "<div>\n",
       "<style scoped>\n",
       "    .dataframe tbody tr th:only-of-type {\n",
       "        vertical-align: middle;\n",
       "    }\n",
       "\n",
       "    .dataframe tbody tr th {\n",
       "        vertical-align: top;\n",
       "    }\n",
       "\n",
       "    .dataframe thead th {\n",
       "        text-align: right;\n",
       "    }\n",
       "</style>\n",
       "<table border=\"1\" class=\"dataframe\">\n",
       "  <thead>\n",
       "    <tr style=\"text-align: right;\">\n",
       "      <th></th>\n",
       "      <th>Unnamed: 0</th>\n",
       "      <th>shares</th>\n",
       "      <th>PC1</th>\n",
       "      <th>PC2</th>\n",
       "      <th>PC3</th>\n",
       "      <th>PC4</th>\n",
       "      <th>PC5</th>\n",
       "      <th>PC6</th>\n",
       "      <th>PC7</th>\n",
       "      <th>PC8</th>\n",
       "      <th>...</th>\n",
       "      <th>PC17</th>\n",
       "      <th>PC18</th>\n",
       "      <th>PC19</th>\n",
       "      <th>PC20</th>\n",
       "      <th>PC21</th>\n",
       "      <th>PC22</th>\n",
       "      <th>PC23</th>\n",
       "      <th>PC24</th>\n",
       "      <th>PC25</th>\n",
       "      <th>shares_normalized</th>\n",
       "    </tr>\n",
       "  </thead>\n",
       "  <tbody>\n",
       "    <tr>\n",
       "      <th>0</th>\n",
       "      <td>1</td>\n",
       "      <td>3800</td>\n",
       "      <td>-0.514464</td>\n",
       "      <td>0.270349</td>\n",
       "      <td>0.150524</td>\n",
       "      <td>0.658502</td>\n",
       "      <td>-0.400580</td>\n",
       "      <td>-1.141240</td>\n",
       "      <td>0.653797</td>\n",
       "      <td>-0.123796</td>\n",
       "      <td>...</td>\n",
       "      <td>-1.564416</td>\n",
       "      <td>-0.367786</td>\n",
       "      <td>-0.343440</td>\n",
       "      <td>0.761752</td>\n",
       "      <td>-0.136820</td>\n",
       "      <td>-0.336795</td>\n",
       "      <td>-0.238400</td>\n",
       "      <td>-0.050292</td>\n",
       "      <td>-0.004404</td>\n",
       "      <td>0.550262</td>\n",
       "    </tr>\n",
       "    <tr>\n",
       "      <th>1</th>\n",
       "      <td>2</td>\n",
       "      <td>1500</td>\n",
       "      <td>-0.962429</td>\n",
       "      <td>-0.916608</td>\n",
       "      <td>-0.058130</td>\n",
       "      <td>0.201494</td>\n",
       "      <td>0.517517</td>\n",
       "      <td>-0.486776</td>\n",
       "      <td>-0.234707</td>\n",
       "      <td>-0.538595</td>\n",
       "      <td>...</td>\n",
       "      <td>-0.199748</td>\n",
       "      <td>-0.173496</td>\n",
       "      <td>-0.515639</td>\n",
       "      <td>-0.413213</td>\n",
       "      <td>0.135065</td>\n",
       "      <td>-0.000061</td>\n",
       "      <td>-0.193192</td>\n",
       "      <td>-0.070345</td>\n",
       "      <td>-0.003562</td>\n",
       "      <td>0.217121</td>\n",
       "    </tr>\n",
       "  </tbody>\n",
       "</table>\n",
       "<p>2 rows × 28 columns</p>\n",
       "</div>"
      ],
      "text/plain": [
       "   Unnamed: 0  shares       PC1       PC2       PC3       PC4       PC5  \\\n",
       "0           1    3800 -0.514464  0.270349  0.150524  0.658502 -0.400580   \n",
       "1           2    1500 -0.962429 -0.916608 -0.058130  0.201494  0.517517   \n",
       "\n",
       "        PC6       PC7       PC8        ...              PC17      PC18  \\\n",
       "0 -1.141240  0.653797 -0.123796        ...         -1.564416 -0.367786   \n",
       "1 -0.486776 -0.234707 -0.538595        ...         -0.199748 -0.173496   \n",
       "\n",
       "       PC19      PC20      PC21      PC22      PC23      PC24      PC25  \\\n",
       "0 -0.343440  0.761752 -0.136820 -0.336795 -0.238400 -0.050292 -0.004404   \n",
       "1 -0.515639 -0.413213  0.135065 -0.000061 -0.193192 -0.070345 -0.003562   \n",
       "\n",
       "   shares_normalized  \n",
       "0           0.550262  \n",
       "1           0.217121  \n",
       "\n",
       "[2 rows x 28 columns]"
      ]
     },
     "execution_count": 1,
     "metadata": {},
     "output_type": "execute_result"
    }
   ],
   "source": [
    "%matplotlib notebook\n",
    "import numpy as np\n",
    "import pandas as pd\n",
    "import matplotlib.pyplot as plt\n",
    "from sklearn.neural_network import MLPRegressor\n",
    "from neupy import algorithms, layers, estimators, environment\n",
    "from tqdm import tqdm\n",
    "\n",
    "\n",
    "df_train = pd.read_csv(\"NormalizedPCA.csv\")\n",
    "df_test = pd.read_csv(\"NormalizedPCA_test.csv\")\n",
    "\n",
    "df_train.head(2)"
   ]
  },
  {
   "cell_type": "code",
   "execution_count": 2,
   "metadata": {},
   "outputs": [
    {
     "data": {
      "text/plain": [
       "Index(['Unnamed: 0', 'shares', 'PC1', 'PC2', 'PC3', 'PC4', 'PC5', 'PC6', 'PC7',\n",
       "       'PC8', 'PC9', 'PC10', 'PC11', 'PC12', 'PC13', 'PC14', 'PC15', 'PC16',\n",
       "       'PC17', 'PC18', 'PC19', 'PC20', 'PC21', 'PC22', 'PC23', 'PC24', 'PC25',\n",
       "       'shares_normalized'],\n",
       "      dtype='object')"
      ]
     },
     "execution_count": 2,
     "metadata": {},
     "output_type": "execute_result"
    }
   ],
   "source": [
    "df_train.columns"
   ]
  },
  {
   "cell_type": "code",
   "execution_count": 3,
   "metadata": {},
   "outputs": [],
   "source": [
    "X_train = df_train.loc[:,'PC1':'PC20']\n",
    "y_train = df_train['shares']\n",
    "\n",
    "X_test = df_test.loc[:,'PC1':'PC20']\n",
    "y_test = df_test['shares']"
   ]
  },
  {
   "cell_type": "markdown",
   "metadata": {},
   "source": [
    "## MLP"
   ]
  },
  {
   "cell_type": "code",
   "execution_count": 4,
   "metadata": {},
   "outputs": [
    {
     "name": "stderr",
     "output_type": "stream",
     "text": [
      "100%|██████████| 3/3 [06:54<00:00, 138.14s/it]\n"
     ]
    },
    {
     "data": {
      "text/html": [
       "<div>\n",
       "<style scoped>\n",
       "    .dataframe tbody tr th:only-of-type {\n",
       "        vertical-align: middle;\n",
       "    }\n",
       "\n",
       "    .dataframe tbody tr th {\n",
       "        vertical-align: top;\n",
       "    }\n",
       "\n",
       "    .dataframe thead th {\n",
       "        text-align: right;\n",
       "    }\n",
       "</style>\n",
       "<table border=\"1\" class=\"dataframe\">\n",
       "  <thead>\n",
       "    <tr style=\"text-align: right;\">\n",
       "      <th></th>\n",
       "      <th>size x size</th>\n",
       "      <th>alpha</th>\n",
       "      <th>activation</th>\n",
       "      <th>R^2 score</th>\n",
       "    </tr>\n",
       "  </thead>\n",
       "  <tbody>\n",
       "    <tr>\n",
       "      <th>4</th>\n",
       "      <td>50</td>\n",
       "      <td>1.0000</td>\n",
       "      <td>tanh</td>\n",
       "      <td>0.002131</td>\n",
       "    </tr>\n",
       "    <tr>\n",
       "      <th>21</th>\n",
       "      <td>10</td>\n",
       "      <td>1.0000</td>\n",
       "      <td>logistic</td>\n",
       "      <td>0.000774</td>\n",
       "    </tr>\n",
       "    <tr>\n",
       "      <th>1</th>\n",
       "      <td>50</td>\n",
       "      <td>0.0001</td>\n",
       "      <td>tanh</td>\n",
       "      <td>0.000694</td>\n",
       "    </tr>\n",
       "    <tr>\n",
       "      <th>18</th>\n",
       "      <td>10</td>\n",
       "      <td>0.0001</td>\n",
       "      <td>logistic</td>\n",
       "      <td>0.000247</td>\n",
       "    </tr>\n",
       "    <tr>\n",
       "      <th>6</th>\n",
       "      <td>10</td>\n",
       "      <td>100.0000</td>\n",
       "      <td>tanh</td>\n",
       "      <td>0.000225</td>\n",
       "    </tr>\n",
       "  </tbody>\n",
       "</table>\n",
       "</div>"
      ],
      "text/plain": [
       "    size x size     alpha activation  R^2 score\n",
       "4            50    1.0000       tanh   0.002131\n",
       "21           10    1.0000   logistic   0.000774\n",
       "1            50    0.0001       tanh   0.000694\n",
       "18           10    0.0001   logistic   0.000247\n",
       "6            10  100.0000       tanh   0.000225"
      ]
     },
     "execution_count": 4,
     "metadata": {},
     "output_type": "execute_result"
    }
   ],
   "source": [
    "result = []\n",
    "for thisactivation in tqdm(['tanh', 'relu', 'logistic']):\n",
    "    for thisalpha in [0.0001, 1.0, 100]:\n",
    "        for sz in [10, 50, 100]:\n",
    "            mlpreg = MLPRegressor(hidden_layer_sizes= [sz,sz,sz],\n",
    "                                 activation=thisactivation,\n",
    "                                 alpha=thisalpha, solver='lbfgs').fit(X_train, y_train)\n",
    "            \n",
    "            result.append([sz, thisalpha, thisactivation, mlpreg.score(X_test, y_test)])\n",
    "\n",
    "# The coefficient R^2 is defined as (1 - u/v), \n",
    "# where u is the residual sum of squares ((y_true - y_pred) ** 2).sum() and \n",
    "# v is the total sum of squares ((y_true - y_true.mean()) ** 2).sum(). \n",
    "# The best possible score is 1.0 and it can be negative (because the model \n",
    "# can be arbitrarily worse). A constant model that always predicts the \n",
    "# expected value of y, disregarding the input features, would get a R^2 score of 0.0.\n",
    "\n",
    "results = pd.DataFrame(result, columns=['size x size', 'alpha', 'activation', 'R^2 score'])\n",
    "results = results.sort_values('R^2 score', ascending=0)\n",
    "results.head(5)"
   ]
  },
  {
   "cell_type": "markdown",
   "metadata": {},
   "source": [
    "## GRNN"
   ]
  },
  {
   "cell_type": "code",
   "execution_count": 5,
   "metadata": {},
   "outputs": [
    {
     "name": "stderr",
     "output_type": "stream",
     "text": [
      "100%|██████████| 9/9 [06:33<00:00, 43.68s/it]\n"
     ]
    },
    {
     "data": {
      "text/html": [
       "<div>\n",
       "<style scoped>\n",
       "    .dataframe tbody tr th:only-of-type {\n",
       "        vertical-align: middle;\n",
       "    }\n",
       "\n",
       "    .dataframe tbody tr th {\n",
       "        vertical-align: top;\n",
       "    }\n",
       "\n",
       "    .dataframe thead th {\n",
       "        text-align: right;\n",
       "    }\n",
       "</style>\n",
       "<table border=\"1\" class=\"dataframe\">\n",
       "  <thead>\n",
       "    <tr style=\"text-align: right;\">\n",
       "      <th></th>\n",
       "      <th>std</th>\n",
       "      <th>RMSLE</th>\n",
       "    </tr>\n",
       "  </thead>\n",
       "  <tbody>\n",
       "    <tr>\n",
       "      <th>0</th>\n",
       "      <td>0.05</td>\n",
       "      <td>NaN</td>\n",
       "    </tr>\n",
       "    <tr>\n",
       "      <th>1</th>\n",
       "      <td>0.10</td>\n",
       "      <td>NaN</td>\n",
       "    </tr>\n",
       "    <tr>\n",
       "      <th>2</th>\n",
       "      <td>0.15</td>\n",
       "      <td>NaN</td>\n",
       "    </tr>\n",
       "    <tr>\n",
       "      <th>3</th>\n",
       "      <td>0.20</td>\n",
       "      <td>NaN</td>\n",
       "    </tr>\n",
       "    <tr>\n",
       "      <th>4</th>\n",
       "      <td>0.25</td>\n",
       "      <td>NaN</td>\n",
       "    </tr>\n",
       "  </tbody>\n",
       "</table>\n",
       "</div>"
      ],
      "text/plain": [
       "    std  RMSLE\n",
       "0  0.05    NaN\n",
       "1  0.10    NaN\n",
       "2  0.15    NaN\n",
       "3  0.20    NaN\n",
       "4  0.25    NaN"
      ]
     },
     "execution_count": 5,
     "metadata": {},
     "output_type": "execute_result"
    }
   ],
   "source": [
    "result = []\n",
    "\n",
    "for s in tqdm(np.arange(5e-2, 0.5, 5e-2)):\n",
    "    grnnet = algorithms.GRNN(std=s, verbose=False)\n",
    "    grnnet.train(X_train, y_train)\n",
    "    p_result = grnnet.predict(X_test)\n",
    "    result.append([s, estimators.rmsle(p_result, y_test)])\n",
    "        \n",
    "results = pd.DataFrame(result, columns=['std', 'RMSLE'])\n",
    "results = results.sort_values('RMSLE', ascending=1)\n",
    "results.head(5)"
   ]
  }
 ],
 "metadata": {
  "kernelspec": {
   "display_name": "neupy",
   "language": "python",
   "name": "neupy"
  },
  "language_info": {
   "codemirror_mode": {
    "name": "ipython",
    "version": 3
   },
   "file_extension": ".py",
   "mimetype": "text/x-python",
   "name": "python",
   "nbconvert_exporter": "python",
   "pygments_lexer": "ipython3",
   "version": "3.6.5"
  }
 },
 "nbformat": 4,
 "nbformat_minor": 2
}

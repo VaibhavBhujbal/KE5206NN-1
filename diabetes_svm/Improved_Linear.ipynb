{
 "cells": [
  {
   "cell_type": "code",
   "execution_count": 1,
   "metadata": {},
   "outputs": [
    {
     "name": "stdout",
     "output_type": "stream",
     "text": [
      "(101766, 48)\n"
     ]
    },
    {
     "data": {
      "text/plain": [
       "<Figure size 640x480 with 2 Axes>"
      ]
     },
     "metadata": {},
     "output_type": "display_data"
    },
    {
     "name": "stdout",
     "output_type": "stream",
     "text": [
      "Index(['race', 'gender', 'weight', 'payer_code', 'medical_specialty'], dtype='object')\n",
      "(101766, 48)\n",
      "training accuracy: 0.57\n",
      "test accuracy: 0.57\n"
     ]
    }
   ],
   "source": [
    "import numpy as np\n",
    "import pandas as pd\n",
    "import matplotlib.pyplot as plt\n",
    "import seaborn as sns\n",
    "from sklearn.metrics import accuracy_score, precision_score, recall_score, f1_score, confusion_matrix, \\\n",
    "    classification_report\n",
    "from sklearn.preprocessing import MinMaxScaler\n",
    "from sklearn.model_selection import train_test_split\n",
    "from sklearn.svm import LinearSVC\n",
    "from sklearn.decomposition import PCA\n",
    "import os\n",
    "\n",
    "enable_one_hot = False\n",
    "enable_scaling = False\n",
    "\n",
    "# Load Data\n",
    "# os.chdir(\"/home/pier/Machine_Learning/KE5206NN/diabetes_svm\")\n",
    "os.chdir(\"/Users/pierlim/PycharmProjects/KE5206NN/diabetes_svm\")\n",
    "dfs = pd.read_excel(\"data/diabetic_data.xlsx\", sheet_name=None)\n",
    "df = dfs['in']\n",
    "df = df.iloc[:, 2:]\n",
    "print(df.shape)\n",
    "\n",
    "# Data Exploration\n",
    "corr = df.corr()\n",
    "sns.heatmap(corr,\n",
    "            xticklabels=corr.columns.values,\n",
    "            yticklabels=corr.columns.values)\n",
    "plt.show()\n",
    "df.describe()\n",
    "\n",
    "df_numeric = df.select_dtypes(include=[np.number])\n",
    "\n",
    "# drop missing values\n",
    "df = df.replace('?', np.nan)\n",
    "df = df.replace('Unknown/Invalid', np.nan)\n",
    "print(df.columns[df.isnull().any()])\n",
    "df.isnull().sum()\n",
    "# df = df.dropna() # dangerous! dropped until left 1k plus rows\n",
    "\n",
    "print(df.shape)\n",
    "df = df.drop(columns=df.columns[df.nunique() == 1])  # drop columns which only have 1 category\n",
    "\n",
    "to_num = ['time_in_hospital', 'num_lab_procedures', 'num_procedures',\n",
    "          'num_medications', 'number_outpatient', 'number_emergency',\n",
    "          'number_inpatient', 'number_diagnoses']\n",
    "\n",
    "to_cat_codes = list(set(df.columns) - set(to_num))\n",
    "\n",
    "X_features = list(to_num)\n",
    "for c in to_cat_codes:\n",
    "    df[c] = df[c].astype('category')\n",
    "    df[c + '_cat'] = df[c].cat.codes\n",
    "    X_features += [c + '_cat']\n",
    "\n",
    "X_features.remove('readmitted_cat')\n",
    "\n",
    "for n in to_num:\n",
    "    df[n] = df[n].astype('int')\n",
    "\n",
    "df[to_num].dtypes\n",
    "\n",
    "X_train, X_test, y_train, y_test = train_test_split(\n",
    "    df[X_features], df['readmitted_cat'], random_state=0)\n",
    "\n",
    "clf = LinearSVC(max_iter=5000, dual=False, C=10, random_state=42).fit(X_train, y_train.values.ravel())\n",
    "print('training accuracy: {:.2f}'.format(clf.score(X_train, y_train)))\n",
    "print('test accuracy: {:.2f}'.format(clf.score(X_test, y_test)))\n"
   ]
  },
  {
   "cell_type": "code",
   "execution_count": null,
   "metadata": {
    "collapsed": true
   },
   "outputs": [],
   "source": []
  }
 ],
 "metadata": {
  "kernelspec": {
   "display_name": "Python [default]",
   "language": "python",
   "name": "python3"
  },
  "language_info": {
   "codemirror_mode": {
    "name": "ipython",
    "version": 3
   },
   "file_extension": ".py",
   "mimetype": "text/x-python",
   "name": "python",
   "nbconvert_exporter": "python",
   "pygments_lexer": "ipython3",
   "version": "3.6.1"
  }
 },
 "nbformat": 4,
 "nbformat_minor": 1
}

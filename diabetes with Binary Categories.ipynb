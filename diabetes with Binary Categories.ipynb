{
 "cells": [
  {
   "cell_type": "markdown",
   "metadata": {},
   "source": [
    "## <font color=blue>Diabetes dataset<font>"
   ]
  },
  {
   "cell_type": "code",
   "execution_count": 1,
   "metadata": {},
   "outputs": [],
   "source": [
    "%matplotlib inline\n",
    "import numpy as np\n",
    "import pandas as pd\n",
    "import matplotlib.pyplot as plt\n",
    "import seaborn as sns\n",
    "from sklearn.metrics import accuracy_score, precision_score, recall_score, f1_score, confusion_matrix, classification_report\n",
    "from sklearn.preprocessing import MinMaxScaler\n",
    "from sklearn.model_selection import train_test_split\n",
    "from sklearn.svm import LinearSVC\n",
    "from tqdm import tqdm\n",
    "from sklearn.decomposition import PCA\n",
    "\n"
   ]
  },
  {
   "cell_type": "code",
   "execution_count": 2,
   "metadata": {},
   "outputs": [
    {
     "data": {
      "text/plain": [
       "(101766, 48)"
      ]
     },
     "execution_count": 2,
     "metadata": {},
     "output_type": "execute_result"
    }
   ],
   "source": [
    "# df = pd.read_csv(\"diabetic_data.csv\", dtype='category').iloc[:500,2:]\n",
    "df = pd.read_csv(\"diabetic_data.csv\", dtype='category').iloc[:,2:]\n",
    "df.shape"
   ]
  },
  {
   "cell_type": "code",
   "execution_count": 3,
   "metadata": {
    "scrolled": true
   },
   "outputs": [
    {
     "data": {
      "text/html": [
       "<div>\n",
       "<style scoped>\n",
       "    .dataframe tbody tr th:only-of-type {\n",
       "        vertical-align: middle;\n",
       "    }\n",
       "\n",
       "    .dataframe tbody tr th {\n",
       "        vertical-align: top;\n",
       "    }\n",
       "\n",
       "    .dataframe thead th {\n",
       "        text-align: right;\n",
       "    }\n",
       "</style>\n",
       "<table border=\"1\" class=\"dataframe\">\n",
       "  <thead>\n",
       "    <tr style=\"text-align: right;\">\n",
       "      <th></th>\n",
       "    </tr>\n",
       "  </thead>\n",
       "  <tbody>\n",
       "  </tbody>\n",
       "</table>\n",
       "</div>"
      ],
      "text/plain": [
       "Empty DataFrame\n",
       "Columns: []\n",
       "Index: []"
      ]
     },
     "execution_count": 3,
     "metadata": {},
     "output_type": "execute_result"
    }
   ],
   "source": [
    "df.corr()"
   ]
  },
  {
   "cell_type": "code",
   "execution_count": 4,
   "metadata": {},
   "outputs": [
    {
     "data": {
      "text/html": [
       "<div>\n",
       "<style scoped>\n",
       "    .dataframe tbody tr th:only-of-type {\n",
       "        vertical-align: middle;\n",
       "    }\n",
       "\n",
       "    .dataframe tbody tr th {\n",
       "        vertical-align: top;\n",
       "    }\n",
       "\n",
       "    .dataframe thead th {\n",
       "        text-align: right;\n",
       "    }\n",
       "</style>\n",
       "<table border=\"1\" class=\"dataframe\">\n",
       "  <thead>\n",
       "    <tr style=\"text-align: right;\">\n",
       "      <th></th>\n",
       "      <th>race</th>\n",
       "      <th>gender</th>\n",
       "      <th>age</th>\n",
       "      <th>weight</th>\n",
       "      <th>admission_type_id</th>\n",
       "      <th>discharge_disposition_id</th>\n",
       "      <th>admission_source_id</th>\n",
       "      <th>time_in_hospital</th>\n",
       "      <th>payer_code</th>\n",
       "      <th>medical_specialty</th>\n",
       "      <th>...</th>\n",
       "      <th>citoglipton</th>\n",
       "      <th>insulin</th>\n",
       "      <th>glyburide-metformin</th>\n",
       "      <th>glipizide-metformin</th>\n",
       "      <th>glimepiride-pioglitazone</th>\n",
       "      <th>metformin-rosiglitazone</th>\n",
       "      <th>metformin-pioglitazone</th>\n",
       "      <th>change</th>\n",
       "      <th>diabetesMed</th>\n",
       "      <th>readmitted</th>\n",
       "    </tr>\n",
       "  </thead>\n",
       "  <tbody>\n",
       "    <tr>\n",
       "      <th>count</th>\n",
       "      <td>101766</td>\n",
       "      <td>101766</td>\n",
       "      <td>101766</td>\n",
       "      <td>101766</td>\n",
       "      <td>101766</td>\n",
       "      <td>101766</td>\n",
       "      <td>101766</td>\n",
       "      <td>101766</td>\n",
       "      <td>101766</td>\n",
       "      <td>101766</td>\n",
       "      <td>...</td>\n",
       "      <td>101766</td>\n",
       "      <td>101766</td>\n",
       "      <td>101766</td>\n",
       "      <td>101766</td>\n",
       "      <td>101766</td>\n",
       "      <td>101766</td>\n",
       "      <td>101766</td>\n",
       "      <td>101766</td>\n",
       "      <td>101766</td>\n",
       "      <td>101766</td>\n",
       "    </tr>\n",
       "    <tr>\n",
       "      <th>unique</th>\n",
       "      <td>6</td>\n",
       "      <td>3</td>\n",
       "      <td>10</td>\n",
       "      <td>10</td>\n",
       "      <td>8</td>\n",
       "      <td>26</td>\n",
       "      <td>17</td>\n",
       "      <td>14</td>\n",
       "      <td>18</td>\n",
       "      <td>73</td>\n",
       "      <td>...</td>\n",
       "      <td>1</td>\n",
       "      <td>4</td>\n",
       "      <td>4</td>\n",
       "      <td>2</td>\n",
       "      <td>2</td>\n",
       "      <td>2</td>\n",
       "      <td>2</td>\n",
       "      <td>2</td>\n",
       "      <td>2</td>\n",
       "      <td>3</td>\n",
       "    </tr>\n",
       "    <tr>\n",
       "      <th>top</th>\n",
       "      <td>Caucasian</td>\n",
       "      <td>Female</td>\n",
       "      <td>[70-80)</td>\n",
       "      <td>?</td>\n",
       "      <td>1</td>\n",
       "      <td>1</td>\n",
       "      <td>7</td>\n",
       "      <td>3</td>\n",
       "      <td>?</td>\n",
       "      <td>?</td>\n",
       "      <td>...</td>\n",
       "      <td>No</td>\n",
       "      <td>No</td>\n",
       "      <td>No</td>\n",
       "      <td>No</td>\n",
       "      <td>No</td>\n",
       "      <td>No</td>\n",
       "      <td>No</td>\n",
       "      <td>No</td>\n",
       "      <td>Yes</td>\n",
       "      <td>NO</td>\n",
       "    </tr>\n",
       "    <tr>\n",
       "      <th>freq</th>\n",
       "      <td>76099</td>\n",
       "      <td>54708</td>\n",
       "      <td>26068</td>\n",
       "      <td>98569</td>\n",
       "      <td>53990</td>\n",
       "      <td>60234</td>\n",
       "      <td>57494</td>\n",
       "      <td>17756</td>\n",
       "      <td>40256</td>\n",
       "      <td>49949</td>\n",
       "      <td>...</td>\n",
       "      <td>101766</td>\n",
       "      <td>47383</td>\n",
       "      <td>101060</td>\n",
       "      <td>101753</td>\n",
       "      <td>101765</td>\n",
       "      <td>101764</td>\n",
       "      <td>101765</td>\n",
       "      <td>54755</td>\n",
       "      <td>78363</td>\n",
       "      <td>54864</td>\n",
       "    </tr>\n",
       "  </tbody>\n",
       "</table>\n",
       "<p>4 rows × 48 columns</p>\n",
       "</div>"
      ],
      "text/plain": [
       "             race  gender      age  weight admission_type_id  \\\n",
       "count      101766  101766   101766  101766            101766   \n",
       "unique          6       3       10      10                 8   \n",
       "top     Caucasian  Female  [70-80)       ?                 1   \n",
       "freq        76099   54708    26068   98569             53990   \n",
       "\n",
       "       discharge_disposition_id admission_source_id time_in_hospital  \\\n",
       "count                    101766              101766           101766   \n",
       "unique                       26                  17               14   \n",
       "top                           1                   7                3   \n",
       "freq                      60234               57494            17756   \n",
       "\n",
       "       payer_code medical_specialty    ...     citoglipton insulin  \\\n",
       "count      101766            101766    ...          101766  101766   \n",
       "unique         18                73    ...               1       4   \n",
       "top             ?                 ?    ...              No      No   \n",
       "freq        40256             49949    ...          101766   47383   \n",
       "\n",
       "       glyburide-metformin glipizide-metformin glimepiride-pioglitazone  \\\n",
       "count               101766              101766                   101766   \n",
       "unique                   4                   2                        2   \n",
       "top                     No                  No                       No   \n",
       "freq                101060              101753                   101765   \n",
       "\n",
       "       metformin-rosiglitazone metformin-pioglitazone  change diabetesMed  \\\n",
       "count                   101766                 101766  101766      101766   \n",
       "unique                       2                      2       2           2   \n",
       "top                         No                     No      No         Yes   \n",
       "freq                    101764                 101765   54755       78363   \n",
       "\n",
       "       readmitted  \n",
       "count      101766  \n",
       "unique          3  \n",
       "top            NO  \n",
       "freq        54864  \n",
       "\n",
       "[4 rows x 48 columns]"
      ]
     },
     "execution_count": 4,
     "metadata": {},
     "output_type": "execute_result"
    }
   ],
   "source": [
    "df.describe()"
   ]
  },
  {
   "cell_type": "code",
   "execution_count": 5,
   "metadata": {
    "scrolled": true
   },
   "outputs": [
    {
     "name": "stdout",
     "output_type": "stream",
     "text": [
      "race [Caucasian, AfricanAmerican, ?, Other, Asian, Hispanic]\n",
      "Categories (6, object): [Caucasian, AfricanAmerican, ?, Other, Asian, Hispanic]\n",
      "**************************************************\n",
      "gender [Female, Male, Unknown/Invalid]\n",
      "Categories (3, object): [Female, Male, Unknown/Invalid]\n",
      "**************************************************\n",
      "age [[0-10), [10-20), [20-30), [30-40), [40-50), [50-60), [60-70), [70-80), [80-90), [90-100)]\n",
      "Categories (10, object): [[0-10), [10-20), [20-30), [30-40), ..., [60-70), [70-80), [80-90), [90-100)]\n",
      "**************************************************\n",
      "weight [?, [75-100), [50-75), [0-25), [100-125), [25-50), [125-150), [175-200), [150-175), >200]\n",
      "Categories (10, object): [?, [75-100), [50-75), [0-25), ..., [125-150), [175-200), [150-175), >200]\n",
      "**************************************************\n",
      "admission_type_id [6, 1, 2, 3, 4, 5, 8, 7]\n",
      "Categories (8, object): [6, 1, 2, 3, 4, 5, 8, 7]\n",
      "**************************************************\n",
      "discharge_disposition_id [25, 1, 3, 6, 2, ..., 15, 24, 28, 19, 27]\n",
      "Length: 26\n",
      "Categories (26, object): [25, 1, 3, 6, ..., 24, 28, 19, 27]\n",
      "**************************************************\n",
      "admission_source_id [1, 7, 2, 4, 5, ..., 10, 22, 11, 25, 13]\n",
      "Length: 17\n",
      "Categories (17, object): [1, 7, 2, 4, ..., 22, 11, 25, 13]\n",
      "**************************************************\n",
      "time_in_hospital [1, 3, 2, 4, 5, ..., 10, 6, 11, 8, 14]\n",
      "Length: 14\n",
      "Categories (14, object): [1, 3, 2, 4, ..., 6, 11, 8, 14]\n",
      "**************************************************\n",
      "payer_code [?, MC, MD, HM, UN, ..., WC, OT, OG, MP, FR]\n",
      "Length: 18\n",
      "Categories (18, object): [?, MC, MD, HM, ..., OT, OG, MP, FR]\n",
      "**************************************************\n",
      "medical_specialty [Pediatrics-Endocrinology, ?, InternalMedicine, Family/GeneralPractice, Cardiology, ..., Perinatology, Neurophysiology, Endocrinology-Metabolism, DCPTEAM, Resident]\n",
      "Length: 73\n",
      "Categories (73, object): [Pediatrics-Endocrinology, ?, InternalMedicine, Family/GeneralPractice, ..., Neurophysiology, Endocrinology-Metabolism, DCPTEAM, Resident]\n",
      "**************************************************\n",
      "num_lab_procedures [41, 59, 11, 44, 51, ..., 120, 132, 121, 126, 118]\n",
      "Length: 118\n",
      "Categories (118, object): [41, 59, 11, 44, ..., 132, 121, 126, 118]\n",
      "**************************************************\n",
      "num_procedures [0, 5, 1, 6, 2, 3, 4]\n",
      "Categories (7, object): [0, 5, 1, 6, 2, 3, 4]\n",
      "**************************************************\n",
      "num_medications [1, 18, 13, 16, 8, ..., 81, 79, 75, 72, 74]\n",
      "Length: 75\n",
      "Categories (75, object): [1, 18, 13, 16, ..., 79, 75, 72, 74]\n",
      "**************************************************\n",
      "number_outpatient [0, 2, 1, 5, 7, ..., 23, 28, 37, 38, 40]\n",
      "Length: 39\n",
      "Categories (39, object): [0, 2, 1, 5, ..., 28, 37, 38, 40]\n",
      "**************************************************\n",
      "number_emergency [0, 1, 2, 4, 3, ..., 64, 63, 54, 24, 29]\n",
      "Length: 33\n",
      "Categories (33, object): [0, 1, 2, 4, ..., 63, 54, 24, 29]\n",
      "**************************************************\n",
      "number_inpatient [0, 1, 2, 3, 6, ..., 17, 16, 21, 18, 19]\n",
      "Length: 21\n",
      "Categories (21, object): [0, 1, 2, 3, ..., 16, 21, 18, 19]\n",
      "**************************************************\n",
      "diag_1 [250.83, 276, 648, 8, 197, ..., 833, 391, 690, 10, V51]\n",
      "Length: 717\n",
      "Categories (717, object): [250.83, 276, 648, 8, ..., 391, 690, 10, V51]\n",
      "**************************************************\n",
      "diag_2 [?, 250.01, 250, 250.43, 157, ..., 123, 884, V60, 843, 927]\n",
      "Length: 749\n",
      "Categories (749, object): [?, 250.01, 250, 250.43, ..., 884, V60, 843, 927]\n",
      "**************************************************\n",
      "diag_3 [?, 255, V27, 403, 250, ..., 14, 750, 370, 671, 971]\n",
      "Length: 790\n",
      "Categories (790, object): [?, 255, V27, 403, ..., 750, 370, 671, 971]\n",
      "**************************************************\n",
      "number_diagnoses [1, 9, 6, 7, 5, ..., 13, 15, 10, 11, 14]\n",
      "Length: 16\n",
      "Categories (16, object): [1, 9, 6, 7, ..., 15, 10, 11, 14]\n",
      "**************************************************\n",
      "max_glu_serum [None, >300, Norm, >200]\n",
      "Categories (4, object): [None, >300, Norm, >200]\n",
      "**************************************************\n",
      "A1Cresult [None, >7, >8, Norm]\n",
      "Categories (4, object): [None, >7, >8, Norm]\n",
      "**************************************************\n",
      "metformin [No, Steady, Up, Down]\n",
      "Categories (4, object): [No, Steady, Up, Down]\n",
      "**************************************************\n",
      "repaglinide [No, Up, Steady, Down]\n",
      "Categories (4, object): [No, Up, Steady, Down]\n",
      "**************************************************\n",
      "nateglinide [No, Steady, Down, Up]\n",
      "Categories (4, object): [No, Steady, Down, Up]\n",
      "**************************************************\n",
      "chlorpropamide [No, Steady, Down, Up]\n",
      "Categories (4, object): [No, Steady, Down, Up]\n",
      "**************************************************\n",
      "glimepiride [No, Steady, Down, Up]\n",
      "Categories (4, object): [No, Steady, Down, Up]\n",
      "**************************************************\n",
      "acetohexamide [No, Steady]\n",
      "Categories (2, object): [No, Steady]\n",
      "**************************************************\n",
      "glipizide [No, Steady, Up, Down]\n",
      "Categories (4, object): [No, Steady, Up, Down]\n",
      "**************************************************\n",
      "glyburide [No, Steady, Up, Down]\n",
      "Categories (4, object): [No, Steady, Up, Down]\n",
      "**************************************************\n",
      "tolbutamide [No, Steady]\n",
      "Categories (2, object): [No, Steady]\n",
      "**************************************************\n",
      "pioglitazone [No, Steady, Up, Down]\n",
      "Categories (4, object): [No, Steady, Up, Down]\n",
      "**************************************************\n",
      "rosiglitazone [No, Steady, Up, Down]\n",
      "Categories (4, object): [No, Steady, Up, Down]\n",
      "**************************************************\n",
      "acarbose [No, Steady, Up, Down]\n",
      "Categories (4, object): [No, Steady, Up, Down]\n",
      "**************************************************\n",
      "miglitol [No, Steady, Down, Up]\n",
      "Categories (4, object): [No, Steady, Down, Up]\n",
      "**************************************************\n",
      "troglitazone [No, Steady]\n",
      "Categories (2, object): [No, Steady]\n",
      "**************************************************\n",
      "tolazamide [No, Steady, Up]\n",
      "Categories (3, object): [No, Steady, Up]\n",
      "**************************************************\n",
      "examide [No]\n",
      "Categories (1, object): [No]\n",
      "**************************************************\n",
      "citoglipton [No]\n",
      "Categories (1, object): [No]\n",
      "**************************************************\n",
      "insulin [No, Up, Steady, Down]\n",
      "Categories (4, object): [No, Up, Steady, Down]\n",
      "**************************************************\n",
      "glyburide-metformin [No, Steady, Down, Up]\n",
      "Categories (4, object): [No, Steady, Down, Up]\n",
      "**************************************************\n",
      "glipizide-metformin [No, Steady]\n",
      "Categories (2, object): [No, Steady]\n",
      "**************************************************\n",
      "glimepiride-pioglitazone [No, Steady]\n",
      "Categories (2, object): [No, Steady]\n",
      "**************************************************\n",
      "metformin-rosiglitazone [No, Steady]\n",
      "Categories (2, object): [No, Steady]\n",
      "**************************************************\n",
      "metformin-pioglitazone [No, Steady]\n",
      "Categories (2, object): [No, Steady]\n",
      "**************************************************\n",
      "change [No, Ch]\n",
      "Categories (2, object): [No, Ch]\n",
      "**************************************************\n",
      "diabetesMed [No, Yes]\n",
      "Categories (2, object): [No, Yes]\n",
      "**************************************************\n",
      "readmitted [NO, >30, <30]\n",
      "Categories (3, object): [NO, >30, <30]\n",
      "**************************************************\n"
     ]
    }
   ],
   "source": [
    "def show_unique(dataF):\n",
    "    for c in dataF.columns:\n",
    "        print(c, dataF[c].unique())\n",
    "        print('*'*50)\n",
    "\n",
    "show_unique(df)"
   ]
  },
  {
   "cell_type": "markdown",
   "metadata": {},
   "source": [
    "### <font color =blue>1. remove columns with missing data</font>"
   ]
  },
  {
   "cell_type": "code",
   "execution_count": 6,
   "metadata": {
    "scrolled": false
   },
   "outputs": [
    {
     "data": {
      "text/html": [
       "<div>\n",
       "<style scoped>\n",
       "    .dataframe tbody tr th:only-of-type {\n",
       "        vertical-align: middle;\n",
       "    }\n",
       "\n",
       "    .dataframe tbody tr th {\n",
       "        vertical-align: top;\n",
       "    }\n",
       "\n",
       "    .dataframe thead th {\n",
       "        text-align: right;\n",
       "    }\n",
       "</style>\n",
       "<table border=\"1\" class=\"dataframe\">\n",
       "  <thead>\n",
       "    <tr style=\"text-align: right;\">\n",
       "      <th></th>\n",
       "      <th>race</th>\n",
       "      <th>gender</th>\n",
       "      <th>age</th>\n",
       "      <th>admission_type_id</th>\n",
       "      <th>discharge_disposition_id</th>\n",
       "      <th>admission_source_id</th>\n",
       "      <th>time_in_hospital</th>\n",
       "      <th>medical_specialty</th>\n",
       "      <th>num_lab_procedures</th>\n",
       "      <th>num_procedures</th>\n",
       "      <th>...</th>\n",
       "      <th>citoglipton</th>\n",
       "      <th>insulin</th>\n",
       "      <th>glyburide-metformin</th>\n",
       "      <th>glipizide-metformin</th>\n",
       "      <th>glimepiride-pioglitazone</th>\n",
       "      <th>metformin-rosiglitazone</th>\n",
       "      <th>metformin-pioglitazone</th>\n",
       "      <th>change</th>\n",
       "      <th>diabetesMed</th>\n",
       "      <th>readmitted</th>\n",
       "    </tr>\n",
       "  </thead>\n",
       "  <tbody>\n",
       "    <tr>\n",
       "      <th>0</th>\n",
       "      <td>Caucasian</td>\n",
       "      <td>Female</td>\n",
       "      <td>[0-10)</td>\n",
       "      <td>6</td>\n",
       "      <td>25</td>\n",
       "      <td>1</td>\n",
       "      <td>1</td>\n",
       "      <td>Pediatrics-Endocrinology</td>\n",
       "      <td>41</td>\n",
       "      <td>0</td>\n",
       "      <td>...</td>\n",
       "      <td>No</td>\n",
       "      <td>No</td>\n",
       "      <td>No</td>\n",
       "      <td>No</td>\n",
       "      <td>No</td>\n",
       "      <td>No</td>\n",
       "      <td>No</td>\n",
       "      <td>No</td>\n",
       "      <td>No</td>\n",
       "      <td>NO</td>\n",
       "    </tr>\n",
       "    <tr>\n",
       "      <th>1</th>\n",
       "      <td>Caucasian</td>\n",
       "      <td>Female</td>\n",
       "      <td>[10-20)</td>\n",
       "      <td>1</td>\n",
       "      <td>1</td>\n",
       "      <td>7</td>\n",
       "      <td>3</td>\n",
       "      <td>?</td>\n",
       "      <td>59</td>\n",
       "      <td>0</td>\n",
       "      <td>...</td>\n",
       "      <td>No</td>\n",
       "      <td>Up</td>\n",
       "      <td>No</td>\n",
       "      <td>No</td>\n",
       "      <td>No</td>\n",
       "      <td>No</td>\n",
       "      <td>No</td>\n",
       "      <td>Ch</td>\n",
       "      <td>Yes</td>\n",
       "      <td>&gt;30</td>\n",
       "    </tr>\n",
       "  </tbody>\n",
       "</table>\n",
       "<p>2 rows × 46 columns</p>\n",
       "</div>"
      ],
      "text/plain": [
       "        race  gender      age admission_type_id discharge_disposition_id  \\\n",
       "0  Caucasian  Female   [0-10)                 6                       25   \n",
       "1  Caucasian  Female  [10-20)                 1                        1   \n",
       "\n",
       "  admission_source_id time_in_hospital         medical_specialty  \\\n",
       "0                   1                1  Pediatrics-Endocrinology   \n",
       "1                   7                3                         ?   \n",
       "\n",
       "  num_lab_procedures num_procedures    ...     citoglipton insulin  \\\n",
       "0                 41              0    ...              No      No   \n",
       "1                 59              0    ...              No      Up   \n",
       "\n",
       "  glyburide-metformin glipizide-metformin glimepiride-pioglitazone  \\\n",
       "0                  No                  No                       No   \n",
       "1                  No                  No                       No   \n",
       "\n",
       "  metformin-rosiglitazone metformin-pioglitazone change diabetesMed readmitted  \n",
       "0                      No                     No     No          No         NO  \n",
       "1                      No                     No     Ch         Yes        >30  \n",
       "\n",
       "[2 rows x 46 columns]"
      ]
     },
     "execution_count": 6,
     "metadata": {},
     "output_type": "execute_result"
    }
   ],
   "source": [
    "#replacing medical speciality with missing\n",
    "df = df.drop(columns=['weight', 'payer_code'])\n",
    "df.head(2)"
   ]
  },
  {
   "cell_type": "markdown",
   "metadata": {},
   "source": [
    "### <font color=blue> 2. remove incomplete columns and rows </font>"
   ]
  },
  {
   "cell_type": "code",
   "execution_count": 7,
   "metadata": {
    "scrolled": true
   },
   "outputs": [],
   "source": [
    "df = df.drop(columns= df.columns[df.nunique() == 1])"
   ]
  },
  {
   "cell_type": "code",
   "execution_count": 8,
   "metadata": {
    "scrolled": true
   },
   "outputs": [
    {
     "data": {
      "text/plain": [
       "(101766, 44)"
      ]
     },
     "execution_count": 8,
     "metadata": {},
     "output_type": "execute_result"
    }
   ],
   "source": [
    "#show_unique(df)\n",
    "df.shape"
   ]
  },
  {
   "cell_type": "markdown",
   "metadata": {},
   "source": [
    "### <font color = blue>3. categorical variables</font>"
   ]
  },
  {
   "cell_type": "code",
   "execution_count": 9,
   "metadata": {},
   "outputs": [],
   "source": [
    "to_num = ['time_in_hospital', 'num_lab_procedures', 'num_procedures',\n",
    "         'num_medications', 'number_outpatient', 'number_emergency',\n",
    "         'number_inpatient', 'number_diagnoses']\n",
    "\n",
    "to_cat_codes = list(set(df.columns) - set(to_num))"
   ]
  },
  {
   "cell_type": "code",
   "execution_count": 10,
   "metadata": {},
   "outputs": [],
   "source": [
    "X_features = list(to_num)\n",
    "for c in to_cat_codes:\n",
    "    df[c+'_cat'] = df[c].cat.codes        \n",
    "    X_features += [c+'_cat']\n",
    "    \n",
    "X_features.remove('readmitted_cat')"
   ]
  },
  {
   "cell_type": "code",
   "execution_count": 11,
   "metadata": {
    "scrolled": true
   },
   "outputs": [
    {
     "data": {
      "text/plain": [
       "0      NO\n",
       "1     >30\n",
       "2      NO\n",
       "3      NO\n",
       "4      NO\n",
       "5     >30\n",
       "6      NO\n",
       "7     >30\n",
       "8      NO\n",
       "9      NO\n",
       "10    >30\n",
       "Name: readmitted, dtype: category\n",
       "Categories (3, object): [<30, >30, NO]"
      ]
     },
     "execution_count": 11,
     "metadata": {},
     "output_type": "execute_result"
    }
   ],
   "source": [
    "df['readmitted'].head(11)"
   ]
  },
  {
   "cell_type": "code",
   "execution_count": 12,
   "metadata": {},
   "outputs": [
    {
     "data": {
      "text/html": [
       "<div>\n",
       "<style scoped>\n",
       "    .dataframe tbody tr th:only-of-type {\n",
       "        vertical-align: middle;\n",
       "    }\n",
       "\n",
       "    .dataframe tbody tr th {\n",
       "        vertical-align: top;\n",
       "    }\n",
       "\n",
       "    .dataframe thead th {\n",
       "        text-align: right;\n",
       "    }\n",
       "</style>\n",
       "<table border=\"1\" class=\"dataframe\">\n",
       "  <thead>\n",
       "    <tr style=\"text-align: right;\">\n",
       "      <th></th>\n",
       "      <th>readmitted</th>\n",
       "      <th>readmitted_bin</th>\n",
       "    </tr>\n",
       "  </thead>\n",
       "  <tbody>\n",
       "    <tr>\n",
       "      <th>0</th>\n",
       "      <td>NO</td>\n",
       "      <td>0</td>\n",
       "    </tr>\n",
       "    <tr>\n",
       "      <th>1</th>\n",
       "      <td>&gt;30</td>\n",
       "      <td>1</td>\n",
       "    </tr>\n",
       "    <tr>\n",
       "      <th>2</th>\n",
       "      <td>NO</td>\n",
       "      <td>0</td>\n",
       "    </tr>\n",
       "    <tr>\n",
       "      <th>3</th>\n",
       "      <td>NO</td>\n",
       "      <td>0</td>\n",
       "    </tr>\n",
       "    <tr>\n",
       "      <th>4</th>\n",
       "      <td>NO</td>\n",
       "      <td>0</td>\n",
       "    </tr>\n",
       "    <tr>\n",
       "      <th>5</th>\n",
       "      <td>&gt;30</td>\n",
       "      <td>1</td>\n",
       "    </tr>\n",
       "    <tr>\n",
       "      <th>6</th>\n",
       "      <td>NO</td>\n",
       "      <td>0</td>\n",
       "    </tr>\n",
       "    <tr>\n",
       "      <th>7</th>\n",
       "      <td>&gt;30</td>\n",
       "      <td>1</td>\n",
       "    </tr>\n",
       "    <tr>\n",
       "      <th>8</th>\n",
       "      <td>NO</td>\n",
       "      <td>0</td>\n",
       "    </tr>\n",
       "    <tr>\n",
       "      <th>9</th>\n",
       "      <td>NO</td>\n",
       "      <td>0</td>\n",
       "    </tr>\n",
       "  </tbody>\n",
       "</table>\n",
       "</div>"
      ],
      "text/plain": [
       "  readmitted  readmitted_bin\n",
       "0         NO               0\n",
       "1        >30               1\n",
       "2         NO               0\n",
       "3         NO               0\n",
       "4         NO               0\n",
       "5        >30               1\n",
       "6         NO               0\n",
       "7        >30               1\n",
       "8         NO               0\n",
       "9         NO               0"
      ]
     },
     "execution_count": 12,
     "metadata": {},
     "output_type": "execute_result"
    }
   ],
   "source": [
    "df[\"readmitted_bin\"] = np.where(df.readmitted == '<30', 1, np.where(df.readmitted == '>30',1,0))  \n",
    "df[[\"readmitted\",\"readmitted_bin\"]].head(10)"
   ]
  },
  {
   "cell_type": "code",
   "execution_count": 13,
   "metadata": {},
   "outputs": [],
   "source": [
    "df = df.drop(columns = to_cat_codes)"
   ]
  },
  {
   "cell_type": "code",
   "execution_count": 14,
   "metadata": {},
   "outputs": [],
   "source": [
    "df = df.drop(columns = \"readmitted_cat\")"
   ]
  },
  {
   "cell_type": "code",
   "execution_count": 15,
   "metadata": {},
   "outputs": [
    {
     "data": {
      "text/html": [
       "<div>\n",
       "<style scoped>\n",
       "    .dataframe tbody tr th:only-of-type {\n",
       "        vertical-align: middle;\n",
       "    }\n",
       "\n",
       "    .dataframe tbody tr th {\n",
       "        vertical-align: top;\n",
       "    }\n",
       "\n",
       "    .dataframe thead th {\n",
       "        text-align: right;\n",
       "    }\n",
       "</style>\n",
       "<table border=\"1\" class=\"dataframe\">\n",
       "  <thead>\n",
       "    <tr style=\"text-align: right;\">\n",
       "      <th></th>\n",
       "      <th>time_in_hospital</th>\n",
       "      <th>num_lab_procedures</th>\n",
       "      <th>num_procedures</th>\n",
       "      <th>num_medications</th>\n",
       "      <th>number_outpatient</th>\n",
       "      <th>number_emergency</th>\n",
       "      <th>number_inpatient</th>\n",
       "      <th>number_diagnoses</th>\n",
       "      <th>metformin-rosiglitazone_cat</th>\n",
       "      <th>glyburide_cat</th>\n",
       "      <th>...</th>\n",
       "      <th>chlorpropamide_cat</th>\n",
       "      <th>nateglinide_cat</th>\n",
       "      <th>A1Cresult_cat</th>\n",
       "      <th>insulin_cat</th>\n",
       "      <th>metformin_cat</th>\n",
       "      <th>glimepiride-pioglitazone_cat</th>\n",
       "      <th>admission_source_id_cat</th>\n",
       "      <th>acetohexamide_cat</th>\n",
       "      <th>max_glu_serum_cat</th>\n",
       "      <th>readmitted_bin</th>\n",
       "    </tr>\n",
       "  </thead>\n",
       "  <tbody>\n",
       "    <tr>\n",
       "      <th>0</th>\n",
       "      <td>1</td>\n",
       "      <td>41</td>\n",
       "      <td>0</td>\n",
       "      <td>1</td>\n",
       "      <td>0</td>\n",
       "      <td>0</td>\n",
       "      <td>0</td>\n",
       "      <td>1</td>\n",
       "      <td>0</td>\n",
       "      <td>1</td>\n",
       "      <td>...</td>\n",
       "      <td>1</td>\n",
       "      <td>0</td>\n",
       "      <td>2</td>\n",
       "      <td>1</td>\n",
       "      <td>1</td>\n",
       "      <td>0</td>\n",
       "      <td>0</td>\n",
       "      <td>0</td>\n",
       "      <td>2</td>\n",
       "      <td>0</td>\n",
       "    </tr>\n",
       "    <tr>\n",
       "      <th>1</th>\n",
       "      <td>3</td>\n",
       "      <td>59</td>\n",
       "      <td>0</td>\n",
       "      <td>18</td>\n",
       "      <td>0</td>\n",
       "      <td>0</td>\n",
       "      <td>0</td>\n",
       "      <td>9</td>\n",
       "      <td>0</td>\n",
       "      <td>1</td>\n",
       "      <td>...</td>\n",
       "      <td>1</td>\n",
       "      <td>0</td>\n",
       "      <td>2</td>\n",
       "      <td>3</td>\n",
       "      <td>1</td>\n",
       "      <td>0</td>\n",
       "      <td>8</td>\n",
       "      <td>0</td>\n",
       "      <td>2</td>\n",
       "      <td>1</td>\n",
       "    </tr>\n",
       "  </tbody>\n",
       "</table>\n",
       "<p>2 rows × 44 columns</p>\n",
       "</div>"
      ],
      "text/plain": [
       "  time_in_hospital num_lab_procedures num_procedures num_medications  \\\n",
       "0                1                 41              0               1   \n",
       "1                3                 59              0              18   \n",
       "\n",
       "  number_outpatient number_emergency number_inpatient number_diagnoses  \\\n",
       "0                 0                0                0                1   \n",
       "1                 0                0                0                9   \n",
       "\n",
       "   metformin-rosiglitazone_cat  glyburide_cat       ...        \\\n",
       "0                            0              1       ...         \n",
       "1                            0              1       ...         \n",
       "\n",
       "   chlorpropamide_cat  nateglinide_cat  A1Cresult_cat  insulin_cat  \\\n",
       "0                   1                0              2            1   \n",
       "1                   1                0              2            3   \n",
       "\n",
       "   metformin_cat  glimepiride-pioglitazone_cat  admission_source_id_cat  \\\n",
       "0              1                             0                        0   \n",
       "1              1                             0                        8   \n",
       "\n",
       "   acetohexamide_cat  max_glu_serum_cat  readmitted_bin  \n",
       "0                  0                  2               0  \n",
       "1                  0                  2               1  \n",
       "\n",
       "[2 rows x 44 columns]"
      ]
     },
     "execution_count": 15,
     "metadata": {},
     "output_type": "execute_result"
    }
   ],
   "source": [
    "df.head(2)"
   ]
  },
  {
   "cell_type": "markdown",
   "metadata": {},
   "source": [
    "#### <font color=red>Target Mapping: < 30 = 0, >30 = 1, NO = 2, </font>"
   ]
  },
  {
   "cell_type": "markdown",
   "metadata": {},
   "source": [
    "### <font color=blue>4. split</font>"
   ]
  },
  {
   "cell_type": "code",
   "execution_count": 82,
   "metadata": {},
   "outputs": [],
   "source": [
    "X_train, X_test, y_train, y_test = train_test_split(\n",
    "    df.loc[:, df.columns != 'readmitted_bin'], df['readmitted_bin'] , random_state = 0)"
   ]
  },
  {
   "cell_type": "code",
   "execution_count": 83,
   "metadata": {},
   "outputs": [
    {
     "name": "stdout",
     "output_type": "stream",
     "text": [
      "(76324, 43)\n",
      "(76324,)\n"
     ]
    }
   ],
   "source": [
    "print(X_train.shape)\n",
    "print(y_train.shape)"
   ]
  },
  {
   "cell_type": "markdown",
   "metadata": {},
   "source": [
    "### <font color=blue>5. min max scaling</font>"
   ]
  },
  {
   "cell_type": "code",
   "execution_count": 84,
   "metadata": {},
   "outputs": [
    {
     "data": {
      "text/plain": [
       "(76324, 8)"
      ]
     },
     "execution_count": 84,
     "metadata": {},
     "output_type": "execute_result"
    }
   ],
   "source": [
    "scaler = MinMaxScaler()\n",
    "X_train = pd.DataFrame(scaler.fit_transform(X_train[to_num]), columns= to_num)\n",
    "X_test = pd.DataFrame(scaler.transform(X_test[to_num]), columns = to_num)\n",
    "X_train.shape"
   ]
  },
  {
   "cell_type": "code",
   "execution_count": 85,
   "metadata": {},
   "outputs": [],
   "source": [
    "#Trying to separate cat and Num but not worked out well\n",
    "#Concatenate Num and cat\n",
    "# X_train_cat = list(set(X_train.columns) - set(to_num))\n",
    "# X_test_cat = list(set(X_test.columns) - set(to_num))\n",
    "# X_train = pd.concat([X_train[X_train_cat],X_train_num], axis = 1)\n",
    "# X_test = pd.concat([X_test_num,X_test[X_test_cat]], axis = 1)\n",
    "# print(\"after\",X_train.shape)\n"
   ]
  },
  {
   "cell_type": "markdown",
   "metadata": {},
   "source": [
    "#### after scale"
   ]
  },
  {
   "cell_type": "markdown",
   "metadata": {},
   "source": [
    "## <font color=green> Baseline</font>"
   ]
  },
  {
   "cell_type": "code",
   "execution_count": 86,
   "metadata": {},
   "outputs": [
    {
     "name": "stdout",
     "output_type": "stream",
     "text": [
      "train accuracy: 0.54\n",
      "test accuracy: 0.54\n",
      "Wall time: 98.2 ms\n"
     ]
    }
   ],
   "source": [
    "%%time\n",
    "from sklearn.dummy import DummyClassifier\n",
    "\n",
    "X_train.shape\n",
    "d_major = DummyClassifier(strategy='most_frequent').fit(X_train, y_train)\n",
    "\n",
    "print('train accuracy: {:.2f}'.format(d_major.score(X_train, y_train)))\n",
    "print('test accuracy: {:.2f}'.format(d_major.score(X_test, y_test)))"
   ]
  },
  {
   "cell_type": "code",
   "execution_count": 87,
   "metadata": {},
   "outputs": [
    {
     "name": "stdout",
     "output_type": "stream",
     "text": [
      "Micro-averaged precision = 0.54 (treat instances equally)\n"
     ]
    },
    {
     "name": "stderr",
     "output_type": "stream",
     "text": [
      "C:\\Users\\DELL\\Anaconda3\\envs\\tfp3.6\\lib\\site-packages\\sklearn\\metrics\\classification.py:1135: UndefinedMetricWarning: Precision is ill-defined and being set to 0.0 in labels with no predicted samples.\n",
      "  'precision', 'predicted', average, warn_for)\n"
     ]
    },
    {
     "name": "stdout",
     "output_type": "stream",
     "text": [
      "Macro-averaged precision = 0.27 (treat classes equally)\n",
      "Micro-averaged f1 = 0.54 (treat instances equally)\n"
     ]
    },
    {
     "name": "stderr",
     "output_type": "stream",
     "text": [
      "C:\\Users\\DELL\\Anaconda3\\envs\\tfp3.6\\lib\\site-packages\\sklearn\\metrics\\classification.py:1135: UndefinedMetricWarning: F-score is ill-defined and being set to 0.0 in labels with no predicted samples.\n",
      "  'precision', 'predicted', average, warn_for)\n"
     ]
    },
    {
     "name": "stdout",
     "output_type": "stream",
     "text": [
      "Macro-averaged f1 = 0.35 (treat classes equally)\n"
     ]
    },
    {
     "name": "stderr",
     "output_type": "stream",
     "text": [
      "C:\\Users\\DELL\\Anaconda3\\envs\\tfp3.6\\lib\\site-packages\\sklearn\\metrics\\classification.py:1135: UndefinedMetricWarning: Precision and F-score are ill-defined and being set to 0.0 in labels with no predicted samples.\n",
      "  'precision', 'predicted', average, warn_for)\n"
     ]
    },
    {
     "name": "stdout",
     "output_type": "stream",
     "text": [
      "             precision    recall  f1-score   support\n",
      "\n",
      "          0       0.54      1.00      0.70     13709\n",
      "          1       0.00      0.00      0.00     11733\n",
      "\n",
      "avg / total       0.29      0.54      0.38     25442\n",
      "\n"
     ]
    },
    {
     "data": {
      "image/png": "[encoded data removed]",
      "text/plain": [
       "<Figure size 432x288 with 2 Axes>"
      ]
     },
     "metadata": {},
     "output_type": "display_data"
    }
   ],
   "source": [
    "def plot_confusion(clf):\n",
    "    svm_predicted_mc = clf.predict(X_test)\n",
    "    confusion_mc = confusion_matrix(y_test, svm_predicted_mc)\n",
    "    df_cm = pd.DataFrame(confusion_mc, \n",
    "                         index = [i for i in range(0,2)], columns = [i for i in range(0,2)])\n",
    "\n",
    "    plt.figure(figsize=(6,4))\n",
    "    ax_ticks= ['0','1']\n",
    "    sns.heatmap(df_cm, annot=True, xticklabels=ax_ticks, yticklabels=ax_ticks, fmt='g')\n",
    "    plt.title('SVM Linear Kernel \\nAccuracy:{0:.3f}'.format(accuracy_score(y_test, \n",
    "                                                                           svm_predicted_mc)))\n",
    "    plt.ylabel('True label')\n",
    "    plt.xlabel('Predicted label')\n",
    "    \n",
    "    print('Micro-averaged precision = {:.2f} (treat instances equally)'\n",
    "      .format(precision_score(y_test, svm_predicted_mc, average = 'micro')))\n",
    "    print('Macro-averaged precision = {:.2f} (treat classes equally)'\n",
    "      .format(precision_score(y_test, svm_predicted_mc, average = 'macro')))\n",
    "    print('Micro-averaged f1 = {:.2f} (treat instances equally)'\n",
    "          .format(f1_score(y_test, svm_predicted_mc, average = 'micro')))\n",
    "    print('Macro-averaged f1 = {:.2f} (treat classes equally)'\n",
    "          .format(f1_score(y_test, svm_predicted_mc, average = 'macro')))\n",
    "    print(classification_report(y_test, svm_predicted_mc))\n",
    "\n",
    "plot_confusion(d_major)"
   ]
  },
  {
   "cell_type": "code",
   "execution_count": 88,
   "metadata": {},
   "outputs": [
    {
     "name": "stdout",
     "output_type": "stream",
     "text": [
      "[LibLinear]training accuracy: 0.61\n",
      "test accuracy: 0.62\n",
      "Micro-averaged precision = 0.62 (treat instances equally)\n",
      "Macro-averaged precision = 0.62 (treat classes equally)\n",
      "Micro-averaged f1 = 0.62 (treat instances equally)\n",
      "Macro-averaged f1 = 0.59 (treat classes equally)\n",
      "             precision    recall  f1-score   support\n",
      "\n",
      "          0       0.61      0.82      0.70     13709\n",
      "          1       0.64      0.38      0.47     11733\n",
      "\n",
      "avg / total       0.62      0.62      0.59     25442\n",
      "\n",
      "Wall time: 1.98 s\n"
     ]
    },
    {
     "data": {
      "image/png": "[encoded data removed]",
      "text/plain": [
       "<Figure size 432x288 with 2 Axes>"
      ]
     },
     "metadata": {},
     "output_type": "display_data"
    }
   ],
   "source": [
    "%%time\n",
    "clf = LinearSVC(verbose=True).fit(X_train, y_train)\n",
    "\n",
    "print('training accuracy: {:.2f}'.format(clf.score(X_train, y_train)))\n",
    "print('test accuracy: {:.2f}'.format(clf.score(X_test, y_test)))\n",
    "plot_confusion(clf)"
   ]
  },
  {
   "cell_type": "markdown",
   "metadata": {},
   "source": [
    "## <font color=green>SVM</font>"
   ]
  },
  {
   "cell_type": "markdown",
   "metadata": {},
   "source": [
    "### <font color=green>optimise over accuracy</font>"
   ]
  },
  {
   "cell_type": "code",
   "execution_count": 89,
   "metadata": {},
   "outputs": [
    {
     "name": "stdout",
     "output_type": "stream",
     "text": [
      "Grid best parameter (max. accuracy):  {'C': 1}\n",
      "Grid best score (accuracy):  0.6150752057020072\n",
      "Wall time: 46.9 s\n"
     ]
    }
   ],
   "source": [
    "%%time\n",
    "from sklearn.model_selection import GridSearchCV\n",
    "from sklearn.metrics import roc_auc_score\n",
    "\n",
    "clf = LinearSVC() \n",
    "\n",
    "grid_values = [\n",
    "  {'C': [0.1, 1, 10, 100, 1000]}  \n",
    " ]\n",
    "\n",
    "grid_clf_acc = GridSearchCV(clf, param_grid = grid_values, n_jobs=4)\n",
    "grid_clf_acc.fit(X_train, y_train)\n",
    "y_decision_fn_scores_acc = grid_clf_acc.decision_function(X_test) \n",
    "\n",
    "print('Grid best parameter (max. accuracy): ', grid_clf_acc.best_params_)\n",
    "print('Grid best score (accuracy): ', grid_clf_acc.best_score_)\n"
   ]
  },
  {
   "cell_type": "code",
   "execution_count": 90,
   "metadata": {},
   "outputs": [
    {
     "name": "stderr",
     "output_type": "stream",
     "text": [
      "C:\\Users\\DELL\\Anaconda3\\envs\\tfp3.6\\lib\\site-packages\\sklearn\\utils\\deprecation.py:122: FutureWarning: You are accessing a training score ('mean_train_score'), which will not be available by default any more in 0.21. If you need training scores, please set return_train_score=True\n",
      "  warnings.warn(*warn_args, **warn_kwargs)\n",
      "C:\\Users\\DELL\\Anaconda3\\envs\\tfp3.6\\lib\\site-packages\\sklearn\\utils\\deprecation.py:122: FutureWarning: You are accessing a training score ('split0_train_score'), which will not be available by default any more in 0.21. If you need training scores, please set return_train_score=True\n",
      "  warnings.warn(*warn_args, **warn_kwargs)\n",
      "C:\\Users\\DELL\\Anaconda3\\envs\\tfp3.6\\lib\\site-packages\\sklearn\\utils\\deprecation.py:122: FutureWarning: You are accessing a training score ('split1_train_score'), which will not be available by default any more in 0.21. If you need training scores, please set return_train_score=True\n",
      "  warnings.warn(*warn_args, **warn_kwargs)\n",
      "C:\\Users\\DELL\\Anaconda3\\envs\\tfp3.6\\lib\\site-packages\\sklearn\\utils\\deprecation.py:122: FutureWarning: You are accessing a training score ('split2_train_score'), which will not be available by default any more in 0.21. If you need training scores, please set return_train_score=True\n",
      "  warnings.warn(*warn_args, **warn_kwargs)\n",
      "C:\\Users\\DELL\\Anaconda3\\envs\\tfp3.6\\lib\\site-packages\\sklearn\\utils\\deprecation.py:122: FutureWarning: You are accessing a training score ('std_train_score'), which will not be available by default any more in 0.21. If you need training scores, please set return_train_score=True\n",
      "  warnings.warn(*warn_args, **warn_kwargs)\n"
     ]
    },
    {
     "data": {
      "text/html": [
       "<div>\n",
       "<style scoped>\n",
       "    .dataframe tbody tr th:only-of-type {\n",
       "        vertical-align: middle;\n",
       "    }\n",
       "\n",
       "    .dataframe tbody tr th {\n",
       "        vertical-align: top;\n",
       "    }\n",
       "\n",
       "    .dataframe thead th {\n",
       "        text-align: right;\n",
       "    }\n",
       "</style>\n",
       "<table border=\"1\" class=\"dataframe\">\n",
       "  <thead>\n",
       "    <tr style=\"text-align: right;\">\n",
       "      <th></th>\n",
       "      <th>mean_test_score</th>\n",
       "      <th>mean_train_score</th>\n",
       "      <th>param_C</th>\n",
       "      <th>params</th>\n",
       "      <th>rank_test_score</th>\n",
       "    </tr>\n",
       "  </thead>\n",
       "  <tbody>\n",
       "    <tr>\n",
       "      <th>1</th>\n",
       "      <td>0.615075</td>\n",
       "      <td>0.614911</td>\n",
       "      <td>1</td>\n",
       "      <td>{'C': 1}</td>\n",
       "      <td>1</td>\n",
       "    </tr>\n",
       "    <tr>\n",
       "      <th>2</th>\n",
       "      <td>0.614944</td>\n",
       "      <td>0.615010</td>\n",
       "      <td>10</td>\n",
       "      <td>{'C': 10}</td>\n",
       "      <td>2</td>\n",
       "    </tr>\n",
       "    <tr>\n",
       "      <th>0</th>\n",
       "      <td>0.613529</td>\n",
       "      <td>0.613464</td>\n",
       "      <td>0.1</td>\n",
       "      <td>{'C': 0.1}</td>\n",
       "      <td>3</td>\n",
       "    </tr>\n",
       "    <tr>\n",
       "      <th>3</th>\n",
       "      <td>0.613241</td>\n",
       "      <td>0.613483</td>\n",
       "      <td>100</td>\n",
       "      <td>{'C': 100}</td>\n",
       "      <td>4</td>\n",
       "    </tr>\n",
       "    <tr>\n",
       "      <th>4</th>\n",
       "      <td>0.489152</td>\n",
       "      <td>0.490055</td>\n",
       "      <td>1000</td>\n",
       "      <td>{'C': 1000}</td>\n",
       "      <td>5</td>\n",
       "    </tr>\n",
       "  </tbody>\n",
       "</table>\n",
       "</div>"
      ],
      "text/plain": [
       "   mean_test_score  mean_train_score param_C       params  rank_test_score\n",
       "1         0.615075          0.614911       1     {'C': 1}                1\n",
       "2         0.614944          0.615010      10    {'C': 10}                2\n",
       "0         0.613529          0.613464     0.1   {'C': 0.1}                3\n",
       "3         0.613241          0.613483     100   {'C': 100}                4\n",
       "4         0.489152          0.490055    1000  {'C': 1000}                5"
      ]
     },
     "execution_count": 90,
     "metadata": {},
     "output_type": "execute_result"
    }
   ],
   "source": [
    "pd.DataFrame(grid_clf_acc.cv_results_).sort_values(by=['mean_test_score'], ascending=False).iloc[:,2:7]"
   ]
  },
  {
   "cell_type": "code",
   "execution_count": 91,
   "metadata": {},
   "outputs": [
    {
     "name": "stdout",
     "output_type": "stream",
     "text": [
      "Micro-averaged precision = 0.62 (treat instances equally)\n",
      "Macro-averaged precision = 0.62 (treat classes equally)\n",
      "Micro-averaged f1 = 0.62 (treat instances equally)\n",
      "Macro-averaged f1 = 0.59 (treat classes equally)\n",
      "             precision    recall  f1-score   support\n",
      "\n",
      "          0       0.61      0.82      0.70     13709\n",
      "          1       0.64      0.38      0.47     11733\n",
      "\n",
      "avg / total       0.62      0.62      0.59     25442\n",
      "\n"
     ]
    },
    {
     "data": {
      "image/png": "[encoded data removed]",
      "text/plain": [
       "<Figure size 432x288 with 2 Axes>"
      ]
     },
     "metadata": {},
     "output_type": "display_data"
    }
   ],
   "source": [
    "plot_confusion(grid_clf_acc)\n",
    "#SVM linear acc: 0.565(added medical speciality)"
   ]
  },
  {
   "cell_type": "code",
   "execution_count": null,
   "metadata": {},
   "outputs": [],
   "source": [
    "X_train.to_csv(\"Xtrain.csv\")"
   ]
  },
  {
   "cell_type": "markdown",
   "metadata": {},
   "source": [
    "# Applying PCA"
   ]
  },
  {
   "cell_type": "code",
   "execution_count": 97,
   "metadata": {},
   "outputs": [
    {
     "data": {
      "text/plain": [
       "array([ 47.3,  75.4,  85.6,  93.8,  97.2,  99.5, 100. , 100.1])"
      ]
     },
     "execution_count": 97,
     "metadata": {},
     "output_type": "execute_result"
    }
   ],
   "source": [
    "pca = PCA(n_components = 8)\n",
    "pca.fit(X_train)\n",
    "variance = pca.explained_variance_ratio_ #calculate variance ratios\n",
    "\n",
    "var=np.cumsum(np.round(pca.explained_variance_ratio_, decimals=3)*100)\n",
    "var #cumulative sum of variance explained with [n] features\n",
    "\n"
   ]
  },
  {
   "cell_type": "code",
   "execution_count": 98,
   "metadata": {},
   "outputs": [
    {
     "data": {
      "image/png": "[encoded data removed]",
      "text/plain": [
       "<Figure size 432x288 with 1 Axes>"
      ]
     },
     "metadata": {},
     "output_type": "display_data"
    }
   ],
   "source": [
    "plt.ylabel('% Variance Explained')\n",
    "plt.xlabel('# of Features')\n",
    "plt.title('PCA Analysis')\n",
    "plt.ylim(30,100.5)\n",
    "plt.style.context('seaborn-whitegrid')\n",
    "plt.plot(var)\n",
    "plt.show()"
   ]
  },
  {
   "cell_type": "code",
   "execution_count": 99,
   "metadata": {},
   "outputs": [],
   "source": [
    "pca.fit(X_train)\n",
    "pca.fit(X_test)\n",
    "X_t_train = pca.transform(X_train)\n",
    "X_t_test = pca.transform(X_test)"
   ]
  },
  {
   "cell_type": "code",
   "execution_count": 100,
   "metadata": {},
   "outputs": [
    {
     "name": "stdout",
     "output_type": "stream",
     "text": [
      "Grid best parameter (max. accuracy):  {'C': 1}\n",
      "Grid best score (accuracy):  0.6150490016246528\n",
      "Wall time: 52.8 s\n"
     ]
    }
   ],
   "source": [
    "%%time\n",
    "clf = LinearSVC()\n",
    "#clf.fit(X_t_train, y_train)\n",
    "grid_values = [\n",
    "  {'C': [0.1, 1, 10, 100, 1000]}  \n",
    " ]\n",
    "\n",
    "grid_clf_acc = GridSearchCV(clf, param_grid = grid_values, n_jobs=4)\n",
    "grid_clf_acc.fit(X_t_train, y_train)\n",
    "y_decision_fn_scores_acc = grid_clf_acc.decision_function(X_t_test) \n",
    "\n",
    "print('Grid best parameter (max. accuracy): ', grid_clf_acc.best_params_)\n",
    "print('Grid best score (accuracy): ', grid_clf_acc.best_score_)\n",
    "#Grid best score (accuracy):  0.5618923292402671\n",
    "#Grid best score (accuracy):  0.5751206434316354(adding medical speciality)\n",
    "#score 0.5486569084767573 2\n",
    "#PCA 0.5724396782841823 8 components"
   ]
  },
  {
   "cell_type": "code",
   "execution_count": null,
   "metadata": {},
   "outputs": [],
   "source": [
    "def plot_confusion_pca(clf):\n",
    "    svm_predicted_mc = clf.predict(X_t_test)\n",
    "    confusion_mc = confusion_matrix(y_test, svm_predicted_mc)\n",
    "    df_cm = pd.DataFrame(confusion_mc, \n",
    "                         index = [i for i in range(0,2)], columns = [i for i in range(0,3)])\n",
    "\n",
    "    plt.figure(figsize=(6,4))\n",
    "    ax_ticks= ['<30', '>30', 'NO']\n",
    "    sns.heatmap(df_cm, annot=True, xticklabels=ax_ticks, yticklabels=ax_ticks, fmt='g')\n",
    "    plt.title('SVM Linear Kernel \\nAccuracy:{0:.3f}'.format(accuracy_score(y_test, \n",
    "                                                                           svm_predicted_mc)))\n",
    "    plt.ylabel('True label')\n",
    "    plt.xlabel('Predicted label')\n",
    "    \n",
    "    print('Micro-averaged precision = {:.2f} (treat instances equally)'\n",
    "      .format(precision_score(y_test, svm_predicted_mc, average = 'micro')))\n",
    "    print('Macro-averaged precision = {:.2f} (treat classes equally)'\n",
    "      .format(precision_score(y_test, svm_predicted_mc, average = 'macro')))\n",
    "    print('Micro-averaged f1 = {:.2f} (treat instances equally)'\n",
    "          .format(f1_score(y_test, svm_predicted_mc, average = 'micro')))\n",
    "    print('Macro-averaged f1 = {:.2f} (treat classes equally)'\n",
    "          .format(f1_score(y_test, svm_predicted_mc, average = 'macro')))\n",
    "    print(classification_report(y_test, svm_predicted_mc))\n",
    "\n",
    "plot_confusion_pca(grid_clf_acc)\n",
    "#0.566 PCA 8"
   ]
  },
  {
   "cell_type": "code",
   "execution_count": null,
   "metadata": {},
   "outputs": [],
   "source": []
  },
  {
   "cell_type": "code",
   "execution_count": null,
   "metadata": {},
   "outputs": [],
   "source": []
  }
 ],
 "metadata": {
  "kernelspec": {
   "display_name": "Python [conda env:tfp3.6]",
   "language": "python",
   "name": "conda-env-tfp3.6-py"
  },
  "language_info": {
   "codemirror_mode": {
    "name": "ipython",
    "version": 3
   },
   "file_extension": ".py",
   "mimetype": "text/x-python",
   "name": "python",
   "nbconvert_exporter": "python",
   "pygments_lexer": "ipython3",
   "version": "3.6.5"
  }
 },
 "nbformat": 4,
 "nbformat_minor": 2
}

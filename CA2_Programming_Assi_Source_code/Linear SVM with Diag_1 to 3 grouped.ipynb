{
 "cells": [
  {
   "cell_type": "code",
   "execution_count": 7,
   "metadata": {},
   "outputs": [
    {
     "data": {
      "text/plain": [
       "(101766, 48)"
      ]
     },
     "execution_count": 7,
     "metadata": {},
     "output_type": "execute_result"
    }
   ],
   "source": [
    "import numpy as np\n",
    "import pandas as pd\n",
    "import matplotlib.pyplot as plt\n",
    "import seaborn as sns\n",
    "from sklearn.metrics import accuracy_score, precision_score, recall_score, f1_score, confusion_matrix, \\\n",
    "    classification_report\n",
    "from sklearn.preprocessing import MinMaxScaler\n",
    "from sklearn.model_selection import train_test_split\n",
    "from sklearn.svm import LinearSVC\n",
    "from sklearn.decomposition import PCA\n",
    "import os\n",
    "\n",
    "# Load Data\n",
    "df = pd.read_csv(\"C:/Users/User/Documents/CI 1/CA 2/diabetic_data.csv\", dtype='category').iloc[:,2:]\n",
    "df.shape"
   ]
  },
  {
   "cell_type": "code",
   "execution_count": 8,
   "metadata": {},
   "outputs": [
    {
     "name": "stdout",
     "output_type": "stream",
     "text": [
      "race [Caucasian, AfricanAmerican, ?, Other, Asian, Hispanic]\n",
      "Categories (6, object): [Caucasian, AfricanAmerican, ?, Other, Asian, Hispanic]\n",
      "**************************************************\n",
      "gender [Female, Male, Unknown/Invalid]\n",
      "Categories (3, object): [Female, Male, Unknown/Invalid]\n",
      "**************************************************\n",
      "age [[0-10), [10-20), [20-30), [30-40), [40-50), [50-60), [60-70), [70-80), [80-90), [90-100)]\n",
      "Categories (10, object): [[0-10), [10-20), [20-30), [30-40), ..., [60-70), [70-80), [80-90), [90-100)]\n",
      "**************************************************\n",
      "weight [?, [75-100), [50-75), [0-25), [100-125), [25-50), [125-150), [175-200), [150-175), >200]\n",
      "Categories (10, object): [?, [75-100), [50-75), [0-25), ..., [125-150), [175-200), [150-175), >200]\n",
      "**************************************************\n",
      "admission_type_id [6, 1, 2, 3, 4, 5, 8, 7]\n",
      "Categories (8, object): [6, 1, 2, 3, 4, 5, 8, 7]\n",
      "**************************************************\n",
      "discharge_disposition_id [25, 1, 3, 6, 2, ..., 15, 24, 28, 19, 27]\n",
      "Length: 26\n",
      "Categories (26, object): [25, 1, 3, 6, ..., 24, 28, 19, 27]\n",
      "**************************************************\n",
      "admission_source_id [1, 7, 2, 4, 5, ..., 10, 22, 11, 25, 13]\n",
      "Length: 17\n",
      "Categories (17, object): [1, 7, 2, 4, ..., 22, 11, 25, 13]\n",
      "**************************************************\n",
      "time_in_hospital [1, 3, 2, 4, 5, ..., 10, 6, 11, 8, 14]\n",
      "Length: 14\n",
      "Categories (14, object): [1, 3, 2, 4, ..., 6, 11, 8, 14]\n",
      "**************************************************\n",
      "payer_code [?, MC, MD, HM, UN, ..., WC, OT, OG, MP, FR]\n",
      "Length: 18\n",
      "Categories (18, object): [?, MC, MD, HM, ..., OT, OG, MP, FR]\n",
      "**************************************************\n",
      "medical_specialty [Pediatrics-Endocrinology, ?, InternalMedicine, Family/GeneralPractice, Cardiology, ..., Perinatology, Neurophysiology, Endocrinology-Metabolism, DCPTEAM, Resident]\n",
      "Length: 73\n",
      "Categories (73, object): [Pediatrics-Endocrinology, ?, InternalMedicine, Family/GeneralPractice, ..., Neurophysiology, Endocrinology-Metabolism, DCPTEAM, Resident]\n",
      "**************************************************\n",
      "num_lab_procedures [41, 59, 11, 44, 51, ..., 120, 132, 121, 126, 118]\n",
      "Length: 118\n",
      "Categories (118, object): [41, 59, 11, 44, ..., 132, 121, 126, 118]\n",
      "**************************************************\n",
      "num_procedures [0, 5, 1, 6, 2, 3, 4]\n",
      "Categories (7, object): [0, 5, 1, 6, 2, 3, 4]\n",
      "**************************************************\n",
      "num_medications [1, 18, 13, 16, 8, ..., 81, 79, 75, 72, 74]\n",
      "Length: 75\n",
      "Categories (75, object): [1, 18, 13, 16, ..., 79, 75, 72, 74]\n",
      "**************************************************\n",
      "number_outpatient [0, 2, 1, 5, 7, ..., 23, 28, 37, 38, 40]\n",
      "Length: 39\n",
      "Categories (39, object): [0, 2, 1, 5, ..., 28, 37, 38, 40]\n",
      "**************************************************\n",
      "number_emergency [0, 1, 2, 4, 3, ..., 64, 63, 54, 24, 29]\n",
      "Length: 33\n",
      "Categories (33, object): [0, 1, 2, 4, ..., 63, 54, 24, 29]\n",
      "**************************************************\n",
      "number_inpatient [0, 1, 2, 3, 6, ..., 17, 16, 21, 18, 19]\n",
      "Length: 21\n",
      "Categories (21, object): [0, 1, 2, 3, ..., 16, 21, 18, 19]\n",
      "**************************************************\n",
      "diag_1 [250.83, 276, 648, 8, 197, ..., 975, 833, 391, 690, 10]\n",
      "Length: 699\n",
      "Categories (699, object): [250.83, 276, 648, 8, ..., 833, 391, 690, 10]\n",
      "**************************************************\n",
      "diag_2 [0, 250.01, 250, 250.43, 157, ..., E883, 123, 884, 843, 927]\n",
      "Length: 710\n",
      "Categories (710, object): [0, 250.01, 250, 250.43, ..., 123, 884, 843, 927]\n",
      "**************************************************\n",
      "diag_3 [0, 255, 9, 403, 250, ..., 14, 750, 370, 671, 971]\n",
      "Length: 748\n",
      "Categories (748, object): [0, 255, 9, 403, ..., 750, 370, 671, 971]\n",
      "**************************************************\n",
      "number_diagnoses [1, 9, 6, 7, 5, ..., 13, 15, 10, 11, 14]\n",
      "Length: 16\n",
      "Categories (16, object): [1, 9, 6, 7, ..., 15, 10, 11, 14]\n",
      "**************************************************\n",
      "max_glu_serum [None, >300, Norm, >200]\n",
      "Categories (4, object): [None, >300, Norm, >200]\n",
      "**************************************************\n",
      "A1Cresult [0, 2, 3, 1]\n",
      "Categories (4, object): [0, 2, 3, 1]\n",
      "**************************************************\n",
      "metformin [No, Steady, Up, Down]\n",
      "Categories (4, object): [No, Steady, Up, Down]\n",
      "**************************************************\n",
      "repaglinide [No, Up, Steady, Down]\n",
      "Categories (4, object): [No, Up, Steady, Down]\n",
      "**************************************************\n",
      "nateglinide [No, Steady, Down, Up]\n",
      "Categories (4, object): [No, Steady, Down, Up]\n",
      "**************************************************\n",
      "chlorpropamide [No, Steady, Down, Up]\n",
      "Categories (4, object): [No, Steady, Down, Up]\n",
      "**************************************************\n",
      "glimepiride [No, Steady, Down, Up]\n",
      "Categories (4, object): [No, Steady, Down, Up]\n",
      "**************************************************\n",
      "acetohexamide [No, Steady]\n",
      "Categories (2, object): [No, Steady]\n",
      "**************************************************\n",
      "glipizide [No, Steady, Up, Down]\n",
      "Categories (4, object): [No, Steady, Up, Down]\n",
      "**************************************************\n",
      "glyburide [No, Steady, Up, Down]\n",
      "Categories (4, object): [No, Steady, Up, Down]\n",
      "**************************************************\n",
      "tolbutamide [No, Steady]\n",
      "Categories (2, object): [No, Steady]\n",
      "**************************************************\n",
      "pioglitazone [No, Steady, Up, Down]\n",
      "Categories (4, object): [No, Steady, Up, Down]\n",
      "**************************************************\n",
      "rosiglitazone [No, Steady, Up, Down]\n",
      "Categories (4, object): [No, Steady, Up, Down]\n",
      "**************************************************\n",
      "acarbose [No, Steady, Up, Down]\n",
      "Categories (4, object): [No, Steady, Up, Down]\n",
      "**************************************************\n",
      "miglitol [No, Steady, Down, Up]\n",
      "Categories (4, object): [No, Steady, Down, Up]\n",
      "**************************************************\n",
      "troglitazone [No, Steady]\n",
      "Categories (2, object): [No, Steady]\n",
      "**************************************************\n",
      "tolazamide [No, Steady, Up]\n",
      "Categories (3, object): [No, Steady, Up]\n",
      "**************************************************\n",
      "examide [No]\n",
      "Categories (1, object): [No]\n",
      "**************************************************\n",
      "citoglipton [No]\n",
      "Categories (1, object): [No]\n",
      "**************************************************\n",
      "insulin [No, Up, Steady, Down]\n",
      "Categories (4, object): [No, Up, Steady, Down]\n",
      "**************************************************\n",
      "glyburide-metformin [No, Steady, Down, Up]\n",
      "Categories (4, object): [No, Steady, Down, Up]\n",
      "**************************************************\n",
      "glipizide-metformin [No, Steady]\n",
      "Categories (2, object): [No, Steady]\n",
      "**************************************************\n",
      "glimepiride-pioglitazone [No, Steady]\n",
      "Categories (2, object): [No, Steady]\n",
      "**************************************************\n",
      "metformin-rosiglitazone [No, Steady]\n",
      "Categories (2, object): [No, Steady]\n",
      "**************************************************\n",
      "metformin-pioglitazone [No, Steady]\n",
      "Categories (2, object): [No, Steady]\n",
      "**************************************************\n",
      "change [No, Ch]\n",
      "Categories (2, object): [No, Ch]\n",
      "**************************************************\n",
      "diabetesMed [No, Yes]\n",
      "Categories (2, object): [No, Yes]\n",
      "**************************************************\n",
      "readmitted [NO, >30, <30]\n",
      "Categories (3, object): [NO, >30, <30]\n",
      "**************************************************\n"
     ]
    }
   ],
   "source": [
    "def show_unique(dataF):\n",
    "    for c in dataF.columns:\n",
    "        print(c, dataF[c].unique())\n",
    "        print('*'*50)\n",
    "\n",
    "show_unique(df)"
   ]
  },
  {
   "cell_type": "code",
   "execution_count": 9,
   "metadata": {},
   "outputs": [
    {
     "data": {
      "text/plain": [
       "Index([], dtype='object')"
      ]
     },
     "execution_count": 9,
     "metadata": {},
     "output_type": "execute_result"
    }
   ],
   "source": [
    "df.columns[df.isnull().any()]"
   ]
  },
  {
   "cell_type": "code",
   "execution_count": 10,
   "metadata": {
    "collapsed": true
   },
   "outputs": [],
   "source": [
    "to_num = ['time_in_hospital', 'num_lab_procedures', 'num_procedures',\n",
    "         'num_medications', 'number_outpatient', 'number_emergency',\n",
    "         'number_inpatient', 'number_diagnoses']\n",
    "\n",
    "to_cat_codes = list(set(df.columns) - set(to_num))"
   ]
  },
  {
   "cell_type": "code",
   "execution_count": 11,
   "metadata": {},
   "outputs": [
    {
     "data": {
      "text/html": [
       "<div>\n",
       "<style>\n",
       "    .dataframe thead tr:only-child th {\n",
       "        text-align: right;\n",
       "    }\n",
       "\n",
       "    .dataframe thead th {\n",
       "        text-align: left;\n",
       "    }\n",
       "\n",
       "    .dataframe tbody tr th {\n",
       "        vertical-align: top;\n",
       "    }\n",
       "</style>\n",
       "<table border=\"1\" class=\"dataframe\">\n",
       "  <thead>\n",
       "    <tr style=\"text-align: right;\">\n",
       "      <th></th>\n",
       "    </tr>\n",
       "  </thead>\n",
       "  <tbody>\n",
       "    <tr>\n",
       "      <th>0</th>\n",
       "    </tr>\n",
       "    <tr>\n",
       "      <th>1</th>\n",
       "    </tr>\n",
       "    <tr>\n",
       "      <th>2</th>\n",
       "    </tr>\n",
       "    <tr>\n",
       "      <th>3</th>\n",
       "    </tr>\n",
       "    <tr>\n",
       "      <th>4</th>\n",
       "    </tr>\n",
       "  </tbody>\n",
       "</table>\n",
       "</div>"
      ],
      "text/plain": [
       "Empty DataFrame\n",
       "Columns: []\n",
       "Index: [0, 1, 2, 3, 4]"
      ]
     },
     "execution_count": 11,
     "metadata": {},
     "output_type": "execute_result"
    }
   ],
   "source": [
    "obj_df = df.select_dtypes(include=['object']).copy()\n",
    "obj_df.head()"
   ]
  },
  {
   "cell_type": "code",
   "execution_count": 12,
   "metadata": {
    "collapsed": true
   },
   "outputs": [],
   "source": [
    "#setting the values for the diagnosis\n",
    "    \n",
    "def diag_num_update(x):    \n",
    "    #circulatory= 1\n",
    "    if 390 <= x and x <= 459 or x==785:\n",
    "        return \"1\"\n",
    "    \n",
    "    #digestive= 2\n",
    "    elif 520 <= x and x <= 579 or x==787:\n",
    "        return \"2\"\n",
    "        \n",
    "    #genitourinary=3\n",
    "    elif 580<= x and x <= 629 or x== 788:\n",
    "        return \"3\"\n",
    "    \n",
    "    #diabetes=4\n",
    "    elif 250.00<=x and x < 251:\n",
    "        return \"4\"\n",
    "    \n",
    "    #injury=5\n",
    "    elif 800<= x and x <=999:\n",
    "        return \"5\"\n",
    "    \n",
    "    #musculoskeletal=6\n",
    "    elif 710<= x and x <= 739:\n",
    "        return \"6\"\n",
    "    \n",
    "    #neoplasms=7\n",
    "    elif 140<= x and x<=239:\n",
    "        return \"7\"\n",
    "    \n",
    "    #respiratory=8\n",
    "    elif 460<= x and x<=519:\n",
    "        return \"8\"\n",
    "    \n",
    "    #to cater for 0\n",
    "    elif x==0:\n",
    "        return \"0\"\n",
    "    \n",
    "    #for all others=9\n",
    "    else:\n",
    "        return \"9\""
   ]
  },
  {
   "cell_type": "code",
   "execution_count": 13,
   "metadata": {
    "collapsed": true
   },
   "outputs": [],
   "source": [
    "# convert the column to numeric\n",
    "\n",
    "df['diag_1']= df['diag_1'].apply(pd.to_numeric,errors='coerce')"
   ]
  },
  {
   "cell_type": "code",
   "execution_count": 14,
   "metadata": {
    "collapsed": true
   },
   "outputs": [],
   "source": [
    "df['diag_1']= df['diag_1'].apply(diag_num_update)"
   ]
  },
  {
   "cell_type": "code",
   "execution_count": 15,
   "metadata": {
    "collapsed": true
   },
   "outputs": [],
   "source": [
    "df['diag_1']= df['diag_1'].apply(pd.to_numeric,errors='coerce')"
   ]
  },
  {
   "cell_type": "code",
   "execution_count": 16,
   "metadata": {
    "collapsed": true
   },
   "outputs": [],
   "source": [
    "#do for diag_2\n",
    "\n",
    "df['diag_2']= df['diag_2'].apply(pd.to_numeric,errors='coerce')"
   ]
  },
  {
   "cell_type": "code",
   "execution_count": 17,
   "metadata": {
    "collapsed": true
   },
   "outputs": [],
   "source": [
    "df['diag_2']= df['diag_2'].apply(diag_num_update)"
   ]
  },
  {
   "cell_type": "code",
   "execution_count": 18,
   "metadata": {
    "collapsed": true
   },
   "outputs": [],
   "source": [
    "df['diag_2']= df['diag_2'].apply(pd.to_numeric,errors='coerce')"
   ]
  },
  {
   "cell_type": "code",
   "execution_count": 19,
   "metadata": {
    "collapsed": true
   },
   "outputs": [],
   "source": [
    "#do for diag_3\n",
    "\n",
    "df['diag_3']= df['diag_3'].apply(pd.to_numeric,errors='coerce')"
   ]
  },
  {
   "cell_type": "code",
   "execution_count": 20,
   "metadata": {
    "collapsed": true
   },
   "outputs": [],
   "source": [
    "df['diag_3']= df['diag_3'].apply(diag_num_update)"
   ]
  },
  {
   "cell_type": "code",
   "execution_count": 21,
   "metadata": {
    "collapsed": true
   },
   "outputs": [],
   "source": [
    "df['diag_3']= df['diag_3'].apply(pd.to_numeric,errors='coerce')"
   ]
  },
  {
   "cell_type": "code",
   "execution_count": 22,
   "metadata": {
    "collapsed": true
   },
   "outputs": [],
   "source": [
    "#if replace the duplicates in diag_1 to diag_3 with the value 0\n",
    "\n",
    "df.loc[df.diag_1==df.diag_2,'diag_2']='0'"
   ]
  },
  {
   "cell_type": "code",
   "execution_count": 23,
   "metadata": {
    "collapsed": true
   },
   "outputs": [],
   "source": [
    "df.loc[df.diag_2==df.diag_3,'diag_3']='0'"
   ]
  },
  {
   "cell_type": "code",
   "execution_count": 24,
   "metadata": {
    "collapsed": true
   },
   "outputs": [],
   "source": [
    "df.loc[df.diag_1==df.diag_3,'diag_3']='0'"
   ]
  },
  {
   "cell_type": "code",
   "execution_count": 25,
   "metadata": {},
   "outputs": [
    {
     "name": "stdout",
     "output_type": "stream",
     "text": [
      "Index(['race', 'gender', 'weight', 'payer_code', 'medical_specialty'], dtype='object')\n"
     ]
    }
   ],
   "source": [
    "df = df.replace('?', np.nan)\n",
    "df = df.replace('Unknown/Invalid', np.nan)\n",
    "print(df.columns[df.isnull().any()])"
   ]
  },
  {
   "cell_type": "code",
   "execution_count": 26,
   "metadata": {},
   "outputs": [
    {
     "name": "stdout",
     "output_type": "stream",
     "text": [
      "race                         2273\n",
      "gender                          3\n",
      "age                             0\n",
      "weight                      98569\n",
      "admission_type_id               0\n",
      "discharge_disposition_id        0\n",
      "admission_source_id             0\n",
      "time_in_hospital                0\n",
      "payer_code                  40256\n",
      "medical_specialty           49949\n",
      "num_lab_procedures              0\n",
      "num_procedures                  0\n",
      "num_medications                 0\n",
      "number_outpatient               0\n",
      "number_emergency                0\n",
      "number_inpatient                0\n",
      "diag_1                          0\n",
      "diag_2                          0\n",
      "diag_3                          0\n",
      "number_diagnoses                0\n",
      "max_glu_serum                   0\n",
      "A1Cresult                       0\n",
      "metformin                       0\n",
      "repaglinide                     0\n",
      "nateglinide                     0\n",
      "chlorpropamide                  0\n",
      "glimepiride                     0\n",
      "acetohexamide                   0\n",
      "glipizide                       0\n",
      "glyburide                       0\n",
      "tolbutamide                     0\n",
      "pioglitazone                    0\n",
      "rosiglitazone                   0\n",
      "acarbose                        0\n",
      "miglitol                        0\n",
      "troglitazone                    0\n",
      "tolazamide                      0\n",
      "examide                         0\n",
      "citoglipton                     0\n",
      "insulin                         0\n",
      "glyburide-metformin             0\n",
      "glipizide-metformin             0\n",
      "glimepiride-pioglitazone        0\n",
      "metformin-rosiglitazone         0\n",
      "metformin-pioglitazone          0\n",
      "change                          0\n",
      "diabetesMed                     0\n",
      "readmitted                      0\n",
      "dtype: int64\n"
     ]
    },
    {
     "ename": "ValueError",
     "evalue": "fill value must be in categories",
     "output_type": "error",
     "traceback": [
      "\u001b[1;31m---------------------------------------------------------------------------\u001b[0m",
      "\u001b[1;31mValueError\u001b[0m                                Traceback (most recent call last)",
      "\u001b[1;32m<ipython-input-26-6c95098034f0>\u001b[0m in \u001b[0;36m<module>\u001b[1;34m()\u001b[0m\n\u001b[0;32m      3\u001b[0m \u001b[0mdf\u001b[0m \u001b[1;33m=\u001b[0m \u001b[0mdf\u001b[0m\u001b[1;33m.\u001b[0m\u001b[0mdropna\u001b[0m\u001b[1;33m(\u001b[0m\u001b[0msubset\u001b[0m \u001b[1;33m=\u001b[0m \u001b[1;33m[\u001b[0m\u001b[1;34m'gender'\u001b[0m\u001b[1;33m]\u001b[0m\u001b[1;33m)\u001b[0m \u001b[1;31m# minimal na for gender, can drop rows\u001b[0m\u001b[1;33m\u001b[0m\u001b[0m\n\u001b[0;32m      4\u001b[0m \u001b[0mdf\u001b[0m \u001b[1;33m=\u001b[0m \u001b[0mdf\u001b[0m\u001b[1;33m.\u001b[0m\u001b[0mfillna\u001b[0m\u001b[1;33m(\u001b[0m\u001b[1;33m{\u001b[0m\u001b[1;34m'weight'\u001b[0m\u001b[1;33m:\u001b[0m\u001b[0mdf\u001b[0m\u001b[1;33m[\u001b[0m\u001b[1;34m'weight'\u001b[0m\u001b[1;33m]\u001b[0m\u001b[1;33m.\u001b[0m\u001b[0mvalue_counts\u001b[0m\u001b[1;33m(\u001b[0m\u001b[1;33m)\u001b[0m\u001b[1;33m.\u001b[0m\u001b[0mindex\u001b[0m\u001b[1;33m[\u001b[0m\u001b[1;36m0\u001b[0m\u001b[1;33m]\u001b[0m\u001b[1;33m}\u001b[0m\u001b[1;33m)\u001b[0m \u001b[1;31m# fill weight with the most common weight\u001b[0m\u001b[1;33m\u001b[0m\u001b[0m\n\u001b[1;32m----> 5\u001b[1;33m \u001b[0mdf\u001b[0m \u001b[1;33m=\u001b[0m \u001b[0mdf\u001b[0m\u001b[1;33m.\u001b[0m\u001b[0mfillna\u001b[0m\u001b[1;33m(\u001b[0m\u001b[1;33m{\u001b[0m\u001b[1;34m'payer_code'\u001b[0m\u001b[1;33m:\u001b[0m\u001b[1;34m'NOT_SPECIFIED'\u001b[0m\u001b[1;33m,\u001b[0m \u001b[1;34m'medical_specialty'\u001b[0m\u001b[1;33m:\u001b[0m\u001b[1;34m'NOT_SPECIFIED'\u001b[0m\u001b[1;33m}\u001b[0m\u001b[1;33m)\u001b[0m\u001b[1;33m\u001b[0m\u001b[0m\n\u001b[0m\u001b[0;32m      6\u001b[0m \u001b[0mdf\u001b[0m\u001b[1;33m.\u001b[0m\u001b[0mhead\u001b[0m\u001b[1;33m(\u001b[0m\u001b[1;33m)\u001b[0m\u001b[1;33m\u001b[0m\u001b[0m\n",
      "\u001b[1;32mC:\\ProgramData\\Anaconda3\\lib\\site-packages\\pandas\\core\\frame.py\u001b[0m in \u001b[0;36mfillna\u001b[1;34m(self, value, method, axis, inplace, limit, downcast, **kwargs)\u001b[0m\n\u001b[0;32m   2752\u001b[0m                      \u001b[0mself\u001b[0m\u001b[1;33m)\u001b[0m\u001b[1;33m.\u001b[0m\u001b[0mfillna\u001b[0m\u001b[1;33m(\u001b[0m\u001b[0mvalue\u001b[0m\u001b[1;33m=\u001b[0m\u001b[0mvalue\u001b[0m\u001b[1;33m,\u001b[0m \u001b[0mmethod\u001b[0m\u001b[1;33m=\u001b[0m\u001b[0mmethod\u001b[0m\u001b[1;33m,\u001b[0m \u001b[0maxis\u001b[0m\u001b[1;33m=\u001b[0m\u001b[0maxis\u001b[0m\u001b[1;33m,\u001b[0m\u001b[1;33m\u001b[0m\u001b[0m\n\u001b[0;32m   2753\u001b[0m                                   \u001b[0minplace\u001b[0m\u001b[1;33m=\u001b[0m\u001b[0minplace\u001b[0m\u001b[1;33m,\u001b[0m \u001b[0mlimit\u001b[0m\u001b[1;33m=\u001b[0m\u001b[0mlimit\u001b[0m\u001b[1;33m,\u001b[0m\u001b[1;33m\u001b[0m\u001b[0m\n\u001b[1;32m-> 2754\u001b[1;33m                                   downcast=downcast, **kwargs)\n\u001b[0m\u001b[0;32m   2755\u001b[0m \u001b[1;33m\u001b[0m\u001b[0m\n\u001b[0;32m   2756\u001b[0m     \u001b[1;33m@\u001b[0m\u001b[0mAppender\u001b[0m\u001b[1;33m(\u001b[0m\u001b[0m_shared_docs\u001b[0m\u001b[1;33m[\u001b[0m\u001b[1;34m'shift'\u001b[0m\u001b[1;33m]\u001b[0m \u001b[1;33m%\u001b[0m \u001b[0m_shared_doc_kwargs\u001b[0m\u001b[1;33m)\u001b[0m\u001b[1;33m\u001b[0m\u001b[0m\n",
      "\u001b[1;32mC:\\ProgramData\\Anaconda3\\lib\\site-packages\\pandas\\core\\generic.py\u001b[0m in \u001b[0;36mfillna\u001b[1;34m(self, value, method, axis, inplace, limit, downcast)\u001b[0m\n\u001b[0;32m   3646\u001b[0m                         \u001b[1;32mcontinue\u001b[0m\u001b[1;33m\u001b[0m\u001b[0m\n\u001b[0;32m   3647\u001b[0m                     \u001b[0mobj\u001b[0m \u001b[1;33m=\u001b[0m \u001b[0mresult\u001b[0m\u001b[1;33m[\u001b[0m\u001b[0mk\u001b[0m\u001b[1;33m]\u001b[0m\u001b[1;33m\u001b[0m\u001b[0m\n\u001b[1;32m-> 3648\u001b[1;33m                     \u001b[0mobj\u001b[0m\u001b[1;33m.\u001b[0m\u001b[0mfillna\u001b[0m\u001b[1;33m(\u001b[0m\u001b[0mv\u001b[0m\u001b[1;33m,\u001b[0m \u001b[0mlimit\u001b[0m\u001b[1;33m=\u001b[0m\u001b[0mlimit\u001b[0m\u001b[1;33m,\u001b[0m \u001b[0minplace\u001b[0m\u001b[1;33m=\u001b[0m\u001b[1;32mTrue\u001b[0m\u001b[1;33m,\u001b[0m \u001b[0mdowncast\u001b[0m\u001b[1;33m=\u001b[0m\u001b[0mdowncast\u001b[0m\u001b[1;33m)\u001b[0m\u001b[1;33m\u001b[0m\u001b[0m\n\u001b[0m\u001b[0;32m   3649\u001b[0m                 \u001b[1;32mreturn\u001b[0m \u001b[0mresult\u001b[0m\u001b[1;33m\u001b[0m\u001b[0m\n\u001b[0;32m   3650\u001b[0m             \u001b[1;32melif\u001b[0m \u001b[1;32mnot\u001b[0m \u001b[0mis_list_like\u001b[0m\u001b[1;33m(\u001b[0m\u001b[0mvalue\u001b[0m\u001b[1;33m)\u001b[0m\u001b[1;33m:\u001b[0m\u001b[1;33m\u001b[0m\u001b[0m\n",
      "\u001b[1;32mC:\\ProgramData\\Anaconda3\\lib\\site-packages\\pandas\\core\\series.py\u001b[0m in \u001b[0;36mfillna\u001b[1;34m(self, value, method, axis, inplace, limit, downcast, **kwargs)\u001b[0m\n\u001b[0;32m   2432\u001b[0m                                           \u001b[0maxis\u001b[0m\u001b[1;33m=\u001b[0m\u001b[0maxis\u001b[0m\u001b[1;33m,\u001b[0m \u001b[0minplace\u001b[0m\u001b[1;33m=\u001b[0m\u001b[0minplace\u001b[0m\u001b[1;33m,\u001b[0m\u001b[1;33m\u001b[0m\u001b[0m\n\u001b[0;32m   2433\u001b[0m                                           \u001b[0mlimit\u001b[0m\u001b[1;33m=\u001b[0m\u001b[0mlimit\u001b[0m\u001b[1;33m,\u001b[0m \u001b[0mdowncast\u001b[0m\u001b[1;33m=\u001b[0m\u001b[0mdowncast\u001b[0m\u001b[1;33m,\u001b[0m\u001b[1;33m\u001b[0m\u001b[0m\n\u001b[1;32m-> 2434\u001b[1;33m                                           **kwargs)\n\u001b[0m\u001b[0;32m   2435\u001b[0m \u001b[1;33m\u001b[0m\u001b[0m\n\u001b[0;32m   2436\u001b[0m     \u001b[1;33m@\u001b[0m\u001b[0mAppender\u001b[0m\u001b[1;33m(\u001b[0m\u001b[0mgeneric\u001b[0m\u001b[1;33m.\u001b[0m\u001b[0m_shared_docs\u001b[0m\u001b[1;33m[\u001b[0m\u001b[1;34m'shift'\u001b[0m\u001b[1;33m]\u001b[0m \u001b[1;33m%\u001b[0m \u001b[0m_shared_doc_kwargs\u001b[0m\u001b[1;33m)\u001b[0m\u001b[1;33m\u001b[0m\u001b[0m\n",
      "\u001b[1;32mC:\\ProgramData\\Anaconda3\\lib\\site-packages\\pandas\\core\\generic.py\u001b[0m in \u001b[0;36mfillna\u001b[1;34m(self, value, method, axis, inplace, limit, downcast)\u001b[0m\n\u001b[0;32m   3633\u001b[0m                 new_data = self._data.fillna(value=value, limit=limit,\n\u001b[0;32m   3634\u001b[0m                                              \u001b[0minplace\u001b[0m\u001b[1;33m=\u001b[0m\u001b[0minplace\u001b[0m\u001b[1;33m,\u001b[0m\u001b[1;33m\u001b[0m\u001b[0m\n\u001b[1;32m-> 3635\u001b[1;33m                                              downcast=downcast)\n\u001b[0m\u001b[0;32m   3636\u001b[0m \u001b[1;33m\u001b[0m\u001b[0m\n\u001b[0;32m   3637\u001b[0m             \u001b[1;32melif\u001b[0m \u001b[0misinstance\u001b[0m\u001b[1;33m(\u001b[0m\u001b[0mvalue\u001b[0m\u001b[1;33m,\u001b[0m \u001b[1;33m(\u001b[0m\u001b[0mdict\u001b[0m\u001b[1;33m,\u001b[0m \u001b[0mABCSeries\u001b[0m\u001b[1;33m)\u001b[0m\u001b[1;33m)\u001b[0m\u001b[1;33m:\u001b[0m\u001b[1;33m\u001b[0m\u001b[0m\n",
      "\u001b[1;32mC:\\ProgramData\\Anaconda3\\lib\\site-packages\\pandas\\core\\internals.py\u001b[0m in \u001b[0;36mfillna\u001b[1;34m(self, **kwargs)\u001b[0m\n\u001b[0;32m   3216\u001b[0m \u001b[1;33m\u001b[0m\u001b[0m\n\u001b[0;32m   3217\u001b[0m     \u001b[1;32mdef\u001b[0m \u001b[0mfillna\u001b[0m\u001b[1;33m(\u001b[0m\u001b[0mself\u001b[0m\u001b[1;33m,\u001b[0m \u001b[1;33m**\u001b[0m\u001b[0mkwargs\u001b[0m\u001b[1;33m)\u001b[0m\u001b[1;33m:\u001b[0m\u001b[1;33m\u001b[0m\u001b[0m\n\u001b[1;32m-> 3218\u001b[1;33m         \u001b[1;32mreturn\u001b[0m \u001b[0mself\u001b[0m\u001b[1;33m.\u001b[0m\u001b[0mapply\u001b[0m\u001b[1;33m(\u001b[0m\u001b[1;34m'fillna'\u001b[0m\u001b[1;33m,\u001b[0m \u001b[1;33m**\u001b[0m\u001b[0mkwargs\u001b[0m\u001b[1;33m)\u001b[0m\u001b[1;33m\u001b[0m\u001b[0m\n\u001b[0m\u001b[0;32m   3219\u001b[0m \u001b[1;33m\u001b[0m\u001b[0m\n\u001b[0;32m   3220\u001b[0m     \u001b[1;32mdef\u001b[0m \u001b[0mdowncast\u001b[0m\u001b[1;33m(\u001b[0m\u001b[0mself\u001b[0m\u001b[1;33m,\u001b[0m \u001b[1;33m**\u001b[0m\u001b[0mkwargs\u001b[0m\u001b[1;33m)\u001b[0m\u001b[1;33m:\u001b[0m\u001b[1;33m\u001b[0m\u001b[0m\n",
      "\u001b[1;32mC:\\ProgramData\\Anaconda3\\lib\\site-packages\\pandas\\core\\internals.py\u001b[0m in \u001b[0;36mapply\u001b[1;34m(self, f, axes, filter, do_integrity_check, consolidate, **kwargs)\u001b[0m\n\u001b[0;32m   3089\u001b[0m \u001b[1;33m\u001b[0m\u001b[0m\n\u001b[0;32m   3090\u001b[0m             \u001b[0mkwargs\u001b[0m\u001b[1;33m[\u001b[0m\u001b[1;34m'mgr'\u001b[0m\u001b[1;33m]\u001b[0m \u001b[1;33m=\u001b[0m \u001b[0mself\u001b[0m\u001b[1;33m\u001b[0m\u001b[0m\n\u001b[1;32m-> 3091\u001b[1;33m             \u001b[0mapplied\u001b[0m \u001b[1;33m=\u001b[0m \u001b[0mgetattr\u001b[0m\u001b[1;33m(\u001b[0m\u001b[0mb\u001b[0m\u001b[1;33m,\u001b[0m \u001b[0mf\u001b[0m\u001b[1;33m)\u001b[0m\u001b[1;33m(\u001b[0m\u001b[1;33m**\u001b[0m\u001b[0mkwargs\u001b[0m\u001b[1;33m)\u001b[0m\u001b[1;33m\u001b[0m\u001b[0m\n\u001b[0m\u001b[0;32m   3092\u001b[0m             \u001b[0mresult_blocks\u001b[0m \u001b[1;33m=\u001b[0m \u001b[0m_extend_blocks\u001b[0m\u001b[1;33m(\u001b[0m\u001b[0mapplied\u001b[0m\u001b[1;33m,\u001b[0m \u001b[0mresult_blocks\u001b[0m\u001b[1;33m)\u001b[0m\u001b[1;33m\u001b[0m\u001b[0m\n\u001b[0;32m   3093\u001b[0m \u001b[1;33m\u001b[0m\u001b[0m\n",
      "\u001b[1;32mC:\\ProgramData\\Anaconda3\\lib\\site-packages\\pandas\\core\\internals.py\u001b[0m in \u001b[0;36mfillna\u001b[1;34m(self, value, limit, inplace, downcast, mgr)\u001b[0m\n\u001b[0;32m   2141\u001b[0m         \u001b[0mvalues\u001b[0m \u001b[1;33m=\u001b[0m \u001b[0mself\u001b[0m\u001b[1;33m.\u001b[0m\u001b[0mvalues\u001b[0m \u001b[1;32mif\u001b[0m \u001b[0minplace\u001b[0m \u001b[1;32melse\u001b[0m \u001b[0mself\u001b[0m\u001b[1;33m.\u001b[0m\u001b[0mvalues\u001b[0m\u001b[1;33m.\u001b[0m\u001b[0mcopy\u001b[0m\u001b[1;33m(\u001b[0m\u001b[1;33m)\u001b[0m\u001b[1;33m\u001b[0m\u001b[0m\n\u001b[0;32m   2142\u001b[0m         values = self._try_coerce_result(values.fillna(value=value,\n\u001b[1;32m-> 2143\u001b[1;33m                                                        limit=limit))\n\u001b[0m\u001b[0;32m   2144\u001b[0m         \u001b[1;32mreturn\u001b[0m \u001b[1;33m[\u001b[0m\u001b[0mself\u001b[0m\u001b[1;33m.\u001b[0m\u001b[0mmake_block\u001b[0m\u001b[1;33m(\u001b[0m\u001b[0mvalues\u001b[0m\u001b[1;33m=\u001b[0m\u001b[0mvalues\u001b[0m\u001b[1;33m)\u001b[0m\u001b[1;33m]\u001b[0m\u001b[1;33m\u001b[0m\u001b[0m\n\u001b[0;32m   2145\u001b[0m \u001b[1;33m\u001b[0m\u001b[0m\n",
      "\u001b[1;32mC:\\ProgramData\\Anaconda3\\lib\\site-packages\\pandas\\util\\_decorators.py\u001b[0m in \u001b[0;36mwrapper\u001b[1;34m(*args, **kwargs)\u001b[0m\n\u001b[0;32m     89\u001b[0m                 \u001b[1;32melse\u001b[0m\u001b[1;33m:\u001b[0m\u001b[1;33m\u001b[0m\u001b[0m\n\u001b[0;32m     90\u001b[0m                     \u001b[0mkwargs\u001b[0m\u001b[1;33m[\u001b[0m\u001b[0mnew_arg_name\u001b[0m\u001b[1;33m]\u001b[0m \u001b[1;33m=\u001b[0m \u001b[0mnew_arg_value\u001b[0m\u001b[1;33m\u001b[0m\u001b[0m\n\u001b[1;32m---> 91\u001b[1;33m             \u001b[1;32mreturn\u001b[0m \u001b[0mfunc\u001b[0m\u001b[1;33m(\u001b[0m\u001b[1;33m*\u001b[0m\u001b[0margs\u001b[0m\u001b[1;33m,\u001b[0m \u001b[1;33m**\u001b[0m\u001b[0mkwargs\u001b[0m\u001b[1;33m)\u001b[0m\u001b[1;33m\u001b[0m\u001b[0m\n\u001b[0m\u001b[0;32m     92\u001b[0m         \u001b[1;32mreturn\u001b[0m \u001b[0mwrapper\u001b[0m\u001b[1;33m\u001b[0m\u001b[0m\n\u001b[0;32m     93\u001b[0m     \u001b[1;32mreturn\u001b[0m \u001b[0m_deprecate_kwarg\u001b[0m\u001b[1;33m\u001b[0m\u001b[0m\n",
      "\u001b[1;32mC:\\ProgramData\\Anaconda3\\lib\\site-packages\\pandas\\core\\categorical.py\u001b[0m in \u001b[0;36mfillna\u001b[1;34m(self, value, method, limit)\u001b[0m\n\u001b[0;32m   1563\u001b[0m \u001b[1;33m\u001b[0m\u001b[0m\n\u001b[0;32m   1564\u001b[0m             \u001b[1;32mif\u001b[0m \u001b[1;32mnot\u001b[0m \u001b[0misnull\u001b[0m\u001b[1;33m(\u001b[0m\u001b[0mvalue\u001b[0m\u001b[1;33m)\u001b[0m \u001b[1;32mand\u001b[0m \u001b[0mvalue\u001b[0m \u001b[1;32mnot\u001b[0m \u001b[1;32min\u001b[0m \u001b[0mself\u001b[0m\u001b[1;33m.\u001b[0m\u001b[0mcategories\u001b[0m\u001b[1;33m:\u001b[0m\u001b[1;33m\u001b[0m\u001b[0m\n\u001b[1;32m-> 1565\u001b[1;33m                 \u001b[1;32mraise\u001b[0m \u001b[0mValueError\u001b[0m\u001b[1;33m(\u001b[0m\u001b[1;34m\"fill value must be in categories\"\u001b[0m\u001b[1;33m)\u001b[0m\u001b[1;33m\u001b[0m\u001b[0m\n\u001b[0m\u001b[0;32m   1566\u001b[0m \u001b[1;33m\u001b[0m\u001b[0m\n\u001b[0;32m   1567\u001b[0m             \u001b[0mmask\u001b[0m \u001b[1;33m=\u001b[0m \u001b[0mvalues\u001b[0m \u001b[1;33m==\u001b[0m \u001b[1;33m-\u001b[0m\u001b[1;36m1\u001b[0m\u001b[1;33m\u001b[0m\u001b[0m\n",
      "\u001b[1;31mValueError\u001b[0m: fill value must be in categories"
     ]
    }
   ],
   "source": [
    "#obj_df = df.select_dtypes(include=['object']).copy()\n",
    "print(df.isnull().sum())\n",
    "df = df.dropna(subset = ['gender']) # minimal na for gender, can drop rows\n",
    "df = df.fillna({'weight':df['weight'].value_counts().index[0]}) # fill weight with the most common weight\n",
    "df = df.fillna({'payer_code':'NOT_SPECIFIED', 'medical_specialty':'NOT_SPECIFIED'})\n",
    "df.head()"
   ]
  },
  {
   "cell_type": "code",
   "execution_count": 28,
   "metadata": {
    "collapsed": true
   },
   "outputs": [],
   "source": [
    "df.loc[:,'New_diag1'] = '0'\n",
    "df.loc[:,'New_diag2'] = '0'\n",
    "df.loc[:,'New_diag3'] = '0'\n",
    "df.loc[:,'New_diag4'] = '0'\n",
    "df.loc[:,'New_diag5'] = '0'\n",
    "df.loc[:,'New_diag6'] = '0'\n",
    "df.loc[:,'New_diag7'] = '0'\n",
    "df.loc[:,'New_diag8'] = '0'\n",
    "df.loc[:,'New_diag9'] = '0'"
   ]
  },
  {
   "cell_type": "code",
   "execution_count": 29,
   "metadata": {
    "collapsed": true
   },
   "outputs": [],
   "source": [
    "#code out all the 1-9 values in diag1- diag3 into new columns\n",
    "\n",
    "\n",
    "\n",
    "#make the new_diag 1 value 1 or 0\n",
    "df.New_diag1 = np.where(df.diag_1 == 1,'1',df.New_diag1)\n",
    "df.New_diag1 = np.where(df.diag_2 == 1,'1',df.New_diag1)\n",
    "df.New_diag1 = np.where(df.diag_3 == 1,'1',df.New_diag1)"
   ]
  },
  {
   "cell_type": "code",
   "execution_count": 30,
   "metadata": {
    "collapsed": true
   },
   "outputs": [],
   "source": [
    "#make the new_diag 2 value 1 or 0\n",
    "df.New_diag2 = np.where(df.diag_1 == 2, '1',df.New_diag2)\n",
    "df.New_diag2 = np.where(df.diag_2 == 2, '1',df.New_diag2)\n",
    "df.New_diag2 = np.where(df.diag_3 == 2, '1',df.New_diag2)"
   ]
  },
  {
   "cell_type": "code",
   "execution_count": 31,
   "metadata": {
    "collapsed": true
   },
   "outputs": [],
   "source": [
    "#make the new_diag 3 value 1 or 0\n",
    "df.New_diag3 = np.where(df.diag_1 == 3,'1',df.New_diag3)\n",
    "df.New_diag3 = np.where(df.diag_2 == 3,'1',df.New_diag3)\n",
    "df.New_diag3 = np.where(df.diag_3 == 3,'1',df.New_diag3)"
   ]
  },
  {
   "cell_type": "code",
   "execution_count": 32,
   "metadata": {
    "collapsed": true
   },
   "outputs": [],
   "source": [
    "#make the new_diag 4 value 1 or 0\n",
    "df.New_diag4 = np.where(df.diag_1 ==4, '1', df.New_diag4)\n",
    "df.New_diag4 = np.where(df.diag_2 ==4, '1', df.New_diag4)\n",
    "df.New_diag4 = np.where(df.diag_3 ==4, '1', df.New_diag4)"
   ]
  },
  {
   "cell_type": "code",
   "execution_count": 33,
   "metadata": {
    "collapsed": true
   },
   "outputs": [],
   "source": [
    "#make the new_diag 5 value 1 or 0\n",
    "df.New_diag5 = np.where(df.diag_1 ==5, '1', df.New_diag5)\n",
    "df.New_diag5 = np.where(df.diag_2 ==5, '1', df.New_diag5)\n",
    "df.New_diag5 = np.where(df.diag_3 ==5, '1', df.New_diag5)"
   ]
  },
  {
   "cell_type": "code",
   "execution_count": 34,
   "metadata": {
    "collapsed": true
   },
   "outputs": [],
   "source": [
    "#make the new_diag 6 value 1 or 0\n",
    "df.New_diag6 = np.where(df.diag_1 ==6, '1', df.New_diag6)\n",
    "df.New_diag6 = np.where(df.diag_2 ==6, '1', df.New_diag6)\n",
    "df.New_diag6 = np.where(df.diag_3 ==6, '1', df.New_diag6)"
   ]
  },
  {
   "cell_type": "code",
   "execution_count": 35,
   "metadata": {
    "collapsed": true
   },
   "outputs": [],
   "source": [
    "#make the new_diag 7 value 1 or 0\n",
    "df.New_diag7 = np.where(df.diag_1 ==7, '1', df.New_diag7)\n",
    "df.New_diag7 = np.where(df.diag_2 ==7, '1', df.New_diag7)\n",
    "df.New_diag7 = np.where(df.diag_3 ==7, '1', df.New_diag7)"
   ]
  },
  {
   "cell_type": "code",
   "execution_count": 36,
   "metadata": {
    "collapsed": true
   },
   "outputs": [],
   "source": [
    "#make the new_diag 8 value 1 or 0\n",
    "df.New_diag8 = np.where(df.diag_1 ==8, '1', df.New_diag8)\n",
    "df.New_diag8 = np.where(df.diag_2 ==8, '1', df.New_diag8)\n",
    "df.New_diag8 = np.where(df.diag_3 ==8, '1', df.New_diag8)"
   ]
  },
  {
   "cell_type": "code",
   "execution_count": 37,
   "metadata": {
    "collapsed": true
   },
   "outputs": [],
   "source": [
    "#make the new_diag 9 value 1 or 0\n",
    "df.New_diag9 = np.where(df.diag_1 ==9, '1', df.New_diag9)\n",
    "df.New_diag9 = np.where(df.diag_2 ==9, '1', df.New_diag9)\n",
    "df.New_diag9 = np.where(df.diag_3 ==9, '1', df.New_diag9)"
   ]
  },
  {
   "cell_type": "code",
   "execution_count": 38,
   "metadata": {},
   "outputs": [
    {
     "data": {
      "text/plain": [
       "race                        category\n",
       "gender                      category\n",
       "age                         category\n",
       "weight                      category\n",
       "admission_type_id           category\n",
       "discharge_disposition_id    category\n",
       "admission_source_id         category\n",
       "time_in_hospital            category\n",
       "payer_code                  category\n",
       "medical_specialty           category\n",
       "num_lab_procedures          category\n",
       "num_procedures              category\n",
       "num_medications             category\n",
       "number_outpatient           category\n",
       "number_emergency            category\n",
       "number_inpatient            category\n",
       "diag_1                         int64\n",
       "diag_2                        object\n",
       "diag_3                        object\n",
       "number_diagnoses            category\n",
       "max_glu_serum               category\n",
       "A1Cresult                   category\n",
       "metformin                   category\n",
       "repaglinide                 category\n",
       "nateglinide                 category\n",
       "chlorpropamide              category\n",
       "glimepiride                 category\n",
       "acetohexamide               category\n",
       "glipizide                   category\n",
       "glyburide                   category\n",
       "tolbutamide                 category\n",
       "pioglitazone                category\n",
       "rosiglitazone               category\n",
       "acarbose                    category\n",
       "miglitol                    category\n",
       "troglitazone                category\n",
       "tolazamide                  category\n",
       "examide                     category\n",
       "citoglipton                 category\n",
       "insulin                     category\n",
       "glyburide-metformin         category\n",
       "glipizide-metformin         category\n",
       "glimepiride-pioglitazone    category\n",
       "metformin-rosiglitazone     category\n",
       "metformin-pioglitazone      category\n",
       "change                      category\n",
       "diabetesMed                 category\n",
       "readmitted                  category\n",
       "New_diag1                     object\n",
       "New_diag2                     object\n",
       "New_diag3                     object\n",
       "New_diag4                     object\n",
       "New_diag5                     object\n",
       "New_diag6                     object\n",
       "New_diag7                     object\n",
       "New_diag8                     object\n",
       "New_diag9                     object\n",
       "dtype: object"
      ]
     },
     "execution_count": 38,
     "metadata": {},
     "output_type": "execute_result"
    }
   ],
   "source": [
    "df.dtypes"
   ]
  },
  {
   "cell_type": "code",
   "execution_count": 39,
   "metadata": {
    "collapsed": true
   },
   "outputs": [],
   "source": [
    "df=df.drop('weight',axis=1)\n",
    "df=df.drop('payer_code',axis=1)\n",
    "df=df.drop('diag_1',axis=1)\n",
    "df=df.drop('diag_2',axis=1)\n",
    "df=df.drop('diag_3',axis=1)"
   ]
  },
  {
   "cell_type": "code",
   "execution_count": 40,
   "metadata": {
    "collapsed": true
   },
   "outputs": [],
   "source": [
    "df=df.drop('num_lab_procedures',axis=1)\n",
    "df=df.drop('num_procedures',axis=1)\n",
    "df=df.drop('number_emergency',axis=1)\n",
    "df=df.drop('number_outpatient',axis=1)\n",
    "df=df.drop('number_inpatient',axis=1)"
   ]
  },
  {
   "cell_type": "code",
   "execution_count": 41,
   "metadata": {},
   "outputs": [
    {
     "data": {
      "text/plain": [
       "race                        category\n",
       "gender                      category\n",
       "age                         category\n",
       "admission_type_id           category\n",
       "discharge_disposition_id    category\n",
       "admission_source_id         category\n",
       "time_in_hospital            category\n",
       "medical_specialty           category\n",
       "num_medications             category\n",
       "number_diagnoses            category\n",
       "max_glu_serum               category\n",
       "A1Cresult                   category\n",
       "metformin                   category\n",
       "repaglinide                 category\n",
       "nateglinide                 category\n",
       "chlorpropamide              category\n",
       "glimepiride                 category\n",
       "acetohexamide               category\n",
       "glipizide                   category\n",
       "glyburide                   category\n",
       "tolbutamide                 category\n",
       "pioglitazone                category\n",
       "rosiglitazone               category\n",
       "acarbose                    category\n",
       "miglitol                    category\n",
       "troglitazone                category\n",
       "tolazamide                  category\n",
       "examide                     category\n",
       "citoglipton                 category\n",
       "insulin                     category\n",
       "glyburide-metformin         category\n",
       "glipizide-metformin         category\n",
       "glimepiride-pioglitazone    category\n",
       "metformin-rosiglitazone     category\n",
       "metformin-pioglitazone      category\n",
       "change                      category\n",
       "diabetesMed                 category\n",
       "readmitted                  category\n",
       "New_diag1                     object\n",
       "New_diag2                     object\n",
       "New_diag3                     object\n",
       "New_diag4                     object\n",
       "New_diag5                     object\n",
       "New_diag6                     object\n",
       "New_diag7                     object\n",
       "New_diag8                     object\n",
       "New_diag9                     object\n",
       "dtype: object"
      ]
     },
     "execution_count": 41,
     "metadata": {},
     "output_type": "execute_result"
    }
   ],
   "source": [
    "df.dtypes"
   ]
  },
  {
   "cell_type": "code",
   "execution_count": 42,
   "metadata": {
    "collapsed": true
   },
   "outputs": [],
   "source": [
    "#line to drop more columns\n",
    "df=df.drop('num_medications',axis=1)\n",
    "df=df.drop('number_diagnoses',axis=1)"
   ]
  },
  {
   "cell_type": "code",
   "execution_count": 43,
   "metadata": {
    "collapsed": true
   },
   "outputs": [],
   "source": [
    "#conversion to category\n",
    "\n",
    "#for col in ['New_diag1','New_diag2','New_diag3','New_diag4','New_diag5','New_diag6','New_diag7','New_diag8','New_diag9',]:\n",
    "    #df[col] = df[col].astype('category')"
   ]
  },
  {
   "cell_type": "code",
   "execution_count": 44,
   "metadata": {},
   "outputs": [
    {
     "data": {
      "text/plain": [
       "race                        category\n",
       "gender                      category\n",
       "age                         category\n",
       "admission_type_id           category\n",
       "discharge_disposition_id    category\n",
       "admission_source_id         category\n",
       "time_in_hospital            category\n",
       "medical_specialty           category\n",
       "max_glu_serum               category\n",
       "A1Cresult                   category\n",
       "metformin                   category\n",
       "repaglinide                 category\n",
       "nateglinide                 category\n",
       "chlorpropamide              category\n",
       "glimepiride                 category\n",
       "acetohexamide               category\n",
       "glipizide                   category\n",
       "glyburide                   category\n",
       "tolbutamide                 category\n",
       "pioglitazone                category\n",
       "rosiglitazone               category\n",
       "acarbose                    category\n",
       "miglitol                    category\n",
       "troglitazone                category\n",
       "tolazamide                  category\n",
       "examide                     category\n",
       "citoglipton                 category\n",
       "insulin                     category\n",
       "glyburide-metformin         category\n",
       "glipizide-metformin         category\n",
       "glimepiride-pioglitazone    category\n",
       "metformin-rosiglitazone     category\n",
       "metformin-pioglitazone      category\n",
       "change                      category\n",
       "diabetesMed                 category\n",
       "readmitted                  category\n",
       "New_diag1                     object\n",
       "New_diag2                     object\n",
       "New_diag3                     object\n",
       "New_diag4                     object\n",
       "New_diag5                     object\n",
       "New_diag6                     object\n",
       "New_diag7                     object\n",
       "New_diag8                     object\n",
       "New_diag9                     object\n",
       "dtype: object"
      ]
     },
     "execution_count": 44,
     "metadata": {},
     "output_type": "execute_result"
    }
   ],
   "source": [
    "df.dtypes"
   ]
  },
  {
   "cell_type": "code",
   "execution_count": 45,
   "metadata": {
    "collapsed": true
   },
   "outputs": [],
   "source": [
    "df['race'] = df['race'].astype('category')\n",
    "df['race'] = df['race'].cat.codes\n",
    "df['age'] = df['age'].astype('category')\n",
    "df['age'] = df['age'].cat.codes\n",
    "df['readmitted'] = df['readmitted'].astype('category')\n",
    "df['readmitted'] = df['readmitted'].cat.codes"
   ]
  },
  {
   "cell_type": "code",
   "execution_count": 46,
   "metadata": {
    "collapsed": true
   },
   "outputs": [],
   "source": [
    "# one hot the rest\n",
    "column_names = list(df.select_dtypes(include=['category']).columns.values)\n",
    "one_hot = pd.get_dummies(df.select_dtypes(include=['category']))\n",
    "df = df.drop(column_names, axis=1)\n",
    "df = df.join(one_hot)"
   ]
  },
  {
   "cell_type": "code",
   "execution_count": 47,
   "metadata": {},
   "outputs": [
    {
     "name": "stdout",
     "output_type": "stream",
     "text": [
      "race [ 3  1 -1  5  2  4]\n",
      "**************************************************\n",
      "age [0 1 2 3 4 5 6 7 8 9]\n",
      "**************************************************\n",
      "readmitted [2 1 0]\n",
      "**************************************************\n",
      "New_diag1 ['0' '1']\n",
      "**************************************************\n",
      "New_diag2 ['0' '1']\n",
      "**************************************************\n",
      "New_diag3 ['0' '1']\n",
      "**************************************************\n",
      "New_diag4 ['1' '0']\n",
      "**************************************************\n",
      "New_diag5 ['0' '1']\n",
      "**************************************************\n",
      "New_diag6 ['0' '1']\n",
      "**************************************************\n",
      "New_diag7 ['0' '1']\n",
      "**************************************************\n",
      "New_diag8 ['0' '1']\n",
      "**************************************************\n",
      "New_diag9 ['0' '1']\n",
      "**************************************************\n",
      "gender_Female [1 0]\n",
      "**************************************************\n",
      "gender_Male [0 1]\n",
      "**************************************************\n",
      "gender_Unknown/Invalid [0]\n",
      "**************************************************\n",
      "admission_type_id_1 [0 1]\n",
      "**************************************************\n",
      "admission_type_id_2 [0 1]\n",
      "**************************************************\n",
      "admission_type_id_3 [0 1]\n",
      "**************************************************\n",
      "admission_type_id_4 [0 1]\n",
      "**************************************************\n",
      "admission_type_id_5 [0 1]\n",
      "**************************************************\n",
      "admission_type_id_6 [1 0]\n",
      "**************************************************\n",
      "admission_type_id_7 [0 1]\n",
      "**************************************************\n",
      "admission_type_id_8 [0 1]\n",
      "**************************************************\n",
      "discharge_disposition_id_1 [0 1]\n",
      "**************************************************\n",
      "discharge_disposition_id_10 [0 1]\n",
      "**************************************************\n",
      "discharge_disposition_id_11 [0 1]\n",
      "**************************************************\n",
      "discharge_disposition_id_12 [0 1]\n",
      "**************************************************\n",
      "discharge_disposition_id_13 [0 1]\n",
      "**************************************************\n",
      "discharge_disposition_id_14 [0 1]\n",
      "**************************************************\n",
      "discharge_disposition_id_15 [0 1]\n",
      "**************************************************\n",
      "discharge_disposition_id_16 [0 1]\n",
      "**************************************************\n",
      "discharge_disposition_id_17 [0 1]\n",
      "**************************************************\n",
      "discharge_disposition_id_18 [0 1]\n",
      "**************************************************\n",
      "discharge_disposition_id_19 [0 1]\n",
      "**************************************************\n",
      "discharge_disposition_id_2 [0 1]\n",
      "**************************************************\n",
      "discharge_disposition_id_20 [0 1]\n",
      "**************************************************\n",
      "discharge_disposition_id_22 [0 1]\n",
      "**************************************************\n",
      "discharge_disposition_id_23 [0 1]\n",
      "**************************************************\n",
      "discharge_disposition_id_24 [0 1]\n",
      "**************************************************\n",
      "discharge_disposition_id_25 [1 0]\n",
      "**************************************************\n",
      "discharge_disposition_id_27 [0 1]\n",
      "**************************************************\n",
      "discharge_disposition_id_28 [0 1]\n",
      "**************************************************\n",
      "discharge_disposition_id_3 [0 1]\n",
      "**************************************************\n",
      "discharge_disposition_id_4 [0 1]\n",
      "**************************************************\n",
      "discharge_disposition_id_5 [0 1]\n",
      "**************************************************\n",
      "discharge_disposition_id_6 [0 1]\n",
      "**************************************************\n",
      "discharge_disposition_id_7 [0 1]\n",
      "**************************************************\n",
      "discharge_disposition_id_8 [0 1]\n",
      "**************************************************\n",
      "discharge_disposition_id_9 [0 1]\n",
      "**************************************************\n",
      "admission_source_id_1 [1 0]\n",
      "**************************************************\n",
      "admission_source_id_10 [0 1]\n",
      "**************************************************\n",
      "admission_source_id_11 [0 1]\n",
      "**************************************************\n",
      "admission_source_id_13 [0 1]\n",
      "**************************************************\n",
      "admission_source_id_14 [0 1]\n",
      "**************************************************\n",
      "admission_source_id_17 [0 1]\n",
      "**************************************************\n",
      "admission_source_id_2 [0 1]\n",
      "**************************************************\n",
      "admission_source_id_20 [0 1]\n",
      "**************************************************\n",
      "admission_source_id_22 [0 1]\n",
      "**************************************************\n",
      "admission_source_id_25 [0 1]\n",
      "**************************************************\n",
      "admission_source_id_3 [0 1]\n",
      "**************************************************\n",
      "admission_source_id_4 [0 1]\n",
      "**************************************************\n",
      "admission_source_id_5 [0 1]\n",
      "**************************************************\n",
      "admission_source_id_6 [0 1]\n",
      "**************************************************\n",
      "admission_source_id_7 [0 1]\n",
      "**************************************************\n",
      "admission_source_id_8 [0 1]\n",
      "**************************************************\n",
      "admission_source_id_9 [0 1]\n",
      "**************************************************\n",
      "time_in_hospital_1 [1 0]\n",
      "**************************************************\n",
      "time_in_hospital_10 [0 1]\n",
      "**************************************************\n",
      "time_in_hospital_11 [0 1]\n",
      "**************************************************\n",
      "time_in_hospital_12 [0 1]\n",
      "**************************************************\n",
      "time_in_hospital_13 [0 1]\n",
      "**************************************************\n",
      "time_in_hospital_14 [0 1]\n",
      "**************************************************\n",
      "time_in_hospital_2 [0 1]\n",
      "**************************************************\n",
      "time_in_hospital_3 [0 1]\n",
      "**************************************************\n",
      "time_in_hospital_4 [0 1]\n",
      "**************************************************\n",
      "time_in_hospital_5 [0 1]\n",
      "**************************************************\n",
      "time_in_hospital_6 [0 1]\n",
      "**************************************************\n",
      "time_in_hospital_7 [0 1]\n",
      "**************************************************\n",
      "time_in_hospital_8 [0 1]\n",
      "**************************************************\n",
      "time_in_hospital_9 [0 1]\n",
      "**************************************************\n",
      "medical_specialty_? [0]\n",
      "**************************************************\n",
      "medical_specialty_AllergyandImmunology [0 1]\n",
      "**************************************************\n",
      "medical_specialty_Anesthesiology [0 1]\n",
      "**************************************************\n",
      "medical_specialty_Anesthesiology-Pediatric [0 1]\n",
      "**************************************************\n",
      "medical_specialty_Cardiology [0 1]\n",
      "**************************************************\n",
      "medical_specialty_Cardiology-Pediatric [0 1]\n",
      "**************************************************\n",
      "medical_specialty_DCPTEAM [0 1]\n",
      "**************************************************\n",
      "medical_specialty_Dentistry [0 1]\n",
      "**************************************************\n",
      "medical_specialty_Dermatology [0 1]\n",
      "**************************************************\n",
      "medical_specialty_Emergency/Trauma [0 1]\n",
      "**************************************************\n",
      "medical_specialty_Endocrinology [0 1]\n",
      "**************************************************\n",
      "medical_specialty_Endocrinology-Metabolism [0 1]\n",
      "**************************************************\n",
      "medical_specialty_Family/GeneralPractice [0 1]\n",
      "**************************************************\n",
      "medical_specialty_Gastroenterology [0 1]\n",
      "**************************************************\n",
      "medical_specialty_Gynecology [0 1]\n",
      "**************************************************\n",
      "medical_specialty_Hematology [0 1]\n",
      "**************************************************\n",
      "medical_specialty_Hematology/Oncology [0 1]\n",
      "**************************************************\n",
      "medical_specialty_Hospitalist [0 1]\n",
      "**************************************************\n",
      "medical_specialty_InfectiousDiseases [0 1]\n",
      "**************************************************\n",
      "medical_specialty_InternalMedicine [0 1]\n",
      "**************************************************\n",
      "medical_specialty_Nephrology [0 1]\n",
      "**************************************************\n",
      "medical_specialty_Neurology [0 1]\n",
      "**************************************************\n",
      "medical_specialty_Neurophysiology [0 1]\n",
      "**************************************************\n",
      "medical_specialty_Obsterics&Gynecology-GynecologicOnco [0 1]\n",
      "**************************************************\n",
      "medical_specialty_Obstetrics [0 1]\n",
      "**************************************************\n",
      "medical_specialty_ObstetricsandGynecology [0 1]\n",
      "**************************************************\n",
      "medical_specialty_Oncology [0 1]\n",
      "**************************************************\n",
      "medical_specialty_Ophthalmology [0 1]\n",
      "**************************************************\n",
      "medical_specialty_Orthopedics [0 1]\n",
      "**************************************************\n",
      "medical_specialty_Orthopedics-Reconstructive [0 1]\n",
      "**************************************************\n",
      "medical_specialty_Osteopath [0 1]\n",
      "**************************************************\n",
      "medical_specialty_Otolaryngology [0 1]\n",
      "**************************************************\n",
      "medical_specialty_OutreachServices [0 1]\n",
      "**************************************************\n",
      "medical_specialty_Pathology [0 1]\n",
      "**************************************************\n",
      "medical_specialty_Pediatrics [0 1]\n",
      "**************************************************\n",
      "medical_specialty_Pediatrics-AllergyandImmunology [0 1]\n",
      "**************************************************\n",
      "medical_specialty_Pediatrics-CriticalCare [0 1]\n",
      "**************************************************\n",
      "medical_specialty_Pediatrics-EmergencyMedicine [0 1]\n",
      "**************************************************\n",
      "medical_specialty_Pediatrics-Endocrinology [1 0]\n",
      "**************************************************\n",
      "medical_specialty_Pediatrics-Hematology-Oncology [0 1]\n",
      "**************************************************\n",
      "medical_specialty_Pediatrics-InfectiousDiseases [0 1]\n",
      "**************************************************\n",
      "medical_specialty_Pediatrics-Neurology [0 1]\n",
      "**************************************************\n",
      "medical_specialty_Pediatrics-Pulmonology [0 1]\n",
      "**************************************************\n",
      "medical_specialty_Perinatology [0 1]\n",
      "**************************************************\n",
      "medical_specialty_PhysicalMedicineandRehabilitation [0 1]\n",
      "**************************************************\n",
      "medical_specialty_PhysicianNotFound [0 1]\n",
      "**************************************************\n",
      "medical_specialty_Podiatry [0 1]\n",
      "**************************************************\n",
      "medical_specialty_Proctology [0 1]\n",
      "**************************************************\n",
      "medical_specialty_Psychiatry [0 1]\n",
      "**************************************************\n",
      "medical_specialty_Psychiatry-Addictive [0 1]\n",
      "**************************************************\n",
      "medical_specialty_Psychiatry-Child/Adolescent [0 1]\n",
      "**************************************************\n",
      "medical_specialty_Psychology [0 1]\n",
      "**************************************************\n",
      "medical_specialty_Pulmonology [0 1]\n",
      "**************************************************\n",
      "medical_specialty_Radiologist [0 1]\n",
      "**************************************************\n",
      "medical_specialty_Radiology [0 1]\n",
      "**************************************************\n",
      "medical_specialty_Resident [0 1]\n",
      "**************************************************\n",
      "medical_specialty_Rheumatology [0 1]\n",
      "**************************************************\n",
      "medical_specialty_Speech [0 1]\n",
      "**************************************************\n",
      "medical_specialty_SportsMedicine [0 1]\n",
      "**************************************************\n",
      "medical_specialty_Surgeon [0 1]\n",
      "**************************************************\n",
      "medical_specialty_Surgery-Cardiovascular [0 1]\n",
      "**************************************************\n",
      "medical_specialty_Surgery-Cardiovascular/Thoracic [0 1]\n",
      "**************************************************\n",
      "medical_specialty_Surgery-Colon&Rectal [0 1]\n",
      "**************************************************\n",
      "medical_specialty_Surgery-General [0 1]\n",
      "**************************************************\n",
      "medical_specialty_Surgery-Maxillofacial [0 1]\n",
      "**************************************************\n",
      "medical_specialty_Surgery-Neuro [0 1]\n",
      "**************************************************\n",
      "medical_specialty_Surgery-Pediatric [0 1]\n",
      "**************************************************\n",
      "medical_specialty_Surgery-Plastic [0 1]\n",
      "**************************************************\n",
      "medical_specialty_Surgery-PlasticwithinHeadandNeck [0 1]\n",
      "**************************************************\n",
      "medical_specialty_Surgery-Thoracic [0 1]\n",
      "**************************************************\n",
      "medical_specialty_Surgery-Vascular [0 1]\n",
      "**************************************************\n",
      "medical_specialty_SurgicalSpecialty [0 1]\n",
      "**************************************************\n",
      "medical_specialty_Urology [0 1]\n",
      "**************************************************\n",
      "max_glu_serum_>200 [0 1]\n",
      "**************************************************\n",
      "max_glu_serum_>300 [0 1]\n",
      "**************************************************\n",
      "max_glu_serum_None [1 0]\n",
      "**************************************************\n",
      "max_glu_serum_Norm [0 1]\n",
      "**************************************************\n",
      "A1Cresult_0 [1 0]\n",
      "**************************************************\n",
      "A1Cresult_1 [0 1]\n",
      "**************************************************\n",
      "A1Cresult_2 [0 1]\n",
      "**************************************************\n",
      "A1Cresult_3 [0 1]\n",
      "**************************************************\n",
      "metformin_Down [0 1]\n",
      "**************************************************\n",
      "metformin_No [1 0]\n",
      "**************************************************\n",
      "metformin_Steady [0 1]\n",
      "**************************************************\n",
      "metformin_Up [0 1]\n",
      "**************************************************\n",
      "repaglinide_Down [0 1]\n",
      "**************************************************\n",
      "repaglinide_No [1 0]\n",
      "**************************************************\n",
      "repaglinide_Steady [0 1]\n",
      "**************************************************\n",
      "repaglinide_Up [0 1]\n",
      "**************************************************\n",
      "nateglinide_Down [0 1]\n",
      "**************************************************\n",
      "nateglinide_No [1 0]\n",
      "**************************************************\n",
      "nateglinide_Steady [0 1]\n",
      "**************************************************\n",
      "nateglinide_Up [0 1]\n",
      "**************************************************\n",
      "chlorpropamide_Down [0 1]\n",
      "**************************************************\n",
      "chlorpropamide_No [1 0]\n",
      "**************************************************\n",
      "chlorpropamide_Steady [0 1]\n",
      "**************************************************\n",
      "chlorpropamide_Up [0 1]\n",
      "**************************************************\n",
      "glimepiride_Down [0 1]\n",
      "**************************************************\n",
      "glimepiride_No [1 0]\n",
      "**************************************************\n",
      "glimepiride_Steady [0 1]\n",
      "**************************************************\n",
      "glimepiride_Up [0 1]\n",
      "**************************************************\n",
      "acetohexamide_No [1 0]\n",
      "**************************************************\n"
     ]
    },
    {
     "name": "stdout",
     "output_type": "stream",
     "text": [
      "acetohexamide_Steady [0 1]\n",
      "**************************************************\n",
      "glipizide_Down [0 1]\n",
      "**************************************************\n",
      "glipizide_No [1 0]\n",
      "**************************************************\n",
      "glipizide_Steady [0 1]\n",
      "**************************************************\n",
      "glipizide_Up [0 1]\n",
      "**************************************************\n",
      "glyburide_Down [0 1]\n",
      "**************************************************\n",
      "glyburide_No [1 0]\n",
      "**************************************************\n",
      "glyburide_Steady [0 1]\n",
      "**************************************************\n",
      "glyburide_Up [0 1]\n",
      "**************************************************\n",
      "tolbutamide_No [1 0]\n",
      "**************************************************\n",
      "tolbutamide_Steady [0 1]\n",
      "**************************************************\n",
      "pioglitazone_Down [0 1]\n",
      "**************************************************\n",
      "pioglitazone_No [1 0]\n",
      "**************************************************\n",
      "pioglitazone_Steady [0 1]\n",
      "**************************************************\n",
      "pioglitazone_Up [0 1]\n",
      "**************************************************\n",
      "rosiglitazone_Down [0 1]\n",
      "**************************************************\n",
      "rosiglitazone_No [1 0]\n",
      "**************************************************\n",
      "rosiglitazone_Steady [0 1]\n",
      "**************************************************\n",
      "rosiglitazone_Up [0 1]\n",
      "**************************************************\n",
      "acarbose_Down [0 1]\n",
      "**************************************************\n",
      "acarbose_No [1 0]\n",
      "**************************************************\n",
      "acarbose_Steady [0 1]\n",
      "**************************************************\n",
      "acarbose_Up [0 1]\n",
      "**************************************************\n",
      "miglitol_Down [0 1]\n",
      "**************************************************\n",
      "miglitol_No [1 0]\n",
      "**************************************************\n",
      "miglitol_Steady [0 1]\n",
      "**************************************************\n",
      "miglitol_Up [0 1]\n",
      "**************************************************\n",
      "troglitazone_No [1 0]\n",
      "**************************************************\n",
      "troglitazone_Steady [0 1]\n",
      "**************************************************\n",
      "tolazamide_No [1 0]\n",
      "**************************************************\n",
      "tolazamide_Steady [0 1]\n",
      "**************************************************\n",
      "tolazamide_Up [0 1]\n",
      "**************************************************\n",
      "examide_No [1]\n",
      "**************************************************\n",
      "citoglipton_No [1]\n",
      "**************************************************\n",
      "insulin_Down [0 1]\n",
      "**************************************************\n",
      "insulin_No [1 0]\n",
      "**************************************************\n",
      "insulin_Steady [0 1]\n",
      "**************************************************\n",
      "insulin_Up [0 1]\n",
      "**************************************************\n",
      "glyburide-metformin_Down [0 1]\n",
      "**************************************************\n",
      "glyburide-metformin_No [1 0]\n",
      "**************************************************\n",
      "glyburide-metformin_Steady [0 1]\n",
      "**************************************************\n",
      "glyburide-metformin_Up [0 1]\n",
      "**************************************************\n",
      "glipizide-metformin_No [1 0]\n",
      "**************************************************\n",
      "glipizide-metformin_Steady [0 1]\n",
      "**************************************************\n",
      "glimepiride-pioglitazone_No [1 0]\n",
      "**************************************************\n",
      "glimepiride-pioglitazone_Steady [0 1]\n",
      "**************************************************\n",
      "metformin-rosiglitazone_No [1 0]\n",
      "**************************************************\n",
      "metformin-rosiglitazone_Steady [0 1]\n",
      "**************************************************\n",
      "metformin-pioglitazone_No [1 0]\n",
      "**************************************************\n",
      "metformin-pioglitazone_Steady [0 1]\n",
      "**************************************************\n",
      "change_Ch [0 1]\n",
      "**************************************************\n",
      "change_No [1 0]\n",
      "**************************************************\n",
      "diabetesMed_No [1 0]\n",
      "**************************************************\n",
      "diabetesMed_Yes [0 1]\n",
      "**************************************************\n"
     ]
    }
   ],
   "source": [
    "show_unique(df)"
   ]
  },
  {
   "cell_type": "code",
   "execution_count": 48,
   "metadata": {
    "collapsed": true
   },
   "outputs": [],
   "source": [
    "df_x = df.loc[:, df.columns != 'readmitted']\n",
    "df_y = df.loc[:, df.columns == 'readmitted']\n",
    "X_train, X_test, y_train, y_test = train_test_split(\n",
    "    df_x, df_y, test_size=0.3, random_state=42)\n",
    "scaler = MinMaxScaler()\n",
    "X_train = pd.DataFrame(scaler.fit_transform(X_train))\n",
    "X_test = pd.DataFrame(scaler.transform(X_test))"
   ]
  },
  {
   "cell_type": "code",
   "execution_count": 1,
   "metadata": {},
   "outputs": [
    {
     "ename": "NameError",
     "evalue": "name 'LinearSVC' is not defined",
     "output_type": "error",
     "traceback": [
      "\u001b[1;31m---------------------------------------------------------------------------\u001b[0m",
      "\u001b[1;31mNameError\u001b[0m                                 Traceback (most recent call last)",
      "\u001b[1;32m<ipython-input-1-3cef78798ece>\u001b[0m in \u001b[0;36m<module>\u001b[1;34m()\u001b[0m\n\u001b[0;32m      1\u001b[0m \u001b[1;32mfor\u001b[0m \u001b[0mvar_c\u001b[0m \u001b[1;32min\u001b[0m \u001b[1;33m[\u001b[0m\u001b[1;36m5\u001b[0m\u001b[1;33m,\u001b[0m \u001b[1;36m10\u001b[0m\u001b[1;33m,\u001b[0m \u001b[1;36m20\u001b[0m\u001b[1;33m,\u001b[0m \u001b[1;36m30\u001b[0m\u001b[1;33m,\u001b[0m \u001b[1;36m40\u001b[0m\u001b[1;33m,\u001b[0m \u001b[1;36m50\u001b[0m\u001b[1;33m,\u001b[0m \u001b[1;36m80\u001b[0m\u001b[1;33m,\u001b[0m \u001b[1;36m100\u001b[0m\u001b[1;33m]\u001b[0m\u001b[1;33m:\u001b[0m\u001b[1;33m\u001b[0m\u001b[0m\n\u001b[1;32m----> 2\u001b[1;33m     \u001b[0mclf\u001b[0m \u001b[1;33m=\u001b[0m \u001b[0mLinearSVC\u001b[0m\u001b[1;33m(\u001b[0m\u001b[0mC\u001b[0m\u001b[1;33m=\u001b[0m\u001b[0mvar_c\u001b[0m\u001b[1;33m,\u001b[0m \u001b[0mdual\u001b[0m\u001b[1;33m=\u001b[0m\u001b[1;32mFalse\u001b[0m\u001b[1;33m)\u001b[0m\u001b[1;33m.\u001b[0m\u001b[0mfit\u001b[0m\u001b[1;33m(\u001b[0m\u001b[0mX_train\u001b[0m\u001b[1;33m,\u001b[0m \u001b[0my_train\u001b[0m\u001b[1;33m)\u001b[0m\u001b[1;33m\u001b[0m\u001b[0m\n\u001b[0m\u001b[0;32m      3\u001b[0m     \u001b[0mprint\u001b[0m\u001b[1;33m(\u001b[0m\u001b[1;34m\"C = \"\u001b[0m \u001b[1;33m+\u001b[0m \u001b[0mstr\u001b[0m\u001b[1;33m(\u001b[0m\u001b[0mvar_c\u001b[0m\u001b[1;33m)\u001b[0m\u001b[1;33m)\u001b[0m\u001b[1;33m\u001b[0m\u001b[0m\n\u001b[0;32m      4\u001b[0m     \u001b[0mprint\u001b[0m\u001b[1;33m(\u001b[0m\u001b[1;34m'training accuracy: {:.2f}'\u001b[0m\u001b[1;33m.\u001b[0m\u001b[0mformat\u001b[0m\u001b[1;33m(\u001b[0m\u001b[0mclf\u001b[0m\u001b[1;33m.\u001b[0m\u001b[0mscore\u001b[0m\u001b[1;33m(\u001b[0m\u001b[0mX_train\u001b[0m\u001b[1;33m,\u001b[0m \u001b[0my_train\u001b[0m\u001b[1;33m)\u001b[0m\u001b[1;33m)\u001b[0m\u001b[1;33m)\u001b[0m\u001b[1;33m\u001b[0m\u001b[0m\n\u001b[0;32m      5\u001b[0m     \u001b[0mprint\u001b[0m\u001b[1;33m(\u001b[0m\u001b[1;34m'test accuracy: {:.2f}'\u001b[0m\u001b[1;33m.\u001b[0m\u001b[0mformat\u001b[0m\u001b[1;33m(\u001b[0m\u001b[0mclf\u001b[0m\u001b[1;33m.\u001b[0m\u001b[0mscore\u001b[0m\u001b[1;33m(\u001b[0m\u001b[0mX_test\u001b[0m\u001b[1;33m,\u001b[0m \u001b[0my_test\u001b[0m\u001b[1;33m)\u001b[0m\u001b[1;33m)\u001b[0m\u001b[1;33m)\u001b[0m\u001b[1;33m\u001b[0m\u001b[0m\n",
      "\u001b[1;31mNameError\u001b[0m: name 'LinearSVC' is not defined"
     ]
    }
   ],
   "source": [
    "for var_c in [5, 10, 20, 30, 40, 50, 80, 100]:\n",
    "    clf = LinearSVC(C=var_c, dual=False).fit(X_train, y_train)\n",
    "    print(\"C = \" + str(var_c))\n",
    "    print('training accuracy: {:.2f}'.format(clf.score(X_train, y_train)))\n",
    "    print('test accuracy: {:.2f}'.format(clf.score(X_test, y_test)))"
   ]
  },
  {
   "cell_type": "code",
   "execution_count": 50,
   "metadata": {},
   "outputs": [
    {
     "name": "stderr",
     "output_type": "stream",
     "text": [
      "C:\\ProgramData\\Anaconda3\\lib\\site-packages\\sklearn\\utils\\validation.py:578: DataConversionWarning: A column-vector y was passed when a 1d array was expected. Please change the shape of y to (n_samples, ), for example using ravel().\n",
      "  y = column_or_1d(y, warn=True)\n"
     ]
    }
   ],
   "source": [
    "from sklearn.svm import SVC\n",
    "\n",
    "\n",
    "for var_c in [10, 20, 50, 80, 100]:\n",
    "    clf = SVC(C=var_c, kernel='sigmoid').fit(X_train, y_train)\n",
    "    print(\"C = \" + str(var_c))\n",
    "    print('training accuracy: {:.2f}'.format(clf.score(X_train, y_train)))\n",
    "    print('test accuracy: {:.2f}'.format(clf.score(X_test, y_test)))"
   ]
  },
  {
   "cell_type": "code",
   "execution_count": 51,
   "metadata": {
    "collapsed": true
   },
   "outputs": [
    {
     "name": "stdout",
     "output_type": "stream",
     "text": [
      "training accuracy: 0.54\n",
      "test accuracy: 0.54\n"
     ]
    }
   ],
   "source": [
    "print('training accuracy: {:.2f}'.format(try1.score(X_train, y_train)))\n",
    "print('test accuracy: {:.2f}'.format(try1.score(X_test, y_test)))"
   ]
  },
  {
   "cell_type": "raw",
   "metadata": {},
   "source": [
    "try1= SVC(kernel ='sigmoid').fit(X_train, y_train)\n",
    "\n"
   ]
  },
  {
   "cell_type": "code",
   "execution_count": 43,
   "metadata": {},
   "outputs": [
    {
     "name": "stdout",
     "output_type": "stream",
     "text": [
      "            0         1    2    3    4    5    6    7    8    9   ...   225  \\\n",
      "0      0.333333  0.777778  1.0  0.0  0.0  0.0  0.0  0.0  0.0  0.0 ...   1.0   \n",
      "1      0.666667  0.888889  1.0  0.0  0.0  0.0  0.0  0.0  0.0  1.0 ...   1.0   \n",
      "2      0.666667  0.666667  0.0  1.0  0.0  0.0  1.0  0.0  0.0  0.0 ...   1.0   \n",
      "3      0.666667  0.777778  1.0  0.0  1.0  0.0  0.0  0.0  0.0  0.0 ...   1.0   \n",
      "4      0.666667  0.666667  1.0  0.0  0.0  0.0  0.0  0.0  0.0  1.0 ...   1.0   \n",
      "5      0.666667  0.666667  1.0  0.0  0.0  1.0  0.0  0.0  0.0  1.0 ...   1.0   \n",
      "6      0.666667  0.777778  1.0  1.0  1.0  0.0  0.0  0.0  0.0  0.0 ...   1.0   \n",
      "7      0.666667  0.555556  1.0  0.0  0.0  0.0  0.0  0.0  0.0  0.0 ...   1.0   \n",
      "8      0.666667  0.555556  0.0  0.0  0.0  0.0  0.0  0.0  0.0  1.0 ...   1.0   \n",
      "9      0.666667  0.777778  0.0  0.0  0.0  0.0  0.0  0.0  0.0  1.0 ...   1.0   \n",
      "10     0.666667  0.666667  1.0  0.0  0.0  1.0  0.0  0.0  0.0  0.0 ...   1.0   \n",
      "11     0.333333  0.888889  1.0  0.0  0.0  0.0  0.0  0.0  0.0  0.0 ...   1.0   \n",
      "12     1.000000  0.777778  1.0  1.0  0.0  0.0  0.0  0.0  0.0  1.0 ...   1.0   \n",
      "13     0.666667  0.666667  1.0  0.0  0.0  0.0  0.0  0.0  0.0  0.0 ...   1.0   \n",
      "14     0.666667  0.555556  1.0  0.0  0.0  0.0  0.0  0.0  0.0  0.0 ...   1.0   \n",
      "15     0.666667  0.777778  1.0  0.0  0.0  0.0  0.0  0.0  0.0  1.0 ...   1.0   \n",
      "16     0.666667  0.666667  1.0  1.0  1.0  0.0  0.0  0.0  0.0  0.0 ...   1.0   \n",
      "17     0.333333  0.888889  1.0  0.0  0.0  1.0  0.0  0.0  0.0  0.0 ...   1.0   \n",
      "18     0.666667  0.888889  0.0  0.0  1.0  0.0  0.0  0.0  0.0  0.0 ...   1.0   \n",
      "19     0.666667  0.666667  1.0  0.0  0.0  1.0  0.0  0.0  0.0  0.0 ...   1.0   \n",
      "20     1.000000  0.555556  1.0  0.0  1.0  1.0  0.0  0.0  0.0  0.0 ...   1.0   \n",
      "21     0.333333  0.777778  1.0  0.0  0.0  0.0  0.0  1.0  0.0  0.0 ...   1.0   \n",
      "22     0.333333  0.333333  1.0  0.0  1.0  0.0  0.0  0.0  0.0  0.0 ...   1.0   \n",
      "23     0.333333  0.444444  0.0  0.0  0.0  1.0  1.0  0.0  0.0  0.0 ...   1.0   \n",
      "24     0.333333  0.444444  1.0  0.0  0.0  0.0  0.0  1.0  0.0  1.0 ...   1.0   \n",
      "25     0.666667  0.444444  0.0  0.0  0.0  1.0  0.0  0.0  0.0  0.0 ...   1.0   \n",
      "26     0.666667  0.777778  1.0  0.0  0.0  0.0  1.0  0.0  0.0  0.0 ...   1.0   \n",
      "27     0.333333  0.444444  1.0  0.0  0.0  1.0  0.0  0.0  0.0  0.0 ...   1.0   \n",
      "28     0.666667  0.777778  0.0  0.0  0.0  0.0  0.0  0.0  0.0  0.0 ...   1.0   \n",
      "29     0.666667  0.666667  1.0  0.0  1.0  0.0  0.0  0.0  0.0  0.0 ...   1.0   \n",
      "...         ...       ...  ...  ...  ...  ...  ...  ...  ...  ... ...   ...   \n",
      "71204  0.333333  0.777778  1.0  0.0  0.0  1.0  0.0  0.0  0.0  0.0 ...   1.0   \n",
      "71205  0.333333  0.111111  0.0  0.0  0.0  1.0  0.0  0.0  0.0  0.0 ...   1.0   \n",
      "71206  0.666667  0.555556  0.0  0.0  0.0  1.0  0.0  1.0  0.0  0.0 ...   1.0   \n",
      "71207  0.666667  0.666667  1.0  0.0  0.0  0.0  0.0  0.0  1.0  0.0 ...   1.0   \n",
      "71208  0.666667  0.777778  1.0  0.0  0.0  1.0  0.0  0.0  0.0  1.0 ...   1.0   \n",
      "71209  0.666667  0.555556  0.0  0.0  0.0  1.0  0.0  0.0  0.0  0.0 ...   1.0   \n",
      "71210  0.666667  0.888889  1.0  1.0  0.0  0.0  0.0  1.0  0.0  0.0 ...   1.0   \n",
      "71211  0.333333  0.666667  1.0  0.0  0.0  0.0  0.0  0.0  0.0  0.0 ...   1.0   \n",
      "71212  0.666667  0.555556  1.0  0.0  0.0  0.0  0.0  0.0  0.0  0.0 ...   1.0   \n",
      "71213  0.666667  0.777778  1.0  0.0  0.0  0.0  1.0  0.0  0.0  0.0 ...   1.0   \n",
      "71214  0.666667  0.777778  1.0  1.0  0.0  1.0  0.0  0.0  0.0  0.0 ...   1.0   \n",
      "71215  0.666667  0.555556  0.0  0.0  1.0  0.0  1.0  0.0  0.0  0.0 ...   1.0   \n",
      "71216  0.666667  0.666667  0.0  0.0  0.0  0.0  0.0  0.0  1.0  0.0 ...   1.0   \n",
      "71217  0.333333  0.666667  0.0  1.0  0.0  1.0  0.0  0.0  0.0  0.0 ...   1.0   \n",
      "71218  0.666667  0.777778  1.0  0.0  0.0  0.0  0.0  0.0  0.0  0.0 ...   1.0   \n",
      "71219  0.666667  0.555556  0.0  0.0  0.0  1.0  1.0  0.0  0.0  0.0 ...   1.0   \n",
      "71220  0.333333  0.666667  1.0  0.0  0.0  0.0  0.0  0.0  0.0  0.0 ...   1.0   \n",
      "71221  0.666667  0.444444  0.0  0.0  0.0  1.0  1.0  0.0  0.0  0.0 ...   1.0   \n",
      "71222  0.666667  0.777778  0.0  0.0  1.0  1.0  0.0  0.0  0.0  0.0 ...   1.0   \n",
      "71223  0.000000  0.333333  0.0  0.0  0.0  0.0  0.0  0.0  1.0  1.0 ...   1.0   \n",
      "71224  0.666667  0.777778  0.0  1.0  0.0  0.0  0.0  0.0  0.0  0.0 ...   1.0   \n",
      "71225  0.666667  0.666667  0.0  0.0  0.0  1.0  1.0  0.0  0.0  1.0 ...   1.0   \n",
      "71226  0.666667  0.444444  0.0  1.0  0.0  0.0  0.0  0.0  0.0  0.0 ...   1.0   \n",
      "71227  0.666667  0.333333  0.0  0.0  0.0  1.0  0.0  0.0  0.0  0.0 ...   1.0   \n",
      "71228  0.666667  0.777778  1.0  0.0  1.0  0.0  1.0  0.0  0.0  0.0 ...   1.0   \n",
      "71229  0.666667  0.777778  1.0  0.0  0.0  0.0  0.0  0.0  0.0  0.0 ...   1.0   \n",
      "71230  0.666667  0.666667  1.0  0.0  0.0  0.0  0.0  0.0  0.0  1.0 ...   1.0   \n",
      "71231  0.666667  1.000000  1.0  0.0  0.0  0.0  0.0  0.0  1.0  0.0 ...   1.0   \n",
      "71232  0.666667  0.666667  0.0  0.0  1.0  0.0  0.0  0.0  0.0  1.0 ...   1.0   \n",
      "71233  0.666667  0.444444  1.0  0.0  0.0  0.0  0.0  0.0  0.0  0.0 ...   1.0   \n",
      "\n",
      "       226  227  228  229  230  231  232  233  234  \n",
      "0      0.0  1.0  0.0  1.0  0.0  0.0  1.0  1.0  0.0  \n",
      "1      0.0  1.0  0.0  1.0  0.0  1.0  0.0  0.0  1.0  \n",
      "2      0.0  1.0  0.0  1.0  0.0  0.0  1.0  1.0  0.0  \n",
      "3      0.0  1.0  0.0  1.0  0.0  1.0  0.0  0.0  1.0  \n",
      "4      0.0  1.0  0.0  1.0  0.0  1.0  0.0  0.0  1.0  \n",
      "5      0.0  1.0  0.0  1.0  0.0  0.0  1.0  0.0  1.0  \n",
      "6      0.0  1.0  0.0  1.0  0.0  1.0  0.0  0.0  1.0  \n",
      "7      0.0  1.0  0.0  1.0  0.0  0.0  1.0  1.0  0.0  \n",
      "8      0.0  1.0  0.0  1.0  0.0  0.0  1.0  1.0  0.0  \n",
      "9      0.0  1.0  0.0  1.0  0.0  1.0  0.0  0.0  1.0  \n",
      "10     0.0  1.0  0.0  1.0  0.0  0.0  1.0  0.0  1.0  \n",
      "11     0.0  1.0  0.0  1.0  0.0  0.0  1.0  0.0  1.0  \n",
      "12     0.0  1.0  0.0  1.0  0.0  0.0  1.0  0.0  1.0  \n",
      "13     0.0  1.0  0.0  1.0  0.0  0.0  1.0  0.0  1.0  \n",
      "14     0.0  1.0  0.0  1.0  0.0  0.0  1.0  0.0  1.0  \n",
      "15     0.0  1.0  0.0  1.0  0.0  0.0  1.0  1.0  0.0  \n",
      "16     0.0  1.0  0.0  1.0  0.0  0.0  1.0  0.0  1.0  \n",
      "17     0.0  1.0  0.0  1.0  0.0  1.0  0.0  0.0  1.0  \n",
      "18     0.0  1.0  0.0  1.0  0.0  0.0  1.0  0.0  1.0  \n",
      "19     0.0  1.0  0.0  1.0  0.0  0.0  1.0  0.0  1.0  \n",
      "20     0.0  1.0  0.0  1.0  0.0  1.0  0.0  0.0  1.0  \n",
      "21     0.0  1.0  0.0  1.0  0.0  0.0  1.0  0.0  1.0  \n",
      "22     0.0  1.0  0.0  1.0  0.0  1.0  0.0  0.0  1.0  \n",
      "23     0.0  1.0  0.0  1.0  0.0  1.0  0.0  0.0  1.0  \n",
      "24     0.0  1.0  0.0  1.0  0.0  0.0  1.0  0.0  1.0  \n",
      "25     0.0  1.0  0.0  1.0  0.0  1.0  0.0  0.0  1.0  \n",
      "26     0.0  1.0  0.0  1.0  0.0  1.0  0.0  0.0  1.0  \n",
      "27     0.0  1.0  0.0  1.0  0.0  0.0  1.0  1.0  0.0  \n",
      "28     0.0  1.0  0.0  1.0  0.0  0.0  1.0  1.0  0.0  \n",
      "29     0.0  1.0  0.0  1.0  0.0  1.0  0.0  0.0  1.0  \n",
      "...    ...  ...  ...  ...  ...  ...  ...  ...  ...  \n",
      "71204  0.0  1.0  0.0  1.0  0.0  0.0  1.0  0.0  1.0  \n",
      "71205  0.0  1.0  0.0  1.0  0.0  0.0  1.0  0.0  1.0  \n",
      "71206  0.0  1.0  0.0  1.0  0.0  1.0  0.0  0.0  1.0  \n",
      "71207  0.0  1.0  0.0  1.0  0.0  1.0  0.0  0.0  1.0  \n",
      "71208  0.0  1.0  0.0  1.0  0.0  0.0  1.0  1.0  0.0  \n",
      "71209  0.0  1.0  0.0  1.0  0.0  0.0  1.0  0.0  1.0  \n",
      "71210  0.0  1.0  0.0  1.0  0.0  0.0  1.0  1.0  0.0  \n",
      "71211  0.0  1.0  0.0  1.0  0.0  0.0  1.0  0.0  1.0  \n",
      "71212  0.0  1.0  0.0  1.0  0.0  0.0  1.0  0.0  1.0  \n",
      "71213  0.0  1.0  0.0  1.0  0.0  1.0  0.0  0.0  1.0  \n",
      "71214  0.0  1.0  0.0  1.0  0.0  0.0  1.0  0.0  1.0  \n",
      "71215  0.0  1.0  0.0  1.0  0.0  0.0  1.0  0.0  1.0  \n",
      "71216  0.0  1.0  0.0  1.0  0.0  0.0  1.0  1.0  0.0  \n",
      "71217  0.0  1.0  0.0  1.0  0.0  0.0  1.0  0.0  1.0  \n",
      "71218  0.0  1.0  0.0  1.0  0.0  1.0  0.0  0.0  1.0  \n",
      "71219  0.0  1.0  0.0  1.0  0.0  0.0  1.0  0.0  1.0  \n",
      "71220  0.0  1.0  0.0  1.0  0.0  1.0  0.0  0.0  1.0  \n",
      "71221  0.0  1.0  0.0  1.0  0.0  1.0  0.0  0.0  1.0  \n",
      "71222  0.0  1.0  0.0  1.0  0.0  0.0  1.0  0.0  1.0  \n",
      "71223  0.0  1.0  0.0  1.0  0.0  0.0  1.0  1.0  0.0  \n",
      "71224  0.0  1.0  0.0  1.0  0.0  0.0  1.0  1.0  0.0  \n",
      "71225  0.0  1.0  0.0  1.0  0.0  1.0  0.0  0.0  1.0  \n",
      "71226  0.0  1.0  0.0  1.0  0.0  1.0  0.0  0.0  1.0  \n",
      "71227  0.0  1.0  0.0  1.0  0.0  1.0  0.0  0.0  1.0  \n",
      "71228  0.0  1.0  0.0  1.0  0.0  1.0  0.0  0.0  1.0  \n",
      "71229  0.0  1.0  0.0  1.0  0.0  0.0  1.0  1.0  0.0  \n",
      "71230  0.0  1.0  0.0  1.0  0.0  1.0  0.0  0.0  1.0  \n",
      "71231  0.0  1.0  0.0  1.0  0.0  1.0  0.0  0.0  1.0  \n",
      "71232  0.0  1.0  0.0  1.0  0.0  1.0  0.0  0.0  1.0  \n",
      "71233  0.0  1.0  0.0  1.0  0.0  1.0  0.0  0.0  1.0  \n",
      "\n",
      "[71234 rows x 235 columns]\n"
     ]
    }
   ],
   "source": [
    "print(X_train)"
   ]
  },
  {
   "cell_type": "code",
   "execution_count": null,
   "metadata": {
    "collapsed": true
   },
   "outputs": [],
   "source": []
  }
 ],
 "metadata": {
  "kernelspec": {
   "display_name": "Python 3",
   "language": "python",
   "name": "python3"
  },
  "language_info": {
   "codemirror_mode": {
    "name": "ipython",
    "version": 3
   },
   "file_extension": ".py",
   "mimetype": "text/x-python",
   "name": "python",
   "nbconvert_exporter": "python",
   "pygments_lexer": "ipython3",
   "version": "3.6.3"
  }
 },
 "nbformat": 4,
 "nbformat_minor": 2
}

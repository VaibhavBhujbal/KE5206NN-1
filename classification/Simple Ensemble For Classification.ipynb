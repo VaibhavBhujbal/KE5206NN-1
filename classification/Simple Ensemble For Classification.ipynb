{
 "cells": [
  {
   "cell_type": "markdown",
   "metadata": {},
   "source": [
    "### An ensemble of Neural networks to classify the Fashion MNIST images"
   ]
  },
  {
   "cell_type": "code",
   "execution_count": 1,
   "metadata": {},
   "outputs": [
    {
     "name": "stderr",
     "output_type": "stream",
     "text": [
      "/home/lam/anaconda2/envs/tf15/lib/python3.6/site-packages/h5py/__init__.py:36: FutureWarning: Conversion of the second argument of issubdtype from `float` to `np.floating` is deprecated. In future, it will be treated as `np.float64 == np.dtype(float).type`.\n",
      "  from ._conv import register_converters as _register_converters\n",
      "Using TensorFlow backend.\n"
     ]
    }
   ],
   "source": [
    "from keras.models import load_model\n",
    "from keras.datasets import fashion_mnist\n",
    "\n",
    "\n",
    "import numpy as np\n",
    "import matplotlib.pyplot"
   ]
  },
  {
   "cell_type": "markdown",
   "metadata": {},
   "source": [
    "### Load the fasion MNIST data"
   ]
  },
  {
   "cell_type": "code",
   "execution_count": 2,
   "metadata": {},
   "outputs": [],
   "source": [
    "# Load the training and testing data\n",
    "(X_train, Y_train), (X_test, Y_test) = fashion_mnist.load_data()\n",
    "# Display purpose:\n",
    "X_train_orig = X_train\n",
    "X_test_orig = X_test"
   ]
  },
  {
   "cell_type": "code",
   "execution_count": 3,
   "metadata": {},
   "outputs": [],
   "source": [
    "from keras import backend as K\n",
    "img_rows, img_cols = 28, 28\n",
    "\n",
    "if K.image_data_format() == 'channels_first':\n",
    "    shape_ord = (1, img_rows, img_cols)\n",
    "else:  # channel_last\n",
    "    shape_ord = (img_rows, img_cols, 1)\n",
    "    "
   ]
  },
  {
   "cell_type": "code",
   "execution_count": 4,
   "metadata": {},
   "outputs": [],
   "source": [
    "X_train = X_train.reshape((X_train.shape[0],) + shape_ord)\n",
    "X_test = X_test.reshape((X_test.shape[0],) + shape_ord)\n",
    "\n",
    "X_train = X_train.astype('float32')\n",
    "X_test = X_test.astype('float32')\n",
    "\n",
    "X_train /= 255\n",
    "X_test /= 255"
   ]
  },
  {
   "cell_type": "markdown",
   "metadata": {},
   "source": [
    "## Load the NN models that are already trained"
   ]
  },
  {
   "cell_type": "code",
   "execution_count": 5,
   "metadata": {},
   "outputs": [],
   "source": [
    "cnn_model = load_model('cnn.h5')\n",
    "mlff_bp_model = load_model('mlff_bp_model.h5')\n",
    "rnn_bi_gru_model = load_model('bidirectional_gru.h5')\n",
    "rnn_bi_gru_model.name = \"rnn\"\n",
    "cnn_model2 = load_model('CNN_4.3.6_0.9414.h5')\n",
    "cnn_model2.name = \"cnn 2\""
   ]
  },
  {
   "cell_type": "code",
   "execution_count": 6,
   "metadata": {},
   "outputs": [],
   "source": [
    "def get_classification_accuracy_ensemble(models_with_accuracy, test_images, test_labels):\n",
    "    \"\"\"\n",
    "    Get the classification accuracy of the models in the ensemble\n",
    "    \"\"\"\n",
    "    models_with_accuracy = [(model, accuracy * 100) for (model, accuracy) in models_with_accuracy if accuracy <= 1]\n",
    "    \n",
    "    num_test_images = len(test_images)\n",
    "    num_test_labels = len(test_labels)\n",
    "    \n",
    "    if num_test_images != num_test_labels:\n",
    "        raise ValueError(\"The number of test images does not equal the number of test labels.\")\n",
    "\n",
    "    prediction_results = []\n",
    "    for model, accuracy in models_with_accuracy:\n",
    "        # print(\"Accuracy: \" + str(accuracy))\n",
    "        \n",
    "        # Get arrays (of size 10) of predictions for each test image\n",
    "        if model.name==\"rnn\":\n",
    "            original_predictions = model.predict(np.squeeze(test_images)) # rnn doesn't take in dimension of 1 \n",
    "        else:\n",
    "            original_predictions = model.predict(test_images)\n",
    "        # print(original_predictions)\n",
    "        \n",
    "        # multiply each element of predictions for each test image with the accuracy\n",
    "        weighted_predictions = [accuracy * predictions_for_test_image for predictions_for_test_image in original_predictions]\n",
    "        # print(\"Weighted predictions...\")\n",
    "        # print(weighted_predictions)\n",
    "        prediction_results.append(weighted_predictions)\n",
    "        \n",
    "    ensembles_predictions = []\n",
    "    for itr in range(num_test_images):\n",
    "        prediction_sum = np.asarray([0.0]*10)\n",
    "        for prediction_result in prediction_results:\n",
    "            prediction_sum += (prediction_result[itr])\n",
    "        # print(prediction_sum)\n",
    "        ensembles_predictions.append(prediction_sum.argmax(-1))\n",
    "        \n",
    "    correct_classifications = 0\n",
    "    for idx, prediction in enumerate(ensembles_predictions):\n",
    "        if prediction == test_labels[idx]:\n",
    "            correct_classifications += 1\n",
    "            \n",
    "    print(\"{0} classified correctly out of {1}. Classification accuracy: {2}\".format(correct_classifications, str(num_test_images), correct_classifications/num_test_images))\n",
    "    return ensembles_predictions"
   ]
  },
  {
   "cell_type": "markdown",
   "metadata": {},
   "source": [
    "### Get the classification accuracy of the ensemble"
   ]
  },
  {
   "cell_type": "code",
   "execution_count": 7,
   "metadata": {},
   "outputs": [
    {
     "name": "stdout",
     "output_type": "stream",
     "text": [
      "9434 classified correctly out of 10000. Classification accuracy: 0.9434\n"
     ]
    }
   ],
   "source": [
    "slice = 10000\n",
    "models_with_accuracy = [(cnn_model, 0.9), (rnn_bi_gru_model, 0.89), (mlff_bp_model, 0.88), (cnn_model2, 0.94)]\n",
    "test_data = X_test[:slice]\n",
    "test_labels = Y_test[:slice]\n",
    "\n",
    "ensemble_predictions = get_classification_accuracy_ensemble(models_with_accuracy, test_data, test_labels)"
   ]
  },
  {
   "cell_type": "markdown",
   "metadata": {},
   "source": [
    "### Generate the confusion matrix for the predictions"
   ]
  },
  {
   "cell_type": "code",
   "execution_count": 8,
   "metadata": {},
   "outputs": [
    {
     "name": "stdout",
     "output_type": "stream",
     "text": [
      "['T-shirt/Top', 'Trouser', 'Pullover', 'Dress', 'Coat', 'Sandal', 'Shirt', 'Sneaker', 'Bag', 'Ankle Boot']\n",
      "Actuals ->\n",
      "[[928   0   6  15   2   1  40   0   8   0]\n",
      " [  0 983   0  12   2   0   2   0   1   0]\n",
      " [ 12   0 910   9  40   0  28   0   1   0]\n",
      " [ 10   1   4 964  10   0   8   0   3   0]\n",
      " [  0   1  36  21 908   0  34   0   0   0]\n",
      " [  0   0   0   0   0 986   0  11   0   3]\n",
      " [ 68   1  48  19  35   0 823   0   6   0]\n",
      " [  0   0   0   0   0   4   0 989   0   7]\n",
      " [  1   0   0   5   2   2   0   3 987   0]\n",
      " [  0   0   0   0   0   6   0  38   0 956]]\n"
     ]
    }
   ],
   "source": [
    "from sklearn.metrics import confusion_matrix\n",
    "\n",
    "item_label_mapping = [\"T-shirt/Top\", \"Trouser\", \"Pullover\", \"Dress\", \"Coat\", \"Sandal\", \"Shirt\", \"Sneaker\", \"Bag\", \"Ankle Boot\"]\n",
    "\n",
    "print(item_label_mapping)\n",
    "print(\"Actuals ->\")\n",
    "c = confusion_matrix(Y_test, ensemble_predictions)\n",
    "\n",
    "\n",
    "print(c)"
   ]
  },
  {
   "cell_type": "code",
   "execution_count": null,
   "metadata": {},
   "outputs": [],
   "source": []
  }
 ],
 "metadata": {
  "kernelspec": {
   "display_name": "Python tf15",
   "language": "python",
   "name": "myenv"
  },
  "language_info": {
   "codemirror_mode": {
    "name": "ipython",
    "version": 3
   },
   "file_extension": ".py",
   "mimetype": "text/x-python",
   "name": "python",
   "nbconvert_exporter": "python",
   "pygments_lexer": "ipython3",
   "version": "3.6.4"
  }
 },
 "nbformat": 4,
 "nbformat_minor": 2
}
